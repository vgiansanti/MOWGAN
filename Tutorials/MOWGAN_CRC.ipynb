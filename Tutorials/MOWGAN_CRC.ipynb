{
 "cells": [
  {
   "cell_type": "raw",
   "id": "e88b23bc",
   "metadata": {},
   "source": [
    "In this tutorial we will use data from human-derived colorectal cancer organoids that are publicly available. The anndata objects shared in the Data folder of MOWGAN repository are the processed version of the data."
   ]
  },
  {
   "cell_type": "code",
   "execution_count": 1,
   "id": "f93f7202",
   "metadata": {},
   "outputs": [],
   "source": [
    "import numpy as np\n",
    "import matplotlib.pyplot as plt\n",
    "from IPython import display\n",
    "import pandas as pd\n",
    "import scanpy as sc\n",
    "import anndata\n",
    "\n",
    "%matplotlib inline"
   ]
  },
  {
   "cell_type": "markdown",
   "id": "c2d5353c",
   "metadata": {},
   "source": [
    "### Import MOWGAN"
   ]
  },
  {
   "cell_type": "code",
   "execution_count": 2,
   "id": "bbae08a7",
   "metadata": {},
   "outputs": [],
   "source": [
    "from mowgan.train import train_batch"
   ]
  },
  {
   "cell_type": "markdown",
   "id": "a98329ee",
   "metadata": {},
   "source": [
    "### Load your data"
   ]
  },
  {
   "cell_type": "raw",
   "id": "643e1c49",
   "metadata": {},
   "source": [
    "Due to the size limitations of files in GitHub, we had to unpack and subsample the get data, tha here we will reconstruct"
   ]
  },
  {
   "cell_type": "code",
   "execution_count": 3,
   "id": "474fdc42",
   "metadata": {},
   "outputs": [],
   "source": [
    "rna = sc.read('rna_crc.h5ad')"
   ]
  },
  {
   "cell_type": "code",
   "execution_count": 4,
   "id": "b85fce39",
   "metadata": {},
   "outputs": [],
   "source": [
    "import scipy\n",
    "get_X = scipy.sparse.load_npz('get_X.npz')\n",
    "get = sc.read('get_sub.h5ad')\n",
    "\n",
    "get.X = get_X"
   ]
  },
  {
   "cell_type": "code",
   "execution_count": 5,
   "id": "68ba0c13",
   "metadata": {},
   "outputs": [
    {
     "data": {
      "text/plain": [
       "AnnData object with n_obs × n_vars = 4000 × 57094\n",
       "    obs: 'batch'\n",
       "    obsm: 'X_ttd'\n",
       "    obsp: 'connectivities'"
      ]
     },
     "execution_count": 5,
     "metadata": {},
     "output_type": "execute_result"
    }
   ],
   "source": [
    "get"
   ]
  },
  {
   "cell_type": "raw",
   "id": "ca1d2202",
   "metadata": {},
   "source": [
    "The data are ready to be used for MOWGAN. Thay were previously filtered and normalized. Embeddings and connectivity graphs were already calculated. "
   ]
  },
  {
   "cell_type": "code",
   "execution_count": 6,
   "id": "7e729f43",
   "metadata": {},
   "outputs": [
    {
     "data": {
      "text/plain": [
       "AnnData object with n_obs × n_vars = 6486 × 772\n",
       "    obs: 'sample'\n",
       "    obsm: 'X_pca'\n",
       "    obsp: 'connectivities'"
      ]
     },
     "execution_count": 6,
     "metadata": {},
     "output_type": "execute_result"
    }
   ],
   "source": [
    "rna"
   ]
  },
  {
   "cell_type": "code",
   "execution_count": 7,
   "id": "c60fcccc",
   "metadata": {},
   "outputs": [
    {
     "data": {
      "text/plain": [
       "AnnData object with n_obs × n_vars = 4000 × 57094\n",
       "    obs: 'batch'\n",
       "    obsm: 'X_ttd'\n",
       "    obsp: 'connectivities'"
      ]
     },
     "execution_count": 7,
     "metadata": {},
     "output_type": "execute_result"
    }
   ],
   "source": [
    "get"
   ]
  },
  {
   "cell_type": "raw",
   "id": "7e392942",
   "metadata": {},
   "source": [
    "The information to guide the training is stored (in this case) in slots with different names depending on the modality ('sample' for rna, 'batch' for get). Neverthless, the codificaton is the same (CRC_6, CRC_17, CRC_39):"
   ]
  },
  {
   "cell_type": "code",
   "execution_count": 8,
   "id": "b035c01b",
   "metadata": {},
   "outputs": [
    {
     "data": {
      "text/plain": [
       "AAACGAACAAATACGA-CRC_6      CRC_6\n",
       "AAACGCTTCACCCATC-CRC_6      CRC_6\n",
       "AAAGGATAGTTGCTGT-CRC_6      CRC_6\n",
       "AAAGGGCAGTTAGAAC-CRC_6      CRC_6\n",
       "AAAGTCCGTCCAGAAG-CRC_6      CRC_6\n",
       "                            ...  \n",
       "TTTGATCTCCGTAGTA-CRC_39    CRC_39\n",
       "TTTGGAGAGCTTAGTC-CRC_39    CRC_39\n",
       "TTTGGAGGTCAAAGCG-CRC_39    CRC_39\n",
       "TTTGGAGTCGCGTCGA-CRC_39    CRC_39\n",
       "TTTGGAGTCGTAGGAG-CRC_39    CRC_39\n",
       "Name: sample, Length: 6486, dtype: category\n",
       "Categories (3, object): ['CRC_6', 'CRC_17', 'CRC_39']"
      ]
     },
     "execution_count": 8,
     "metadata": {},
     "output_type": "execute_result"
    }
   ],
   "source": [
    "rna.obs['sample']"
   ]
  },
  {
   "cell_type": "code",
   "execution_count": 9,
   "id": "1a5e11e2",
   "metadata": {},
   "outputs": [
    {
     "data": {
      "text/plain": [
       "AGCTATGAGTCACACT-CRC_17    CRC_17\n",
       "AGTTACGTCCTAAGTG-CRC_17    CRC_17\n",
       "TCCATCGTCAACGTGT-CRC_6      CRC_6\n",
       "AGCTGTATCGATAGTC-CRC_6      CRC_6\n",
       "GTCCATCCATGGATGG-CRC_39    CRC_39\n",
       "                            ...  \n",
       "CCAGAATCATTTCACT-CRC_17    CRC_17\n",
       "CAATCCCCAGAGTCGA-CRC_17    CRC_17\n",
       "AACATCGAGCATTCCA-CRC_39    CRC_39\n",
       "AATGCCAAGCCGCAAA-CRC_17    CRC_17\n",
       "TGCTCACTCAGGAATA-CRC_39    CRC_39\n",
       "Name: batch, Length: 4000, dtype: category\n",
       "Categories (3, object): ['CRC_6', 'CRC_17', 'CRC_39']"
      ]
     },
     "execution_count": 9,
     "metadata": {},
     "output_type": "execute_result"
    }
   ],
   "source": [
    "get.obs['batch']"
   ]
  },
  {
   "cell_type": "code",
   "execution_count": 10,
   "id": "62222712",
   "metadata": {},
   "outputs": [
    {
     "name": "stdout",
     "output_type": "stream",
     "text": [
      "0\n"
     ]
    },
    {
     "name": "stderr",
     "output_type": "stream",
     "text": [
      "/Users/giansanti.valentina/Documents/MOWGAN/MOWGAN/train.py:354: ImplicitModificationWarning: Trying to modify attribute `.obs` of view, initializing view as actual.\n",
      "  data_batch['data{0}_{1}'.format(i,j)].obs['spectral_emb'] = SpectralEmbedding(n_components=1,\n",
      "/Users/giansanti.valentina/Documents/MOWGAN/MOWGAN/train.py:354: ImplicitModificationWarning: Trying to modify attribute `.obs` of view, initializing view as actual.\n",
      "  data_batch['data{0}_{1}'.format(i,j)].obs['spectral_emb'] = SpectralEmbedding(n_components=1,\n",
      "2024-01-09 18:33:26.750200: I tensorflow/core/common_runtime/pluggable_device/pluggable_device_factory.cc:305] Could not identify NUMA node of platform GPU ID 0, defaulting to 0. Your kernel may not have been built with NUMA support.\n",
      "2024-01-09 18:33:26.750959: I tensorflow/core/common_runtime/pluggable_device/pluggable_device_factory.cc:271] Created TensorFlow device (/job:localhost/replica:0/task:0/device:GPU:0 with 0 MB memory) -> physical PluggableDevice (device: 0, name: METAL, pci bus id: <undefined>)\n"
     ]
    },
    {
     "name": "stdout",
     "output_type": "stream",
     "text": [
      "Metal device set to: Apple M1\n"
     ]
    },
    {
     "name": "stderr",
     "output_type": "stream",
     "text": [
      "  0%|                                                                                                                        | 0/234 [00:00<?, ?it/s]2024-01-09 18:33:27.357160: I tensorflow/compiler/mlir/mlir_graph_optimization_pass.cc:185] None of the MLIR Optimization Passes are enabled (registered 2)\n",
      "2024-01-09 18:33:27.360657: W tensorflow/core/platform/profile_utils/cpu_utils.cc:128] Failed to get CPU frequency: 0 Hz\n",
      "2024-01-09 18:33:27.361244: I tensorflow/core/grappler/optimizers/custom_graph_optimizer_registry.cc:112] Plugin optimizer for device_type GPU is enabled.\n",
      "  0%|▍                                                                                                               | 1/234 [00:00<03:07,  1.24it/s]\n",
      "  3%|██▉                                                                                                              | 1/39 [00:00<00:02, 13.86it/s]\n"
     ]
    },
    {
     "name": "stdout",
     "output_type": "stream",
     "text": [
      "Epoch: 0 | disc_loss1: 3.2277212142944336 | gen_loss: -0.19884629547595978 \n"
     ]
    },
    {
     "name": "stderr",
     "output_type": "stream",
     "text": [
      "  0%|▍                                                                                                               | 1/234 [00:00<00:09, 23.55it/s]\n",
      "  3%|██▉                                                                                                              | 1/39 [00:00<00:00, 49.85it/s]\n"
     ]
    },
    {
     "name": "stdout",
     "output_type": "stream",
     "text": [
      "Epoch: 1 | disc_loss1: 1.1204966306686401 | gen_loss: -0.6506534814834595 \n"
     ]
    },
    {
     "name": "stderr",
     "output_type": "stream",
     "text": [
      "  0%|▍                                                                                                               | 1/234 [00:00<00:07, 31.65it/s]\n",
      "  3%|██▉                                                                                                              | 1/39 [00:00<00:00, 49.31it/s]\n"
     ]
    },
    {
     "name": "stdout",
     "output_type": "stream",
     "text": [
      "Epoch: 2 | disc_loss1: 0.951495349407196 | gen_loss: -1.3949612379074097 \n"
     ]
    },
    {
     "name": "stderr",
     "output_type": "stream",
     "text": [
      "  0%|▍                                                                                                               | 1/234 [00:00<00:06, 34.01it/s]\n",
      "  3%|██▉                                                                                                              | 1/39 [00:00<00:00, 48.87it/s]\n"
     ]
    },
    {
     "name": "stdout",
     "output_type": "stream",
     "text": [
      "Epoch: 3 | disc_loss1: 1.5656368732452393 | gen_loss: -2.1024158000946045 \n"
     ]
    },
    {
     "name": "stderr",
     "output_type": "stream",
     "text": [
      "  0%|▍                                                                                                               | 1/234 [00:00<00:06, 33.31it/s]\n",
      "  3%|██▉                                                                                                              | 1/39 [00:00<00:00, 48.57it/s]\n"
     ]
    },
    {
     "name": "stdout",
     "output_type": "stream",
     "text": [
      "Epoch: 4 | disc_loss1: 2.1318533420562744 | gen_loss: -2.6298611164093018 \n"
     ]
    },
    {
     "name": "stderr",
     "output_type": "stream",
     "text": [
      "  0%|▍                                                                                                               | 1/234 [00:00<00:07, 32.40it/s]\n",
      "  3%|██▉                                                                                                              | 1/39 [00:00<00:00, 46.48it/s]\n"
     ]
    },
    {
     "name": "stdout",
     "output_type": "stream",
     "text": [
      "Epoch: 5 | disc_loss1: 2.4631266593933105 | gen_loss: -2.943859100341797 \n"
     ]
    },
    {
     "name": "stderr",
     "output_type": "stream",
     "text": [
      "  0%|▍                                                                                                               | 1/234 [00:00<00:07, 32.22it/s]\n",
      "  3%|██▉                                                                                                              | 1/39 [00:00<00:00, 47.74it/s]\n"
     ]
    },
    {
     "name": "stdout",
     "output_type": "stream",
     "text": [
      "Epoch: 6 | disc_loss1: 2.4465599060058594 | gen_loss: -2.8179421424865723 \n"
     ]
    },
    {
     "name": "stderr",
     "output_type": "stream",
     "text": [
      "  0%|▍                                                                                                               | 1/234 [00:00<00:06, 33.53it/s]\n",
      "  3%|██▉                                                                                                              | 1/39 [00:00<00:00, 47.86it/s]\n"
     ]
    },
    {
     "name": "stdout",
     "output_type": "stream",
     "text": [
      "Epoch: 7 | disc_loss1: 1.904514193534851 | gen_loss: -2.210165023803711 \n"
     ]
    },
    {
     "name": "stderr",
     "output_type": "stream",
     "text": [
      "  0%|▍                                                                                                               | 1/234 [00:00<00:06, 33.79it/s]\n",
      "  3%|██▉                                                                                                              | 1/39 [00:00<00:00, 49.57it/s]\n"
     ]
    },
    {
     "name": "stdout",
     "output_type": "stream",
     "text": [
      "Epoch: 8 | disc_loss1: 0.888515293598175 | gen_loss: -1.0551756620407104 \n"
     ]
    },
    {
     "name": "stderr",
     "output_type": "stream",
     "text": [
      "  0%|▍                                                                                                               | 1/234 [00:00<00:06, 34.37it/s]\n",
      "  3%|██▉                                                                                                              | 1/39 [00:00<00:00, 51.02it/s]\n"
     ]
    },
    {
     "name": "stdout",
     "output_type": "stream",
     "text": [
      "Epoch: 9 | disc_loss1: -0.34874990582466125 | gen_loss: 0.3269605338573456 \n"
     ]
    },
    {
     "name": "stderr",
     "output_type": "stream",
     "text": [
      "  0%|▍                                                                                                               | 1/234 [00:00<00:06, 33.70it/s]\n",
      "  3%|██▉                                                                                                              | 1/39 [00:00<00:00, 49.20it/s]\n"
     ]
    },
    {
     "name": "stdout",
     "output_type": "stream",
     "text": [
      "Epoch: 10 | disc_loss1: -1.6932485103607178 | gen_loss: 1.7095142602920532 \n"
     ]
    },
    {
     "name": "stderr",
     "output_type": "stream",
     "text": [
      "  0%|▍                                                                                                               | 1/234 [00:00<00:07, 33.21it/s]\n",
      "  3%|██▉                                                                                                              | 1/39 [00:00<00:00, 48.34it/s]\n"
     ]
    },
    {
     "name": "stdout",
     "output_type": "stream",
     "text": [
      "Epoch: 11 | disc_loss1: -2.883113384246826 | gen_loss: 2.9327871799468994 \n"
     ]
    },
    {
     "name": "stderr",
     "output_type": "stream",
     "text": [
      "  0%|▍                                                                                                               | 1/234 [00:00<00:06, 33.84it/s]\n",
      "  3%|██▉                                                                                                              | 1/39 [00:00<00:00, 49.01it/s]\n"
     ]
    },
    {
     "name": "stdout",
     "output_type": "stream",
     "text": [
      "Epoch: 12 | disc_loss1: -3.530606985092163 | gen_loss: 3.669010639190674 \n"
     ]
    },
    {
     "name": "stderr",
     "output_type": "stream",
     "text": [
      "  0%|▍                                                                                                               | 1/234 [00:00<00:06, 34.14it/s]\n",
      "  3%|██▉                                                                                                              | 1/39 [00:00<00:00, 48.49it/s]\n"
     ]
    },
    {
     "name": "stdout",
     "output_type": "stream",
     "text": [
      "Epoch: 13 | disc_loss1: -3.856248140335083 | gen_loss: 4.090262413024902 \n"
     ]
    },
    {
     "name": "stderr",
     "output_type": "stream",
     "text": [
      "  0%|▍                                                                                                               | 1/234 [00:00<00:06, 33.49it/s]\n",
      "  3%|██▉                                                                                                              | 1/39 [00:00<00:00, 50.62it/s]\n"
     ]
    },
    {
     "name": "stdout",
     "output_type": "stream",
     "text": [
      "Epoch: 14 | disc_loss1: -3.961508274078369 | gen_loss: 4.281040668487549 \n"
     ]
    },
    {
     "name": "stderr",
     "output_type": "stream",
     "text": [
      "  0%|▍                                                                                                               | 1/234 [00:00<00:06, 34.26it/s]\n",
      "  3%|██▉                                                                                                              | 1/39 [00:00<00:00, 50.30it/s]\n"
     ]
    },
    {
     "name": "stdout",
     "output_type": "stream",
     "text": [
      "Epoch: 15 | disc_loss1: -4.047087669372559 | gen_loss: 4.450213432312012 \n"
     ]
    },
    {
     "name": "stderr",
     "output_type": "stream",
     "text": [
      "  0%|▍                                                                                                               | 1/234 [00:00<00:06, 34.15it/s]\n",
      "  3%|██▉                                                                                                              | 1/39 [00:00<00:00, 52.37it/s]\n"
     ]
    },
    {
     "name": "stdout",
     "output_type": "stream",
     "text": [
      "Epoch: 16 | disc_loss1: -3.907052755355835 | gen_loss: 4.352008819580078 \n"
     ]
    },
    {
     "name": "stderr",
     "output_type": "stream",
     "text": [
      "  0%|▍                                                                                                               | 1/234 [00:00<00:07, 32.64it/s]\n",
      "  3%|██▉                                                                                                              | 1/39 [00:00<00:00, 51.44it/s]\n"
     ]
    },
    {
     "name": "stdout",
     "output_type": "stream",
     "text": [
      "Epoch: 17 | disc_loss1: -3.5205209255218506 | gen_loss: 4.046093463897705 \n"
     ]
    },
    {
     "name": "stderr",
     "output_type": "stream",
     "text": [
      "  0%|▍                                                                                                               | 1/234 [00:00<00:06, 34.00it/s]\n",
      "  3%|██▉                                                                                                              | 1/39 [00:00<00:00, 50.35it/s]\n"
     ]
    },
    {
     "name": "stdout",
     "output_type": "stream",
     "text": [
      "Epoch: 18 | disc_loss1: -2.9798014163970947 | gen_loss: 3.562471866607666 \n"
     ]
    },
    {
     "name": "stderr",
     "output_type": "stream",
     "text": [
      "  0%|▍                                                                                                               | 1/234 [00:00<00:06, 34.54it/s]\n",
      "  3%|██▉                                                                                                              | 1/39 [00:00<00:00, 51.69it/s]\n"
     ]
    },
    {
     "name": "stdout",
     "output_type": "stream",
     "text": [
      "Epoch: 19 | disc_loss1: -2.33300518989563 | gen_loss: 2.9716856479644775 \n"
     ]
    },
    {
     "name": "stderr",
     "output_type": "stream",
     "text": [
      "  0%|▍                                                                                                               | 1/234 [00:00<00:06, 34.39it/s]\n",
      "  3%|██▉                                                                                                              | 1/39 [00:00<00:00, 49.62it/s]\n"
     ]
    },
    {
     "name": "stdout",
     "output_type": "stream",
     "text": [
      "Epoch: 20 | disc_loss1: -1.6352075338363647 | gen_loss: 2.315225601196289 \n"
     ]
    },
    {
     "name": "stderr",
     "output_type": "stream",
     "text": [
      "  0%|▍                                                                                                               | 1/234 [00:00<00:06, 33.90it/s]\n",
      "  3%|██▉                                                                                                              | 1/39 [00:00<00:00, 49.72it/s]\n"
     ]
    },
    {
     "name": "stdout",
     "output_type": "stream",
     "text": [
      "Epoch: 21 | disc_loss1: -0.9521017670631409 | gen_loss: 1.6100025177001953 \n"
     ]
    },
    {
     "name": "stderr",
     "output_type": "stream",
     "text": [
      "  0%|▍                                                                                                               | 1/234 [00:00<00:06, 34.58it/s]\n",
      "  3%|██▉                                                                                                              | 1/39 [00:00<00:00, 49.69it/s]\n"
     ]
    },
    {
     "name": "stdout",
     "output_type": "stream",
     "text": [
      "Epoch: 22 | disc_loss1: -0.4889727234840393 | gen_loss: 1.1539524793624878 \n"
     ]
    },
    {
     "name": "stderr",
     "output_type": "stream",
     "text": [
      "  0%|▍                                                                                                               | 1/234 [00:00<00:06, 34.59it/s]\n",
      "  3%|██▉                                                                                                              | 1/39 [00:00<00:00, 50.66it/s]\n"
     ]
    },
    {
     "name": "stdout",
     "output_type": "stream",
     "text": [
      "Epoch: 23 | disc_loss1: -0.19112370908260345 | gen_loss: 0.8528092503547668 \n"
     ]
    },
    {
     "name": "stderr",
     "output_type": "stream",
     "text": [
      "  0%|▍                                                                                                               | 1/234 [00:00<00:06, 33.58it/s]\n",
      "  3%|██▉                                                                                                              | 1/39 [00:00<00:00, 49.43it/s]\n"
     ]
    },
    {
     "name": "stdout",
     "output_type": "stream",
     "text": [
      "Epoch: 24 | disc_loss1: -0.09903358668088913 | gen_loss: 0.7548723816871643 \n"
     ]
    },
    {
     "name": "stderr",
     "output_type": "stream",
     "text": [
      "  0%|▍                                                                                                               | 1/234 [00:00<00:07, 32.60it/s]\n",
      "  3%|██▉                                                                                                              | 1/39 [00:00<00:00, 50.71it/s]\n"
     ]
    },
    {
     "name": "stdout",
     "output_type": "stream",
     "text": [
      "Epoch: 25 | disc_loss1: -0.06424263119697571 | gen_loss: 0.657096803188324 \n"
     ]
    },
    {
     "name": "stderr",
     "output_type": "stream",
     "text": [
      "  0%|▍                                                                                                               | 1/234 [00:00<00:06, 34.45it/s]\n",
      "  3%|██▉                                                                                                              | 1/39 [00:00<00:00, 49.49it/s]\n"
     ]
    },
    {
     "name": "stdout",
     "output_type": "stream",
     "text": [
      "Epoch: 26 | disc_loss1: -0.010331898927688599 | gen_loss: 0.5489412546157837 \n"
     ]
    },
    {
     "name": "stderr",
     "output_type": "stream",
     "text": [
      "  0%|▍                                                                                                               | 1/234 [00:00<00:06, 33.97it/s]\n",
      "  3%|██▉                                                                                                              | 1/39 [00:00<00:00, 50.26it/s]\n"
     ]
    },
    {
     "name": "stdout",
     "output_type": "stream",
     "text": [
      "Epoch: 27 | disc_loss1: 0.10925940424203873 | gen_loss: 0.36961671710014343 \n"
     ]
    },
    {
     "name": "stderr",
     "output_type": "stream",
     "text": [
      "  0%|▍                                                                                                               | 1/234 [00:00<00:06, 34.12it/s]\n",
      "  3%|██▉                                                                                                              | 1/39 [00:00<00:00, 51.78it/s]\n"
     ]
    },
    {
     "name": "stdout",
     "output_type": "stream",
     "text": [
      "Epoch: 28 | disc_loss1: 0.1644529402256012 | gen_loss: 0.26135972142219543 \n"
     ]
    },
    {
     "name": "stderr",
     "output_type": "stream",
     "text": [
      "  0%|▍                                                                                                               | 1/234 [00:00<00:06, 34.05it/s]\n",
      "  3%|██▉                                                                                                              | 1/39 [00:00<00:00, 50.26it/s]\n"
     ]
    },
    {
     "name": "stdout",
     "output_type": "stream",
     "text": [
      "Epoch: 29 | disc_loss1: 0.1584867537021637 | gen_loss: 0.17451564967632294 \n"
     ]
    },
    {
     "name": "stderr",
     "output_type": "stream",
     "text": [
      "  0%|▍                                                                                                               | 1/234 [00:00<00:06, 34.06it/s]\n",
      "  3%|██▉                                                                                                              | 1/39 [00:00<00:00, 50.59it/s]\n"
     ]
    },
    {
     "name": "stdout",
     "output_type": "stream",
     "text": [
      "Epoch: 30 | disc_loss1: 0.12385524809360504 | gen_loss: 0.09987743198871613 \n"
     ]
    },
    {
     "name": "stderr",
     "output_type": "stream",
     "text": [
      "  0%|▍                                                                                                               | 1/234 [00:00<00:06, 34.43it/s]\n",
      "  3%|██▉                                                                                                              | 1/39 [00:00<00:00, 50.52it/s]\n"
     ]
    },
    {
     "name": "stdout",
     "output_type": "stream",
     "text": [
      "Epoch: 31 | disc_loss1: 0.06970013678073883 | gen_loss: 0.05980166420340538 \n"
     ]
    },
    {
     "name": "stderr",
     "output_type": "stream",
     "text": [
      "  0%|▍                                                                                                               | 1/234 [00:00<00:06, 34.26it/s]\n",
      "  3%|██▉                                                                                                              | 1/39 [00:00<00:00, 49.98it/s]\n"
     ]
    },
    {
     "name": "stdout",
     "output_type": "stream",
     "text": [
      "Epoch: 32 | disc_loss1: -0.026733115315437317 | gen_loss: 0.014532189816236496 \n"
     ]
    },
    {
     "name": "stderr",
     "output_type": "stream",
     "text": [
      "  0%|▍                                                                                                               | 1/234 [00:00<00:06, 34.40it/s]\n",
      "  3%|██▉                                                                                                              | 1/39 [00:00<00:00, 49.64it/s]\n"
     ]
    },
    {
     "name": "stdout",
     "output_type": "stream",
     "text": [
      "Epoch: 33 | disc_loss1: -0.17073827981948853 | gen_loss: -0.034030381590127945 \n"
     ]
    },
    {
     "name": "stderr",
     "output_type": "stream",
     "text": [
      "  0%|▍                                                                                                               | 1/234 [00:00<00:06, 34.71it/s]\n",
      "  3%|██▉                                                                                                              | 1/39 [00:00<00:00, 50.08it/s]\n"
     ]
    },
    {
     "name": "stdout",
     "output_type": "stream",
     "text": [
      "Epoch: 34 | disc_loss1: -0.24804338812828064 | gen_loss: -0.079729363322258 \n"
     ]
    },
    {
     "name": "stderr",
     "output_type": "stream",
     "text": [
      "  0%|▍                                                                                                               | 1/234 [00:00<00:06, 34.29it/s]\n",
      "  3%|██▉                                                                                                              | 1/39 [00:00<00:00, 50.21it/s]\n"
     ]
    },
    {
     "name": "stdout",
     "output_type": "stream",
     "text": [
      "Epoch: 35 | disc_loss1: -0.2787441909313202 | gen_loss: -0.11892086267471313 \n"
     ]
    },
    {
     "name": "stderr",
     "output_type": "stream",
     "text": [
      "  0%|▍                                                                                                               | 1/234 [00:00<00:06, 33.96it/s]\n",
      "  3%|██▉                                                                                                              | 1/39 [00:00<00:00, 50.77it/s]\n"
     ]
    },
    {
     "name": "stdout",
     "output_type": "stream",
     "text": [
      "Epoch: 36 | disc_loss1: -0.2977907359600067 | gen_loss: -0.20624037086963654 \n"
     ]
    },
    {
     "name": "stderr",
     "output_type": "stream",
     "text": [
      "  0%|▍                                                                                                               | 1/234 [00:00<00:06, 34.28it/s]\n",
      "  3%|██▉                                                                                                              | 1/39 [00:00<00:00, 50.61it/s]\n"
     ]
    },
    {
     "name": "stdout",
     "output_type": "stream",
     "text": [
      "Epoch: 37 | disc_loss1: -0.29385676980018616 | gen_loss: -0.2675992548465729 \n"
     ]
    },
    {
     "name": "stderr",
     "output_type": "stream",
     "text": [
      "  0%|▍                                                                                                               | 1/234 [00:00<00:06, 34.38it/s]\n",
      "  3%|██▉                                                                                                              | 1/39 [00:00<00:00, 49.83it/s]\n"
     ]
    },
    {
     "name": "stdout",
     "output_type": "stream",
     "text": [
      "Epoch: 38 | disc_loss1: -0.26297828555107117 | gen_loss: -0.3420385420322418 \n"
     ]
    },
    {
     "name": "stderr",
     "output_type": "stream",
     "text": [
      "  0%|▍                                                                                                               | 1/234 [00:00<00:06, 34.14it/s]\n",
      "  3%|██▉                                                                                                              | 1/39 [00:00<00:00, 49.77it/s]\n"
     ]
    },
    {
     "name": "stdout",
     "output_type": "stream",
     "text": [
      "Epoch: 39 | disc_loss1: -0.2927170395851135 | gen_loss: -0.2777698338031769 \n"
     ]
    },
    {
     "name": "stderr",
     "output_type": "stream",
     "text": [
      "  0%|▍                                                                                                               | 1/234 [00:00<00:06, 34.42it/s]\n",
      "  3%|██▉                                                                                                              | 1/39 [00:00<00:01, 34.69it/s]\n"
     ]
    },
    {
     "name": "stdout",
     "output_type": "stream",
     "text": [
      "Epoch: 40 | disc_loss1: -0.24645954370498657 | gen_loss: -0.25969332456588745 \n"
     ]
    },
    {
     "name": "stderr",
     "output_type": "stream",
     "text": [
      "  0%|▍                                                                                                               | 1/234 [00:00<00:07, 33.12it/s]\n",
      "  3%|██▉                                                                                                              | 1/39 [00:00<00:00, 51.13it/s]\n"
     ]
    },
    {
     "name": "stdout",
     "output_type": "stream",
     "text": [
      "Epoch: 41 | disc_loss1: -0.3071967363357544 | gen_loss: -0.10566847771406174 \n"
     ]
    },
    {
     "name": "stderr",
     "output_type": "stream",
     "text": [
      "  0%|▍                                                                                                               | 1/234 [00:00<00:07, 33.28it/s]\n",
      "  3%|██▉                                                                                                              | 1/39 [00:00<00:00, 48.88it/s]\n"
     ]
    },
    {
     "name": "stdout",
     "output_type": "stream",
     "text": [
      "Epoch: 42 | disc_loss1: -0.34056299924850464 | gen_loss: 0.046173520386219025 \n"
     ]
    },
    {
     "name": "stderr",
     "output_type": "stream",
     "text": [
      "  0%|▍                                                                                                               | 1/234 [00:00<00:06, 34.57it/s]\n",
      "  3%|██▉                                                                                                              | 1/39 [00:00<00:00, 50.94it/s]\n"
     ]
    },
    {
     "name": "stdout",
     "output_type": "stream",
     "text": [
      "Epoch: 43 | disc_loss1: -0.44346195459365845 | gen_loss: 0.21397189795970917 \n"
     ]
    },
    {
     "name": "stderr",
     "output_type": "stream",
     "text": [
      "  0%|▍                                                                                                               | 1/234 [00:00<00:06, 34.26it/s]\n",
      "  3%|██▉                                                                                                              | 1/39 [00:00<00:00, 50.30it/s]\n"
     ]
    },
    {
     "name": "stdout",
     "output_type": "stream",
     "text": [
      "Epoch: 44 | disc_loss1: -0.4954809546470642 | gen_loss: 0.4243585467338562 \n"
     ]
    },
    {
     "name": "stderr",
     "output_type": "stream",
     "text": [
      "  0%|▍                                                                                                               | 1/234 [00:00<00:06, 33.91it/s]\n",
      "  3%|██▉                                                                                                              | 1/39 [00:00<00:00, 49.51it/s]\n"
     ]
    },
    {
     "name": "stdout",
     "output_type": "stream",
     "text": [
      "Epoch: 45 | disc_loss1: -0.4580138623714447 | gen_loss: 0.4112396836280823 \n"
     ]
    },
    {
     "name": "stderr",
     "output_type": "stream",
     "text": [
      "  0%|▍                                                                                                               | 1/234 [00:00<00:06, 34.47it/s]\n",
      "  3%|██▉                                                                                                              | 1/39 [00:00<00:00, 49.31it/s]\n"
     ]
    },
    {
     "name": "stdout",
     "output_type": "stream",
     "text": [
      "Epoch: 46 | disc_loss1: -0.40987393260002136 | gen_loss: 0.5733354687690735 \n"
     ]
    },
    {
     "name": "stderr",
     "output_type": "stream",
     "text": [
      "  0%|▍                                                                                                               | 1/234 [00:00<00:06, 34.13it/s]\n",
      "  3%|██▉                                                                                                              | 1/39 [00:00<00:00, 50.48it/s]\n"
     ]
    },
    {
     "name": "stdout",
     "output_type": "stream",
     "text": [
      "Epoch: 47 | disc_loss1: -0.35167890787124634 | gen_loss: 0.4589426815509796 \n"
     ]
    },
    {
     "name": "stderr",
     "output_type": "stream",
     "text": [
      "  0%|▍                                                                                                               | 1/234 [00:00<00:06, 34.02it/s]\n",
      "  3%|██▉                                                                                                              | 1/39 [00:00<00:00, 50.28it/s]\n"
     ]
    },
    {
     "name": "stdout",
     "output_type": "stream",
     "text": [
      "Epoch: 48 | disc_loss1: -0.3318891227245331 | gen_loss: 0.5953087210655212 \n"
     ]
    },
    {
     "name": "stderr",
     "output_type": "stream",
     "text": [
      "  0%|▍                                                                                                               | 1/234 [00:00<00:06, 34.35it/s]\n",
      "  3%|██▉                                                                                                              | 1/39 [00:00<00:00, 49.54it/s]\n"
     ]
    },
    {
     "name": "stdout",
     "output_type": "stream",
     "text": [
      "Epoch: 49 | disc_loss1: -0.2415318340063095 | gen_loss: 0.45313483476638794 \n"
     ]
    },
    {
     "name": "stderr",
     "output_type": "stream",
     "text": [
      "  0%|▍                                                                                                               | 1/234 [00:00<00:07, 29.48it/s]\n",
      "  3%|██▉                                                                                                              | 1/39 [00:00<00:00, 52.11it/s]\n"
     ]
    },
    {
     "name": "stdout",
     "output_type": "stream",
     "text": [
      "Epoch: 50 | disc_loss1: -0.2709236145019531 | gen_loss: 0.5295553207397461 \n"
     ]
    },
    {
     "name": "stderr",
     "output_type": "stream",
     "text": [
      "  0%|▍                                                                                                               | 1/234 [00:00<00:06, 33.75it/s]\n",
      "  3%|██▉                                                                                                              | 1/39 [00:00<00:00, 49.64it/s]\n"
     ]
    },
    {
     "name": "stdout",
     "output_type": "stream",
     "text": [
      "Epoch: 51 | disc_loss1: -0.23947928845882416 | gen_loss: 0.439180850982666 \n"
     ]
    },
    {
     "name": "stderr",
     "output_type": "stream",
     "text": [
      "  0%|▍                                                                                                               | 1/234 [00:00<00:06, 34.04it/s]\n",
      "  3%|██▉                                                                                                              | 1/39 [00:00<00:00, 49.40it/s]\n"
     ]
    },
    {
     "name": "stdout",
     "output_type": "stream",
     "text": [
      "Epoch: 52 | disc_loss1: -0.2634178102016449 | gen_loss: 0.44354063272476196 \n"
     ]
    },
    {
     "name": "stderr",
     "output_type": "stream",
     "text": [
      "  0%|▍                                                                                                               | 1/234 [00:00<00:06, 34.35it/s]\n",
      "  3%|██▉                                                                                                              | 1/39 [00:00<00:00, 52.30it/s]\n"
     ]
    },
    {
     "name": "stdout",
     "output_type": "stream",
     "text": [
      "Epoch: 53 | disc_loss1: -0.23649412393569946 | gen_loss: 0.34371015429496765 \n"
     ]
    },
    {
     "name": "stderr",
     "output_type": "stream",
     "text": [
      "  0%|▍                                                                                                               | 1/234 [00:00<00:06, 33.93it/s]\n",
      "  3%|██▉                                                                                                              | 1/39 [00:00<00:00, 49.53it/s]\n"
     ]
    },
    {
     "name": "stdout",
     "output_type": "stream",
     "text": [
      "Epoch: 54 | disc_loss1: -0.2808062732219696 | gen_loss: 0.3207677900791168 \n"
     ]
    },
    {
     "name": "stderr",
     "output_type": "stream",
     "text": [
      "  0%|▍                                                                                                               | 1/234 [00:00<00:06, 33.37it/s]\n",
      "  3%|██▉                                                                                                              | 1/39 [00:00<00:00, 49.90it/s]\n"
     ]
    },
    {
     "name": "stdout",
     "output_type": "stream",
     "text": [
      "Epoch: 55 | disc_loss1: -0.30302712321281433 | gen_loss: 0.2443588823080063 \n"
     ]
    },
    {
     "name": "stderr",
     "output_type": "stream",
     "text": [
      "  0%|▍                                                                                                               | 1/234 [00:00<00:06, 34.48it/s]\n",
      "  3%|██▉                                                                                                              | 1/39 [00:00<00:00, 50.42it/s]\n"
     ]
    },
    {
     "name": "stdout",
     "output_type": "stream",
     "text": [
      "Epoch: 56 | disc_loss1: -0.3393486738204956 | gen_loss: 0.20303010940551758 \n"
     ]
    },
    {
     "name": "stderr",
     "output_type": "stream",
     "text": [
      "  0%|▍                                                                                                               | 1/234 [00:00<00:07, 32.71it/s]\n",
      "  3%|██▉                                                                                                              | 1/39 [00:00<00:00, 50.20it/s]\n"
     ]
    },
    {
     "name": "stdout",
     "output_type": "stream",
     "text": [
      "Epoch: 57 | disc_loss1: -0.38165992498397827 | gen_loss: 0.12258679419755936 \n"
     ]
    },
    {
     "name": "stderr",
     "output_type": "stream",
     "text": [
      "  0%|▍                                                                                                               | 1/234 [00:00<00:06, 33.55it/s]\n",
      "  3%|██▉                                                                                                              | 1/39 [00:00<00:00, 50.73it/s]\n"
     ]
    },
    {
     "name": "stdout",
     "output_type": "stream",
     "text": [
      "Epoch: 58 | disc_loss1: -0.3980046510696411 | gen_loss: 0.06763118505477905 \n"
     ]
    },
    {
     "name": "stderr",
     "output_type": "stream",
     "text": [
      "  0%|▍                                                                                                               | 1/234 [00:00<00:06, 33.60it/s]\n",
      "  3%|██▉                                                                                                              | 1/39 [00:00<00:00, 49.19it/s]\n"
     ]
    },
    {
     "name": "stdout",
     "output_type": "stream",
     "text": [
      "Epoch: 59 | disc_loss1: -0.41283583641052246 | gen_loss: 0.012053260579705238 \n"
     ]
    },
    {
     "name": "stderr",
     "output_type": "stream",
     "text": [
      "  0%|▍                                                                                                               | 1/234 [00:00<00:06, 34.29it/s]\n",
      "  3%|██▉                                                                                                              | 1/39 [00:00<00:00, 52.08it/s]\n"
     ]
    },
    {
     "name": "stdout",
     "output_type": "stream",
     "text": [
      "Epoch: 60 | disc_loss1: -0.45420971512794495 | gen_loss: 0.00561404088512063 \n"
     ]
    },
    {
     "name": "stderr",
     "output_type": "stream",
     "text": [
      "  0%|▍                                                                                                               | 1/234 [00:00<00:06, 34.10it/s]\n",
      "  3%|██▉                                                                                                              | 1/39 [00:00<00:00, 48.35it/s]\n"
     ]
    },
    {
     "name": "stdout",
     "output_type": "stream",
     "text": [
      "Epoch: 61 | disc_loss1: -0.46971529722213745 | gen_loss: 0.03660428896546364 \n"
     ]
    },
    {
     "name": "stderr",
     "output_type": "stream",
     "text": [
      "  0%|▍                                                                                                               | 1/234 [00:00<00:06, 33.60it/s]\n",
      "  3%|██▉                                                                                                              | 1/39 [00:00<00:00, 50.20it/s]\n"
     ]
    },
    {
     "name": "stdout",
     "output_type": "stream",
     "text": [
      "Epoch: 62 | disc_loss1: -0.47607171535491943 | gen_loss: 0.057858411222696304 \n"
     ]
    },
    {
     "name": "stderr",
     "output_type": "stream",
     "text": [
      "  0%|▍                                                                                                               | 1/234 [00:00<00:06, 34.13it/s]\n",
      "  3%|██▉                                                                                                              | 1/39 [00:00<00:00, 50.74it/s]\n"
     ]
    },
    {
     "name": "stdout",
     "output_type": "stream",
     "text": [
      "Epoch: 63 | disc_loss1: -0.45128828287124634 | gen_loss: 0.143808513879776 \n"
     ]
    },
    {
     "name": "stderr",
     "output_type": "stream",
     "text": [
      "  0%|▍                                                                                                               | 1/234 [00:00<00:06, 33.49it/s]\n",
      "  3%|██▉                                                                                                              | 1/39 [00:00<00:00, 50.16it/s]\n"
     ]
    },
    {
     "name": "stdout",
     "output_type": "stream",
     "text": [
      "Epoch: 64 | disc_loss1: -0.43808111548423767 | gen_loss: 0.20243564248085022 \n"
     ]
    },
    {
     "name": "stderr",
     "output_type": "stream",
     "text": [
      "  0%|▍                                                                                                               | 1/234 [00:00<00:06, 33.39it/s]\n",
      "  3%|██▉                                                                                                              | 1/39 [00:00<00:00, 49.93it/s]\n"
     ]
    },
    {
     "name": "stdout",
     "output_type": "stream",
     "text": [
      "Epoch: 65 | disc_loss1: -0.4274502992630005 | gen_loss: 0.2320868968963623 \n"
     ]
    },
    {
     "name": "stderr",
     "output_type": "stream",
     "text": [
      "  0%|▍                                                                                                               | 1/234 [00:00<00:06, 34.40it/s]\n",
      "  3%|██▉                                                                                                              | 1/39 [00:00<00:00, 49.16it/s]\n"
     ]
    },
    {
     "name": "stdout",
     "output_type": "stream",
     "text": [
      "Epoch: 66 | disc_loss1: -0.4244689643383026 | gen_loss: 0.35333961248397827 \n"
     ]
    },
    {
     "name": "stderr",
     "output_type": "stream",
     "text": [
      "  0%|▍                                                                                                               | 1/234 [00:00<00:06, 33.62it/s]\n",
      "  3%|██▉                                                                                                              | 1/39 [00:00<00:00, 50.90it/s]\n"
     ]
    },
    {
     "name": "stdout",
     "output_type": "stream",
     "text": [
      "Epoch: 67 | disc_loss1: -0.4584391117095947 | gen_loss: 0.3702806830406189 \n"
     ]
    },
    {
     "name": "stderr",
     "output_type": "stream",
     "text": [
      "  0%|▍                                                                                                               | 1/234 [00:00<00:06, 33.68it/s]\n",
      "  3%|██▉                                                                                                              | 1/39 [00:00<00:00, 49.48it/s]\n"
     ]
    },
    {
     "name": "stdout",
     "output_type": "stream",
     "text": [
      "Epoch: 68 | disc_loss1: -0.4394451379776001 | gen_loss: 0.5019462704658508 \n"
     ]
    },
    {
     "name": "stderr",
     "output_type": "stream",
     "text": [
      "  0%|▍                                                                                                               | 1/234 [00:00<00:06, 34.23it/s]\n",
      "  3%|██▉                                                                                                              | 1/39 [00:00<00:00, 49.75it/s]\n"
     ]
    },
    {
     "name": "stdout",
     "output_type": "stream",
     "text": [
      "Epoch: 69 | disc_loss1: -0.4248853027820587 | gen_loss: 0.4028450548648834 \n"
     ]
    },
    {
     "name": "stderr",
     "output_type": "stream",
     "text": [
      "  0%|▍                                                                                                               | 1/234 [00:00<00:06, 34.03it/s]\n",
      "  3%|██▉                                                                                                              | 1/39 [00:00<00:00, 51.70it/s]\n"
     ]
    },
    {
     "name": "stdout",
     "output_type": "stream",
     "text": [
      "Epoch: 70 | disc_loss1: -0.39746248722076416 | gen_loss: 0.4143785834312439 \n"
     ]
    },
    {
     "name": "stderr",
     "output_type": "stream",
     "text": [
      "  0%|▍                                                                                                               | 1/234 [00:00<00:06, 33.47it/s]\n",
      "  3%|██▉                                                                                                              | 1/39 [00:00<00:00, 50.89it/s]\n"
     ]
    },
    {
     "name": "stdout",
     "output_type": "stream",
     "text": [
      "Epoch: 71 | disc_loss1: -0.4122561514377594 | gen_loss: 0.25784286856651306 \n"
     ]
    },
    {
     "name": "stderr",
     "output_type": "stream",
     "text": [
      "  0%|▍                                                                                                               | 1/234 [00:00<00:06, 34.21it/s]\n",
      "  3%|██▉                                                                                                              | 1/39 [00:00<00:00, 49.57it/s]\n"
     ]
    },
    {
     "name": "stdout",
     "output_type": "stream",
     "text": [
      "Epoch: 72 | disc_loss1: -0.4398050308227539 | gen_loss: 0.21168947219848633 \n"
     ]
    },
    {
     "name": "stderr",
     "output_type": "stream",
     "text": [
      "  0%|▍                                                                                                               | 1/234 [00:00<00:06, 34.65it/s]\n",
      "  3%|██▉                                                                                                              | 1/39 [00:00<00:00, 50.14it/s]\n"
     ]
    },
    {
     "name": "stdout",
     "output_type": "stream",
     "text": [
      "Epoch: 73 | disc_loss1: -0.4827609360218048 | gen_loss: 0.10258543491363525 \n"
     ]
    },
    {
     "name": "stderr",
     "output_type": "stream",
     "text": [
      "  0%|▍                                                                                                               | 1/234 [00:00<00:06, 33.95it/s]\n",
      "  3%|██▉                                                                                                              | 1/39 [00:00<00:00, 48.89it/s]\n"
     ]
    },
    {
     "name": "stdout",
     "output_type": "stream",
     "text": [
      "Epoch: 74 | disc_loss1: -0.5050642490386963 | gen_loss: 0.01060850266367197 \n"
     ]
    },
    {
     "name": "stderr",
     "output_type": "stream",
     "text": [
      "  0%|▍                                                                                                               | 1/234 [00:00<00:06, 33.93it/s]\n",
      "  3%|██▉                                                                                                              | 1/39 [00:00<00:00, 49.96it/s]\n"
     ]
    },
    {
     "name": "stdout",
     "output_type": "stream",
     "text": [
      "Epoch: 75 | disc_loss1: -0.4775753915309906 | gen_loss: -0.053720004856586456 \n"
     ]
    },
    {
     "name": "stderr",
     "output_type": "stream",
     "text": [
      "  0%|▍                                                                                                               | 1/234 [00:00<00:06, 34.22it/s]\n",
      "  3%|██▉                                                                                                              | 1/39 [00:00<00:00, 50.92it/s]\n"
     ]
    },
    {
     "name": "stdout",
     "output_type": "stream",
     "text": [
      "Epoch: 76 | disc_loss1: -0.3977982997894287 | gen_loss: -0.20165584981441498 \n"
     ]
    },
    {
     "name": "stderr",
     "output_type": "stream",
     "text": [
      "  0%|▍                                                                                                               | 1/234 [00:00<00:06, 34.54it/s]\n",
      "  3%|██▉                                                                                                              | 1/39 [00:00<00:00, 49.81it/s]\n"
     ]
    },
    {
     "name": "stdout",
     "output_type": "stream",
     "text": [
      "Epoch: 77 | disc_loss1: -0.266829252243042 | gen_loss: -0.24117551743984222 \n"
     ]
    },
    {
     "name": "stderr",
     "output_type": "stream",
     "text": [
      "  0%|▍                                                                                                               | 1/234 [00:00<00:06, 34.10it/s]\n",
      "  3%|██▉                                                                                                              | 1/39 [00:00<00:00, 50.03it/s]\n"
     ]
    },
    {
     "name": "stdout",
     "output_type": "stream",
     "text": [
      "Epoch: 78 | disc_loss1: -0.09122155606746674 | gen_loss: -0.36573657393455505 \n"
     ]
    },
    {
     "name": "stderr",
     "output_type": "stream",
     "text": [
      "  0%|▍                                                                                                               | 1/234 [00:00<00:06, 34.47it/s]\n",
      "  3%|██▉                                                                                                              | 1/39 [00:00<00:00, 50.18it/s]\n"
     ]
    },
    {
     "name": "stdout",
     "output_type": "stream",
     "text": [
      "Epoch: 79 | disc_loss1: 0.03358316421508789 | gen_loss: -0.1977667510509491 \n"
     ]
    },
    {
     "name": "stderr",
     "output_type": "stream",
     "text": [
      "  0%|▍                                                                                                               | 1/234 [00:00<00:07, 32.07it/s]\n",
      "  3%|██▉                                                                                                              | 1/39 [00:00<00:00, 50.72it/s]\n"
     ]
    },
    {
     "name": "stdout",
     "output_type": "stream",
     "text": [
      "Epoch: 80 | disc_loss1: -0.07873852550983429 | gen_loss: -0.013578425161540508 \n"
     ]
    },
    {
     "name": "stderr",
     "output_type": "stream",
     "text": [
      "  0%|▍                                                                                                               | 1/234 [00:00<00:06, 33.60it/s]\n",
      "  3%|██▉                                                                                                              | 1/39 [00:00<00:00, 50.57it/s]\n"
     ]
    },
    {
     "name": "stdout",
     "output_type": "stream",
     "text": [
      "Epoch: 81 | disc_loss1: -0.20032475888729095 | gen_loss: 0.30234622955322266 \n"
     ]
    },
    {
     "name": "stderr",
     "output_type": "stream",
     "text": [
      "  0%|▍                                                                                                               | 1/234 [00:00<00:06, 34.07it/s]\n",
      "  3%|██▉                                                                                                              | 1/39 [00:00<00:00, 51.21it/s]\n"
     ]
    },
    {
     "name": "stdout",
     "output_type": "stream",
     "text": [
      "Epoch: 82 | disc_loss1: -0.3414163589477539 | gen_loss: 0.8109809756278992 \n"
     ]
    },
    {
     "name": "stderr",
     "output_type": "stream",
     "text": [
      "  0%|▍                                                                                                               | 1/234 [00:00<00:06, 34.26it/s]\n",
      "  3%|██▉                                                                                                              | 1/39 [00:00<00:00, 49.83it/s]\n"
     ]
    },
    {
     "name": "stdout",
     "output_type": "stream",
     "text": [
      "Epoch: 83 | disc_loss1: -0.4155735969543457 | gen_loss: 0.7932950258255005 \n"
     ]
    },
    {
     "name": "stderr",
     "output_type": "stream",
     "text": [
      "  0%|▍                                                                                                               | 1/234 [00:00<00:06, 33.75it/s]\n",
      "  3%|██▉                                                                                                              | 1/39 [00:00<00:00, 49.51it/s]\n"
     ]
    },
    {
     "name": "stdout",
     "output_type": "stream",
     "text": [
      "Epoch: 84 | disc_loss1: -0.3648068606853485 | gen_loss: 1.1202701330184937 \n"
     ]
    },
    {
     "name": "stderr",
     "output_type": "stream",
     "text": [
      "  0%|▍                                                                                                               | 1/234 [00:00<00:06, 33.93it/s]\n",
      "  3%|██▉                                                                                                              | 1/39 [00:00<00:00, 49.39it/s]\n"
     ]
    },
    {
     "name": "stdout",
     "output_type": "stream",
     "text": [
      "Epoch: 85 | disc_loss1: -0.246798574924469 | gen_loss: 0.8490304350852966 \n"
     ]
    },
    {
     "name": "stderr",
     "output_type": "stream",
     "text": [
      "  0%|▍                                                                                                               | 1/234 [00:00<00:06, 34.63it/s]\n",
      "  3%|██▉                                                                                                              | 1/39 [00:00<00:00, 50.90it/s]\n"
     ]
    },
    {
     "name": "stdout",
     "output_type": "stream",
     "text": [
      "Epoch: 86 | disc_loss1: -0.08043642342090607 | gen_loss: 0.9728122353553772 \n"
     ]
    },
    {
     "name": "stderr",
     "output_type": "stream",
     "text": [
      "  0%|▍                                                                                                               | 1/234 [00:00<00:06, 33.96it/s]\n",
      "  3%|██▉                                                                                                              | 1/39 [00:00<00:00, 49.79it/s]\n"
     ]
    },
    {
     "name": "stdout",
     "output_type": "stream",
     "text": [
      "Epoch: 87 | disc_loss1: 0.053116410970687866 | gen_loss: 0.6550336480140686 \n"
     ]
    },
    {
     "name": "stderr",
     "output_type": "stream",
     "text": [
      "  0%|▍                                                                                                               | 1/234 [00:00<00:06, 34.12it/s]\n",
      "  3%|██▉                                                                                                              | 1/39 [00:00<00:00, 49.48it/s]\n"
     ]
    },
    {
     "name": "stdout",
     "output_type": "stream",
     "text": [
      "Epoch: 88 | disc_loss1: 0.14966894686222076 | gen_loss: 0.738173246383667 \n"
     ]
    },
    {
     "name": "stderr",
     "output_type": "stream",
     "text": [
      "  0%|▍                                                                                                               | 1/234 [00:00<00:07, 32.00it/s]\n",
      "  3%|██▉                                                                                                              | 1/39 [00:00<00:00, 50.82it/s]\n"
     ]
    },
    {
     "name": "stdout",
     "output_type": "stream",
     "text": [
      "Epoch: 89 | disc_loss1: 0.2642809748649597 | gen_loss: 0.47787755727767944 \n"
     ]
    },
    {
     "name": "stderr",
     "output_type": "stream",
     "text": [
      "  0%|▍                                                                                                               | 1/234 [00:00<00:06, 34.43it/s]\n",
      "  3%|██▉                                                                                                              | 1/39 [00:00<00:00, 50.90it/s]\n"
     ]
    },
    {
     "name": "stdout",
     "output_type": "stream",
     "text": [
      "Epoch: 90 | disc_loss1: 0.13611195981502533 | gen_loss: 0.482794851064682 \n"
     ]
    },
    {
     "name": "stderr",
     "output_type": "stream",
     "text": [
      "  0%|▍                                                                                                               | 1/234 [00:00<00:06, 34.00it/s]\n",
      "  3%|██▉                                                                                                              | 1/39 [00:00<00:00, 49.99it/s]\n"
     ]
    },
    {
     "name": "stdout",
     "output_type": "stream",
     "text": [
      "Epoch: 91 | disc_loss1: 0.12878501415252686 | gen_loss: 0.36073243618011475 \n"
     ]
    },
    {
     "name": "stderr",
     "output_type": "stream",
     "text": [
      "  0%|▍                                                                                                               | 1/234 [00:00<00:06, 33.51it/s]\n",
      "  3%|██▉                                                                                                              | 1/39 [00:00<00:00, 52.41it/s]\n"
     ]
    },
    {
     "name": "stdout",
     "output_type": "stream",
     "text": [
      "Epoch: 92 | disc_loss1: 0.0697772279381752 | gen_loss: 0.3071860671043396 \n"
     ]
    },
    {
     "name": "stderr",
     "output_type": "stream",
     "text": [
      "  0%|▍                                                                                                               | 1/234 [00:00<00:07, 32.02it/s]\n",
      "  3%|██▉                                                                                                              | 1/39 [00:00<00:00, 46.81it/s]\n"
     ]
    },
    {
     "name": "stdout",
     "output_type": "stream",
     "text": [
      "Epoch: 93 | disc_loss1: -0.005258403718471527 | gen_loss: 0.23575808107852936 \n"
     ]
    },
    {
     "name": "stderr",
     "output_type": "stream",
     "text": [
      "  0%|▍                                                                                                               | 1/234 [00:00<00:06, 34.59it/s]\n",
      "  3%|██▉                                                                                                              | 1/39 [00:00<00:00, 48.98it/s]\n"
     ]
    },
    {
     "name": "stdout",
     "output_type": "stream",
     "text": [
      "Epoch: 94 | disc_loss1: -0.08969494700431824 | gen_loss: 0.1704581081867218 \n"
     ]
    },
    {
     "name": "stderr",
     "output_type": "stream",
     "text": [
      "  0%|▍                                                                                                               | 1/234 [00:00<00:06, 33.85it/s]\n",
      "  3%|██▉                                                                                                              | 1/39 [00:00<00:00, 49.22it/s]\n"
     ]
    },
    {
     "name": "stdout",
     "output_type": "stream",
     "text": [
      "Epoch: 95 | disc_loss1: -0.14907336235046387 | gen_loss: 0.10391034930944443 \n"
     ]
    },
    {
     "name": "stderr",
     "output_type": "stream",
     "text": [
      "  0%|▍                                                                                                               | 1/234 [00:00<00:06, 34.65it/s]\n",
      "  3%|██▉                                                                                                              | 1/39 [00:00<00:00, 51.90it/s]\n"
     ]
    },
    {
     "name": "stdout",
     "output_type": "stream",
     "text": [
      "Epoch: 96 | disc_loss1: -0.21894606947898865 | gen_loss: 0.01745850406587124 \n"
     ]
    },
    {
     "name": "stderr",
     "output_type": "stream",
     "text": [
      "  0%|▍                                                                                                               | 1/234 [00:00<00:06, 33.91it/s]\n",
      "  3%|██▉                                                                                                              | 1/39 [00:00<00:00, 49.81it/s]\n"
     ]
    },
    {
     "name": "stdout",
     "output_type": "stream",
     "text": [
      "Epoch: 97 | disc_loss1: -0.23642760515213013 | gen_loss: -0.054739199578762054 \n"
     ]
    },
    {
     "name": "stderr",
     "output_type": "stream",
     "text": [
      "  0%|▍                                                                                                               | 1/234 [00:00<00:06, 33.95it/s]\n",
      "  3%|██▉                                                                                                              | 1/39 [00:00<00:00, 49.94it/s]\n"
     ]
    },
    {
     "name": "stdout",
     "output_type": "stream",
     "text": [
      "Epoch: 98 | disc_loss1: -0.2155856192111969 | gen_loss: -0.1775098294019699 \n"
     ]
    },
    {
     "name": "stderr",
     "output_type": "stream",
     "text": [
      "  0%|▍                                                                                                               | 1/234 [00:00<00:06, 34.28it/s]\n",
      "  3%|██▉                                                                                                              | 1/39 [00:00<00:00, 50.72it/s]\n"
     ]
    },
    {
     "name": "stdout",
     "output_type": "stream",
     "text": [
      "Epoch: 99 | disc_loss1: -0.13111618161201477 | gen_loss: -0.21721461415290833 \n"
     ]
    },
    {
     "name": "stderr",
     "output_type": "stream",
     "text": [
      "  0%|▍                                                                                                               | 1/234 [00:00<00:06, 34.32it/s]\n",
      "  3%|██▉                                                                                                              | 1/39 [00:00<00:00, 50.04it/s]\n"
     ]
    },
    {
     "name": "stdout",
     "output_type": "stream",
     "text": [
      "Epoch: 100 | disc_loss1: -0.05552253872156143 | gen_loss: -0.35541242361068726 \n"
     ]
    },
    {
     "name": "stderr",
     "output_type": "stream",
     "text": [
      "  0%|▍                                                                                                               | 1/234 [00:00<00:06, 34.19it/s]\n",
      "  3%|██▉                                                                                                              | 1/39 [00:00<00:00, 49.00it/s]\n"
     ]
    },
    {
     "name": "stdout",
     "output_type": "stream",
     "text": [
      "Epoch: 101 | disc_loss1: 0.06810164451599121 | gen_loss: -0.21903474628925323 \n"
     ]
    },
    {
     "name": "stderr",
     "output_type": "stream",
     "text": [
      "  0%|▍                                                                                                               | 1/234 [00:00<00:06, 34.23it/s]\n",
      "  3%|██▉                                                                                                              | 1/39 [00:00<00:00, 52.30it/s]\n"
     ]
    },
    {
     "name": "stdout",
     "output_type": "stream",
     "text": [
      "Epoch: 102 | disc_loss1: 0.04559538513422012 | gen_loss: -0.33321458101272583 \n"
     ]
    },
    {
     "name": "stderr",
     "output_type": "stream",
     "text": [
      "  0%|▍                                                                                                               | 1/234 [00:00<00:06, 34.51it/s]\n",
      "  3%|██▉                                                                                                              | 1/39 [00:00<00:00, 50.38it/s]\n"
     ]
    },
    {
     "name": "stdout",
     "output_type": "stream",
     "text": [
      "Epoch: 103 | disc_loss1: 0.13633425533771515 | gen_loss: -0.17781680822372437 \n"
     ]
    },
    {
     "name": "stderr",
     "output_type": "stream",
     "text": [
      "  0%|▍                                                                                                               | 1/234 [00:00<00:06, 34.51it/s]\n",
      "  3%|██▉                                                                                                              | 1/39 [00:00<00:00, 49.94it/s]\n"
     ]
    },
    {
     "name": "stdout",
     "output_type": "stream",
     "text": [
      "Epoch: 104 | disc_loss1: 0.0893329381942749 | gen_loss: -0.13576588034629822 \n"
     ]
    },
    {
     "name": "stderr",
     "output_type": "stream",
     "text": [
      "  0%|▍                                                                                                               | 1/234 [00:00<00:06, 34.53it/s]\n",
      "  3%|██▉                                                                                                              | 1/39 [00:00<00:00, 50.47it/s]\n"
     ]
    },
    {
     "name": "stdout",
     "output_type": "stream",
     "text": [
      "Epoch: 105 | disc_loss1: 0.07727357745170593 | gen_loss: 0.10285420715808868 \n"
     ]
    },
    {
     "name": "stderr",
     "output_type": "stream",
     "text": [
      "  0%|▍                                                                                                               | 1/234 [00:00<00:06, 34.46it/s]\n",
      "  3%|██▉                                                                                                              | 1/39 [00:00<00:00, 49.35it/s]\n"
     ]
    },
    {
     "name": "stdout",
     "output_type": "stream",
     "text": [
      "Epoch: 106 | disc_loss1: -0.006695516407489777 | gen_loss: 0.37768298387527466 \n"
     ]
    },
    {
     "name": "stderr",
     "output_type": "stream",
     "text": [
      "  0%|▍                                                                                                               | 1/234 [00:00<00:06, 34.08it/s]\n",
      "  3%|██▉                                                                                                              | 1/39 [00:00<00:00, 50.12it/s]\n"
     ]
    },
    {
     "name": "stdout",
     "output_type": "stream",
     "text": [
      "Epoch: 107 | disc_loss1: -0.07452508807182312 | gen_loss: 0.6740008592605591 \n"
     ]
    },
    {
     "name": "stderr",
     "output_type": "stream",
     "text": [
      "  0%|▍                                                                                                               | 1/234 [00:00<00:06, 34.16it/s]\n",
      "  3%|██▉                                                                                                              | 1/39 [00:00<00:00, 49.62it/s]\n"
     ]
    },
    {
     "name": "stdout",
     "output_type": "stream",
     "text": [
      "Epoch: 108 | disc_loss1: -0.14688971638679504 | gen_loss: 1.139915943145752 \n"
     ]
    },
    {
     "name": "stderr",
     "output_type": "stream",
     "text": [
      "  0%|▍                                                                                                               | 1/234 [00:00<00:06, 34.50it/s]\n",
      "  3%|██▉                                                                                                              | 1/39 [00:00<00:00, 49.71it/s]\n"
     ]
    },
    {
     "name": "stdout",
     "output_type": "stream",
     "text": [
      "Epoch: 109 | disc_loss1: -0.07262158393859863 | gen_loss: 1.0013216733932495 \n"
     ]
    },
    {
     "name": "stderr",
     "output_type": "stream",
     "text": [
      "  0%|▍                                                                                                               | 1/234 [00:00<00:06, 34.02it/s]\n",
      "  3%|██▉                                                                                                              | 1/39 [00:00<00:00, 49.03it/s]\n"
     ]
    },
    {
     "name": "stdout",
     "output_type": "stream",
     "text": [
      "Epoch: 110 | disc_loss1: 0.04095110297203064 | gen_loss: 1.4139834642410278 \n"
     ]
    },
    {
     "name": "stderr",
     "output_type": "stream",
     "text": [
      "  0%|▍                                                                                                               | 1/234 [00:00<00:06, 34.29it/s]\n",
      "  3%|██▉                                                                                                              | 1/39 [00:00<00:00, 50.46it/s]\n"
     ]
    },
    {
     "name": "stdout",
     "output_type": "stream",
     "text": [
      "Epoch: 111 | disc_loss1: 0.12831532955169678 | gen_loss: 0.861196756362915 \n"
     ]
    },
    {
     "name": "stderr",
     "output_type": "stream",
     "text": [
      "  0%|▍                                                                                                               | 1/234 [00:00<00:07, 32.95it/s]\n",
      "  3%|██▉                                                                                                              | 1/39 [00:00<00:00, 49.73it/s]\n"
     ]
    },
    {
     "name": "stdout",
     "output_type": "stream",
     "text": [
      "Epoch: 112 | disc_loss1: 0.0487532913684845 | gen_loss: 1.0480622053146362 \n"
     ]
    },
    {
     "name": "stderr",
     "output_type": "stream",
     "text": [
      "  0%|▍                                                                                                               | 1/234 [00:00<00:06, 34.33it/s]\n",
      "  3%|██▉                                                                                                              | 1/39 [00:00<00:00, 50.80it/s]\n"
     ]
    },
    {
     "name": "stdout",
     "output_type": "stream",
     "text": [
      "Epoch: 113 | disc_loss1: 0.12441633641719818 | gen_loss: 0.7788874506950378 \n"
     ]
    },
    {
     "name": "stderr",
     "output_type": "stream",
     "text": [
      "  0%|▍                                                                                                               | 1/234 [00:00<00:06, 34.37it/s]\n",
      "  3%|██▉                                                                                                              | 1/39 [00:00<00:00, 49.03it/s]\n"
     ]
    },
    {
     "name": "stdout",
     "output_type": "stream",
     "text": [
      "Epoch: 114 | disc_loss1: 0.16742849349975586 | gen_loss: 0.7396705746650696 \n"
     ]
    },
    {
     "name": "stderr",
     "output_type": "stream",
     "text": [
      "  0%|▍                                                                                                               | 1/234 [00:00<00:06, 34.21it/s]\n",
      "  3%|██▉                                                                                                              | 1/39 [00:00<00:00, 49.94it/s]\n"
     ]
    },
    {
     "name": "stdout",
     "output_type": "stream",
     "text": [
      "Epoch: 115 | disc_loss1: 0.15633442997932434 | gen_loss: 0.5591229200363159 \n"
     ]
    },
    {
     "name": "stderr",
     "output_type": "stream",
     "text": [
      "  0%|▍                                                                                                               | 1/234 [00:00<00:06, 34.25it/s]\n",
      "  3%|██▉                                                                                                              | 1/39 [00:00<00:00, 50.06it/s]\n"
     ]
    },
    {
     "name": "stdout",
     "output_type": "stream",
     "text": [
      "Epoch: 116 | disc_loss1: 0.105598583817482 | gen_loss: 0.4947887361049652 \n"
     ]
    },
    {
     "name": "stderr",
     "output_type": "stream",
     "text": [
      "  0%|▍                                                                                                               | 1/234 [00:00<00:06, 33.89it/s]\n",
      "  3%|██▉                                                                                                              | 1/39 [00:00<00:00, 50.54it/s]\n"
     ]
    },
    {
     "name": "stdout",
     "output_type": "stream",
     "text": [
      "Epoch: 117 | disc_loss1: 0.04829413816332817 | gen_loss: 0.34866863489151 \n"
     ]
    },
    {
     "name": "stderr",
     "output_type": "stream",
     "text": [
      "  0%|▍                                                                                                               | 1/234 [00:00<00:06, 34.44it/s]\n",
      "  3%|██▉                                                                                                              | 1/39 [00:00<00:00, 51.35it/s]\n"
     ]
    },
    {
     "name": "stdout",
     "output_type": "stream",
     "text": [
      "Epoch: 118 | disc_loss1: -0.04522915557026863 | gen_loss: 0.257127046585083 \n"
     ]
    },
    {
     "name": "stderr",
     "output_type": "stream",
     "text": [
      "  0%|▍                                                                                                               | 1/234 [00:00<00:06, 34.03it/s]\n",
      "  3%|██▉                                                                                                              | 1/39 [00:00<00:00, 49.62it/s]\n"
     ]
    },
    {
     "name": "stdout",
     "output_type": "stream",
     "text": [
      "Epoch: 119 | disc_loss1: -0.10878220945596695 | gen_loss: 0.13292577862739563 \n"
     ]
    },
    {
     "name": "stderr",
     "output_type": "stream",
     "text": [
      "  0%|▍                                                                                                               | 1/234 [00:00<00:06, 34.38it/s]\n",
      "  3%|██▉                                                                                                              | 1/39 [00:00<00:00, 49.93it/s]\n"
     ]
    },
    {
     "name": "stdout",
     "output_type": "stream",
     "text": [
      "Epoch: 120 | disc_loss1: -0.194148451089859 | gen_loss: 0.028760643675923347 \n"
     ]
    },
    {
     "name": "stderr",
     "output_type": "stream",
     "text": [
      "  0%|▍                                                                                                               | 1/234 [00:00<00:06, 34.36it/s]\n",
      "  3%|██▉                                                                                                              | 1/39 [00:00<00:00, 50.60it/s]\n"
     ]
    },
    {
     "name": "stdout",
     "output_type": "stream",
     "text": [
      "Epoch: 121 | disc_loss1: -0.2437887042760849 | gen_loss: -0.07529756426811218 \n"
     ]
    },
    {
     "name": "stderr",
     "output_type": "stream",
     "text": [
      "  0%|▍                                                                                                               | 1/234 [00:00<00:06, 34.26it/s]\n",
      "  3%|██▉                                                                                                              | 1/39 [00:00<00:00, 49.79it/s]\n"
     ]
    },
    {
     "name": "stdout",
     "output_type": "stream",
     "text": [
      "Epoch: 122 | disc_loss1: -0.23581019043922424 | gen_loss: -0.1772550344467163 \n"
     ]
    },
    {
     "name": "stderr",
     "output_type": "stream",
     "text": [
      "  0%|▍                                                                                                               | 1/234 [00:00<00:06, 34.38it/s]\n",
      "  3%|██▉                                                                                                              | 1/39 [00:00<00:00, 51.74it/s]\n"
     ]
    },
    {
     "name": "stdout",
     "output_type": "stream",
     "text": [
      "Epoch: 123 | disc_loss1: -0.22299781441688538 | gen_loss: -0.2665650248527527 \n"
     ]
    },
    {
     "name": "stderr",
     "output_type": "stream",
     "text": [
      "  0%|▍                                                                                                               | 1/234 [00:00<00:06, 33.66it/s]\n",
      "  3%|██▉                                                                                                              | 1/39 [00:00<00:00, 50.11it/s]\n"
     ]
    },
    {
     "name": "stdout",
     "output_type": "stream",
     "text": [
      "Epoch: 124 | disc_loss1: -0.15043482184410095 | gen_loss: -0.3972495198249817 \n"
     ]
    },
    {
     "name": "stderr",
     "output_type": "stream",
     "text": [
      "  0%|▍                                                                                                               | 1/234 [00:00<00:06, 34.02it/s]\n",
      "  3%|██▉                                                                                                              | 1/39 [00:00<00:00, 48.75it/s]\n"
     ]
    },
    {
     "name": "stdout",
     "output_type": "stream",
     "text": [
      "Epoch: 125 | disc_loss1: -0.006590560078620911 | gen_loss: -0.29634708166122437 \n"
     ]
    },
    {
     "name": "stderr",
     "output_type": "stream",
     "text": [
      "  0%|▍                                                                                                               | 1/234 [00:00<00:06, 34.36it/s]\n",
      "  3%|██▉                                                                                                              | 1/39 [00:00<00:00, 52.11it/s]\n"
     ]
    },
    {
     "name": "stdout",
     "output_type": "stream",
     "text": [
      "Epoch: 126 | disc_loss1: 0.16953513026237488 | gen_loss: -0.5742470026016235 \n"
     ]
    },
    {
     "name": "stderr",
     "output_type": "stream",
     "text": [
      "  0%|▍                                                                                                               | 1/234 [00:00<00:06, 34.00it/s]\n",
      "  3%|██▉                                                                                                              | 1/39 [00:00<00:00, 50.33it/s]\n"
     ]
    },
    {
     "name": "stdout",
     "output_type": "stream",
     "text": [
      "Epoch: 127 | disc_loss1: 0.22982771694660187 | gen_loss: -0.278029203414917 \n"
     ]
    },
    {
     "name": "stderr",
     "output_type": "stream",
     "text": [
      "  0%|▍                                                                                                               | 1/234 [00:00<00:06, 34.15it/s]\n",
      "  3%|██▉                                                                                                              | 1/39 [00:00<00:00, 49.97it/s]\n"
     ]
    },
    {
     "name": "stdout",
     "output_type": "stream",
     "text": [
      "Epoch: 128 | disc_loss1: 0.2162923961877823 | gen_loss: -0.4467119872570038 \n"
     ]
    },
    {
     "name": "stderr",
     "output_type": "stream",
     "text": [
      "  0%|▍                                                                                                               | 1/234 [00:00<00:06, 34.06it/s]\n",
      "  3%|██▉                                                                                                              | 1/39 [00:00<00:00, 50.42it/s]\n"
     ]
    },
    {
     "name": "stdout",
     "output_type": "stream",
     "text": [
      "Epoch: 129 | disc_loss1: 0.2244907021522522 | gen_loss: -0.14911653101444244 \n"
     ]
    },
    {
     "name": "stderr",
     "output_type": "stream",
     "text": [
      "  0%|▍                                                                                                               | 1/234 [00:00<00:06, 33.94it/s]\n",
      "  3%|██▉                                                                                                              | 1/39 [00:00<00:00, 46.15it/s]\n"
     ]
    },
    {
     "name": "stdout",
     "output_type": "stream",
     "text": [
      "Epoch: 130 | disc_loss1: 0.21352815628051758 | gen_loss: -0.0801449567079544 \n"
     ]
    },
    {
     "name": "stderr",
     "output_type": "stream",
     "text": [
      "  0%|▍                                                                                                               | 1/234 [00:00<00:06, 33.56it/s]\n",
      "  3%|██▉                                                                                                              | 1/39 [00:00<00:00, 49.02it/s]\n"
     ]
    },
    {
     "name": "stdout",
     "output_type": "stream",
     "text": [
      "Epoch: 131 | disc_loss1: 0.24540975689888 | gen_loss: 0.24426349997520447 \n"
     ]
    },
    {
     "name": "stderr",
     "output_type": "stream",
     "text": [
      "  0%|▍                                                                                                               | 1/234 [00:00<00:06, 33.32it/s]\n",
      "  3%|██▉                                                                                                              | 1/39 [00:00<00:00, 49.69it/s]\n"
     ]
    },
    {
     "name": "stdout",
     "output_type": "stream",
     "text": [
      "Epoch: 132 | disc_loss1: 0.09272985905408859 | gen_loss: 0.5362053513526917 \n"
     ]
    },
    {
     "name": "stderr",
     "output_type": "stream",
     "text": [
      "  0%|▍                                                                                                               | 1/234 [00:00<00:06, 34.31it/s]\n",
      "  3%|██▉                                                                                                              | 1/39 [00:00<00:00, 51.05it/s]\n"
     ]
    },
    {
     "name": "stdout",
     "output_type": "stream",
     "text": [
      "Epoch: 133 | disc_loss1: -0.04545848071575165 | gen_loss: 0.8846580982208252 \n"
     ]
    },
    {
     "name": "stderr",
     "output_type": "stream",
     "text": [
      "  0%|▍                                                                                                               | 1/234 [00:00<00:06, 34.65it/s]\n",
      "  3%|██▉                                                                                                              | 1/39 [00:00<00:00, 49.72it/s]\n"
     ]
    },
    {
     "name": "stdout",
     "output_type": "stream",
     "text": [
      "Epoch: 134 | disc_loss1: -0.057793617248535156 | gen_loss: 1.2647106647491455 \n"
     ]
    },
    {
     "name": "stderr",
     "output_type": "stream",
     "text": [
      "  0%|▍                                                                                                               | 1/234 [00:00<00:06, 33.68it/s]\n",
      "  3%|██▉                                                                                                              | 1/39 [00:00<00:00, 50.23it/s]\n"
     ]
    },
    {
     "name": "stdout",
     "output_type": "stream",
     "text": [
      "Epoch: 135 | disc_loss1: 0.003960728645324707 | gen_loss: 1.1342885494232178 \n"
     ]
    },
    {
     "name": "stderr",
     "output_type": "stream",
     "text": [
      "  0%|▍                                                                                                               | 1/234 [00:00<00:06, 34.57it/s]\n",
      "  3%|██▉                                                                                                              | 1/39 [00:00<00:00, 51.99it/s]\n"
     ]
    },
    {
     "name": "stdout",
     "output_type": "stream",
     "text": [
      "Epoch: 136 | disc_loss1: 0.06145757436752319 | gen_loss: 1.5189082622528076 \n"
     ]
    },
    {
     "name": "stderr",
     "output_type": "stream",
     "text": [
      "  0%|▍                                                                                                               | 1/234 [00:00<00:06, 33.90it/s]\n",
      "  3%|██▉                                                                                                              | 1/39 [00:00<00:00, 50.48it/s]\n"
     ]
    },
    {
     "name": "stdout",
     "output_type": "stream",
     "text": [
      "Epoch: 137 | disc_loss1: 0.14423315227031708 | gen_loss: 0.9594770669937134 \n"
     ]
    },
    {
     "name": "stderr",
     "output_type": "stream",
     "text": [
      "  0%|▍                                                                                                               | 1/234 [00:00<00:06, 34.40it/s]\n",
      "  3%|██▉                                                                                                              | 1/39 [00:00<00:00, 48.48it/s]\n"
     ]
    },
    {
     "name": "stdout",
     "output_type": "stream",
     "text": [
      "Epoch: 138 | disc_loss1: 0.17954771220684052 | gen_loss: 1.107298493385315 \n"
     ]
    },
    {
     "name": "stderr",
     "output_type": "stream",
     "text": [
      "  0%|▍                                                                                                               | 1/234 [00:00<00:06, 34.27it/s]\n",
      "  3%|██▉                                                                                                              | 1/39 [00:00<00:00, 51.95it/s]\n"
     ]
    },
    {
     "name": "stdout",
     "output_type": "stream",
     "text": [
      "Epoch: 139 | disc_loss1: 0.2368759959936142 | gen_loss: 0.7433069944381714 \n"
     ]
    },
    {
     "name": "stderr",
     "output_type": "stream",
     "text": [
      "  0%|▍                                                                                                               | 1/234 [00:00<00:06, 34.54it/s]\n",
      "  3%|██▉                                                                                                              | 1/39 [00:00<00:00, 50.09it/s]\n"
     ]
    },
    {
     "name": "stdout",
     "output_type": "stream",
     "text": [
      "Epoch: 140 | disc_loss1: 0.2378130704164505 | gen_loss: 0.7574023008346558 \n"
     ]
    },
    {
     "name": "stderr",
     "output_type": "stream",
     "text": [
      "  0%|▍                                                                                                               | 1/234 [00:00<00:06, 33.94it/s]\n",
      "  3%|██▉                                                                                                              | 1/39 [00:00<00:00, 49.32it/s]\n"
     ]
    },
    {
     "name": "stdout",
     "output_type": "stream",
     "text": [
      "Epoch: 141 | disc_loss1: 0.2341940999031067 | gen_loss: 0.5706899166107178 \n"
     ]
    },
    {
     "name": "stderr",
     "output_type": "stream",
     "text": [
      "  0%|▍                                                                                                               | 1/234 [00:00<00:06, 34.51it/s]\n",
      "  3%|██▉                                                                                                              | 1/39 [00:00<00:00, 49.87it/s]\n"
     ]
    },
    {
     "name": "stdout",
     "output_type": "stream",
     "text": [
      "Epoch: 142 | disc_loss1: 0.18078991770744324 | gen_loss: 0.5012409687042236 \n"
     ]
    },
    {
     "name": "stderr",
     "output_type": "stream",
     "text": [
      "  0%|▍                                                                                                               | 1/234 [00:00<00:06, 34.11it/s]\n",
      "  3%|██▉                                                                                                              | 1/39 [00:00<00:00, 50.26it/s]\n"
     ]
    },
    {
     "name": "stdout",
     "output_type": "stream",
     "text": [
      "Epoch: 143 | disc_loss1: 0.09910471737384796 | gen_loss: 0.37366828322410583 \n"
     ]
    },
    {
     "name": "stderr",
     "output_type": "stream",
     "text": [
      "  0%|▍                                                                                                               | 1/234 [00:00<00:06, 34.28it/s]\n",
      "  3%|██▉                                                                                                              | 1/39 [00:00<00:00, 49.59it/s]\n"
     ]
    },
    {
     "name": "stdout",
     "output_type": "stream",
     "text": [
      "Epoch: 144 | disc_loss1: -0.015090938657522202 | gen_loss: 0.28249213099479675 \n"
     ]
    },
    {
     "name": "stderr",
     "output_type": "stream",
     "text": [
      "  0%|▍                                                                                                               | 1/234 [00:00<00:07, 29.20it/s]\n",
      "  3%|██▉                                                                                                              | 1/39 [00:00<00:00, 48.95it/s]\n"
     ]
    },
    {
     "name": "stdout",
     "output_type": "stream",
     "text": [
      "Epoch: 145 | disc_loss1: -0.11988768726587296 | gen_loss: 0.1937636435031891 \n"
     ]
    },
    {
     "name": "stderr",
     "output_type": "stream",
     "text": [
      "  0%|▍                                                                                                               | 1/234 [00:00<00:06, 34.27it/s]\n",
      "  3%|██▉                                                                                                              | 1/39 [00:00<00:00, 50.95it/s]\n"
     ]
    },
    {
     "name": "stdout",
     "output_type": "stream",
     "text": [
      "Epoch: 146 | disc_loss1: -0.21961462497711182 | gen_loss: 0.07869452238082886 \n"
     ]
    },
    {
     "name": "stderr",
     "output_type": "stream",
     "text": [
      "  0%|▍                                                                                                               | 1/234 [00:00<00:06, 34.11it/s]\n",
      "  3%|██▉                                                                                                              | 1/39 [00:00<00:00, 49.27it/s]\n"
     ]
    },
    {
     "name": "stdout",
     "output_type": "stream",
     "text": [
      "Epoch: 147 | disc_loss1: -0.3025439381599426 | gen_loss: 0.018722789362072945 \n"
     ]
    },
    {
     "name": "stderr",
     "output_type": "stream",
     "text": [
      "  0%|▍                                                                                                               | 1/234 [00:00<00:06, 34.64it/s]\n",
      "  3%|██▉                                                                                                              | 1/39 [00:00<00:00, 50.81it/s]\n"
     ]
    },
    {
     "name": "stdout",
     "output_type": "stream",
     "text": [
      "Epoch: 148 | disc_loss1: -0.37490513920783997 | gen_loss: -0.08009958267211914 \n"
     ]
    },
    {
     "name": "stderr",
     "output_type": "stream",
     "text": [
      "  0%|▍                                                                                                               | 1/234 [00:00<00:06, 34.34it/s]\n",
      "  3%|██▉                                                                                                              | 1/39 [00:00<00:00, 48.85it/s]\n"
     ]
    },
    {
     "name": "stdout",
     "output_type": "stream",
     "text": [
      "Epoch: 149 | disc_loss1: -0.3625485301017761 | gen_loss: -0.14693763852119446 \n"
     ]
    },
    {
     "name": "stderr",
     "output_type": "stream",
     "text": [
      "  0%|▍                                                                                                               | 1/234 [00:00<00:06, 34.21it/s]\n",
      "  3%|██▉                                                                                                              | 1/39 [00:00<00:00, 49.46it/s]\n"
     ]
    },
    {
     "name": "stdout",
     "output_type": "stream",
     "text": [
      "Epoch: 150 | disc_loss1: -0.32438361644744873 | gen_loss: -0.2588045597076416 \n"
     ]
    },
    {
     "name": "stderr",
     "output_type": "stream",
     "text": [
      "  0%|▍                                                                                                               | 1/234 [00:00<00:06, 34.05it/s]\n",
      "  3%|██▉                                                                                                              | 1/39 [00:00<00:00, 49.58it/s]\n"
     ]
    },
    {
     "name": "stdout",
     "output_type": "stream",
     "text": [
      "Epoch: 151 | disc_loss1: -0.28791171312332153 | gen_loss: -0.3162390887737274 \n"
     ]
    },
    {
     "name": "stderr",
     "output_type": "stream",
     "text": [
      "  0%|▍                                                                                                               | 1/234 [00:00<00:06, 34.29it/s]\n",
      "  3%|██▉                                                                                                              | 1/39 [00:00<00:00, 48.95it/s]\n"
     ]
    },
    {
     "name": "stdout",
     "output_type": "stream",
     "text": [
      "Epoch: 152 | disc_loss1: -0.18928438425064087 | gen_loss: -0.40350690484046936 \n"
     ]
    },
    {
     "name": "stderr",
     "output_type": "stream",
     "text": [
      "  0%|▍                                                                                                               | 1/234 [00:00<00:06, 34.27it/s]\n",
      "  3%|██▉                                                                                                              | 1/39 [00:00<00:00, 51.14it/s]\n"
     ]
    },
    {
     "name": "stdout",
     "output_type": "stream",
     "text": [
      "Epoch: 153 | disc_loss1: -0.1258368343114853 | gen_loss: -0.2756362855434418 \n"
     ]
    },
    {
     "name": "stderr",
     "output_type": "stream",
     "text": [
      "  0%|▍                                                                                                               | 1/234 [00:00<00:06, 34.16it/s]\n",
      "  3%|██▉                                                                                                              | 1/39 [00:00<00:00, 50.10it/s]\n"
     ]
    },
    {
     "name": "stdout",
     "output_type": "stream",
     "text": [
      "Epoch: 154 | disc_loss1: 0.08021047711372375 | gen_loss: -0.3258272111415863 \n"
     ]
    },
    {
     "name": "stderr",
     "output_type": "stream",
     "text": [
      "  0%|▍                                                                                                               | 1/234 [00:00<00:06, 33.57it/s]\n",
      "  3%|██▉                                                                                                              | 1/39 [00:00<00:00, 50.39it/s]\n"
     ]
    },
    {
     "name": "stdout",
     "output_type": "stream",
     "text": [
      "Epoch: 155 | disc_loss1: 0.08190733194351196 | gen_loss: -0.07927942276000977 \n"
     ]
    },
    {
     "name": "stderr",
     "output_type": "stream",
     "text": [
      "  0%|▍                                                                                                               | 1/234 [00:00<00:06, 34.74it/s]\n",
      "  3%|██▉                                                                                                              | 1/39 [00:00<00:00, 50.95it/s]\n"
     ]
    },
    {
     "name": "stdout",
     "output_type": "stream",
     "text": [
      "Epoch: 156 | disc_loss1: -0.13156522810459137 | gen_loss: 0.10134737938642502 \n"
     ]
    },
    {
     "name": "stderr",
     "output_type": "stream",
     "text": [
      "  0%|▍                                                                                                               | 1/234 [00:00<00:06, 34.13it/s]\n",
      "  3%|██▉                                                                                                              | 1/39 [00:00<00:00, 50.22it/s]\n"
     ]
    },
    {
     "name": "stdout",
     "output_type": "stream",
     "text": [
      "Epoch: 157 | disc_loss1: -0.22902843356132507 | gen_loss: 0.309806227684021 \n"
     ]
    },
    {
     "name": "stderr",
     "output_type": "stream",
     "text": [
      "  0%|▍                                                                                                               | 1/234 [00:00<00:06, 33.83it/s]\n",
      "  3%|██▉                                                                                                              | 1/39 [00:00<00:00, 50.29it/s]\n"
     ]
    },
    {
     "name": "stdout",
     "output_type": "stream",
     "text": [
      "Epoch: 158 | disc_loss1: -0.24721145629882812 | gen_loss: 0.7021554112434387 \n"
     ]
    },
    {
     "name": "stderr",
     "output_type": "stream",
     "text": [
      "  0%|▍                                                                                                               | 1/234 [00:00<00:06, 34.50it/s]\n",
      "  3%|██▉                                                                                                              | 1/39 [00:00<00:00, 49.97it/s]\n"
     ]
    },
    {
     "name": "stdout",
     "output_type": "stream",
     "text": [
      "Epoch: 159 | disc_loss1: -0.19976824522018433 | gen_loss: 0.6289567947387695 \n"
     ]
    },
    {
     "name": "stderr",
     "output_type": "stream",
     "text": [
      "  0%|▍                                                                                                               | 1/234 [00:00<00:06, 34.45it/s]\n",
      "  3%|██▉                                                                                                              | 1/39 [00:00<00:00, 49.96it/s]\n"
     ]
    },
    {
     "name": "stdout",
     "output_type": "stream",
     "text": [
      "Epoch: 160 | disc_loss1: -0.22332535684108734 | gen_loss: 0.9766327142715454 \n"
     ]
    },
    {
     "name": "stderr",
     "output_type": "stream",
     "text": [
      "  0%|▍                                                                                                               | 1/234 [00:00<00:06, 34.06it/s]\n",
      "  3%|██▉                                                                                                              | 1/39 [00:00<00:00, 48.75it/s]\n"
     ]
    },
    {
     "name": "stdout",
     "output_type": "stream",
     "text": [
      "Epoch: 161 | disc_loss1: -0.10394760966300964 | gen_loss: 0.6965898871421814 \n"
     ]
    },
    {
     "name": "stderr",
     "output_type": "stream",
     "text": [
      "  0%|▍                                                                                                               | 1/234 [00:00<00:06, 34.87it/s]\n",
      "  3%|██▉                                                                                                              | 1/39 [00:00<00:00, 50.45it/s]\n"
     ]
    },
    {
     "name": "stdout",
     "output_type": "stream",
     "text": [
      "Epoch: 162 | disc_loss1: -0.03381422162055969 | gen_loss: 0.8243125081062317 \n"
     ]
    },
    {
     "name": "stderr",
     "output_type": "stream",
     "text": [
      "  0%|▍                                                                                                               | 1/234 [00:00<00:06, 33.94it/s]\n",
      "  3%|██▉                                                                                                              | 1/39 [00:00<00:00, 50.21it/s]\n"
     ]
    },
    {
     "name": "stdout",
     "output_type": "stream",
     "text": [
      "Epoch: 163 | disc_loss1: 0.027104265987873077 | gen_loss: 0.6759883761405945 \n"
     ]
    },
    {
     "name": "stderr",
     "output_type": "stream",
     "text": [
      "  0%|▍                                                                                                               | 1/234 [00:00<00:06, 33.89it/s]\n",
      "  3%|██▉                                                                                                              | 1/39 [00:00<00:00, 49.08it/s]\n"
     ]
    },
    {
     "name": "stdout",
     "output_type": "stream",
     "text": [
      "Epoch: 164 | disc_loss1: 0.018456771969795227 | gen_loss: 0.7668663859367371 \n"
     ]
    },
    {
     "name": "stderr",
     "output_type": "stream",
     "text": [
      "  0%|▍                                                                                                               | 1/234 [00:00<00:06, 34.38it/s]\n",
      "  3%|██▉                                                                                                              | 1/39 [00:00<00:00, 49.78it/s]\n"
     ]
    },
    {
     "name": "stdout",
     "output_type": "stream",
     "text": [
      "Epoch: 165 | disc_loss1: 0.10958418995141983 | gen_loss: 0.6172811388969421 \n"
     ]
    },
    {
     "name": "stderr",
     "output_type": "stream",
     "text": [
      "  0%|▍                                                                                                               | 1/234 [00:00<00:06, 34.37it/s]\n",
      "  3%|██▉                                                                                                              | 1/39 [00:00<00:00, 49.27it/s]\n"
     ]
    },
    {
     "name": "stdout",
     "output_type": "stream",
     "text": [
      "Epoch: 166 | disc_loss1: 0.1292421668767929 | gen_loss: 0.673485517501831 \n"
     ]
    },
    {
     "name": "stderr",
     "output_type": "stream",
     "text": [
      "  0%|▍                                                                                                               | 1/234 [00:00<00:06, 34.15it/s]\n",
      "  3%|██▉                                                                                                              | 1/39 [00:00<00:00, 49.63it/s]\n"
     ]
    },
    {
     "name": "stdout",
     "output_type": "stream",
     "text": [
      "Epoch: 167 | disc_loss1: 0.20412161946296692 | gen_loss: 0.498153418302536 \n"
     ]
    },
    {
     "name": "stderr",
     "output_type": "stream",
     "text": [
      "  0%|▍                                                                                                               | 1/234 [00:00<00:06, 34.63it/s]\n",
      "  3%|██▉                                                                                                              | 1/39 [00:00<00:00, 49.82it/s]\n"
     ]
    },
    {
     "name": "stdout",
     "output_type": "stream",
     "text": [
      "Epoch: 168 | disc_loss1: 0.14916151762008667 | gen_loss: 0.5352748036384583 \n"
     ]
    },
    {
     "name": "stderr",
     "output_type": "stream",
     "text": [
      "  0%|▍                                                                                                               | 1/234 [00:00<00:06, 34.34it/s]\n",
      "  3%|██▉                                                                                                              | 1/39 [00:00<00:00, 50.05it/s]\n"
     ]
    },
    {
     "name": "stdout",
     "output_type": "stream",
     "text": [
      "Epoch: 169 | disc_loss1: 0.2259053885936737 | gen_loss: 0.3746357262134552 \n"
     ]
    },
    {
     "name": "stderr",
     "output_type": "stream",
     "text": [
      "  0%|▍                                                                                                               | 1/234 [00:00<00:06, 34.14it/s]\n",
      "  3%|██▉                                                                                                              | 1/39 [00:00<00:00, 49.45it/s]\n"
     ]
    },
    {
     "name": "stdout",
     "output_type": "stream",
     "text": [
      "Epoch: 170 | disc_loss1: 0.1495099663734436 | gen_loss: 0.3123752474784851 \n"
     ]
    },
    {
     "name": "stderr",
     "output_type": "stream",
     "text": [
      "  0%|▍                                                                                                               | 1/234 [00:00<00:06, 34.35it/s]\n",
      "  3%|██▉                                                                                                              | 1/39 [00:00<00:00, 49.26it/s]\n"
     ]
    },
    {
     "name": "stdout",
     "output_type": "stream",
     "text": [
      "Epoch: 171 | disc_loss1: 0.17047052085399628 | gen_loss: 0.2289191633462906 \n"
     ]
    },
    {
     "name": "stderr",
     "output_type": "stream",
     "text": [
      "  0%|▍                                                                                                               | 1/234 [00:00<00:06, 34.19it/s]\n",
      "  3%|██▉                                                                                                              | 1/39 [00:00<00:00, 47.75it/s]\n"
     ]
    },
    {
     "name": "stdout",
     "output_type": "stream",
     "text": [
      "Epoch: 172 | disc_loss1: 0.13034404814243317 | gen_loss: 0.09498393535614014 \n"
     ]
    },
    {
     "name": "stderr",
     "output_type": "stream",
     "text": [
      "  0%|▍                                                                                                               | 1/234 [00:00<00:06, 33.84it/s]\n",
      "  3%|██▉                                                                                                              | 1/39 [00:00<00:00, 50.65it/s]\n"
     ]
    },
    {
     "name": "stdout",
     "output_type": "stream",
     "text": [
      "Epoch: 173 | disc_loss1: 0.17095759510993958 | gen_loss: 0.10144086182117462 \n"
     ]
    },
    {
     "name": "stderr",
     "output_type": "stream",
     "text": [
      "  0%|▍                                                                                                               | 1/234 [00:00<00:06, 33.62it/s]\n",
      "  3%|██▉                                                                                                              | 1/39 [00:00<00:00, 48.93it/s]\n"
     ]
    },
    {
     "name": "stdout",
     "output_type": "stream",
     "text": [
      "Epoch: 174 | disc_loss1: 0.11208778619766235 | gen_loss: -0.10335975140333176 \n"
     ]
    },
    {
     "name": "stderr",
     "output_type": "stream",
     "text": [
      "  0%|▍                                                                                                               | 1/234 [00:00<00:06, 34.67it/s]\n",
      "  3%|██▉                                                                                                              | 1/39 [00:00<00:00, 50.61it/s]\n"
     ]
    },
    {
     "name": "stdout",
     "output_type": "stream",
     "text": [
      "Epoch: 175 | disc_loss1: 0.1721232384443283 | gen_loss: -0.062148962169885635 \n"
     ]
    },
    {
     "name": "stderr",
     "output_type": "stream",
     "text": [
      "  0%|▍                                                                                                               | 1/234 [00:00<00:06, 34.44it/s]\n",
      "  3%|██▉                                                                                                              | 1/39 [00:00<00:00, 50.07it/s]\n"
     ]
    },
    {
     "name": "stdout",
     "output_type": "stream",
     "text": [
      "Epoch: 176 | disc_loss1: 0.0985608845949173 | gen_loss: -0.24407024681568146 \n"
     ]
    },
    {
     "name": "stderr",
     "output_type": "stream",
     "text": [
      "  0%|▍                                                                                                               | 1/234 [00:00<00:06, 33.65it/s]\n",
      "  3%|██▉                                                                                                              | 1/39 [00:00<00:00, 50.02it/s]\n"
     ]
    },
    {
     "name": "stdout",
     "output_type": "stream",
     "text": [
      "Epoch: 177 | disc_loss1: 0.1417580246925354 | gen_loss: -0.24828295409679413 \n"
     ]
    },
    {
     "name": "stderr",
     "output_type": "stream",
     "text": [
      "  0%|▍                                                                                                               | 1/234 [00:00<00:06, 34.31it/s]\n",
      "  3%|██▉                                                                                                              | 1/39 [00:00<00:00, 50.78it/s]\n"
     ]
    },
    {
     "name": "stdout",
     "output_type": "stream",
     "text": [
      "Epoch: 178 | disc_loss1: 0.17256787419319153 | gen_loss: -0.3482923209667206 \n"
     ]
    },
    {
     "name": "stderr",
     "output_type": "stream",
     "text": [
      "  0%|▍                                                                                                               | 1/234 [00:00<00:06, 34.54it/s]\n",
      "  3%|██▉                                                                                                              | 1/39 [00:00<00:00, 50.03it/s]\n"
     ]
    },
    {
     "name": "stdout",
     "output_type": "stream",
     "text": [
      "Epoch: 179 | disc_loss1: 0.1854543685913086 | gen_loss: -0.27760374546051025 \n"
     ]
    },
    {
     "name": "stderr",
     "output_type": "stream",
     "text": [
      "  0%|▍                                                                                                               | 1/234 [00:00<00:06, 34.19it/s]\n",
      "  3%|██▉                                                                                                              | 1/39 [00:00<00:00, 50.26it/s]\n"
     ]
    },
    {
     "name": "stdout",
     "output_type": "stream",
     "text": [
      "Epoch: 180 | disc_loss1: 0.17289164662361145 | gen_loss: -0.21509163081645966 \n"
     ]
    },
    {
     "name": "stderr",
     "output_type": "stream",
     "text": [
      "  0%|▍                                                                                                               | 1/234 [00:00<00:06, 34.33it/s]\n",
      "  3%|██▉                                                                                                              | 1/39 [00:00<00:00, 49.21it/s]\n"
     ]
    },
    {
     "name": "stdout",
     "output_type": "stream",
     "text": [
      "Epoch: 181 | disc_loss1: 0.1148839220404625 | gen_loss: 0.07459697872400284 \n"
     ]
    },
    {
     "name": "stderr",
     "output_type": "stream",
     "text": [
      "  0%|▍                                                                                                               | 1/234 [00:00<00:06, 34.32it/s]\n",
      "  3%|██▉                                                                                                              | 1/39 [00:00<00:00, 49.61it/s]\n"
     ]
    },
    {
     "name": "stdout",
     "output_type": "stream",
     "text": [
      "Epoch: 182 | disc_loss1: 0.1103462278842926 | gen_loss: 0.37996813654899597 \n"
     ]
    },
    {
     "name": "stderr",
     "output_type": "stream",
     "text": [
      "  0%|▍                                                                                                               | 1/234 [00:00<00:06, 33.46it/s]\n",
      "  3%|██▉                                                                                                              | 1/39 [00:00<00:00, 49.04it/s]\n"
     ]
    },
    {
     "name": "stdout",
     "output_type": "stream",
     "text": [
      "Epoch: 183 | disc_loss1: 0.2178122103214264 | gen_loss: 0.5864081382751465 \n"
     ]
    },
    {
     "name": "stderr",
     "output_type": "stream",
     "text": [
      "  0%|▍                                                                                                               | 1/234 [00:00<00:06, 34.11it/s]\n",
      "  3%|██▉                                                                                                              | 1/39 [00:00<00:00, 49.00it/s]\n"
     ]
    },
    {
     "name": "stdout",
     "output_type": "stream",
     "text": [
      "Epoch: 184 | disc_loss1: 0.08586364984512329 | gen_loss: 1.1381174325942993 \n"
     ]
    },
    {
     "name": "stderr",
     "output_type": "stream",
     "text": [
      "  0%|▍                                                                                                               | 1/234 [00:00<00:07, 32.83it/s]\n",
      "  3%|██▉                                                                                                              | 1/39 [00:00<00:00, 49.14it/s]\n"
     ]
    },
    {
     "name": "stdout",
     "output_type": "stream",
     "text": [
      "Epoch: 185 | disc_loss1: 0.20003041625022888 | gen_loss: 0.779654860496521 \n"
     ]
    },
    {
     "name": "stderr",
     "output_type": "stream",
     "text": [
      "  0%|▍                                                                                                               | 1/234 [00:00<00:06, 34.41it/s]\n",
      "  3%|██▉                                                                                                              | 1/39 [00:00<00:00, 49.81it/s]\n"
     ]
    },
    {
     "name": "stdout",
     "output_type": "stream",
     "text": [
      "Epoch: 186 | disc_loss1: 0.031030118465423584 | gen_loss: 1.1577298641204834 \n"
     ]
    },
    {
     "name": "stderr",
     "output_type": "stream",
     "text": [
      "  0%|▍                                                                                                               | 1/234 [00:00<00:06, 33.85it/s]\n",
      "  3%|██▉                                                                                                              | 1/39 [00:00<00:00, 49.67it/s]\n"
     ]
    },
    {
     "name": "stdout",
     "output_type": "stream",
     "text": [
      "Epoch: 187 | disc_loss1: 0.07809803634881973 | gen_loss: 0.8907288908958435 \n"
     ]
    },
    {
     "name": "stderr",
     "output_type": "stream",
     "text": [
      "  0%|▍                                                                                                               | 1/234 [00:00<00:06, 33.71it/s]\n",
      "  3%|██▉                                                                                                              | 1/39 [00:00<00:00, 49.85it/s]\n"
     ]
    },
    {
     "name": "stdout",
     "output_type": "stream",
     "text": [
      "Epoch: 188 | disc_loss1: 0.14360272884368896 | gen_loss: 1.0192478895187378 \n"
     ]
    },
    {
     "name": "stderr",
     "output_type": "stream",
     "text": [
      "  0%|▍                                                                                                               | 1/234 [00:00<00:06, 34.26it/s]\n",
      "  3%|██▉                                                                                                              | 1/39 [00:00<00:00, 51.42it/s]\n"
     ]
    },
    {
     "name": "stdout",
     "output_type": "stream",
     "text": [
      "Epoch: 189 | disc_loss1: 0.21602657437324524 | gen_loss: 0.7344801425933838 \n"
     ]
    },
    {
     "name": "stderr",
     "output_type": "stream",
     "text": [
      "  0%|▍                                                                                                               | 1/234 [00:00<00:06, 33.30it/s]\n",
      "  3%|██▉                                                                                                              | 1/39 [00:00<00:00, 50.62it/s]\n"
     ]
    },
    {
     "name": "stdout",
     "output_type": "stream",
     "text": [
      "Epoch: 190 | disc_loss1: 0.22945250570774078 | gen_loss: 0.7702271938323975 \n"
     ]
    },
    {
     "name": "stderr",
     "output_type": "stream",
     "text": [
      "  0%|▍                                                                                                               | 1/234 [00:00<00:06, 34.19it/s]\n",
      "  3%|██▉                                                                                                              | 1/39 [00:00<00:00, 49.27it/s]\n"
     ]
    },
    {
     "name": "stdout",
     "output_type": "stream",
     "text": [
      "Epoch: 191 | disc_loss1: 0.21548780798912048 | gen_loss: 0.5711404085159302 \n"
     ]
    },
    {
     "name": "stderr",
     "output_type": "stream",
     "text": [
      "  0%|▍                                                                                                               | 1/234 [00:00<00:06, 34.24it/s]\n",
      "  3%|██▉                                                                                                              | 1/39 [00:00<00:00, 50.89it/s]\n"
     ]
    },
    {
     "name": "stdout",
     "output_type": "stream",
     "text": [
      "Epoch: 192 | disc_loss1: 0.17930066585540771 | gen_loss: 0.5327866077423096 \n"
     ]
    },
    {
     "name": "stderr",
     "output_type": "stream",
     "text": [
      "  0%|▍                                                                                                               | 1/234 [00:00<00:06, 34.03it/s]\n",
      "  3%|██▉                                                                                                              | 1/39 [00:00<00:00, 49.24it/s]\n"
     ]
    },
    {
     "name": "stdout",
     "output_type": "stream",
     "text": [
      "Epoch: 193 | disc_loss1: 0.16884011030197144 | gen_loss: 0.36649492383003235 \n"
     ]
    },
    {
     "name": "stderr",
     "output_type": "stream",
     "text": [
      "  0%|▍                                                                                                               | 1/234 [00:00<00:07, 32.04it/s]\n",
      "  3%|██▉                                                                                                              | 1/39 [00:00<00:00, 49.46it/s]\n"
     ]
    },
    {
     "name": "stdout",
     "output_type": "stream",
     "text": [
      "Epoch: 194 | disc_loss1: 0.06703156232833862 | gen_loss: 0.2742163836956024 \n"
     ]
    },
    {
     "name": "stderr",
     "output_type": "stream",
     "text": [
      "  0%|▍                                                                                                               | 1/234 [00:00<00:06, 34.15it/s]\n",
      "  3%|██▉                                                                                                              | 1/39 [00:00<00:00, 48.77it/s]\n"
     ]
    },
    {
     "name": "stdout",
     "output_type": "stream",
     "text": [
      "Epoch: 195 | disc_loss1: 0.0052766576409339905 | gen_loss: 0.16559197008609772 \n"
     ]
    },
    {
     "name": "stderr",
     "output_type": "stream",
     "text": [
      "  0%|▍                                                                                                               | 1/234 [00:00<00:06, 34.77it/s]\n",
      "  3%|██▉                                                                                                              | 1/39 [00:00<00:00, 50.79it/s]\n"
     ]
    },
    {
     "name": "stdout",
     "output_type": "stream",
     "text": [
      "Epoch: 196 | disc_loss1: -0.10170839726924896 | gen_loss: 0.02637873776257038 \n"
     ]
    },
    {
     "name": "stderr",
     "output_type": "stream",
     "text": [
      "  0%|▍                                                                                                               | 1/234 [00:00<00:06, 34.02it/s]\n",
      "  3%|██▉                                                                                                              | 1/39 [00:00<00:00, 48.40it/s]\n"
     ]
    },
    {
     "name": "stdout",
     "output_type": "stream",
     "text": [
      "Epoch: 197 | disc_loss1: -0.11827513575553894 | gen_loss: -0.09609631448984146 \n"
     ]
    },
    {
     "name": "stderr",
     "output_type": "stream",
     "text": [
      "  0%|▍                                                                                                               | 1/234 [00:00<00:06, 34.13it/s]\n",
      "  3%|██▉                                                                                                              | 1/39 [00:00<00:00, 48.98it/s]\n"
     ]
    },
    {
     "name": "stdout",
     "output_type": "stream",
     "text": [
      "Epoch: 198 | disc_loss1: -0.12630164623260498 | gen_loss: -0.21821631491184235 \n"
     ]
    },
    {
     "name": "stderr",
     "output_type": "stream",
     "text": [
      "  0%|▍                                                                                                               | 1/234 [00:00<00:06, 34.51it/s]\n",
      "  3%|██▉                                                                                                              | 1/39 [00:00<00:00, 50.40it/s]\n"
     ]
    },
    {
     "name": "stdout",
     "output_type": "stream",
     "text": [
      "Epoch: 199 | disc_loss1: -0.07887174934148788 | gen_loss: -0.30134764313697815 \n"
     ]
    },
    {
     "name": "stderr",
     "output_type": "stream",
     "text": [
      "  0%|▍                                                                                                               | 1/234 [00:00<00:06, 34.45it/s]\n",
      "  3%|██▉                                                                                                              | 1/39 [00:00<00:00, 50.07it/s]\n"
     ]
    },
    {
     "name": "stdout",
     "output_type": "stream",
     "text": [
      "Epoch: 200 | disc_loss1: -0.014828000217676163 | gen_loss: -0.5068866014480591 \n"
     ]
    },
    {
     "name": "stderr",
     "output_type": "stream",
     "text": [
      "  0%|▍                                                                                                               | 1/234 [00:00<00:06, 34.04it/s]\n",
      "  3%|██▉                                                                                                              | 1/39 [00:00<00:00, 49.23it/s]\n"
     ]
    },
    {
     "name": "stdout",
     "output_type": "stream",
     "text": [
      "Epoch: 201 | disc_loss1: 0.10842639952898026 | gen_loss: -0.4535840153694153 \n"
     ]
    },
    {
     "name": "stderr",
     "output_type": "stream",
     "text": [
      "  0%|▍                                                                                                               | 1/234 [00:00<00:06, 34.61it/s]\n",
      "  3%|██▉                                                                                                              | 1/39 [00:00<00:00, 52.22it/s]\n"
     ]
    },
    {
     "name": "stdout",
     "output_type": "stream",
     "text": [
      "Epoch: 202 | disc_loss1: 0.23171454668045044 | gen_loss: -0.7781258225440979 \n"
     ]
    },
    {
     "name": "stderr",
     "output_type": "stream",
     "text": [
      "  0%|▍                                                                                                               | 1/234 [00:00<00:06, 34.19it/s]\n",
      "  3%|██▉                                                                                                              | 1/39 [00:00<00:00, 50.05it/s]\n"
     ]
    },
    {
     "name": "stdout",
     "output_type": "stream",
     "text": [
      "Epoch: 203 | disc_loss1: 0.3539011776447296 | gen_loss: -0.4807470738887787 \n"
     ]
    },
    {
     "name": "stderr",
     "output_type": "stream",
     "text": [
      "  0%|▍                                                                                                               | 1/234 [00:00<00:06, 33.76it/s]\n",
      "  3%|██▉                                                                                                              | 1/39 [00:00<00:00, 49.26it/s]\n"
     ]
    },
    {
     "name": "stdout",
     "output_type": "stream",
     "text": [
      "Epoch: 204 | disc_loss1: 0.34282228350639343 | gen_loss: -0.6829848885536194 \n"
     ]
    },
    {
     "name": "stderr",
     "output_type": "stream",
     "text": [
      "  0%|▍                                                                                                               | 1/234 [00:00<00:06, 34.31it/s]\n",
      "  3%|██▉                                                                                                              | 1/39 [00:00<00:00, 50.57it/s]\n"
     ]
    },
    {
     "name": "stdout",
     "output_type": "stream",
     "text": [
      "Epoch: 205 | disc_loss1: 0.332529217004776 | gen_loss: -0.259727418422699 \n"
     ]
    },
    {
     "name": "stderr",
     "output_type": "stream",
     "text": [
      "  0%|▍                                                                                                               | 1/234 [00:00<00:06, 33.51it/s]\n",
      "  3%|██▉                                                                                                              | 1/39 [00:00<00:00, 49.88it/s]\n"
     ]
    },
    {
     "name": "stdout",
     "output_type": "stream",
     "text": [
      "Epoch: 206 | disc_loss1: 0.2670944333076477 | gen_loss: -0.16863954067230225 \n"
     ]
    },
    {
     "name": "stderr",
     "output_type": "stream",
     "text": [
      "  0%|▍                                                                                                               | 1/234 [00:00<00:06, 34.12it/s]\n",
      "  3%|██▉                                                                                                              | 1/39 [00:00<00:00, 50.10it/s]\n"
     ]
    },
    {
     "name": "stdout",
     "output_type": "stream",
     "text": [
      "Epoch: 207 | disc_loss1: 0.20146526396274567 | gen_loss: 0.31141504645347595 \n"
     ]
    },
    {
     "name": "stderr",
     "output_type": "stream",
     "text": [
      "  0%|▍                                                                                                               | 1/234 [00:00<00:06, 34.64it/s]\n",
      "  3%|██▉                                                                                                              | 1/39 [00:00<00:00, 51.85it/s]\n"
     ]
    },
    {
     "name": "stdout",
     "output_type": "stream",
     "text": [
      "Epoch: 208 | disc_loss1: -0.07174737006425858 | gen_loss: 0.6796173453330994 \n"
     ]
    },
    {
     "name": "stderr",
     "output_type": "stream",
     "text": [
      "  0%|▍                                                                                                               | 1/234 [00:00<00:06, 34.27it/s]\n",
      "  3%|██▉                                                                                                              | 1/39 [00:00<00:00, 49.18it/s]\n"
     ]
    },
    {
     "name": "stdout",
     "output_type": "stream",
     "text": [
      "Epoch: 209 | disc_loss1: -0.0972357839345932 | gen_loss: 0.9242513179779053 \n"
     ]
    },
    {
     "name": "stderr",
     "output_type": "stream",
     "text": [
      "  0%|▍                                                                                                               | 1/234 [00:00<00:06, 34.05it/s]\n",
      "  3%|██▉                                                                                                              | 1/39 [00:00<00:00, 48.96it/s]\n"
     ]
    },
    {
     "name": "stdout",
     "output_type": "stream",
     "text": [
      "Epoch: 210 | disc_loss1: -0.2760986387729645 | gen_loss: 1.4308948516845703 \n"
     ]
    },
    {
     "name": "stderr",
     "output_type": "stream",
     "text": [
      "  0%|▍                                                                                                               | 1/234 [00:00<00:06, 34.45it/s]\n",
      "  3%|██▉                                                                                                              | 1/39 [00:00<00:00, 51.51it/s]\n"
     ]
    },
    {
     "name": "stdout",
     "output_type": "stream",
     "text": [
      "Epoch: 211 | disc_loss1: -0.2144239842891693 | gen_loss: 1.3231887817382812 \n"
     ]
    },
    {
     "name": "stderr",
     "output_type": "stream",
     "text": [
      "  0%|▍                                                                                                               | 1/234 [00:00<00:07, 32.90it/s]\n",
      "  3%|██▉                                                                                                              | 1/39 [00:00<00:00, 50.88it/s]\n"
     ]
    },
    {
     "name": "stdout",
     "output_type": "stream",
     "text": [
      "Epoch: 212 | disc_loss1: -0.08074656128883362 | gen_loss: 1.7243633270263672 \n"
     ]
    },
    {
     "name": "stderr",
     "output_type": "stream",
     "text": [
      "  0%|▍                                                                                                               | 1/234 [00:00<00:06, 33.85it/s]\n",
      "  3%|██▉                                                                                                              | 1/39 [00:00<00:00, 48.77it/s]\n"
     ]
    },
    {
     "name": "stdout",
     "output_type": "stream",
     "text": [
      "Epoch: 213 | disc_loss1: 0.08663801848888397 | gen_loss: 1.1487727165222168 \n"
     ]
    },
    {
     "name": "stderr",
     "output_type": "stream",
     "text": [
      "  0%|▍                                                                                                               | 1/234 [00:00<00:06, 33.81it/s]\n",
      "  3%|██▉                                                                                                              | 1/39 [00:00<00:00, 48.91it/s]\n"
     ]
    },
    {
     "name": "stdout",
     "output_type": "stream",
     "text": [
      "Epoch: 214 | disc_loss1: 0.12206840515136719 | gen_loss: 1.4262746572494507 \n"
     ]
    },
    {
     "name": "stderr",
     "output_type": "stream",
     "text": [
      "  0%|▍                                                                                                               | 1/234 [00:00<00:06, 34.29it/s]\n",
      "  3%|██▉                                                                                                              | 1/39 [00:00<00:00, 50.47it/s]\n"
     ]
    },
    {
     "name": "stdout",
     "output_type": "stream",
     "text": [
      "Epoch: 215 | disc_loss1: 0.1778026521205902 | gen_loss: 1.0315449237823486 \n"
     ]
    },
    {
     "name": "stderr",
     "output_type": "stream",
     "text": [
      "  0%|▍                                                                                                               | 1/234 [00:00<00:06, 34.23it/s]\n",
      "  3%|██▉                                                                                                              | 1/39 [00:00<00:00, 49.40it/s]\n"
     ]
    },
    {
     "name": "stdout",
     "output_type": "stream",
     "text": [
      "Epoch: 216 | disc_loss1: 0.23683536052703857 | gen_loss: 1.1339902877807617 \n"
     ]
    },
    {
     "name": "stderr",
     "output_type": "stream",
     "text": [
      "  0%|▍                                                                                                               | 1/234 [00:00<00:06, 33.89it/s]\n",
      "  3%|██▉                                                                                                              | 1/39 [00:00<00:00, 49.48it/s]\n"
     ]
    },
    {
     "name": "stdout",
     "output_type": "stream",
     "text": [
      "Epoch: 217 | disc_loss1: 0.3267550468444824 | gen_loss: 0.8035712242126465 \n"
     ]
    },
    {
     "name": "stderr",
     "output_type": "stream",
     "text": [
      "  0%|▍                                                                                                               | 1/234 [00:00<00:06, 34.10it/s]\n",
      "  3%|██▉                                                                                                              | 1/39 [00:00<00:00, 52.24it/s]\n"
     ]
    },
    {
     "name": "stdout",
     "output_type": "stream",
     "text": [
      "Epoch: 218 | disc_loss1: 0.3422861695289612 | gen_loss: 0.8533438444137573 \n"
     ]
    },
    {
     "name": "stderr",
     "output_type": "stream",
     "text": [
      "  0%|▍                                                                                                               | 1/234 [00:00<00:06, 34.36it/s]\n",
      "  3%|██▉                                                                                                              | 1/39 [00:00<00:00, 49.91it/s]\n"
     ]
    },
    {
     "name": "stdout",
     "output_type": "stream",
     "text": [
      "Epoch: 219 | disc_loss1: 0.3547320067882538 | gen_loss: 0.6439288258552551 \n"
     ]
    },
    {
     "name": "stderr",
     "output_type": "stream",
     "text": [
      "  0%|▍                                                                                                               | 1/234 [00:00<00:06, 34.29it/s]\n",
      "  3%|██▉                                                                                                              | 1/39 [00:00<00:00, 49.74it/s]\n"
     ]
    },
    {
     "name": "stdout",
     "output_type": "stream",
     "text": [
      "Epoch: 220 | disc_loss1: 0.3405277132987976 | gen_loss: 0.5934520363807678 \n"
     ]
    },
    {
     "name": "stderr",
     "output_type": "stream",
     "text": [
      "  0%|▍                                                                                                               | 1/234 [00:00<00:06, 33.65it/s]\n",
      "  3%|██▉                                                                                                              | 1/39 [00:00<00:00, 49.41it/s]\n"
     ]
    },
    {
     "name": "stdout",
     "output_type": "stream",
     "text": [
      "Epoch: 221 | disc_loss1: 0.30668872594833374 | gen_loss: 0.45913422107696533 \n"
     ]
    },
    {
     "name": "stderr",
     "output_type": "stream",
     "text": [
      "  0%|▍                                                                                                               | 1/234 [00:00<00:06, 34.58it/s]\n",
      "  3%|██▉                                                                                                              | 1/39 [00:00<00:00, 51.06it/s]\n"
     ]
    },
    {
     "name": "stdout",
     "output_type": "stream",
     "text": [
      "Epoch: 222 | disc_loss1: 0.2179376482963562 | gen_loss: 0.3822587728500366 \n"
     ]
    },
    {
     "name": "stderr",
     "output_type": "stream",
     "text": [
      "  0%|▍                                                                                                               | 1/234 [00:00<00:06, 33.93it/s]\n",
      "  3%|██▉                                                                                                              | 1/39 [00:00<00:00, 51.00it/s]\n"
     ]
    },
    {
     "name": "stdout",
     "output_type": "stream",
     "text": [
      "Epoch: 223 | disc_loss1: 0.22140994668006897 | gen_loss: 0.28991201519966125 \n"
     ]
    },
    {
     "name": "stderr",
     "output_type": "stream",
     "text": [
      "  0%|▍                                                                                                               | 1/234 [00:00<00:06, 33.92it/s]\n",
      "  3%|██▉                                                                                                              | 1/39 [00:00<00:00, 49.68it/s]\n"
     ]
    },
    {
     "name": "stdout",
     "output_type": "stream",
     "text": [
      "Epoch: 224 | disc_loss1: 0.0655737966299057 | gen_loss: 0.14710380136966705 \n"
     ]
    },
    {
     "name": "stderr",
     "output_type": "stream",
     "text": [
      "  0%|▍                                                                                                               | 1/234 [00:00<00:06, 33.65it/s]\n",
      "  3%|██▉                                                                                                              | 1/39 [00:00<00:00, 51.14it/s]\n"
     ]
    },
    {
     "name": "stdout",
     "output_type": "stream",
     "text": [
      "Epoch: 225 | disc_loss1: 0.018360711634159088 | gen_loss: 0.09848381578922272 \n"
     ]
    },
    {
     "name": "stderr",
     "output_type": "stream",
     "text": [
      "  0%|▍                                                                                                               | 1/234 [00:00<00:06, 34.05it/s]\n",
      "  3%|██▉                                                                                                              | 1/39 [00:00<00:00, 50.21it/s]\n"
     ]
    },
    {
     "name": "stdout",
     "output_type": "stream",
     "text": [
      "Epoch: 226 | disc_loss1: -0.08997857570648193 | gen_loss: -0.07464791089296341 \n"
     ]
    },
    {
     "name": "stderr",
     "output_type": "stream",
     "text": [
      "  0%|▍                                                                                                               | 1/234 [00:00<00:06, 33.72it/s]\n",
      "  3%|██▉                                                                                                              | 1/39 [00:00<00:00, 48.99it/s]\n"
     ]
    },
    {
     "name": "stdout",
     "output_type": "stream",
     "text": [
      "Epoch: 227 | disc_loss1: -0.08244939148426056 | gen_loss: -0.09974945336580276 \n"
     ]
    },
    {
     "name": "stderr",
     "output_type": "stream",
     "text": [
      "  0%|▍                                                                                                               | 1/234 [00:00<00:06, 34.37it/s]\n",
      "  3%|██▉                                                                                                              | 1/39 [00:00<00:00, 50.05it/s]\n"
     ]
    },
    {
     "name": "stdout",
     "output_type": "stream",
     "text": [
      "Epoch: 228 | disc_loss1: -0.1317542940378189 | gen_loss: -0.3266635239124298 \n"
     ]
    },
    {
     "name": "stderr",
     "output_type": "stream",
     "text": [
      "  0%|▍                                                                                                               | 1/234 [00:00<00:06, 33.77it/s]\n",
      "  3%|██▉                                                                                                              | 1/39 [00:00<00:00, 50.47it/s]\n"
     ]
    },
    {
     "name": "stdout",
     "output_type": "stream",
     "text": [
      "Epoch: 229 | disc_loss1: -0.10808522999286652 | gen_loss: -0.2884428799152374 \n"
     ]
    },
    {
     "name": "stderr",
     "output_type": "stream",
     "text": [
      "  0%|▍                                                                                                               | 1/234 [00:00<00:06, 33.95it/s]\n",
      "  3%|██▉                                                                                                              | 1/39 [00:00<00:00, 49.35it/s]\n"
     ]
    },
    {
     "name": "stdout",
     "output_type": "stream",
     "text": [
      "Epoch: 230 | disc_loss1: -0.07958053052425385 | gen_loss: -0.4368301033973694 \n"
     ]
    },
    {
     "name": "stderr",
     "output_type": "stream",
     "text": [
      "  0%|▍                                                                                                               | 1/234 [00:00<00:06, 34.21it/s]\n",
      "  3%|██▉                                                                                                              | 1/39 [00:00<00:00, 50.40it/s]\n"
     ]
    },
    {
     "name": "stdout",
     "output_type": "stream",
     "text": [
      "Epoch: 231 | disc_loss1: -0.024819154292345047 | gen_loss: -0.43186408281326294 \n"
     ]
    },
    {
     "name": "stderr",
     "output_type": "stream",
     "text": [
      "  0%|▍                                                                                                               | 1/234 [00:00<00:06, 34.31it/s]\n",
      "  3%|██▉                                                                                                              | 1/39 [00:00<00:00, 49.56it/s]\n"
     ]
    },
    {
     "name": "stdout",
     "output_type": "stream",
     "text": [
      "Epoch: 232 | disc_loss1: 0.03818601369857788 | gen_loss: -0.5042681694030762 \n"
     ]
    },
    {
     "name": "stderr",
     "output_type": "stream",
     "text": [
      "  0%|▍                                                                                                               | 1/234 [00:00<00:06, 33.98it/s]\n",
      "  3%|██▉                                                                                                              | 1/39 [00:00<00:00, 49.55it/s]\n"
     ]
    },
    {
     "name": "stdout",
     "output_type": "stream",
     "text": [
      "Epoch: 233 | disc_loss1: 0.1060735359787941 | gen_loss: -0.3694651126861572 \n"
     ]
    },
    {
     "name": "stderr",
     "output_type": "stream",
     "text": [
      "  0%|▍                                                                                                               | 1/234 [00:00<00:06, 34.26it/s]\n",
      "  3%|██▉                                                                                                              | 1/39 [00:00<00:00, 52.50it/s]\n"
     ]
    },
    {
     "name": "stdout",
     "output_type": "stream",
     "text": [
      "Epoch: 234 | disc_loss1: 0.20733734965324402 | gen_loss: -0.44989657402038574 \n"
     ]
    },
    {
     "name": "stderr",
     "output_type": "stream",
     "text": [
      "  0%|▍                                                                                                               | 1/234 [00:00<00:06, 33.90it/s]\n",
      "  3%|██▉                                                                                                              | 1/39 [00:00<00:00, 48.88it/s]\n"
     ]
    },
    {
     "name": "stdout",
     "output_type": "stream",
     "text": [
      "Epoch: 235 | disc_loss1: 0.3261217474937439 | gen_loss: -0.17736972868442535 \n"
     ]
    },
    {
     "name": "stderr",
     "output_type": "stream",
     "text": [
      "  0%|▍                                                                                                               | 1/234 [00:00<00:06, 33.51it/s]\n",
      "  3%|██▉                                                                                                              | 1/39 [00:00<00:00, 48.54it/s]\n"
     ]
    },
    {
     "name": "stdout",
     "output_type": "stream",
     "text": [
      "Epoch: 236 | disc_loss1: 0.20377486944198608 | gen_loss: -0.09410308301448822 \n"
     ]
    },
    {
     "name": "stderr",
     "output_type": "stream",
     "text": [
      "  0%|▍                                                                                                               | 1/234 [00:00<00:06, 33.93it/s]\n",
      "  3%|██▉                                                                                                              | 1/39 [00:00<00:00, 49.01it/s]\n"
     ]
    },
    {
     "name": "stdout",
     "output_type": "stream",
     "text": [
      "Epoch: 237 | disc_loss1: 0.19065138697624207 | gen_loss: 0.1347762793302536 \n"
     ]
    },
    {
     "name": "stderr",
     "output_type": "stream",
     "text": [
      "  0%|▍                                                                                                               | 1/234 [00:00<00:06, 34.68it/s]\n",
      "  3%|██▉                                                                                                              | 1/39 [00:00<00:00, 49.67it/s]\n"
     ]
    },
    {
     "name": "stdout",
     "output_type": "stream",
     "text": [
      "Epoch: 238 | disc_loss1: 0.0793638601899147 | gen_loss: 0.45011427998542786 \n"
     ]
    },
    {
     "name": "stderr",
     "output_type": "stream",
     "text": [
      "  0%|▍                                                                                                               | 1/234 [00:00<00:06, 34.55it/s]\n",
      "  3%|██▉                                                                                                              | 1/39 [00:00<00:00, 49.84it/s]\n"
     ]
    },
    {
     "name": "stdout",
     "output_type": "stream",
     "text": [
      "Epoch: 239 | disc_loss1: 0.021796926856040955 | gen_loss: 0.6292088031768799 \n"
     ]
    },
    {
     "name": "stderr",
     "output_type": "stream",
     "text": [
      "  0%|▍                                                                                                               | 1/234 [00:00<00:06, 33.31it/s]\n",
      "  3%|██▉                                                                                                              | 1/39 [00:00<00:00, 49.28it/s]\n"
     ]
    },
    {
     "name": "stdout",
     "output_type": "stream",
     "text": [
      "Epoch: 240 | disc_loss1: -0.07141026854515076 | gen_loss: 1.0961495637893677 \n"
     ]
    },
    {
     "name": "stderr",
     "output_type": "stream",
     "text": [
      "  0%|▍                                                                                                               | 1/234 [00:00<00:06, 34.22it/s]\n",
      "  3%|██▉                                                                                                              | 1/39 [00:00<00:00, 48.94it/s]\n"
     ]
    },
    {
     "name": "stdout",
     "output_type": "stream",
     "text": [
      "Epoch: 241 | disc_loss1: 0.007446110248565674 | gen_loss: 1.0189757347106934 \n"
     ]
    },
    {
     "name": "stderr",
     "output_type": "stream",
     "text": [
      "  0%|▍                                                                                                               | 1/234 [00:00<00:06, 34.25it/s]\n",
      "  3%|██▉                                                                                                              | 1/39 [00:00<00:00, 51.47it/s]\n"
     ]
    },
    {
     "name": "stdout",
     "output_type": "stream",
     "text": [
      "Epoch: 242 | disc_loss1: -0.028904080390930176 | gen_loss: 1.5134655237197876 \n"
     ]
    },
    {
     "name": "stderr",
     "output_type": "stream",
     "text": [
      "  0%|▍                                                                                                               | 1/234 [00:00<00:07, 33.08it/s]\n",
      "  3%|██▉                                                                                                              | 1/39 [00:00<00:00, 48.85it/s]\n"
     ]
    },
    {
     "name": "stdout",
     "output_type": "stream",
     "text": [
      "Epoch: 243 | disc_loss1: 0.11889232695102692 | gen_loss: 1.032071590423584 \n"
     ]
    },
    {
     "name": "stderr",
     "output_type": "stream",
     "text": [
      "  0%|▍                                                                                                               | 1/234 [00:00<00:06, 34.20it/s]\n",
      "  3%|██▉                                                                                                              | 1/39 [00:00<00:00, 48.89it/s]\n"
     ]
    },
    {
     "name": "stdout",
     "output_type": "stream",
     "text": [
      "Epoch: 244 | disc_loss1: 0.005322538316249847 | gen_loss: 1.2869127988815308 \n"
     ]
    },
    {
     "name": "stderr",
     "output_type": "stream",
     "text": [
      "  0%|▍                                                                                                               | 1/234 [00:00<00:06, 34.52it/s]\n",
      "  3%|██▉                                                                                                              | 1/39 [00:00<00:00, 50.25it/s]\n"
     ]
    },
    {
     "name": "stdout",
     "output_type": "stream",
     "text": [
      "Epoch: 245 | disc_loss1: 0.10045666247606277 | gen_loss: 1.0491641759872437 \n"
     ]
    },
    {
     "name": "stderr",
     "output_type": "stream",
     "text": [
      "  0%|▍                                                                                                               | 1/234 [00:00<00:06, 34.33it/s]\n",
      "  3%|██▉                                                                                                              | 1/39 [00:00<00:00, 49.06it/s]\n"
     ]
    },
    {
     "name": "stdout",
     "output_type": "stream",
     "text": [
      "Epoch: 246 | disc_loss1: 0.2004951536655426 | gen_loss: 1.0634870529174805 \n"
     ]
    },
    {
     "name": "stderr",
     "output_type": "stream",
     "text": [
      "  0%|▍                                                                                                               | 1/234 [00:00<00:09, 24.38it/s]\n",
      "  3%|██▉                                                                                                              | 1/39 [00:00<00:01, 22.90it/s]\n"
     ]
    },
    {
     "name": "stdout",
     "output_type": "stream",
     "text": [
      "Epoch: 247 | disc_loss1: 0.25134098529815674 | gen_loss: 0.8068840503692627 \n"
     ]
    },
    {
     "name": "stderr",
     "output_type": "stream",
     "text": [
      "  0%|▍                                                                                                               | 1/234 [00:00<00:16, 14.51it/s]\n",
      "  3%|██▉                                                                                                              | 1/39 [00:00<00:02, 17.72it/s]\n"
     ]
    },
    {
     "name": "stdout",
     "output_type": "stream",
     "text": [
      "Epoch: 248 | disc_loss1: 0.3032797574996948 | gen_loss: 0.794494092464447 \n"
     ]
    },
    {
     "name": "stderr",
     "output_type": "stream",
     "text": [
      "  0%|▍                                                                                                               | 1/234 [00:00<00:12, 18.84it/s]\n",
      "  3%|██▉                                                                                                              | 1/39 [00:00<00:02, 15.01it/s]\n"
     ]
    },
    {
     "name": "stdout",
     "output_type": "stream",
     "text": [
      "Epoch: 249 | disc_loss1: 0.30723512172698975 | gen_loss: 0.5890973806381226 \n"
     ]
    },
    {
     "name": "stderr",
     "output_type": "stream",
     "text": [
      "  0%|▍                                                                                                               | 1/234 [00:00<00:14, 16.52it/s]\n",
      "  3%|██▉                                                                                                              | 1/39 [00:00<00:02, 15.74it/s]\n"
     ]
    },
    {
     "name": "stdout",
     "output_type": "stream",
     "text": [
      "Epoch: 250 | disc_loss1: 0.2324514389038086 | gen_loss: 0.5449297428131104 \n"
     ]
    },
    {
     "name": "stderr",
     "output_type": "stream",
     "text": [
      "  0%|▍                                                                                                               | 1/234 [00:00<00:06, 33.66it/s]\n",
      "  3%|██▉                                                                                                              | 1/39 [00:00<00:00, 48.03it/s]\n"
     ]
    },
    {
     "name": "stdout",
     "output_type": "stream",
     "text": [
      "Epoch: 251 | disc_loss1: 0.20500589907169342 | gen_loss: 0.4128115177154541 \n"
     ]
    },
    {
     "name": "stderr",
     "output_type": "stream",
     "text": [
      "  0%|▍                                                                                                               | 1/234 [00:00<00:06, 33.72it/s]\n",
      "  3%|██▉                                                                                                              | 1/39 [00:00<00:00, 47.77it/s]\n"
     ]
    },
    {
     "name": "stdout",
     "output_type": "stream",
     "text": [
      "Epoch: 252 | disc_loss1: 0.1261785328388214 | gen_loss: 0.3204086422920227 \n"
     ]
    },
    {
     "name": "stderr",
     "output_type": "stream",
     "text": [
      "  0%|▍                                                                                                               | 1/234 [00:00<00:06, 33.93it/s]\n",
      "  3%|██▉                                                                                                              | 1/39 [00:00<00:00, 48.32it/s]\n"
     ]
    },
    {
     "name": "stdout",
     "output_type": "stream",
     "text": [
      "Epoch: 253 | disc_loss1: 0.10623333603143692 | gen_loss: 0.22502285242080688 \n"
     ]
    },
    {
     "name": "stderr",
     "output_type": "stream",
     "text": [
      "  0%|▍                                                                                                               | 1/234 [00:00<00:07, 32.77it/s]\n",
      "  3%|██▉                                                                                                              | 1/39 [00:00<00:00, 49.44it/s]\n"
     ]
    },
    {
     "name": "stdout",
     "output_type": "stream",
     "text": [
      "Epoch: 254 | disc_loss1: -0.022218070924282074 | gen_loss: 0.0799986943602562 \n"
     ]
    },
    {
     "name": "stderr",
     "output_type": "stream",
     "text": [
      "  0%|▍                                                                                                               | 1/234 [00:00<00:07, 30.69it/s]\n",
      "  3%|██▉                                                                                                              | 1/39 [00:00<00:00, 48.92it/s]\n"
     ]
    },
    {
     "name": "stdout",
     "output_type": "stream",
     "text": [
      "Epoch: 255 | disc_loss1: -0.033024027943611145 | gen_loss: -0.015291416086256504 \n"
     ]
    },
    {
     "name": "stderr",
     "output_type": "stream",
     "text": [
      "  0%|▍                                                                                                               | 1/234 [00:00<00:09, 25.78it/s]\n",
      "  3%|██▉                                                                                                              | 1/39 [00:00<00:00, 47.25it/s]\n"
     ]
    },
    {
     "name": "stdout",
     "output_type": "stream",
     "text": [
      "Epoch: 256 | disc_loss1: -0.049480095505714417 | gen_loss: -0.20113533735275269 \n"
     ]
    },
    {
     "name": "stderr",
     "output_type": "stream",
     "text": [
      "  0%|▍                                                                                                               | 1/234 [00:00<00:06, 34.47it/s]\n",
      "  3%|██▉                                                                                                              | 1/39 [00:00<00:00, 48.04it/s]\n"
     ]
    },
    {
     "name": "stdout",
     "output_type": "stream",
     "text": [
      "Epoch: 257 | disc_loss1: -0.029595673084259033 | gen_loss: -0.27325239777565 \n"
     ]
    },
    {
     "name": "stderr",
     "output_type": "stream",
     "text": [
      "  0%|▍                                                                                                               | 1/234 [00:00<00:06, 34.67it/s]\n",
      "  3%|██▉                                                                                                              | 1/39 [00:00<00:00, 48.16it/s]\n"
     ]
    },
    {
     "name": "stdout",
     "output_type": "stream",
     "text": [
      "Epoch: 258 | disc_loss1: -0.02558399736881256 | gen_loss: -0.4685574173927307 \n"
     ]
    },
    {
     "name": "stderr",
     "output_type": "stream",
     "text": [
      "  0%|▍                                                                                                               | 1/234 [00:00<00:06, 33.92it/s]\n",
      "  3%|██▉                                                                                                              | 1/39 [00:00<00:00, 49.53it/s]\n"
     ]
    },
    {
     "name": "stdout",
     "output_type": "stream",
     "text": [
      "Epoch: 259 | disc_loss1: 0.06432593613862991 | gen_loss: -0.5031320452690125 \n"
     ]
    },
    {
     "name": "stderr",
     "output_type": "stream",
     "text": [
      "  0%|▍                                                                                                               | 1/234 [00:00<00:06, 33.75it/s]\n",
      "  3%|██▉                                                                                                              | 1/39 [00:00<00:00, 48.86it/s]\n"
     ]
    },
    {
     "name": "stdout",
     "output_type": "stream",
     "text": [
      "Epoch: 260 | disc_loss1: 0.13436433672904968 | gen_loss: -0.6939817070960999 \n"
     ]
    },
    {
     "name": "stderr",
     "output_type": "stream",
     "text": [
      "  0%|▍                                                                                                               | 1/234 [00:00<00:06, 34.16it/s]\n",
      "  3%|██▉                                                                                                              | 1/39 [00:00<00:00, 51.96it/s]\n"
     ]
    },
    {
     "name": "stdout",
     "output_type": "stream",
     "text": [
      "Epoch: 261 | disc_loss1: 0.291184663772583 | gen_loss: -0.560291588306427 \n"
     ]
    },
    {
     "name": "stderr",
     "output_type": "stream",
     "text": [
      "  0%|▍                                                                                                               | 1/234 [00:00<00:06, 34.21it/s]\n",
      "  3%|██▉                                                                                                              | 1/39 [00:00<00:00, 51.03it/s]\n"
     ]
    },
    {
     "name": "stdout",
     "output_type": "stream",
     "text": [
      "Epoch: 262 | disc_loss1: 0.4009823501110077 | gen_loss: -0.8567860126495361 \n"
     ]
    },
    {
     "name": "stderr",
     "output_type": "stream",
     "text": [
      "  0%|▍                                                                                                               | 1/234 [00:00<00:06, 34.11it/s]\n",
      "  3%|██▉                                                                                                              | 1/39 [00:00<00:00, 50.00it/s]\n"
     ]
    },
    {
     "name": "stdout",
     "output_type": "stream",
     "text": [
      "Epoch: 263 | disc_loss1: 0.4167894423007965 | gen_loss: -0.4212019443511963 \n"
     ]
    },
    {
     "name": "stderr",
     "output_type": "stream",
     "text": [
      "  0%|▍                                                                                                               | 1/234 [00:00<00:06, 34.29it/s]\n",
      "  3%|██▉                                                                                                              | 1/39 [00:00<00:00, 50.65it/s]\n"
     ]
    },
    {
     "name": "stdout",
     "output_type": "stream",
     "text": [
      "Epoch: 264 | disc_loss1: 0.33036303520202637 | gen_loss: -0.45470312237739563 \n"
     ]
    },
    {
     "name": "stderr",
     "output_type": "stream",
     "text": [
      "  0%|▍                                                                                                               | 1/234 [00:00<00:06, 34.19it/s]\n",
      "  3%|██▉                                                                                                              | 1/39 [00:00<00:00, 49.85it/s]\n"
     ]
    },
    {
     "name": "stdout",
     "output_type": "stream",
     "text": [
      "Epoch: 265 | disc_loss1: 0.26659703254699707 | gen_loss: -0.036504607647657394 \n"
     ]
    },
    {
     "name": "stderr",
     "output_type": "stream",
     "text": [
      "  0%|▍                                                                                                               | 1/234 [00:00<00:06, 33.72it/s]\n",
      "  3%|██▉                                                                                                              | 1/39 [00:00<00:00, 50.39it/s]\n"
     ]
    },
    {
     "name": "stdout",
     "output_type": "stream",
     "text": [
      "Epoch: 266 | disc_loss1: 0.11246616393327713 | gen_loss: 0.28037333488464355 \n"
     ]
    },
    {
     "name": "stderr",
     "output_type": "stream",
     "text": [
      "  0%|▍                                                                                                               | 1/234 [00:00<00:07, 31.10it/s]\n",
      "  3%|██▉                                                                                                              | 1/39 [00:00<00:00, 50.16it/s]\n"
     ]
    },
    {
     "name": "stdout",
     "output_type": "stream",
     "text": [
      "Epoch: 267 | disc_loss1: 0.094925656914711 | gen_loss: 0.5852721333503723 \n"
     ]
    },
    {
     "name": "stderr",
     "output_type": "stream",
     "text": [
      "  0%|▍                                                                                                               | 1/234 [00:00<00:06, 34.47it/s]\n",
      "  3%|██▉                                                                                                              | 1/39 [00:00<00:00, 49.19it/s]\n"
     ]
    },
    {
     "name": "stdout",
     "output_type": "stream",
     "text": [
      "Epoch: 268 | disc_loss1: -0.19034698605537415 | gen_loss: 1.1579084396362305 \n"
     ]
    },
    {
     "name": "stderr",
     "output_type": "stream",
     "text": [
      "  0%|▍                                                                                                               | 1/234 [00:00<00:06, 33.84it/s]\n",
      "  3%|██▉                                                                                                              | 1/39 [00:00<00:00, 50.24it/s]\n"
     ]
    },
    {
     "name": "stdout",
     "output_type": "stream",
     "text": [
      "Epoch: 269 | disc_loss1: -0.35760995745658875 | gen_loss: 1.3995323181152344 \n"
     ]
    },
    {
     "name": "stderr",
     "output_type": "stream",
     "text": [
      "  0%|▍                                                                                                               | 1/234 [00:00<00:06, 34.30it/s]\n",
      "  3%|██▉                                                                                                              | 1/39 [00:00<00:00, 49.26it/s]\n"
     ]
    },
    {
     "name": "stdout",
     "output_type": "stream",
     "text": [
      "Epoch: 270 | disc_loss1: -0.366257905960083 | gen_loss: 1.8270926475524902 \n"
     ]
    },
    {
     "name": "stderr",
     "output_type": "stream",
     "text": [
      "  0%|▍                                                                                                               | 1/234 [00:00<00:07, 32.50it/s]\n",
      "  3%|██▉                                                                                                              | 1/39 [00:00<00:00, 47.32it/s]\n"
     ]
    },
    {
     "name": "stdout",
     "output_type": "stream",
     "text": [
      "Epoch: 271 | disc_loss1: -0.19495682418346405 | gen_loss: 1.4253345727920532 \n"
     ]
    },
    {
     "name": "stderr",
     "output_type": "stream",
     "text": [
      "  0%|▍                                                                                                               | 1/234 [00:00<00:06, 34.13it/s]\n",
      "  3%|██▉                                                                                                              | 1/39 [00:00<00:00, 48.95it/s]\n"
     ]
    },
    {
     "name": "stdout",
     "output_type": "stream",
     "text": [
      "Epoch: 272 | disc_loss1: 0.0022984445095062256 | gen_loss: 1.790290355682373 \n"
     ]
    },
    {
     "name": "stderr",
     "output_type": "stream",
     "text": [
      "  0%|▍                                                                                                               | 1/234 [00:00<00:06, 34.41it/s]\n",
      "  3%|██▉                                                                                                              | 1/39 [00:00<00:00, 49.07it/s]\n"
     ]
    },
    {
     "name": "stdout",
     "output_type": "stream",
     "text": [
      "Epoch: 273 | disc_loss1: 0.10474589467048645 | gen_loss: 1.132890224456787 \n"
     ]
    },
    {
     "name": "stderr",
     "output_type": "stream",
     "text": [
      "  0%|▍                                                                                                               | 1/234 [00:00<00:06, 33.58it/s]\n",
      "  3%|██▉                                                                                                              | 1/39 [00:00<00:00, 49.01it/s]\n"
     ]
    },
    {
     "name": "stdout",
     "output_type": "stream",
     "text": [
      "Epoch: 274 | disc_loss1: 0.15695537626743317 | gen_loss: 1.3724569082260132 \n"
     ]
    },
    {
     "name": "stderr",
     "output_type": "stream",
     "text": [
      "  0%|▍                                                                                                               | 1/234 [00:00<00:06, 33.79it/s]\n",
      "  3%|██▉                                                                                                              | 1/39 [00:00<00:00, 51.52it/s]\n"
     ]
    },
    {
     "name": "stdout",
     "output_type": "stream",
     "text": [
      "Epoch: 275 | disc_loss1: 0.18180349469184875 | gen_loss: 0.9434335231781006 \n"
     ]
    },
    {
     "name": "stderr",
     "output_type": "stream",
     "text": [
      "  0%|▍                                                                                                               | 1/234 [00:00<00:06, 34.54it/s]\n",
      "  3%|██▉                                                                                                              | 1/39 [00:00<00:00, 50.11it/s]\n"
     ]
    },
    {
     "name": "stdout",
     "output_type": "stream",
     "text": [
      "Epoch: 276 | disc_loss1: 0.24861091375350952 | gen_loss: 0.9561213254928589 \n"
     ]
    },
    {
     "name": "stderr",
     "output_type": "stream",
     "text": [
      "  0%|▍                                                                                                               | 1/234 [00:00<00:07, 33.04it/s]\n",
      "  3%|██▉                                                                                                              | 1/39 [00:00<00:00, 49.25it/s]\n"
     ]
    },
    {
     "name": "stdout",
     "output_type": "stream",
     "text": [
      "Epoch: 277 | disc_loss1: 0.21884965896606445 | gen_loss: 0.7385450005531311 \n"
     ]
    },
    {
     "name": "stderr",
     "output_type": "stream",
     "text": [
      "  0%|▍                                                                                                               | 1/234 [00:00<00:06, 33.81it/s]\n",
      "  3%|██▉                                                                                                              | 1/39 [00:00<00:00, 48.40it/s]\n"
     ]
    },
    {
     "name": "stdout",
     "output_type": "stream",
     "text": [
      "Epoch: 278 | disc_loss1: 0.1943202018737793 | gen_loss: 0.7460081577301025 \n"
     ]
    },
    {
     "name": "stderr",
     "output_type": "stream",
     "text": [
      "  0%|▍                                                                                                               | 1/234 [00:00<00:06, 33.84it/s]\n",
      "  3%|██▉                                                                                                              | 1/39 [00:00<00:00, 51.93it/s]\n"
     ]
    },
    {
     "name": "stdout",
     "output_type": "stream",
     "text": [
      "Epoch: 279 | disc_loss1: 0.21715019643306732 | gen_loss: 0.5756762027740479 \n"
     ]
    },
    {
     "name": "stderr",
     "output_type": "stream",
     "text": [
      "  0%|▍                                                                                                               | 1/234 [00:00<00:06, 33.98it/s]\n",
      "  3%|██▉                                                                                                              | 1/39 [00:00<00:00, 48.34it/s]\n"
     ]
    },
    {
     "name": "stdout",
     "output_type": "stream",
     "text": [
      "Epoch: 280 | disc_loss1: 0.13837946951389313 | gen_loss: 0.5552830696105957 \n"
     ]
    },
    {
     "name": "stderr",
     "output_type": "stream",
     "text": [
      "  0%|▍                                                                                                               | 1/234 [00:00<00:06, 33.74it/s]\n",
      "  3%|██▉                                                                                                              | 1/39 [00:00<00:00, 49.33it/s]\n"
     ]
    },
    {
     "name": "stdout",
     "output_type": "stream",
     "text": [
      "Epoch: 281 | disc_loss1: 0.09298841655254364 | gen_loss: 0.454799622297287 \n"
     ]
    },
    {
     "name": "stderr",
     "output_type": "stream",
     "text": [
      "  0%|▍                                                                                                               | 1/234 [00:00<00:06, 34.16it/s]\n",
      "  3%|██▉                                                                                                              | 1/39 [00:00<00:00, 48.86it/s]\n"
     ]
    },
    {
     "name": "stdout",
     "output_type": "stream",
     "text": [
      "Epoch: 282 | disc_loss1: 0.004792936146259308 | gen_loss: 0.38050180673599243 \n"
     ]
    },
    {
     "name": "stderr",
     "output_type": "stream",
     "text": [
      "  0%|▍                                                                                                               | 1/234 [00:00<00:06, 33.88it/s]\n",
      "  3%|██▉                                                                                                              | 1/39 [00:00<00:00, 50.10it/s]\n"
     ]
    },
    {
     "name": "stdout",
     "output_type": "stream",
     "text": [
      "Epoch: 283 | disc_loss1: -0.039507992565631866 | gen_loss: 0.3123661279678345 \n"
     ]
    },
    {
     "name": "stderr",
     "output_type": "stream",
     "text": [
      "  0%|▍                                                                                                               | 1/234 [00:00<00:06, 33.96it/s]\n",
      "  3%|██▉                                                                                                              | 1/39 [00:00<00:00, 49.90it/s]\n"
     ]
    },
    {
     "name": "stdout",
     "output_type": "stream",
     "text": [
      "Epoch: 284 | disc_loss1: -0.09298592805862427 | gen_loss: 0.21125340461730957 \n"
     ]
    },
    {
     "name": "stderr",
     "output_type": "stream",
     "text": [
      "  0%|▍                                                                                                               | 1/234 [00:00<00:06, 34.23it/s]\n",
      "  3%|██▉                                                                                                              | 1/39 [00:00<00:00, 48.85it/s]\n"
     ]
    },
    {
     "name": "stdout",
     "output_type": "stream",
     "text": [
      "Epoch: 285 | disc_loss1: -0.1280229091644287 | gen_loss: 0.16621007025241852 \n"
     ]
    },
    {
     "name": "stderr",
     "output_type": "stream",
     "text": [
      "  0%|▍                                                                                                               | 1/234 [00:00<00:06, 34.38it/s]\n",
      "  3%|██▉                                                                                                              | 1/39 [00:00<00:00, 47.18it/s]\n"
     ]
    },
    {
     "name": "stdout",
     "output_type": "stream",
     "text": [
      "Epoch: 286 | disc_loss1: -0.13102731108665466 | gen_loss: 0.05077579244971275 \n"
     ]
    },
    {
     "name": "stderr",
     "output_type": "stream",
     "text": [
      "  0%|▍                                                                                                               | 1/234 [00:00<00:10, 22.81it/s]\n",
      "  3%|██▉                                                                                                              | 1/39 [00:00<00:02, 15.40it/s]\n"
     ]
    },
    {
     "name": "stdout",
     "output_type": "stream",
     "text": [
      "Epoch: 287 | disc_loss1: -0.06558191776275635 | gen_loss: 0.01724258065223694 \n"
     ]
    },
    {
     "name": "stderr",
     "output_type": "stream",
     "text": [
      "  0%|▍                                                                                                               | 1/234 [00:00<00:15, 14.85it/s]\n",
      "  3%|██▉                                                                                                              | 1/39 [00:00<00:02, 15.10it/s]\n"
     ]
    },
    {
     "name": "stdout",
     "output_type": "stream",
     "text": [
      "Epoch: 288 | disc_loss1: -0.008592993021011353 | gen_loss: -0.1981019526720047 \n"
     ]
    },
    {
     "name": "stderr",
     "output_type": "stream",
     "text": [
      "  0%|▍                                                                                                               | 1/234 [00:00<00:12, 19.12it/s]\n",
      "  3%|██▉                                                                                                              | 1/39 [00:00<00:02, 13.50it/s]\n"
     ]
    },
    {
     "name": "stdout",
     "output_type": "stream",
     "text": [
      "Epoch: 289 | disc_loss1: 0.13500666618347168 | gen_loss: -0.08844999969005585 \n"
     ]
    },
    {
     "name": "stderr",
     "output_type": "stream",
     "text": [
      "  0%|▍                                                                                                               | 1/234 [00:00<00:14, 15.77it/s]\n",
      "  3%|██▉                                                                                                              | 1/39 [00:00<00:02, 15.79it/s]\n"
     ]
    },
    {
     "name": "stdout",
     "output_type": "stream",
     "text": [
      "Epoch: 290 | disc_loss1: 0.08105817437171936 | gen_loss: -0.419246643781662 \n"
     ]
    },
    {
     "name": "stderr",
     "output_type": "stream",
     "text": [
      "  0%|▍                                                                                                               | 1/234 [00:00<00:11, 20.02it/s]\n",
      "  3%|██▉                                                                                                              | 1/39 [00:00<00:02, 16.73it/s]\n"
     ]
    },
    {
     "name": "stdout",
     "output_type": "stream",
     "text": [
      "Epoch: 291 | disc_loss1: 0.15455329418182373 | gen_loss: -0.3356185555458069 \n"
     ]
    },
    {
     "name": "stderr",
     "output_type": "stream",
     "text": [
      "  0%|▍                                                                                                               | 1/234 [00:00<00:51,  4.51it/s]\n",
      "  3%|██▉                                                                                                              | 1/39 [00:00<00:02, 15.86it/s]\n"
     ]
    },
    {
     "name": "stdout",
     "output_type": "stream",
     "text": [
      "Epoch: 292 | disc_loss1: 0.22989234328269958 | gen_loss: -0.5575120449066162 \n"
     ]
    },
    {
     "name": "stderr",
     "output_type": "stream",
     "text": [
      "  0%|▍                                                                                                               | 1/234 [00:00<00:18, 12.75it/s]\n",
      "  3%|██▉                                                                                                              | 1/39 [00:00<00:02, 15.68it/s]\n"
     ]
    },
    {
     "name": "stdout",
     "output_type": "stream",
     "text": [
      "Epoch: 293 | disc_loss1: 0.32018718123435974 | gen_loss: -0.5260741114616394 \n"
     ]
    },
    {
     "name": "stderr",
     "output_type": "stream",
     "text": [
      "  0%|▍                                                                                                               | 1/234 [00:00<00:13, 16.82it/s]\n",
      "  3%|██▉                                                                                                              | 1/39 [00:00<00:02, 15.76it/s]\n"
     ]
    },
    {
     "name": "stdout",
     "output_type": "stream",
     "text": [
      "Epoch: 294 | disc_loss1: 0.3774954378604889 | gen_loss: -0.657294750213623 \n"
     ]
    },
    {
     "name": "stderr",
     "output_type": "stream",
     "text": [
      "  0%|▍                                                                                                               | 1/234 [00:00<00:15, 15.04it/s]\n",
      "  3%|██▉                                                                                                              | 1/39 [00:00<00:02, 12.72it/s]\n"
     ]
    },
    {
     "name": "stdout",
     "output_type": "stream",
     "text": [
      "Epoch: 295 | disc_loss1: 0.42930299043655396 | gen_loss: -0.47648683190345764 \n"
     ]
    },
    {
     "name": "stderr",
     "output_type": "stream",
     "text": [
      "  0%|▍                                                                                                               | 1/234 [00:00<00:15, 15.47it/s]\n",
      "  3%|██▉                                                                                                              | 1/39 [00:00<00:02, 17.72it/s]\n"
     ]
    },
    {
     "name": "stdout",
     "output_type": "stream",
     "text": [
      "Epoch: 296 | disc_loss1: 0.3902286887168884 | gen_loss: -0.4108237028121948 \n"
     ]
    },
    {
     "name": "stderr",
     "output_type": "stream",
     "text": [
      "  0%|▍                                                                                                               | 1/234 [00:00<00:14, 16.42it/s]\n",
      "  3%|██▉                                                                                                              | 1/39 [00:00<00:02, 13.75it/s]\n"
     ]
    },
    {
     "name": "stdout",
     "output_type": "stream",
     "text": [
      "Epoch: 297 | disc_loss1: 0.45561766624450684 | gen_loss: 0.1070772260427475 \n"
     ]
    },
    {
     "name": "stderr",
     "output_type": "stream",
     "text": [
      "  0%|▍                                                                                                               | 1/234 [00:00<00:13, 17.85it/s]\n",
      "  3%|██▉                                                                                                              | 1/39 [00:00<00:02, 18.14it/s]\n"
     ]
    },
    {
     "name": "stdout",
     "output_type": "stream",
     "text": [
      "Epoch: 298 | disc_loss1: 0.13551059365272522 | gen_loss: 0.4544017016887665 \n"
     ]
    },
    {
     "name": "stderr",
     "output_type": "stream",
     "text": [
      "  0%|▍                                                                                                               | 1/234 [00:00<00:13, 17.49it/s]\n",
      "  3%|██▉                                                                                                              | 1/39 [00:00<00:02, 16.03it/s]\n"
     ]
    },
    {
     "name": "stdout",
     "output_type": "stream",
     "text": [
      "Epoch: 299 | disc_loss1: 0.14385586977005005 | gen_loss: 0.842573344707489 \n",
      "1\n"
     ]
    },
    {
     "name": "stderr",
     "output_type": "stream",
     "text": [
      "/Users/giansanti.valentina/Documents/MOWGAN/MOWGAN/train.py:354: ImplicitModificationWarning: Trying to modify attribute `.obs` of view, initializing view as actual.\n",
      "  data_batch['data{0}_{1}'.format(i,j)].obs['spectral_emb'] = SpectralEmbedding(n_components=1,\n",
      "/Users/giansanti.valentina/Documents/MOWGAN/MOWGAN/train.py:354: ImplicitModificationWarning: Trying to modify attribute `.obs` of view, initializing view as actual.\n",
      "  data_batch['data{0}_{1}'.format(i,j)].obs['spectral_emb'] = SpectralEmbedding(n_components=1,\n",
      "  0%|                                                                                                                        | 0/234 [00:00<?, ?it/s]2024-01-09 18:34:56.795025: I tensorflow/core/grappler/optimizers/custom_graph_optimizer_registry.cc:112] Plugin optimizer for device_type GPU is enabled.\n",
      "  0%|▍                                                                                                               | 1/234 [00:00<02:07,  1.83it/s]\n",
      "  3%|██▉                                                                                                              | 1/39 [00:00<00:01, 26.99it/s]\n"
     ]
    },
    {
     "name": "stdout",
     "output_type": "stream",
     "text": [
      "Epoch: 0 | disc_loss1: 3.3876047134399414 | gen_loss: -0.24083033204078674 \n"
     ]
    },
    {
     "name": "stderr",
     "output_type": "stream",
     "text": [
      "  0%|▍                                                                                                               | 1/234 [00:00<00:13, 17.90it/s]\n",
      "  3%|██▉                                                                                                              | 1/39 [00:00<00:00, 51.04it/s]\n"
     ]
    },
    {
     "name": "stdout",
     "output_type": "stream",
     "text": [
      "Epoch: 1 | disc_loss1: 1.4691394567489624 | gen_loss: -0.7425755858421326 \n"
     ]
    },
    {
     "name": "stderr",
     "output_type": "stream",
     "text": [
      "  0%|▍                                                                                                               | 1/234 [00:00<00:06, 34.65it/s]\n",
      "  3%|██▉                                                                                                              | 1/39 [00:00<00:00, 51.51it/s]\n"
     ]
    },
    {
     "name": "stdout",
     "output_type": "stream",
     "text": [
      "Epoch: 2 | disc_loss1: 1.2108485698699951 | gen_loss: -1.511833906173706 \n"
     ]
    },
    {
     "name": "stderr",
     "output_type": "stream",
     "text": [
      "  0%|▍                                                                                                               | 1/234 [00:00<00:06, 33.44it/s]\n",
      "  3%|██▉                                                                                                              | 1/39 [00:00<00:00, 52.12it/s]\n"
     ]
    },
    {
     "name": "stdout",
     "output_type": "stream",
     "text": [
      "Epoch: 3 | disc_loss1: 1.766547679901123 | gen_loss: -2.2651729583740234 \n"
     ]
    },
    {
     "name": "stderr",
     "output_type": "stream",
     "text": [
      "  0%|▍                                                                                                               | 1/234 [00:00<00:07, 32.53it/s]\n",
      "  3%|██▉                                                                                                              | 1/39 [00:00<00:00, 51.42it/s]\n"
     ]
    },
    {
     "name": "stdout",
     "output_type": "stream",
     "text": [
      "Epoch: 4 | disc_loss1: 2.31679630279541 | gen_loss: -2.758819580078125 \n"
     ]
    },
    {
     "name": "stderr",
     "output_type": "stream",
     "text": [
      "  0%|▍                                                                                                               | 1/234 [00:00<00:06, 33.43it/s]\n",
      "  3%|██▉                                                                                                              | 1/39 [00:00<00:00, 52.00it/s]\n"
     ]
    },
    {
     "name": "stdout",
     "output_type": "stream",
     "text": [
      "Epoch: 5 | disc_loss1: 2.7759346961975098 | gen_loss: -3.124919891357422 \n"
     ]
    },
    {
     "name": "stderr",
     "output_type": "stream",
     "text": [
      "  0%|▍                                                                                                               | 1/234 [00:00<00:06, 34.38it/s]\n",
      "  3%|██▉                                                                                                              | 1/39 [00:00<00:00, 51.55it/s]\n"
     ]
    },
    {
     "name": "stdout",
     "output_type": "stream",
     "text": [
      "Epoch: 6 | disc_loss1: 2.892214059829712 | gen_loss: -3.1121020317077637 \n"
     ]
    },
    {
     "name": "stderr",
     "output_type": "stream",
     "text": [
      "  0%|▍                                                                                                               | 1/234 [00:00<00:06, 34.05it/s]\n",
      "  3%|██▉                                                                                                              | 1/39 [00:00<00:00, 50.67it/s]\n"
     ]
    },
    {
     "name": "stdout",
     "output_type": "stream",
     "text": [
      "Epoch: 7 | disc_loss1: 2.5178415775299072 | gen_loss: -2.613236665725708 \n"
     ]
    },
    {
     "name": "stderr",
     "output_type": "stream",
     "text": [
      "  0%|▍                                                                                                               | 1/234 [00:00<00:06, 34.55it/s]\n",
      "  3%|██▉                                                                                                              | 1/39 [00:00<00:01, 27.75it/s]\n"
     ]
    },
    {
     "name": "stdout",
     "output_type": "stream",
     "text": [
      "Epoch: 8 | disc_loss1: 1.6224937438964844 | gen_loss: -1.624417781829834 \n"
     ]
    },
    {
     "name": "stderr",
     "output_type": "stream",
     "text": [
      "  0%|▍                                                                                                               | 1/234 [00:00<00:08, 27.01it/s]\n",
      "  3%|██▉                                                                                                              | 1/39 [00:00<00:00, 51.16it/s]\n"
     ]
    },
    {
     "name": "stdout",
     "output_type": "stream",
     "text": [
      "Epoch: 9 | disc_loss1: 0.25911545753479004 | gen_loss: -0.23980633914470673 \n"
     ]
    },
    {
     "name": "stderr",
     "output_type": "stream",
     "text": [
      "  0%|▍                                                                                                               | 1/234 [00:00<00:06, 33.92it/s]\n",
      "  3%|██▉                                                                                                              | 1/39 [00:00<00:00, 51.21it/s]\n"
     ]
    },
    {
     "name": "stdout",
     "output_type": "stream",
     "text": [
      "Epoch: 10 | disc_loss1: -1.2163751125335693 | gen_loss: 1.2627030611038208 \n"
     ]
    },
    {
     "name": "stderr",
     "output_type": "stream",
     "text": [
      "  0%|▍                                                                                                               | 1/234 [00:00<00:06, 33.43it/s]\n",
      "  3%|██▉                                                                                                              | 1/39 [00:00<00:00, 50.30it/s]\n"
     ]
    },
    {
     "name": "stdout",
     "output_type": "stream",
     "text": [
      "Epoch: 11 | disc_loss1: -2.5172805786132812 | gen_loss: 2.5358989238739014 \n"
     ]
    },
    {
     "name": "stderr",
     "output_type": "stream",
     "text": [
      "  0%|▍                                                                                                               | 1/234 [00:00<00:06, 33.60it/s]\n",
      "  3%|██▉                                                                                                              | 1/39 [00:00<00:00, 50.09it/s]\n"
     ]
    },
    {
     "name": "stdout",
     "output_type": "stream",
     "text": [
      "Epoch: 12 | disc_loss1: -3.508171558380127 | gen_loss: 3.6716690063476562 \n"
     ]
    },
    {
     "name": "stderr",
     "output_type": "stream",
     "text": [
      "  0%|▍                                                                                                               | 1/234 [00:00<00:06, 33.71it/s]\n",
      "  3%|██▉                                                                                                              | 1/39 [00:00<00:00, 50.38it/s]\n"
     ]
    },
    {
     "name": "stdout",
     "output_type": "stream",
     "text": [
      "Epoch: 13 | disc_loss1: -4.216648101806641 | gen_loss: 4.356808185577393 \n"
     ]
    },
    {
     "name": "stderr",
     "output_type": "stream",
     "text": [
      "  0%|▍                                                                                                               | 1/234 [00:00<00:06, 33.38it/s]\n",
      "  3%|██▉                                                                                                              | 1/39 [00:00<00:00, 49.64it/s]\n"
     ]
    },
    {
     "name": "stdout",
     "output_type": "stream",
     "text": [
      "Epoch: 14 | disc_loss1: -4.452415943145752 | gen_loss: 4.713020324707031 \n"
     ]
    },
    {
     "name": "stderr",
     "output_type": "stream",
     "text": [
      "  0%|▍                                                                                                               | 1/234 [00:00<00:16, 13.95it/s]\n",
      "  3%|██▉                                                                                                              | 1/39 [00:00<00:01, 36.14it/s]\n"
     ]
    },
    {
     "name": "stdout",
     "output_type": "stream",
     "text": [
      "Epoch: 15 | disc_loss1: -4.528664588928223 | gen_loss: 4.81584358215332 \n"
     ]
    },
    {
     "name": "stderr",
     "output_type": "stream",
     "text": [
      "  0%|▍                                                                                                               | 1/234 [00:00<00:07, 29.25it/s]\n",
      "  3%|██▉                                                                                                              | 1/39 [00:00<00:00, 43.99it/s]\n"
     ]
    },
    {
     "name": "stdout",
     "output_type": "stream",
     "text": [
      "Epoch: 16 | disc_loss1: -4.526939392089844 | gen_loss: 4.836493015289307 \n"
     ]
    },
    {
     "name": "stderr",
     "output_type": "stream",
     "text": [
      "  0%|▍                                                                                                               | 1/234 [00:00<00:06, 33.59it/s]\n",
      "  3%|██▉                                                                                                              | 1/39 [00:00<00:00, 49.81it/s]\n"
     ]
    },
    {
     "name": "stdout",
     "output_type": "stream",
     "text": [
      "Epoch: 17 | disc_loss1: -4.212945938110352 | gen_loss: 4.567470073699951 \n"
     ]
    },
    {
     "name": "stderr",
     "output_type": "stream",
     "text": [
      "  0%|▍                                                                                                               | 1/234 [00:00<00:06, 33.57it/s]\n",
      "  3%|██▉                                                                                                              | 1/39 [00:00<00:00, 48.65it/s]\n"
     ]
    },
    {
     "name": "stdout",
     "output_type": "stream",
     "text": [
      "Epoch: 18 | disc_loss1: -3.617624044418335 | gen_loss: 4.00012731552124 \n"
     ]
    },
    {
     "name": "stderr",
     "output_type": "stream",
     "text": [
      "  0%|▍                                                                                                               | 1/234 [00:00<00:07, 30.56it/s]\n",
      "  3%|██▉                                                                                                              | 1/39 [00:00<00:00, 49.97it/s]\n"
     ]
    },
    {
     "name": "stdout",
     "output_type": "stream",
     "text": [
      "Epoch: 19 | disc_loss1: -2.8999006748199463 | gen_loss: 3.319075345993042 \n"
     ]
    },
    {
     "name": "stderr",
     "output_type": "stream",
     "text": [
      "  0%|▍                                                                                                               | 1/234 [00:00<00:06, 33.92it/s]\n",
      "  3%|██▉                                                                                                              | 1/39 [00:00<00:00, 50.05it/s]\n"
     ]
    },
    {
     "name": "stdout",
     "output_type": "stream",
     "text": [
      "Epoch: 20 | disc_loss1: -2.221484899520874 | gen_loss: 2.676551342010498 \n"
     ]
    },
    {
     "name": "stderr",
     "output_type": "stream",
     "text": [
      "  0%|▍                                                                                                               | 1/234 [00:00<00:07, 33.08it/s]\n",
      "  3%|██▉                                                                                                              | 1/39 [00:00<00:00, 50.74it/s]\n"
     ]
    },
    {
     "name": "stdout",
     "output_type": "stream",
     "text": [
      "Epoch: 21 | disc_loss1: -1.5964850187301636 | gen_loss: 2.0442702770233154 \n"
     ]
    },
    {
     "name": "stderr",
     "output_type": "stream",
     "text": [
      "  0%|▍                                                                                                               | 1/234 [00:00<00:06, 33.93it/s]\n",
      "  3%|██▉                                                                                                              | 1/39 [00:00<00:00, 50.56it/s]\n"
     ]
    },
    {
     "name": "stdout",
     "output_type": "stream",
     "text": [
      "Epoch: 22 | disc_loss1: -1.0723308324813843 | gen_loss: 1.5184481143951416 \n"
     ]
    },
    {
     "name": "stderr",
     "output_type": "stream",
     "text": [
      "  0%|▍                                                                                                               | 1/234 [00:00<00:06, 34.57it/s]\n",
      "  3%|██▉                                                                                                              | 1/39 [00:00<00:00, 50.25it/s]\n"
     ]
    },
    {
     "name": "stdout",
     "output_type": "stream",
     "text": [
      "Epoch: 23 | disc_loss1: -0.8028755187988281 | gen_loss: 1.244482398033142 \n"
     ]
    },
    {
     "name": "stderr",
     "output_type": "stream",
     "text": [
      "  0%|▍                                                                                                               | 1/234 [00:00<00:06, 33.65it/s]\n",
      "  3%|██▉                                                                                                              | 1/39 [00:00<00:00, 50.24it/s]\n"
     ]
    },
    {
     "name": "stdout",
     "output_type": "stream",
     "text": [
      "Epoch: 24 | disc_loss1: -0.6965320706367493 | gen_loss: 1.1191071271896362 \n"
     ]
    },
    {
     "name": "stderr",
     "output_type": "stream",
     "text": [
      "  0%|▍                                                                                                               | 1/234 [00:00<00:06, 33.90it/s]\n",
      "  3%|██▉                                                                                                              | 1/39 [00:00<00:00, 50.32it/s]\n"
     ]
    },
    {
     "name": "stdout",
     "output_type": "stream",
     "text": [
      "Epoch: 25 | disc_loss1: -0.6026164293289185 | gen_loss: 1.0190256834030151 \n"
     ]
    },
    {
     "name": "stderr",
     "output_type": "stream",
     "text": [
      "  0%|▍                                                                                                               | 1/234 [00:00<00:06, 33.32it/s]\n",
      "  3%|██▉                                                                                                              | 1/39 [00:00<00:00, 50.54it/s]\n"
     ]
    },
    {
     "name": "stdout",
     "output_type": "stream",
     "text": [
      "Epoch: 26 | disc_loss1: -0.4618223011493683 | gen_loss: 0.8443410396575928 \n"
     ]
    },
    {
     "name": "stderr",
     "output_type": "stream",
     "text": [
      "  0%|▍                                                                                                               | 1/234 [00:00<00:06, 33.81it/s]\n",
      "  3%|██▉                                                                                                              | 1/39 [00:00<00:00, 51.09it/s]\n"
     ]
    },
    {
     "name": "stdout",
     "output_type": "stream",
     "text": [
      "Epoch: 27 | disc_loss1: -0.3021446168422699 | gen_loss: 0.6557808518409729 \n"
     ]
    },
    {
     "name": "stderr",
     "output_type": "stream",
     "text": [
      "  0%|▍                                                                                                               | 1/234 [00:00<00:06, 34.27it/s]\n",
      "  3%|██▉                                                                                                              | 1/39 [00:00<00:00, 49.77it/s]\n"
     ]
    },
    {
     "name": "stdout",
     "output_type": "stream",
     "text": [
      "Epoch: 28 | disc_loss1: -0.17231759428977966 | gen_loss: 0.4703749120235443 \n"
     ]
    },
    {
     "name": "stderr",
     "output_type": "stream",
     "text": [
      "  0%|▍                                                                                                               | 1/234 [00:00<00:06, 33.57it/s]\n",
      "  3%|██▉                                                                                                              | 1/39 [00:00<00:00, 51.41it/s]\n"
     ]
    },
    {
     "name": "stdout",
     "output_type": "stream",
     "text": [
      "Epoch: 29 | disc_loss1: -0.1311357617378235 | gen_loss: 0.3555484116077423 \n"
     ]
    },
    {
     "name": "stderr",
     "output_type": "stream",
     "text": [
      "  0%|▍                                                                                                               | 1/234 [00:00<00:06, 33.93it/s]\n",
      "  3%|██▉                                                                                                              | 1/39 [00:00<00:00, 50.45it/s]\n"
     ]
    },
    {
     "name": "stdout",
     "output_type": "stream",
     "text": [
      "Epoch: 30 | disc_loss1: -0.13775047659873962 | gen_loss: 0.27416709065437317 \n"
     ]
    },
    {
     "name": "stderr",
     "output_type": "stream",
     "text": [
      "  0%|▍                                                                                                               | 1/234 [00:00<00:06, 33.95it/s]\n",
      "  3%|██▉                                                                                                              | 1/39 [00:00<00:00, 49.38it/s]\n"
     ]
    },
    {
     "name": "stdout",
     "output_type": "stream",
     "text": [
      "Epoch: 31 | disc_loss1: -0.12712886929512024 | gen_loss: 0.18903471529483795 \n"
     ]
    },
    {
     "name": "stderr",
     "output_type": "stream",
     "text": [
      "  0%|▍                                                                                                               | 1/234 [00:00<00:06, 34.08it/s]\n",
      "  3%|██▉                                                                                                              | 1/39 [00:00<00:00, 50.24it/s]\n"
     ]
    },
    {
     "name": "stdout",
     "output_type": "stream",
     "text": [
      "Epoch: 32 | disc_loss1: -0.18542659282684326 | gen_loss: 0.1295550912618637 \n"
     ]
    },
    {
     "name": "stderr",
     "output_type": "stream",
     "text": [
      "  0%|▍                                                                                                               | 1/234 [00:00<00:06, 34.39it/s]\n",
      "  3%|██▉                                                                                                              | 1/39 [00:00<00:00, 51.17it/s]\n"
     ]
    },
    {
     "name": "stdout",
     "output_type": "stream",
     "text": [
      "Epoch: 33 | disc_loss1: -0.23417213559150696 | gen_loss: 0.08997248113155365 \n"
     ]
    },
    {
     "name": "stderr",
     "output_type": "stream",
     "text": [
      "  0%|▍                                                                                                               | 1/234 [00:00<00:06, 33.79it/s]\n",
      "  3%|██▉                                                                                                              | 1/39 [00:00<00:00, 49.33it/s]\n"
     ]
    },
    {
     "name": "stdout",
     "output_type": "stream",
     "text": [
      "Epoch: 34 | disc_loss1: -0.3082973062992096 | gen_loss: 0.07829471677541733 \n"
     ]
    },
    {
     "name": "stderr",
     "output_type": "stream",
     "text": [
      "  0%|▍                                                                                                               | 1/234 [00:00<00:06, 34.20it/s]\n",
      "  3%|██▉                                                                                                              | 1/39 [00:00<00:00, 50.04it/s]\n"
     ]
    },
    {
     "name": "stdout",
     "output_type": "stream",
     "text": [
      "Epoch: 35 | disc_loss1: -0.3802456259727478 | gen_loss: 0.06554804742336273 \n"
     ]
    },
    {
     "name": "stderr",
     "output_type": "stream",
     "text": [
      "  0%|▍                                                                                                               | 1/234 [00:00<00:06, 34.06it/s]\n",
      "  3%|██▉                                                                                                              | 1/39 [00:00<00:00, 50.44it/s]\n"
     ]
    },
    {
     "name": "stdout",
     "output_type": "stream",
     "text": [
      "Epoch: 36 | disc_loss1: -0.4775402545928955 | gen_loss: 0.057265009731054306 \n"
     ]
    },
    {
     "name": "stderr",
     "output_type": "stream",
     "text": [
      "  0%|▍                                                                                                               | 1/234 [00:00<00:06, 34.09it/s]\n",
      "  3%|██▉                                                                                                              | 1/39 [00:00<00:00, 50.31it/s]\n"
     ]
    },
    {
     "name": "stdout",
     "output_type": "stream",
     "text": [
      "Epoch: 37 | disc_loss1: -0.5893126726150513 | gen_loss: 0.04093043506145477 \n"
     ]
    },
    {
     "name": "stderr",
     "output_type": "stream",
     "text": [
      "  0%|▍                                                                                                               | 1/234 [00:00<00:06, 34.27it/s]\n",
      "  3%|██▉                                                                                                              | 1/39 [00:00<00:00, 50.55it/s]\n"
     ]
    },
    {
     "name": "stdout",
     "output_type": "stream",
     "text": [
      "Epoch: 38 | disc_loss1: -0.6456886529922485 | gen_loss: 0.03405175730586052 \n"
     ]
    },
    {
     "name": "stderr",
     "output_type": "stream",
     "text": [
      "  0%|▍                                                                                                               | 1/234 [00:00<00:06, 34.38it/s]\n",
      "  3%|██▉                                                                                                              | 1/39 [00:00<00:00, 50.06it/s]\n"
     ]
    },
    {
     "name": "stdout",
     "output_type": "stream",
     "text": [
      "Epoch: 39 | disc_loss1: -0.7112030982971191 | gen_loss: 0.0077797179110348225 \n"
     ]
    },
    {
     "name": "stderr",
     "output_type": "stream",
     "text": [
      "  0%|▍                                                                                                               | 1/234 [00:00<00:06, 34.00it/s]\n",
      "  3%|██▉                                                                                                              | 1/39 [00:00<00:00, 50.76it/s]\n"
     ]
    },
    {
     "name": "stdout",
     "output_type": "stream",
     "text": [
      "Epoch: 40 | disc_loss1: -0.7787636518478394 | gen_loss: -0.01381603628396988 \n"
     ]
    },
    {
     "name": "stderr",
     "output_type": "stream",
     "text": [
      "  0%|▍                                                                                                               | 1/234 [00:00<00:06, 34.06it/s]\n",
      "  3%|██▉                                                                                                              | 1/39 [00:00<00:00, 50.05it/s]\n"
     ]
    },
    {
     "name": "stdout",
     "output_type": "stream",
     "text": [
      "Epoch: 41 | disc_loss1: -0.8137862086296082 | gen_loss: -0.02644457295536995 \n"
     ]
    },
    {
     "name": "stderr",
     "output_type": "stream",
     "text": [
      "  0%|▍                                                                                                               | 1/234 [00:00<00:06, 33.92it/s]\n",
      "  3%|██▉                                                                                                              | 1/39 [00:00<00:00, 50.23it/s]\n"
     ]
    },
    {
     "name": "stdout",
     "output_type": "stream",
     "text": [
      "Epoch: 42 | disc_loss1: -0.8573266863822937 | gen_loss: -0.006415505427867174 \n"
     ]
    },
    {
     "name": "stderr",
     "output_type": "stream",
     "text": [
      "  0%|▍                                                                                                               | 1/234 [00:00<00:06, 34.33it/s]\n",
      "  3%|██▉                                                                                                              | 1/39 [00:00<00:00, 50.52it/s]\n"
     ]
    },
    {
     "name": "stdout",
     "output_type": "stream",
     "text": [
      "Epoch: 43 | disc_loss1: -0.8809908628463745 | gen_loss: 0.028725435957312584 \n"
     ]
    },
    {
     "name": "stderr",
     "output_type": "stream",
     "text": [
      "  0%|▍                                                                                                               | 1/234 [00:00<00:06, 34.10it/s]\n",
      "  3%|██▉                                                                                                              | 1/39 [00:00<00:00, 49.61it/s]\n"
     ]
    },
    {
     "name": "stdout",
     "output_type": "stream",
     "text": [
      "Epoch: 44 | disc_loss1: -0.9043880105018616 | gen_loss: 0.06400742381811142 \n"
     ]
    },
    {
     "name": "stderr",
     "output_type": "stream",
     "text": [
      "  0%|▍                                                                                                               | 1/234 [00:00<00:06, 33.34it/s]\n",
      "  3%|██▉                                                                                                              | 1/39 [00:00<00:00, 49.62it/s]\n"
     ]
    },
    {
     "name": "stdout",
     "output_type": "stream",
     "text": [
      "Epoch: 45 | disc_loss1: -0.8869631886482239 | gen_loss: 0.08493074029684067 \n"
     ]
    },
    {
     "name": "stderr",
     "output_type": "stream",
     "text": [
      "  0%|▍                                                                                                               | 1/234 [00:00<00:06, 34.42it/s]\n",
      "  3%|██▉                                                                                                              | 1/39 [00:00<00:00, 51.17it/s]\n"
     ]
    },
    {
     "name": "stdout",
     "output_type": "stream",
     "text": [
      "Epoch: 46 | disc_loss1: -0.7045411467552185 | gen_loss: 0.10026638209819794 \n"
     ]
    },
    {
     "name": "stderr",
     "output_type": "stream",
     "text": [
      "  0%|▍                                                                                                               | 1/234 [00:00<00:06, 33.93it/s]\n",
      "  3%|██▉                                                                                                              | 1/39 [00:00<00:00, 50.38it/s]\n"
     ]
    },
    {
     "name": "stdout",
     "output_type": "stream",
     "text": [
      "Epoch: 47 | disc_loss1: -0.7754524946212769 | gen_loss: 0.10886673629283905 \n"
     ]
    },
    {
     "name": "stderr",
     "output_type": "stream",
     "text": [
      "  0%|▍                                                                                                               | 1/234 [00:00<00:06, 34.12it/s]\n",
      "  3%|██▉                                                                                                              | 1/39 [00:00<00:00, 49.71it/s]\n"
     ]
    },
    {
     "name": "stdout",
     "output_type": "stream",
     "text": [
      "Epoch: 48 | disc_loss1: -0.8221523761749268 | gen_loss: 0.07476256787776947 \n"
     ]
    },
    {
     "name": "stderr",
     "output_type": "stream",
     "text": [
      "  0%|▍                                                                                                               | 1/234 [00:00<00:06, 34.25it/s]\n",
      "  3%|██▉                                                                                                              | 1/39 [00:00<00:00, 48.75it/s]\n"
     ]
    },
    {
     "name": "stdout",
     "output_type": "stream",
     "text": [
      "Epoch: 49 | disc_loss1: -0.8333963751792908 | gen_loss: 0.038388628512620926 \n"
     ]
    },
    {
     "name": "stderr",
     "output_type": "stream",
     "text": [
      "  0%|▍                                                                                                               | 1/234 [00:00<00:06, 33.29it/s]\n",
      "  3%|██▉                                                                                                              | 1/39 [00:00<00:00, 49.01it/s]\n"
     ]
    },
    {
     "name": "stdout",
     "output_type": "stream",
     "text": [
      "Epoch: 50 | disc_loss1: -0.7786267399787903 | gen_loss: -0.06692157685756683 \n"
     ]
    },
    {
     "name": "stderr",
     "output_type": "stream",
     "text": [
      "  0%|▍                                                                                                               | 1/234 [00:00<00:06, 33.53it/s]\n",
      "  3%|██▉                                                                                                              | 1/39 [00:00<00:00, 51.33it/s]\n"
     ]
    },
    {
     "name": "stdout",
     "output_type": "stream",
     "text": [
      "Epoch: 51 | disc_loss1: -0.6400096416473389 | gen_loss: -0.19115300476551056 \n"
     ]
    },
    {
     "name": "stderr",
     "output_type": "stream",
     "text": [
      "  0%|▍                                                                                                               | 1/234 [00:00<00:06, 34.05it/s]\n",
      "  3%|██▉                                                                                                              | 1/39 [00:00<00:00, 50.09it/s]\n"
     ]
    },
    {
     "name": "stdout",
     "output_type": "stream",
     "text": [
      "Epoch: 52 | disc_loss1: -0.5538206100463867 | gen_loss: -0.2842119336128235 \n"
     ]
    },
    {
     "name": "stderr",
     "output_type": "stream",
     "text": [
      "  0%|▍                                                                                                               | 1/234 [00:00<00:06, 34.13it/s]\n",
      "  3%|██▉                                                                                                              | 1/39 [00:00<00:00, 50.16it/s]\n"
     ]
    },
    {
     "name": "stdout",
     "output_type": "stream",
     "text": [
      "Epoch: 53 | disc_loss1: -0.5220338106155396 | gen_loss: -0.23020058870315552 \n"
     ]
    },
    {
     "name": "stderr",
     "output_type": "stream",
     "text": [
      "  0%|▍                                                                                                               | 1/234 [00:00<00:06, 34.08it/s]\n",
      "  3%|██▉                                                                                                              | 1/39 [00:00<00:00, 49.54it/s]\n"
     ]
    },
    {
     "name": "stdout",
     "output_type": "stream",
     "text": [
      "Epoch: 54 | disc_loss1: -0.46324673295021057 | gen_loss: -0.22466422617435455 \n"
     ]
    },
    {
     "name": "stderr",
     "output_type": "stream",
     "text": [
      "  0%|▍                                                                                                               | 1/234 [00:00<00:06, 33.90it/s]\n",
      "  3%|██▉                                                                                                              | 1/39 [00:00<00:00, 50.25it/s]\n"
     ]
    },
    {
     "name": "stdout",
     "output_type": "stream",
     "text": [
      "Epoch: 55 | disc_loss1: -0.37623482942581177 | gen_loss: -0.14774440228939056 \n"
     ]
    },
    {
     "name": "stderr",
     "output_type": "stream",
     "text": [
      "  0%|▍                                                                                                               | 1/234 [00:00<00:06, 33.56it/s]\n",
      "  3%|██▉                                                                                                              | 1/39 [00:00<00:00, 50.50it/s]\n"
     ]
    },
    {
     "name": "stdout",
     "output_type": "stream",
     "text": [
      "Epoch: 56 | disc_loss1: -0.30768245458602905 | gen_loss: -0.07326158136129379 \n"
     ]
    },
    {
     "name": "stderr",
     "output_type": "stream",
     "text": [
      "  0%|▍                                                                                                               | 1/234 [00:00<00:06, 33.99it/s]\n",
      "  3%|██▉                                                                                                              | 1/39 [00:00<00:00, 50.29it/s]\n"
     ]
    },
    {
     "name": "stdout",
     "output_type": "stream",
     "text": [
      "Epoch: 57 | disc_loss1: -0.37272340059280396 | gen_loss: 0.26424676179885864 \n"
     ]
    },
    {
     "name": "stderr",
     "output_type": "stream",
     "text": [
      "  0%|▍                                                                                                               | 1/234 [00:00<00:06, 34.62it/s]\n",
      "  3%|██▉                                                                                                              | 1/39 [00:00<00:00, 50.74it/s]\n"
     ]
    },
    {
     "name": "stdout",
     "output_type": "stream",
     "text": [
      "Epoch: 58 | disc_loss1: -0.7136580944061279 | gen_loss: 0.870732307434082 \n"
     ]
    },
    {
     "name": "stderr",
     "output_type": "stream",
     "text": [
      "  0%|▍                                                                                                               | 1/234 [00:00<00:06, 34.39it/s]\n",
      "  3%|██▉                                                                                                              | 1/39 [00:00<00:00, 49.67it/s]\n"
     ]
    },
    {
     "name": "stdout",
     "output_type": "stream",
     "text": [
      "Epoch: 59 | disc_loss1: -1.227746844291687 | gen_loss: 1.6158055067062378 \n"
     ]
    },
    {
     "name": "stderr",
     "output_type": "stream",
     "text": [
      "  0%|▍                                                                                                               | 1/234 [00:00<00:06, 33.54it/s]\n",
      "  3%|██▉                                                                                                              | 1/39 [00:00<00:00, 50.09it/s]\n"
     ]
    },
    {
     "name": "stdout",
     "output_type": "stream",
     "text": [
      "Epoch: 60 | disc_loss1: -1.4550113677978516 | gen_loss: 2.1916391849517822 \n"
     ]
    },
    {
     "name": "stderr",
     "output_type": "stream",
     "text": [
      "  0%|▍                                                                                                               | 1/234 [00:00<00:06, 33.84it/s]\n",
      "  3%|██▉                                                                                                              | 1/39 [00:00<00:00, 51.72it/s]\n"
     ]
    },
    {
     "name": "stdout",
     "output_type": "stream",
     "text": [
      "Epoch: 61 | disc_loss1: -1.2858201265335083 | gen_loss: 1.9931447505950928 \n"
     ]
    },
    {
     "name": "stderr",
     "output_type": "stream",
     "text": [
      "  0%|▍                                                                                                               | 1/234 [00:00<00:06, 34.19it/s]\n",
      "  3%|██▉                                                                                                              | 1/39 [00:00<00:00, 50.57it/s]\n"
     ]
    },
    {
     "name": "stdout",
     "output_type": "stream",
     "text": [
      "Epoch: 62 | disc_loss1: -0.7808994650840759 | gen_loss: 1.884360432624817 \n"
     ]
    },
    {
     "name": "stderr",
     "output_type": "stream",
     "text": [
      "  0%|▍                                                                                                               | 1/234 [00:00<00:06, 33.87it/s]\n",
      "  3%|██▉                                                                                                              | 1/39 [00:00<00:00, 49.54it/s]\n"
     ]
    },
    {
     "name": "stdout",
     "output_type": "stream",
     "text": [
      "Epoch: 63 | disc_loss1: -0.5078676342964172 | gen_loss: 1.250746726989746 \n"
     ]
    },
    {
     "name": "stderr",
     "output_type": "stream",
     "text": [
      "  0%|▍                                                                                                               | 1/234 [00:00<00:06, 33.57it/s]\n",
      "  3%|██▉                                                                                                              | 1/39 [00:00<00:00, 50.32it/s]\n"
     ]
    },
    {
     "name": "stdout",
     "output_type": "stream",
     "text": [
      "Epoch: 64 | disc_loss1: -0.2498874068260193 | gen_loss: 1.0512664318084717 \n"
     ]
    },
    {
     "name": "stderr",
     "output_type": "stream",
     "text": [
      "  0%|▍                                                                                                               | 1/234 [00:00<00:06, 33.58it/s]\n",
      "  3%|██▉                                                                                                              | 1/39 [00:00<00:00, 49.68it/s]\n"
     ]
    },
    {
     "name": "stdout",
     "output_type": "stream",
     "text": [
      "Epoch: 65 | disc_loss1: -0.11084058880805969 | gen_loss: 0.7175785303115845 \n"
     ]
    },
    {
     "name": "stderr",
     "output_type": "stream",
     "text": [
      "  0%|▍                                                                                                               | 1/234 [00:00<00:06, 33.51it/s]\n",
      "  3%|██▉                                                                                                              | 1/39 [00:00<00:00, 51.13it/s]\n"
     ]
    },
    {
     "name": "stdout",
     "output_type": "stream",
     "text": [
      "Epoch: 66 | disc_loss1: -0.028130710124969482 | gen_loss: 0.5725083947181702 \n"
     ]
    },
    {
     "name": "stderr",
     "output_type": "stream",
     "text": [
      "  0%|▍                                                                                                               | 1/234 [00:00<00:06, 33.46it/s]\n",
      "  3%|██▉                                                                                                              | 1/39 [00:00<00:00, 50.18it/s]\n"
     ]
    },
    {
     "name": "stdout",
     "output_type": "stream",
     "text": [
      "Epoch: 67 | disc_loss1: -0.06817135214805603 | gen_loss: 0.37779128551483154 \n"
     ]
    },
    {
     "name": "stderr",
     "output_type": "stream",
     "text": [
      "  0%|▍                                                                                                               | 1/234 [00:00<00:06, 33.93it/s]\n",
      "  3%|██▉                                                                                                              | 1/39 [00:00<00:00, 49.78it/s]\n"
     ]
    },
    {
     "name": "stdout",
     "output_type": "stream",
     "text": [
      "Epoch: 68 | disc_loss1: -0.14322879910469055 | gen_loss: 0.29439499974250793 \n"
     ]
    },
    {
     "name": "stderr",
     "output_type": "stream",
     "text": [
      "  0%|▍                                                                                                               | 1/234 [00:00<00:06, 34.24it/s]\n",
      "  3%|██▉                                                                                                              | 1/39 [00:00<00:00, 50.79it/s]\n"
     ]
    },
    {
     "name": "stdout",
     "output_type": "stream",
     "text": [
      "Epoch: 69 | disc_loss1: -0.2779149115085602 | gen_loss: 0.2024855762720108 \n"
     ]
    },
    {
     "name": "stderr",
     "output_type": "stream",
     "text": [
      "  0%|▍                                                                                                               | 1/234 [00:00<00:06, 33.62it/s]\n",
      "  3%|██▉                                                                                                              | 1/39 [00:00<00:00, 49.77it/s]\n"
     ]
    },
    {
     "name": "stdout",
     "output_type": "stream",
     "text": [
      "Epoch: 70 | disc_loss1: -0.37802019715309143 | gen_loss: 0.12684328854084015 \n"
     ]
    },
    {
     "name": "stderr",
     "output_type": "stream",
     "text": [
      "  0%|▍                                                                                                               | 1/234 [00:00<00:06, 34.01it/s]\n",
      "  3%|██▉                                                                                                              | 1/39 [00:00<00:00, 50.09it/s]\n"
     ]
    },
    {
     "name": "stdout",
     "output_type": "stream",
     "text": [
      "Epoch: 71 | disc_loss1: -0.5003043413162231 | gen_loss: 0.08013968169689178 \n"
     ]
    },
    {
     "name": "stderr",
     "output_type": "stream",
     "text": [
      "  0%|▍                                                                                                               | 1/234 [00:00<00:06, 33.49it/s]\n",
      "  3%|██▉                                                                                                              | 1/39 [00:00<00:00, 50.00it/s]\n"
     ]
    },
    {
     "name": "stdout",
     "output_type": "stream",
     "text": [
      "Epoch: 72 | disc_loss1: -0.5697697997093201 | gen_loss: -0.003499547718092799 \n"
     ]
    },
    {
     "name": "stderr",
     "output_type": "stream",
     "text": [
      "  0%|▍                                                                                                               | 1/234 [00:00<00:06, 33.34it/s]\n",
      "  3%|██▉                                                                                                              | 1/39 [00:00<00:00, 49.55it/s]\n"
     ]
    },
    {
     "name": "stdout",
     "output_type": "stream",
     "text": [
      "Epoch: 73 | disc_loss1: -0.6047985553741455 | gen_loss: -0.015958871692419052 \n"
     ]
    },
    {
     "name": "stderr",
     "output_type": "stream",
     "text": [
      "  0%|▍                                                                                                               | 1/234 [00:00<00:06, 33.73it/s]\n",
      "  3%|██▉                                                                                                              | 1/39 [00:00<00:00, 49.75it/s]\n"
     ]
    },
    {
     "name": "stdout",
     "output_type": "stream",
     "text": [
      "Epoch: 74 | disc_loss1: -0.5932389497756958 | gen_loss: -0.1261015385389328 \n"
     ]
    },
    {
     "name": "stderr",
     "output_type": "stream",
     "text": [
      "  0%|▍                                                                                                               | 1/234 [00:00<00:06, 34.13it/s]\n",
      "  3%|██▉                                                                                                              | 1/39 [00:00<00:00, 50.35it/s]\n"
     ]
    },
    {
     "name": "stdout",
     "output_type": "stream",
     "text": [
      "Epoch: 75 | disc_loss1: -0.5733826160430908 | gen_loss: -0.10628829151391983 \n"
     ]
    },
    {
     "name": "stderr",
     "output_type": "stream",
     "text": [
      "  0%|▍                                                                                                               | 1/234 [00:00<00:06, 33.62it/s]\n",
      "  3%|██▉                                                                                                              | 1/39 [00:00<00:00, 50.42it/s]\n"
     ]
    },
    {
     "name": "stdout",
     "output_type": "stream",
     "text": [
      "Epoch: 76 | disc_loss1: -0.4641212224960327 | gen_loss: -0.257041335105896 \n"
     ]
    },
    {
     "name": "stderr",
     "output_type": "stream",
     "text": [
      "  0%|▍                                                                                                               | 1/234 [00:00<00:06, 34.16it/s]\n",
      "  3%|██▉                                                                                                              | 1/39 [00:00<00:00, 50.01it/s]\n"
     ]
    },
    {
     "name": "stdout",
     "output_type": "stream",
     "text": [
      "Epoch: 77 | disc_loss1: -0.44405102729797363 | gen_loss: -0.1895121932029724 \n"
     ]
    },
    {
     "name": "stderr",
     "output_type": "stream",
     "text": [
      "  0%|▍                                                                                                               | 1/234 [00:00<00:06, 33.72it/s]\n",
      "  3%|██▉                                                                                                              | 1/39 [00:00<00:00, 51.35it/s]\n"
     ]
    },
    {
     "name": "stdout",
     "output_type": "stream",
     "text": [
      "Epoch: 78 | disc_loss1: -0.394409716129303 | gen_loss: -0.3536674976348877 \n"
     ]
    },
    {
     "name": "stderr",
     "output_type": "stream",
     "text": [
      "  0%|▍                                                                                                               | 1/234 [00:00<00:06, 33.81it/s]\n",
      "  3%|██▉                                                                                                              | 1/39 [00:00<00:00, 50.55it/s]\n"
     ]
    },
    {
     "name": "stdout",
     "output_type": "stream",
     "text": [
      "Epoch: 79 | disc_loss1: -0.3743017911911011 | gen_loss: -0.2289893627166748 \n"
     ]
    },
    {
     "name": "stderr",
     "output_type": "stream",
     "text": [
      "  0%|▍                                                                                                               | 1/234 [00:00<00:06, 33.85it/s]\n",
      "  3%|██▉                                                                                                              | 1/39 [00:00<00:00, 50.84it/s]\n"
     ]
    },
    {
     "name": "stdout",
     "output_type": "stream",
     "text": [
      "Epoch: 80 | disc_loss1: -0.2862367630004883 | gen_loss: -0.22698470950126648 \n"
     ]
    },
    {
     "name": "stderr",
     "output_type": "stream",
     "text": [
      "  0%|▍                                                                                                               | 1/234 [00:00<00:06, 33.47it/s]\n",
      "  3%|██▉                                                                                                              | 1/39 [00:00<00:00, 50.26it/s]\n"
     ]
    },
    {
     "name": "stdout",
     "output_type": "stream",
     "text": [
      "Epoch: 81 | disc_loss1: -0.2784888744354248 | gen_loss: -0.048901818692684174 \n"
     ]
    },
    {
     "name": "stderr",
     "output_type": "stream",
     "text": [
      "  0%|▍                                                                                                               | 1/234 [00:00<00:06, 33.59it/s]\n",
      "  3%|██▉                                                                                                              | 1/39 [00:00<00:00, 50.58it/s]\n"
     ]
    },
    {
     "name": "stdout",
     "output_type": "stream",
     "text": [
      "Epoch: 82 | disc_loss1: -0.26022613048553467 | gen_loss: 0.15919668972492218 \n"
     ]
    },
    {
     "name": "stderr",
     "output_type": "stream",
     "text": [
      "  0%|▍                                                                                                               | 1/234 [00:00<00:06, 33.95it/s]\n",
      "  3%|██▉                                                                                                              | 1/39 [00:00<00:00, 50.74it/s]\n"
     ]
    },
    {
     "name": "stdout",
     "output_type": "stream",
     "text": [
      "Epoch: 83 | disc_loss1: -0.26441022753715515 | gen_loss: 0.3305422365665436 \n"
     ]
    },
    {
     "name": "stderr",
     "output_type": "stream",
     "text": [
      "  0%|▍                                                                                                               | 1/234 [00:00<00:06, 33.65it/s]\n",
      "  3%|██▉                                                                                                              | 1/39 [00:00<00:00, 49.68it/s]\n"
     ]
    },
    {
     "name": "stdout",
     "output_type": "stream",
     "text": [
      "Epoch: 84 | disc_loss1: -0.38368862867355347 | gen_loss: 0.619500994682312 \n"
     ]
    },
    {
     "name": "stderr",
     "output_type": "stream",
     "text": [
      "  0%|▍                                                                                                               | 1/234 [00:00<00:06, 33.80it/s]\n",
      "  3%|██▉                                                                                                              | 1/39 [00:00<00:00, 48.93it/s]\n"
     ]
    },
    {
     "name": "stdout",
     "output_type": "stream",
     "text": [
      "Epoch: 85 | disc_loss1: -0.3039010465145111 | gen_loss: 0.7828633189201355 \n"
     ]
    },
    {
     "name": "stderr",
     "output_type": "stream",
     "text": [
      "  0%|▍                                                                                                               | 1/234 [00:00<00:06, 33.35it/s]\n",
      "  3%|██▉                                                                                                              | 1/39 [00:00<00:00, 49.89it/s]\n"
     ]
    },
    {
     "name": "stdout",
     "output_type": "stream",
     "text": [
      "Epoch: 86 | disc_loss1: -0.5161832571029663 | gen_loss: 1.1543718576431274 \n"
     ]
    },
    {
     "name": "stderr",
     "output_type": "stream",
     "text": [
      "  0%|▍                                                                                                               | 1/234 [00:00<00:06, 34.07it/s]\n",
      "  3%|██▉                                                                                                              | 1/39 [00:00<00:00, 50.48it/s]\n"
     ]
    },
    {
     "name": "stdout",
     "output_type": "stream",
     "text": [
      "Epoch: 87 | disc_loss1: -0.46425777673721313 | gen_loss: 1.1645398139953613 \n"
     ]
    },
    {
     "name": "stderr",
     "output_type": "stream",
     "text": [
      "  0%|▍                                                                                                               | 1/234 [00:00<00:06, 34.21it/s]\n",
      "  3%|██▉                                                                                                              | 1/39 [00:00<00:00, 49.82it/s]\n"
     ]
    },
    {
     "name": "stdout",
     "output_type": "stream",
     "text": [
      "Epoch: 88 | disc_loss1: -0.40736526250839233 | gen_loss: 1.3309338092803955 \n"
     ]
    },
    {
     "name": "stderr",
     "output_type": "stream",
     "text": [
      "  0%|▍                                                                                                               | 1/234 [00:00<00:07, 33.24it/s]\n",
      "  3%|██▉                                                                                                              | 1/39 [00:00<00:00, 50.39it/s]\n"
     ]
    },
    {
     "name": "stdout",
     "output_type": "stream",
     "text": [
      "Epoch: 89 | disc_loss1: -0.22357746958732605 | gen_loss: 1.0193235874176025 \n"
     ]
    },
    {
     "name": "stderr",
     "output_type": "stream",
     "text": [
      "  0%|▍                                                                                                               | 1/234 [00:00<00:07, 33.02it/s]\n",
      "  3%|██▉                                                                                                              | 1/39 [00:00<00:00, 50.80it/s]\n"
     ]
    },
    {
     "name": "stdout",
     "output_type": "stream",
     "text": [
      "Epoch: 90 | disc_loss1: -0.13171091675758362 | gen_loss: 0.9670796990394592 \n"
     ]
    },
    {
     "name": "stderr",
     "output_type": "stream",
     "text": [
      "  0%|▍                                                                                                               | 1/234 [00:00<00:06, 34.06it/s]\n",
      "  3%|██▉                                                                                                              | 1/39 [00:00<00:00, 51.06it/s]\n"
     ]
    },
    {
     "name": "stdout",
     "output_type": "stream",
     "text": [
      "Epoch: 91 | disc_loss1: -0.004361212253570557 | gen_loss: 0.7493448853492737 \n"
     ]
    },
    {
     "name": "stderr",
     "output_type": "stream",
     "text": [
      "  0%|▍                                                                                                               | 1/234 [00:00<00:06, 34.06it/s]\n",
      "  3%|██▉                                                                                                              | 1/39 [00:00<00:00, 50.31it/s]\n"
     ]
    },
    {
     "name": "stdout",
     "output_type": "stream",
     "text": [
      "Epoch: 92 | disc_loss1: 0.048827435821294785 | gen_loss: 0.587479829788208 \n"
     ]
    },
    {
     "name": "stderr",
     "output_type": "stream",
     "text": [
      "  0%|▍                                                                                                               | 1/234 [00:00<00:06, 34.10it/s]\n",
      "  3%|██▉                                                                                                              | 1/39 [00:00<00:00, 50.61it/s]\n"
     ]
    },
    {
     "name": "stdout",
     "output_type": "stream",
     "text": [
      "Epoch: 93 | disc_loss1: 0.041327640414237976 | gen_loss: 0.4343375861644745 \n"
     ]
    },
    {
     "name": "stderr",
     "output_type": "stream",
     "text": [
      "  0%|▍                                                                                                               | 1/234 [00:00<00:06, 34.10it/s]\n",
      "  3%|██▉                                                                                                              | 1/39 [00:00<00:00, 50.49it/s]\n"
     ]
    },
    {
     "name": "stdout",
     "output_type": "stream",
     "text": [
      "Epoch: 94 | disc_loss1: -0.02533799409866333 | gen_loss: 0.3251386284828186 \n"
     ]
    },
    {
     "name": "stderr",
     "output_type": "stream",
     "text": [
      "  0%|▍                                                                                                               | 1/234 [00:00<00:06, 34.24it/s]\n",
      "  3%|██▉                                                                                                              | 1/39 [00:00<00:00, 49.72it/s]\n"
     ]
    },
    {
     "name": "stdout",
     "output_type": "stream",
     "text": [
      "Epoch: 95 | disc_loss1: -0.13341723382472992 | gen_loss: 0.22754429280757904 \n"
     ]
    },
    {
     "name": "stderr",
     "output_type": "stream",
     "text": [
      "  0%|▍                                                                                                               | 1/234 [00:00<00:06, 34.14it/s]\n",
      "  3%|██▉                                                                                                              | 1/39 [00:00<00:00, 50.27it/s]\n"
     ]
    },
    {
     "name": "stdout",
     "output_type": "stream",
     "text": [
      "Epoch: 96 | disc_loss1: -0.24419474601745605 | gen_loss: 0.13579222559928894 \n"
     ]
    },
    {
     "name": "stderr",
     "output_type": "stream",
     "text": [
      "  0%|▍                                                                                                               | 1/234 [00:00<00:06, 34.71it/s]\n",
      "  3%|██▉                                                                                                              | 1/39 [00:00<00:00, 50.88it/s]\n"
     ]
    },
    {
     "name": "stdout",
     "output_type": "stream",
     "text": [
      "Epoch: 97 | disc_loss1: -0.3243092894554138 | gen_loss: 0.05829233303666115 \n"
     ]
    },
    {
     "name": "stderr",
     "output_type": "stream",
     "text": [
      "  0%|▍                                                                                                               | 1/234 [00:00<00:06, 34.44it/s]\n",
      "  3%|██▉                                                                                                              | 1/39 [00:00<00:00, 49.42it/s]\n"
     ]
    },
    {
     "name": "stdout",
     "output_type": "stream",
     "text": [
      "Epoch: 98 | disc_loss1: -0.3910745084285736 | gen_loss: -0.03190833330154419 \n"
     ]
    },
    {
     "name": "stderr",
     "output_type": "stream",
     "text": [
      "  0%|▍                                                                                                               | 1/234 [00:00<00:06, 34.07it/s]\n",
      "  3%|██▉                                                                                                              | 1/39 [00:00<00:00, 50.15it/s]\n"
     ]
    },
    {
     "name": "stdout",
     "output_type": "stream",
     "text": [
      "Epoch: 99 | disc_loss1: -0.3627873659133911 | gen_loss: -0.10419611632823944 \n"
     ]
    },
    {
     "name": "stderr",
     "output_type": "stream",
     "text": [
      "  0%|▍                                                                                                               | 1/234 [00:00<00:06, 34.03it/s]\n",
      "  3%|██▉                                                                                                              | 1/39 [00:00<00:00, 50.82it/s]\n"
     ]
    },
    {
     "name": "stdout",
     "output_type": "stream",
     "text": [
      "Epoch: 100 | disc_loss1: -0.33901965618133545 | gen_loss: -0.218329057097435 \n"
     ]
    },
    {
     "name": "stderr",
     "output_type": "stream",
     "text": [
      "  0%|▍                                                                                                               | 1/234 [00:00<00:06, 33.80it/s]\n",
      "  3%|██▉                                                                                                              | 1/39 [00:00<00:00, 51.06it/s]\n"
     ]
    },
    {
     "name": "stdout",
     "output_type": "stream",
     "text": [
      "Epoch: 101 | disc_loss1: -0.21086788177490234 | gen_loss: -0.2539513409137726 \n"
     ]
    },
    {
     "name": "stderr",
     "output_type": "stream",
     "text": [
      "  0%|▍                                                                                                               | 1/234 [00:00<00:06, 33.46it/s]\n",
      "  3%|██▉                                                                                                              | 1/39 [00:00<00:00, 50.32it/s]\n"
     ]
    },
    {
     "name": "stdout",
     "output_type": "stream",
     "text": [
      "Epoch: 102 | disc_loss1: -0.08190305531024933 | gen_loss: -0.453023761510849 \n"
     ]
    },
    {
     "name": "stderr",
     "output_type": "stream",
     "text": [
      "  0%|▍                                                                                                               | 1/234 [00:00<00:06, 33.97it/s]\n",
      "  3%|██▉                                                                                                              | 1/39 [00:00<00:00, 49.68it/s]\n"
     ]
    },
    {
     "name": "stdout",
     "output_type": "stream",
     "text": [
      "Epoch: 103 | disc_loss1: 0.0144239142537117 | gen_loss: -0.27996399998664856 \n"
     ]
    },
    {
     "name": "stderr",
     "output_type": "stream",
     "text": [
      "  0%|▍                                                                                                               | 1/234 [00:00<00:06, 33.70it/s]\n",
      "  3%|██▉                                                                                                              | 1/39 [00:00<00:00, 49.84it/s]\n"
     ]
    },
    {
     "name": "stdout",
     "output_type": "stream",
     "text": [
      "Epoch: 104 | disc_loss1: 0.11771248281002045 | gen_loss: -0.41712668538093567 \n"
     ]
    },
    {
     "name": "stderr",
     "output_type": "stream",
     "text": [
      "  0%|▍                                                                                                               | 1/234 [00:00<00:06, 34.26it/s]\n",
      "  3%|██▉                                                                                                              | 1/39 [00:00<00:00, 49.64it/s]\n"
     ]
    },
    {
     "name": "stdout",
     "output_type": "stream",
     "text": [
      "Epoch: 105 | disc_loss1: 0.09069982171058655 | gen_loss: 0.02386649325489998 \n"
     ]
    },
    {
     "name": "stderr",
     "output_type": "stream",
     "text": [
      "  0%|▍                                                                                                               | 1/234 [00:00<00:06, 34.12it/s]\n",
      "  3%|██▉                                                                                                              | 1/39 [00:00<00:00, 51.01it/s]\n"
     ]
    },
    {
     "name": "stdout",
     "output_type": "stream",
     "text": [
      "Epoch: 106 | disc_loss1: -0.1543988436460495 | gen_loss: 0.38274967670440674 \n"
     ]
    },
    {
     "name": "stderr",
     "output_type": "stream",
     "text": [
      "  0%|▍                                                                                                               | 1/234 [00:00<00:06, 34.11it/s]\n",
      "  3%|██▉                                                                                                              | 1/39 [00:00<00:00, 50.22it/s]\n"
     ]
    },
    {
     "name": "stdout",
     "output_type": "stream",
     "text": [
      "Epoch: 107 | disc_loss1: -0.24960562586784363 | gen_loss: 0.8347268104553223 \n"
     ]
    },
    {
     "name": "stderr",
     "output_type": "stream",
     "text": [
      "  0%|▍                                                                                                               | 1/234 [00:00<00:06, 34.00it/s]\n",
      "  3%|██▉                                                                                                              | 1/39 [00:00<00:00, 50.49it/s]\n"
     ]
    },
    {
     "name": "stdout",
     "output_type": "stream",
     "text": [
      "Epoch: 108 | disc_loss1: -0.3757181167602539 | gen_loss: 1.4248602390289307 \n"
     ]
    },
    {
     "name": "stderr",
     "output_type": "stream",
     "text": [
      "  0%|▍                                                                                                               | 1/234 [00:00<00:06, 34.12it/s]\n",
      "  3%|██▉                                                                                                              | 1/39 [00:00<00:00, 50.42it/s]\n"
     ]
    },
    {
     "name": "stdout",
     "output_type": "stream",
     "text": [
      "Epoch: 109 | disc_loss1: -0.362044095993042 | gen_loss: 1.3112412691116333 \n"
     ]
    },
    {
     "name": "stderr",
     "output_type": "stream",
     "text": [
      "  0%|▍                                                                                                               | 1/234 [00:00<00:06, 33.85it/s]\n",
      "  3%|██▉                                                                                                              | 1/39 [00:00<00:00, 50.66it/s]\n"
     ]
    },
    {
     "name": "stdout",
     "output_type": "stream",
     "text": [
      "Epoch: 110 | disc_loss1: -0.2430574595928192 | gen_loss: 1.6427223682403564 \n"
     ]
    },
    {
     "name": "stderr",
     "output_type": "stream",
     "text": [
      "  0%|▍                                                                                                               | 1/234 [00:00<00:06, 33.89it/s]\n",
      "  3%|██▉                                                                                                              | 1/39 [00:00<00:00, 49.83it/s]\n"
     ]
    },
    {
     "name": "stdout",
     "output_type": "stream",
     "text": [
      "Epoch: 111 | disc_loss1: -0.015843212604522705 | gen_loss: 1.0080132484436035 \n"
     ]
    },
    {
     "name": "stderr",
     "output_type": "stream",
     "text": [
      "  0%|▍                                                                                                               | 1/234 [00:00<00:06, 33.76it/s]\n",
      "  3%|██▉                                                                                                              | 1/39 [00:00<00:00, 50.11it/s]\n"
     ]
    },
    {
     "name": "stdout",
     "output_type": "stream",
     "text": [
      "Epoch: 112 | disc_loss1: 0.07369957119226456 | gen_loss: 1.0774595737457275 \n"
     ]
    },
    {
     "name": "stderr",
     "output_type": "stream",
     "text": [
      "  0%|▍                                                                                                               | 1/234 [00:00<00:07, 31.89it/s]\n",
      "  3%|██▉                                                                                                              | 1/39 [00:00<00:00, 47.55it/s]\n"
     ]
    },
    {
     "name": "stdout",
     "output_type": "stream",
     "text": [
      "Epoch: 113 | disc_loss1: 0.15886683762073517 | gen_loss: 0.7353005409240723 \n"
     ]
    },
    {
     "name": "stderr",
     "output_type": "stream",
     "text": [
      "  0%|▍                                                                                                               | 1/234 [00:00<00:06, 34.15it/s]\n",
      "  3%|██▉                                                                                                              | 1/39 [00:00<00:00, 49.40it/s]\n"
     ]
    },
    {
     "name": "stdout",
     "output_type": "stream",
     "text": [
      "Epoch: 114 | disc_loss1: 0.22574840486049652 | gen_loss: 0.6229559183120728 \n"
     ]
    },
    {
     "name": "stderr",
     "output_type": "stream",
     "text": [
      "  0%|▍                                                                                                               | 1/234 [00:00<00:06, 34.08it/s]\n",
      "  3%|██▉                                                                                                              | 1/39 [00:00<00:00, 49.34it/s]\n"
     ]
    },
    {
     "name": "stdout",
     "output_type": "stream",
     "text": [
      "Epoch: 115 | disc_loss1: 0.19574129581451416 | gen_loss: 0.45859214663505554 \n"
     ]
    },
    {
     "name": "stderr",
     "output_type": "stream",
     "text": [
      "  0%|▍                                                                                                               | 1/234 [00:00<00:06, 33.56it/s]\n",
      "  3%|██▉                                                                                                              | 1/39 [00:00<00:00, 49.13it/s]\n"
     ]
    },
    {
     "name": "stdout",
     "output_type": "stream",
     "text": [
      "Epoch: 116 | disc_loss1: 0.11952067911624908 | gen_loss: 0.34870484471321106 \n"
     ]
    },
    {
     "name": "stderr",
     "output_type": "stream",
     "text": [
      "  0%|▍                                                                                                               | 1/234 [00:00<00:06, 33.56it/s]\n",
      "  3%|██▉                                                                                                              | 1/39 [00:00<00:00, 51.47it/s]\n"
     ]
    },
    {
     "name": "stdout",
     "output_type": "stream",
     "text": [
      "Epoch: 117 | disc_loss1: 0.0055655017495155334 | gen_loss: 0.25249630212783813 \n"
     ]
    },
    {
     "name": "stderr",
     "output_type": "stream",
     "text": [
      "  0%|▍                                                                                                               | 1/234 [00:00<00:06, 34.22it/s]\n",
      "  3%|██▉                                                                                                              | 1/39 [00:00<00:00, 50.60it/s]\n"
     ]
    },
    {
     "name": "stdout",
     "output_type": "stream",
     "text": [
      "Epoch: 118 | disc_loss1: -0.146886944770813 | gen_loss: 0.17631913721561432 \n"
     ]
    },
    {
     "name": "stderr",
     "output_type": "stream",
     "text": [
      "  0%|▍                                                                                                               | 1/234 [00:00<00:06, 34.00it/s]\n",
      "  3%|██▉                                                                                                              | 1/39 [00:00<00:00, 49.39it/s]\n"
     ]
    },
    {
     "name": "stdout",
     "output_type": "stream",
     "text": [
      "Epoch: 119 | disc_loss1: -0.2864918112754822 | gen_loss: 0.1053609549999237 \n"
     ]
    },
    {
     "name": "stderr",
     "output_type": "stream",
     "text": [
      "  0%|▍                                                                                                               | 1/234 [00:00<00:06, 33.92it/s]\n",
      "  3%|██▉                                                                                                              | 1/39 [00:00<00:00, 51.05it/s]\n"
     ]
    },
    {
     "name": "stdout",
     "output_type": "stream",
     "text": [
      "Epoch: 120 | disc_loss1: -0.40293633937835693 | gen_loss: 0.04894665256142616 \n"
     ]
    },
    {
     "name": "stderr",
     "output_type": "stream",
     "text": [
      "  0%|▍                                                                                                               | 1/234 [00:00<00:06, 33.64it/s]\n",
      "  3%|██▉                                                                                                              | 1/39 [00:00<00:00, 49.27it/s]\n"
     ]
    },
    {
     "name": "stdout",
     "output_type": "stream",
     "text": [
      "Epoch: 121 | disc_loss1: -0.46273767948150635 | gen_loss: -0.03680489957332611 \n"
     ]
    },
    {
     "name": "stderr",
     "output_type": "stream",
     "text": [
      "  0%|▍                                                                                                               | 1/234 [00:00<00:06, 34.20it/s]\n",
      "  3%|██▉                                                                                                              | 1/39 [00:00<00:00, 49.95it/s]\n"
     ]
    },
    {
     "name": "stdout",
     "output_type": "stream",
     "text": [
      "Epoch: 122 | disc_loss1: -0.4512876868247986 | gen_loss: -0.11163922399282455 \n"
     ]
    },
    {
     "name": "stderr",
     "output_type": "stream",
     "text": [
      "  0%|▍                                                                                                               | 1/234 [00:00<00:06, 33.53it/s]\n",
      "  3%|██▉                                                                                                              | 1/39 [00:00<00:00, 50.09it/s]\n"
     ]
    },
    {
     "name": "stdout",
     "output_type": "stream",
     "text": [
      "Epoch: 123 | disc_loss1: -0.42233696579933167 | gen_loss: -0.22875243425369263 \n"
     ]
    },
    {
     "name": "stderr",
     "output_type": "stream",
     "text": [
      "  0%|▍                                                                                                               | 1/234 [00:00<00:06, 34.35it/s]\n",
      "  3%|██▉                                                                                                              | 1/39 [00:00<00:00, 49.64it/s]\n"
     ]
    },
    {
     "name": "stdout",
     "output_type": "stream",
     "text": [
      "Epoch: 124 | disc_loss1: -0.34255531430244446 | gen_loss: -0.32698509097099304 \n"
     ]
    },
    {
     "name": "stderr",
     "output_type": "stream",
     "text": [
      "  0%|▍                                                                                                               | 1/234 [00:00<00:06, 33.69it/s]\n",
      "  3%|██▉                                                                                                              | 1/39 [00:00<00:00, 49.75it/s]\n"
     ]
    },
    {
     "name": "stdout",
     "output_type": "stream",
     "text": [
      "Epoch: 125 | disc_loss1: -0.18609395623207092 | gen_loss: -0.5068575739860535 \n"
     ]
    },
    {
     "name": "stderr",
     "output_type": "stream",
     "text": [
      "  0%|▍                                                                                                               | 1/234 [00:00<00:07, 33.28it/s]\n",
      "  3%|██▉                                                                                                              | 1/39 [00:00<00:00, 49.68it/s]\n"
     ]
    },
    {
     "name": "stdout",
     "output_type": "stream",
     "text": [
      "Epoch: 126 | disc_loss1: -0.06039603427052498 | gen_loss: -0.5411949753761292 \n"
     ]
    },
    {
     "name": "stderr",
     "output_type": "stream",
     "text": [
      "  0%|▍                                                                                                               | 1/234 [00:00<00:06, 34.25it/s]\n",
      "  3%|██▉                                                                                                              | 1/39 [00:00<00:00, 50.14it/s]\n"
     ]
    },
    {
     "name": "stdout",
     "output_type": "stream",
     "text": [
      "Epoch: 127 | disc_loss1: 0.16802336275577545 | gen_loss: -0.8208022117614746 \n"
     ]
    },
    {
     "name": "stderr",
     "output_type": "stream",
     "text": [
      "  0%|▍                                                                                                               | 1/234 [00:00<00:06, 33.60it/s]\n",
      "  3%|██▉                                                                                                              | 1/39 [00:00<00:00, 50.43it/s]\n"
     ]
    },
    {
     "name": "stdout",
     "output_type": "stream",
     "text": [
      "Epoch: 128 | disc_loss1: 0.4342295825481415 | gen_loss: -0.5827261209487915 \n"
     ]
    },
    {
     "name": "stderr",
     "output_type": "stream",
     "text": [
      "  0%|▍                                                                                                               | 1/234 [00:00<00:06, 33.51it/s]\n",
      "  3%|██▉                                                                                                              | 1/39 [00:00<00:00, 50.44it/s]\n"
     ]
    },
    {
     "name": "stdout",
     "output_type": "stream",
     "text": [
      "Epoch: 129 | disc_loss1: 0.44139960408210754 | gen_loss: -0.9042598605155945 \n"
     ]
    },
    {
     "name": "stderr",
     "output_type": "stream",
     "text": [
      "  0%|▍                                                                                                               | 1/234 [00:00<00:06, 33.82it/s]\n",
      "  3%|██▉                                                                                                              | 1/39 [00:00<00:00, 49.64it/s]\n"
     ]
    },
    {
     "name": "stdout",
     "output_type": "stream",
     "text": [
      "Epoch: 130 | disc_loss1: 0.5245382785797119 | gen_loss: -0.5224201083183289 \n"
     ]
    },
    {
     "name": "stderr",
     "output_type": "stream",
     "text": [
      "  0%|▍                                                                                                               | 1/234 [00:00<00:06, 33.90it/s]\n",
      "  3%|██▉                                                                                                              | 1/39 [00:00<00:00, 49.89it/s]\n"
     ]
    },
    {
     "name": "stdout",
     "output_type": "stream",
     "text": [
      "Epoch: 131 | disc_loss1: 0.32850316166877747 | gen_loss: -0.377529114484787 \n"
     ]
    },
    {
     "name": "stderr",
     "output_type": "stream",
     "text": [
      "  0%|▍                                                                                                               | 1/234 [00:00<00:06, 33.77it/s]\n",
      "  3%|██▉                                                                                                              | 1/39 [00:00<00:00, 49.72it/s]\n"
     ]
    },
    {
     "name": "stdout",
     "output_type": "stream",
     "text": [
      "Epoch: 132 | disc_loss1: -0.019617274403572083 | gen_loss: 0.3627941608428955 \n"
     ]
    },
    {
     "name": "stderr",
     "output_type": "stream",
     "text": [
      "  0%|▍                                                                                                               | 1/234 [00:00<00:06, 33.90it/s]\n",
      "  3%|██▉                                                                                                              | 1/39 [00:00<00:00, 49.75it/s]\n"
     ]
    },
    {
     "name": "stdout",
     "output_type": "stream",
     "text": [
      "Epoch: 133 | disc_loss1: -0.4740349054336548 | gen_loss: 1.2087352275848389 \n"
     ]
    },
    {
     "name": "stderr",
     "output_type": "stream",
     "text": [
      "  0%|▍                                                                                                               | 1/234 [00:00<00:06, 33.80it/s]\n",
      "  3%|██▉                                                                                                              | 1/39 [00:00<00:00, 49.52it/s]\n"
     ]
    },
    {
     "name": "stdout",
     "output_type": "stream",
     "text": [
      "Epoch: 134 | disc_loss1: -0.8069746494293213 | gen_loss: 1.8355408906936646 \n"
     ]
    },
    {
     "name": "stderr",
     "output_type": "stream",
     "text": [
      "  0%|▍                                                                                                               | 1/234 [00:00<00:06, 33.78it/s]\n",
      "  3%|██▉                                                                                                              | 1/39 [00:00<00:00, 50.08it/s]\n"
     ]
    },
    {
     "name": "stdout",
     "output_type": "stream",
     "text": [
      "Epoch: 135 | disc_loss1: -0.6841320395469666 | gen_loss: 2.6375997066497803 \n"
     ]
    },
    {
     "name": "stderr",
     "output_type": "stream",
     "text": [
      "  0%|▍                                                                                                               | 1/234 [00:00<00:06, 33.65it/s]\n",
      "  3%|██▉                                                                                                              | 1/39 [00:00<00:00, 50.06it/s]\n"
     ]
    },
    {
     "name": "stdout",
     "output_type": "stream",
     "text": [
      "Epoch: 136 | disc_loss1: -0.509986400604248 | gen_loss: 1.7253731489181519 \n"
     ]
    },
    {
     "name": "stderr",
     "output_type": "stream",
     "text": [
      "  0%|▍                                                                                                               | 1/234 [00:00<00:06, 33.66it/s]\n",
      "  3%|██▉                                                                                                              | 1/39 [00:00<00:00, 50.15it/s]\n"
     ]
    },
    {
     "name": "stdout",
     "output_type": "stream",
     "text": [
      "Epoch: 137 | disc_loss1: -0.28800955414772034 | gen_loss: 2.0902459621429443 \n"
     ]
    },
    {
     "name": "stderr",
     "output_type": "stream",
     "text": [
      "  0%|▍                                                                                                               | 1/234 [00:00<00:06, 34.03it/s]\n",
      "  3%|██▉                                                                                                              | 1/39 [00:00<00:00, 49.84it/s]\n"
     ]
    },
    {
     "name": "stdout",
     "output_type": "stream",
     "text": [
      "Epoch: 138 | disc_loss1: -0.15921007096767426 | gen_loss: 1.3194245100021362 \n"
     ]
    },
    {
     "name": "stderr",
     "output_type": "stream",
     "text": [
      "  0%|▍                                                                                                               | 1/234 [00:00<00:06, 33.31it/s]\n",
      "  3%|██▉                                                                                                              | 1/39 [00:00<00:00, 49.93it/s]\n"
     ]
    },
    {
     "name": "stdout",
     "output_type": "stream",
     "text": [
      "Epoch: 139 | disc_loss1: 0.05797620117664337 | gen_loss: 1.300001859664917 \n"
     ]
    },
    {
     "name": "stderr",
     "output_type": "stream",
     "text": [
      "  0%|▍                                                                                                               | 1/234 [00:00<00:06, 33.89it/s]\n",
      "  3%|██▉                                                                                                              | 1/39 [00:00<00:00, 51.45it/s]\n"
     ]
    },
    {
     "name": "stdout",
     "output_type": "stream",
     "text": [
      "Epoch: 140 | disc_loss1: 0.18658657371997833 | gen_loss: 0.897346019744873 \n"
     ]
    },
    {
     "name": "stderr",
     "output_type": "stream",
     "text": [
      "  0%|▍                                                                                                               | 1/234 [00:00<00:06, 34.20it/s]\n",
      "  3%|██▉                                                                                                              | 1/39 [00:00<00:00, 50.47it/s]\n"
     ]
    },
    {
     "name": "stdout",
     "output_type": "stream",
     "text": [
      "Epoch: 141 | disc_loss1: 0.3014124631881714 | gen_loss: 0.83326256275177 \n"
     ]
    },
    {
     "name": "stderr",
     "output_type": "stream",
     "text": [
      "  0%|▍                                                                                                               | 1/234 [00:00<00:06, 33.78it/s]\n",
      "  3%|██▉                                                                                                              | 1/39 [00:00<00:00, 50.51it/s]\n"
     ]
    },
    {
     "name": "stdout",
     "output_type": "stream",
     "text": [
      "Epoch: 142 | disc_loss1: 0.3283044993877411 | gen_loss: 0.5947473645210266 \n"
     ]
    },
    {
     "name": "stderr",
     "output_type": "stream",
     "text": [
      "  0%|▍                                                                                                               | 1/234 [00:00<00:06, 33.54it/s]\n",
      "  3%|██▉                                                                                                              | 1/39 [00:00<00:00, 49.64it/s]\n"
     ]
    },
    {
     "name": "stdout",
     "output_type": "stream",
     "text": [
      "Epoch: 143 | disc_loss1: 0.32054129242897034 | gen_loss: 0.5551029443740845 \n"
     ]
    },
    {
     "name": "stderr",
     "output_type": "stream",
     "text": [
      "  0%|▍                                                                                                               | 1/234 [00:00<00:06, 34.21it/s]\n",
      "  3%|██▉                                                                                                              | 1/39 [00:00<00:00, 50.91it/s]\n"
     ]
    },
    {
     "name": "stdout",
     "output_type": "stream",
     "text": [
      "Epoch: 144 | disc_loss1: 0.2794960141181946 | gen_loss: 0.43020397424697876 \n"
     ]
    },
    {
     "name": "stderr",
     "output_type": "stream",
     "text": [
      "  0%|▍                                                                                                               | 1/234 [00:00<00:07, 30.18it/s]\n",
      "  3%|██▉                                                                                                              | 1/39 [00:00<00:00, 47.46it/s]\n"
     ]
    },
    {
     "name": "stdout",
     "output_type": "stream",
     "text": [
      "Epoch: 145 | disc_loss1: 0.21543395519256592 | gen_loss: 0.3744385242462158 \n"
     ]
    },
    {
     "name": "stderr",
     "output_type": "stream",
     "text": [
      "  0%|▍                                                                                                               | 1/234 [00:00<00:06, 33.73it/s]\n",
      "  3%|██▉                                                                                                              | 1/39 [00:00<00:00, 50.10it/s]\n"
     ]
    },
    {
     "name": "stdout",
     "output_type": "stream",
     "text": [
      "Epoch: 146 | disc_loss1: 0.11683095991611481 | gen_loss: 0.2943299114704132 \n"
     ]
    },
    {
     "name": "stderr",
     "output_type": "stream",
     "text": [
      "  0%|▍                                                                                                               | 1/234 [00:00<00:06, 33.58it/s]\n",
      "  3%|██▉                                                                                                              | 1/39 [00:00<00:00, 49.91it/s]\n"
     ]
    },
    {
     "name": "stdout",
     "output_type": "stream",
     "text": [
      "Epoch: 147 | disc_loss1: -0.008705154061317444 | gen_loss: 0.23517902195453644 \n"
     ]
    },
    {
     "name": "stderr",
     "output_type": "stream",
     "text": [
      "  0%|▍                                                                                                               | 1/234 [00:00<00:06, 33.63it/s]\n",
      "  3%|██▉                                                                                                              | 1/39 [00:00<00:00, 51.75it/s]\n"
     ]
    },
    {
     "name": "stdout",
     "output_type": "stream",
     "text": [
      "Epoch: 148 | disc_loss1: -0.1414581835269928 | gen_loss: 0.1765163540840149 \n"
     ]
    },
    {
     "name": "stderr",
     "output_type": "stream",
     "text": [
      "  0%|▍                                                                                                               | 1/234 [00:00<00:06, 33.75it/s]\n",
      "  3%|██▉                                                                                                              | 1/39 [00:00<00:00, 50.56it/s]\n"
     ]
    },
    {
     "name": "stdout",
     "output_type": "stream",
     "text": [
      "Epoch: 149 | disc_loss1: -0.2853003442287445 | gen_loss: 0.10507363826036453 \n"
     ]
    },
    {
     "name": "stderr",
     "output_type": "stream",
     "text": [
      "  0%|▍                                                                                                               | 1/234 [00:00<00:06, 33.64it/s]\n",
      "  3%|██▉                                                                                                              | 1/39 [00:00<00:00, 49.55it/s]\n"
     ]
    },
    {
     "name": "stdout",
     "output_type": "stream",
     "text": [
      "Epoch: 150 | disc_loss1: -0.3846510350704193 | gen_loss: 0.015795616433024406 \n"
     ]
    },
    {
     "name": "stderr",
     "output_type": "stream",
     "text": [
      "  0%|▍                                                                                                               | 1/234 [00:00<00:06, 33.89it/s]\n",
      "  3%|██▉                                                                                                              | 1/39 [00:00<00:00, 50.52it/s]\n"
     ]
    },
    {
     "name": "stdout",
     "output_type": "stream",
     "text": [
      "Epoch: 151 | disc_loss1: -0.4304463267326355 | gen_loss: -0.06324166804552078 \n"
     ]
    },
    {
     "name": "stderr",
     "output_type": "stream",
     "text": [
      "  0%|▍                                                                                                               | 1/234 [00:00<00:06, 34.29it/s]\n",
      "  3%|██▉                                                                                                              | 1/39 [00:00<00:00, 50.40it/s]\n"
     ]
    },
    {
     "name": "stdout",
     "output_type": "stream",
     "text": [
      "Epoch: 152 | disc_loss1: -0.4352141320705414 | gen_loss: -0.1849198341369629 \n"
     ]
    },
    {
     "name": "stderr",
     "output_type": "stream",
     "text": [
      "  0%|▍                                                                                                               | 1/234 [00:00<00:06, 34.09it/s]\n",
      "  3%|██▉                                                                                                              | 1/39 [00:00<00:00, 50.78it/s]\n"
     ]
    },
    {
     "name": "stdout",
     "output_type": "stream",
     "text": [
      "Epoch: 153 | disc_loss1: -0.4306677579879761 | gen_loss: -0.25406360626220703 \n"
     ]
    },
    {
     "name": "stderr",
     "output_type": "stream",
     "text": [
      "  0%|▍                                                                                                               | 1/234 [00:00<00:07, 33.07it/s]\n",
      "  3%|██▉                                                                                                              | 1/39 [00:00<00:00, 49.87it/s]\n"
     ]
    },
    {
     "name": "stdout",
     "output_type": "stream",
     "text": [
      "Epoch: 154 | disc_loss1: -0.34084707498550415 | gen_loss: -0.33678168058395386 \n"
     ]
    },
    {
     "name": "stderr",
     "output_type": "stream",
     "text": [
      "  0%|▍                                                                                                               | 1/234 [00:00<00:06, 34.45it/s]\n",
      "  3%|██▉                                                                                                              | 1/39 [00:00<00:00, 50.14it/s]\n"
     ]
    },
    {
     "name": "stdout",
     "output_type": "stream",
     "text": [
      "Epoch: 155 | disc_loss1: -0.25469115376472473 | gen_loss: -0.49352189898490906 \n"
     ]
    },
    {
     "name": "stderr",
     "output_type": "stream",
     "text": [
      "  0%|▍                                                                                                               | 1/234 [00:00<00:06, 34.18it/s]\n",
      "  3%|██▉                                                                                                              | 1/39 [00:00<00:00, 49.85it/s]\n"
     ]
    },
    {
     "name": "stdout",
     "output_type": "stream",
     "text": [
      "Epoch: 156 | disc_loss1: -0.1144329085946083 | gen_loss: -0.5384070873260498 \n"
     ]
    },
    {
     "name": "stderr",
     "output_type": "stream",
     "text": [
      "  0%|▍                                                                                                               | 1/234 [00:00<00:06, 33.56it/s]\n",
      "  3%|██▉                                                                                                              | 1/39 [00:00<00:00, 49.61it/s]\n"
     ]
    },
    {
     "name": "stdout",
     "output_type": "stream",
     "text": [
      "Epoch: 157 | disc_loss1: 0.04069909453392029 | gen_loss: -0.7619926333427429 \n"
     ]
    },
    {
     "name": "stderr",
     "output_type": "stream",
     "text": [
      "  0%|▍                                                                                                               | 1/234 [00:00<00:07, 33.25it/s]\n",
      "  3%|██▉                                                                                                              | 1/39 [00:00<00:00, 50.10it/s]\n"
     ]
    },
    {
     "name": "stdout",
     "output_type": "stream",
     "text": [
      "Epoch: 158 | disc_loss1: 0.248691588640213 | gen_loss: -0.5947700142860413 \n"
     ]
    },
    {
     "name": "stderr",
     "output_type": "stream",
     "text": [
      "  0%|▍                                                                                                               | 1/234 [00:00<00:07, 33.18it/s]\n",
      "  3%|██▉                                                                                                              | 1/39 [00:00<00:00, 49.45it/s]\n"
     ]
    },
    {
     "name": "stdout",
     "output_type": "stream",
     "text": [
      "Epoch: 159 | disc_loss1: 0.31349122524261475 | gen_loss: -0.8949870467185974 \n"
     ]
    },
    {
     "name": "stderr",
     "output_type": "stream",
     "text": [
      "  0%|▍                                                                                                               | 1/234 [00:00<00:06, 34.03it/s]\n",
      "  3%|██▉                                                                                                              | 1/39 [00:00<00:00, 50.52it/s]\n"
     ]
    },
    {
     "name": "stdout",
     "output_type": "stream",
     "text": [
      "Epoch: 160 | disc_loss1: 0.37182021141052246 | gen_loss: -0.5270371437072754 \n"
     ]
    },
    {
     "name": "stderr",
     "output_type": "stream",
     "text": [
      "  0%|▍                                                                                                               | 1/234 [00:00<00:06, 34.19it/s]\n",
      "  3%|██▉                                                                                                              | 1/39 [00:00<00:00, 50.33it/s]\n"
     ]
    },
    {
     "name": "stdout",
     "output_type": "stream",
     "text": [
      "Epoch: 161 | disc_loss1: 0.30185890197753906 | gen_loss: -0.5961942076683044 \n"
     ]
    },
    {
     "name": "stderr",
     "output_type": "stream",
     "text": [
      "  0%|▍                                                                                                               | 1/234 [00:00<00:06, 33.30it/s]\n",
      "  3%|██▉                                                                                                              | 1/39 [00:00<00:00, 50.03it/s]\n"
     ]
    },
    {
     "name": "stdout",
     "output_type": "stream",
     "text": [
      "Epoch: 162 | disc_loss1: 0.3101097345352173 | gen_loss: -0.1741994470357895 \n"
     ]
    },
    {
     "name": "stderr",
     "output_type": "stream",
     "text": [
      "  0%|▍                                                                                                               | 1/234 [00:00<00:06, 33.56it/s]\n",
      "  3%|██▉                                                                                                              | 1/39 [00:00<00:00, 49.59it/s]\n"
     ]
    },
    {
     "name": "stdout",
     "output_type": "stream",
     "text": [
      "Epoch: 163 | disc_loss1: 0.13023024797439575 | gen_loss: 0.07225475460290909 \n"
     ]
    },
    {
     "name": "stderr",
     "output_type": "stream",
     "text": [
      "  0%|▍                                                                                                               | 1/234 [00:00<00:06, 33.96it/s]\n",
      "  3%|██▉                                                                                                              | 1/39 [00:00<00:00, 50.00it/s]\n"
     ]
    },
    {
     "name": "stdout",
     "output_type": "stream",
     "text": [
      "Epoch: 164 | disc_loss1: 0.08317431807518005 | gen_loss: 0.6388493180274963 \n"
     ]
    },
    {
     "name": "stderr",
     "output_type": "stream",
     "text": [
      "  0%|▍                                                                                                               | 1/234 [00:00<00:06, 33.97it/s]\n",
      "  3%|██▉                                                                                                              | 1/39 [00:00<00:00, 49.53it/s]\n"
     ]
    },
    {
     "name": "stdout",
     "output_type": "stream",
     "text": [
      "Epoch: 165 | disc_loss1: -0.38553494215011597 | gen_loss: 1.2998511791229248 \n"
     ]
    },
    {
     "name": "stderr",
     "output_type": "stream",
     "text": [
      "  0%|▍                                                                                                               | 1/234 [00:00<00:07, 30.21it/s]\n",
      "  3%|██▉                                                                                                              | 1/39 [00:00<00:00, 49.99it/s]\n"
     ]
    },
    {
     "name": "stdout",
     "output_type": "stream",
     "text": [
      "Epoch: 166 | disc_loss1: -0.5732237696647644 | gen_loss: 1.584822416305542 \n"
     ]
    },
    {
     "name": "stderr",
     "output_type": "stream",
     "text": [
      "  0%|▍                                                                                                               | 1/234 [00:00<00:06, 33.71it/s]\n",
      "  3%|██▉                                                                                                              | 1/39 [00:00<00:00, 50.49it/s]\n"
     ]
    },
    {
     "name": "stdout",
     "output_type": "stream",
     "text": [
      "Epoch: 167 | disc_loss1: -0.3951230049133301 | gen_loss: 2.1586031913757324 \n"
     ]
    },
    {
     "name": "stderr",
     "output_type": "stream",
     "text": [
      "  0%|▍                                                                                                               | 1/234 [00:00<00:06, 34.09it/s]\n",
      "  3%|██▉                                                                                                              | 1/39 [00:00<00:00, 50.41it/s]\n"
     ]
    },
    {
     "name": "stdout",
     "output_type": "stream",
     "text": [
      "Epoch: 168 | disc_loss1: -0.20234626531600952 | gen_loss: 1.327770471572876 \n"
     ]
    },
    {
     "name": "stderr",
     "output_type": "stream",
     "text": [
      "  0%|▍                                                                                                               | 1/234 [00:00<00:06, 33.79it/s]\n",
      "  3%|██▉                                                                                                              | 1/39 [00:00<00:00, 50.17it/s]\n"
     ]
    },
    {
     "name": "stdout",
     "output_type": "stream",
     "text": [
      "Epoch: 169 | disc_loss1: -0.086290642619133 | gen_loss: 1.6097959280014038 \n"
     ]
    },
    {
     "name": "stderr",
     "output_type": "stream",
     "text": [
      "  0%|▍                                                                                                               | 1/234 [00:00<00:06, 34.01it/s]\n",
      "  3%|██▉                                                                                                              | 1/39 [00:00<00:00, 50.01it/s]\n"
     ]
    },
    {
     "name": "stdout",
     "output_type": "stream",
     "text": [
      "Epoch: 170 | disc_loss1: 0.020306646823883057 | gen_loss: 1.0352613925933838 \n"
     ]
    },
    {
     "name": "stderr",
     "output_type": "stream",
     "text": [
      "  0%|▍                                                                                                               | 1/234 [00:00<00:06, 34.52it/s]\n",
      "  3%|██▉                                                                                                              | 1/39 [00:00<00:00, 50.48it/s]\n"
     ]
    },
    {
     "name": "stdout",
     "output_type": "stream",
     "text": [
      "Epoch: 171 | disc_loss1: 0.1286677122116089 | gen_loss: 1.0434740781784058 \n"
     ]
    },
    {
     "name": "stderr",
     "output_type": "stream",
     "text": [
      "  0%|▍                                                                                                               | 1/234 [00:00<00:06, 33.58it/s]\n",
      "  3%|██▉                                                                                                              | 1/39 [00:00<00:00, 49.62it/s]\n"
     ]
    },
    {
     "name": "stdout",
     "output_type": "stream",
     "text": [
      "Epoch: 172 | disc_loss1: 0.17830123007297516 | gen_loss: 0.7783802151679993 \n"
     ]
    },
    {
     "name": "stderr",
     "output_type": "stream",
     "text": [
      "  0%|▍                                                                                                               | 1/234 [00:00<00:06, 33.64it/s]\n",
      "  3%|██▉                                                                                                              | 1/39 [00:00<00:00, 49.65it/s]\n"
     ]
    },
    {
     "name": "stdout",
     "output_type": "stream",
     "text": [
      "Epoch: 173 | disc_loss1: 0.23823843896389008 | gen_loss: 0.7045138478279114 \n"
     ]
    },
    {
     "name": "stderr",
     "output_type": "stream",
     "text": [
      "  0%|▍                                                                                                               | 1/234 [00:00<00:06, 33.95it/s]\n",
      "  3%|██▉                                                                                                              | 1/39 [00:00<00:00, 50.34it/s]\n"
     ]
    },
    {
     "name": "stdout",
     "output_type": "stream",
     "text": [
      "Epoch: 174 | disc_loss1: 0.2247685194015503 | gen_loss: 0.5580542683601379 \n"
     ]
    },
    {
     "name": "stderr",
     "output_type": "stream",
     "text": [
      "  0%|▍                                                                                                               | 1/234 [00:00<00:06, 33.88it/s]\n",
      "  3%|██▉                                                                                                              | 1/39 [00:00<00:00, 49.82it/s]\n"
     ]
    },
    {
     "name": "stdout",
     "output_type": "stream",
     "text": [
      "Epoch: 175 | disc_loss1: 0.2116442620754242 | gen_loss: 0.48494285345077515 \n"
     ]
    },
    {
     "name": "stderr",
     "output_type": "stream",
     "text": [
      "  0%|▍                                                                                                               | 1/234 [00:00<00:06, 33.84it/s]\n",
      "  3%|██▉                                                                                                              | 1/39 [00:00<00:00, 51.03it/s]\n"
     ]
    },
    {
     "name": "stdout",
     "output_type": "stream",
     "text": [
      "Epoch: 176 | disc_loss1: 0.17116647958755493 | gen_loss: 0.37822282314300537 \n"
     ]
    },
    {
     "name": "stderr",
     "output_type": "stream",
     "text": [
      "  0%|▍                                                                                                               | 1/234 [00:00<00:06, 33.69it/s]\n",
      "  3%|██▉                                                                                                              | 1/39 [00:00<00:00, 50.66it/s]\n"
     ]
    },
    {
     "name": "stdout",
     "output_type": "stream",
     "text": [
      "Epoch: 177 | disc_loss1: 0.0833854153752327 | gen_loss: 0.3069640100002289 \n"
     ]
    },
    {
     "name": "stderr",
     "output_type": "stream",
     "text": [
      "  0%|▍                                                                                                               | 1/234 [00:00<00:06, 34.21it/s]\n",
      "  3%|██▉                                                                                                              | 1/39 [00:00<00:00, 51.19it/s]\n"
     ]
    },
    {
     "name": "stdout",
     "output_type": "stream",
     "text": [
      "Epoch: 178 | disc_loss1: -0.011948443949222565 | gen_loss: 0.22725068032741547 \n"
     ]
    },
    {
     "name": "stderr",
     "output_type": "stream",
     "text": [
      "  0%|▍                                                                                                               | 1/234 [00:00<00:06, 33.67it/s]\n",
      "  3%|██▉                                                                                                              | 1/39 [00:00<00:00, 49.63it/s]\n"
     ]
    },
    {
     "name": "stdout",
     "output_type": "stream",
     "text": [
      "Epoch: 179 | disc_loss1: -0.1095333844423294 | gen_loss: 0.13363689184188843 \n"
     ]
    },
    {
     "name": "stderr",
     "output_type": "stream",
     "text": [
      "  0%|▍                                                                                                               | 1/234 [00:00<00:06, 34.59it/s]\n",
      "  3%|██▉                                                                                                              | 1/39 [00:00<00:00, 49.08it/s]\n"
     ]
    },
    {
     "name": "stdout",
     "output_type": "stream",
     "text": [
      "Epoch: 180 | disc_loss1: -0.20564624667167664 | gen_loss: 0.04380560666322708 \n"
     ]
    },
    {
     "name": "stderr",
     "output_type": "stream",
     "text": [
      "  0%|▍                                                                                                               | 1/234 [00:00<00:06, 34.09it/s]\n",
      "  3%|██▉                                                                                                              | 1/39 [00:00<00:00, 50.11it/s]\n"
     ]
    },
    {
     "name": "stdout",
     "output_type": "stream",
     "text": [
      "Epoch: 181 | disc_loss1: -0.2740141451358795 | gen_loss: -0.06977713853120804 \n"
     ]
    },
    {
     "name": "stderr",
     "output_type": "stream",
     "text": [
      "  0%|▍                                                                                                               | 1/234 [00:00<00:06, 33.61it/s]\n",
      "  3%|██▉                                                                                                              | 1/39 [00:00<00:00, 50.23it/s]\n"
     ]
    },
    {
     "name": "stdout",
     "output_type": "stream",
     "text": [
      "Epoch: 182 | disc_loss1: -0.2767741084098816 | gen_loss: -0.1791858673095703 \n"
     ]
    },
    {
     "name": "stderr",
     "output_type": "stream",
     "text": [
      "  0%|▍                                                                                                               | 1/234 [00:00<00:06, 34.16it/s]\n",
      "  3%|██▉                                                                                                              | 1/39 [00:00<00:00, 49.73it/s]\n"
     ]
    },
    {
     "name": "stdout",
     "output_type": "stream",
     "text": [
      "Epoch: 183 | disc_loss1: -0.2845938801765442 | gen_loss: -0.2615412771701813 \n"
     ]
    },
    {
     "name": "stderr",
     "output_type": "stream",
     "text": [
      "  0%|▍                                                                                                               | 1/234 [00:00<00:06, 33.73it/s]\n",
      "  3%|██▉                                                                                                              | 1/39 [00:00<00:00, 51.21it/s]\n"
     ]
    },
    {
     "name": "stdout",
     "output_type": "stream",
     "text": [
      "Epoch: 184 | disc_loss1: -0.2619139552116394 | gen_loss: -0.3209912180900574 \n"
     ]
    },
    {
     "name": "stderr",
     "output_type": "stream",
     "text": [
      "  0%|▍                                                                                                               | 1/234 [00:00<00:06, 34.32it/s]\n",
      "  3%|██▉                                                                                                              | 1/39 [00:00<00:00, 46.58it/s]\n"
     ]
    },
    {
     "name": "stdout",
     "output_type": "stream",
     "text": [
      "Epoch: 185 | disc_loss1: -0.18038810789585114 | gen_loss: -0.4392569959163666 \n"
     ]
    },
    {
     "name": "stderr",
     "output_type": "stream",
     "text": [
      "  0%|▍                                                                                                               | 1/234 [00:00<00:06, 34.39it/s]\n",
      "  3%|██▉                                                                                                              | 1/39 [00:00<00:00, 50.95it/s]\n"
     ]
    },
    {
     "name": "stdout",
     "output_type": "stream",
     "text": [
      "Epoch: 186 | disc_loss1: -0.09585587680339813 | gen_loss: -0.4892958104610443 \n"
     ]
    },
    {
     "name": "stderr",
     "output_type": "stream",
     "text": [
      "  0%|▍                                                                                                               | 1/234 [00:00<00:06, 34.29it/s]\n",
      "  3%|██▉                                                                                                              | 1/39 [00:00<00:00, 50.55it/s]\n"
     ]
    },
    {
     "name": "stdout",
     "output_type": "stream",
     "text": [
      "Epoch: 187 | disc_loss1: 0.029798593372106552 | gen_loss: -0.6196913719177246 \n"
     ]
    },
    {
     "name": "stderr",
     "output_type": "stream",
     "text": [
      "  0%|▍                                                                                                               | 1/234 [00:00<00:06, 34.03it/s]\n",
      "  3%|██▉                                                                                                              | 1/39 [00:00<00:00, 49.86it/s]\n"
     ]
    },
    {
     "name": "stdout",
     "output_type": "stream",
     "text": [
      "Epoch: 188 | disc_loss1: 0.1550411880016327 | gen_loss: -0.5469499230384827 \n"
     ]
    },
    {
     "name": "stderr",
     "output_type": "stream",
     "text": [
      "  0%|▍                                                                                                               | 1/234 [00:00<00:06, 33.58it/s]\n",
      "  3%|██▉                                                                                                              | 1/39 [00:00<00:00, 49.68it/s]\n"
     ]
    },
    {
     "name": "stdout",
     "output_type": "stream",
     "text": [
      "Epoch: 189 | disc_loss1: 0.2992132604122162 | gen_loss: -0.7307730317115784 \n"
     ]
    },
    {
     "name": "stderr",
     "output_type": "stream",
     "text": [
      "  0%|▍                                                                                                               | 1/234 [00:00<00:06, 34.33it/s]\n",
      "  3%|██▉                                                                                                              | 1/39 [00:00<00:00, 49.62it/s]\n"
     ]
    },
    {
     "name": "stdout",
     "output_type": "stream",
     "text": [
      "Epoch: 190 | disc_loss1: 0.38026008009910583 | gen_loss: -0.4705814719200134 \n"
     ]
    },
    {
     "name": "stderr",
     "output_type": "stream",
     "text": [
      "  0%|▍                                                                                                               | 1/234 [00:00<00:06, 33.86it/s]\n",
      "  3%|██▉                                                                                                              | 1/39 [00:00<00:00, 50.33it/s]\n"
     ]
    },
    {
     "name": "stdout",
     "output_type": "stream",
     "text": [
      "Epoch: 191 | disc_loss1: 0.35568952560424805 | gen_loss: -0.48641782999038696 \n"
     ]
    },
    {
     "name": "stderr",
     "output_type": "stream",
     "text": [
      "  0%|▍                                                                                                               | 1/234 [00:00<00:06, 33.61it/s]\n",
      "  3%|██▉                                                                                                              | 1/39 [00:00<00:00, 50.17it/s]\n"
     ]
    },
    {
     "name": "stdout",
     "output_type": "stream",
     "text": [
      "Epoch: 192 | disc_loss1: 0.3084615170955658 | gen_loss: -0.0014923351118341088 \n"
     ]
    },
    {
     "name": "stderr",
     "output_type": "stream",
     "text": [
      "  0%|▍                                                                                                               | 1/234 [00:00<00:06, 34.34it/s]\n",
      "  3%|██▉                                                                                                              | 1/39 [00:00<00:00, 50.39it/s]\n"
     ]
    },
    {
     "name": "stdout",
     "output_type": "stream",
     "text": [
      "Epoch: 193 | disc_loss1: 0.040456727147102356 | gen_loss: 0.33641210198402405 \n"
     ]
    },
    {
     "name": "stderr",
     "output_type": "stream",
     "text": [
      "  0%|▍                                                                                                               | 1/234 [00:00<00:06, 33.95it/s]\n",
      "  3%|██▉                                                                                                              | 1/39 [00:00<00:00, 49.79it/s]\n"
     ]
    },
    {
     "name": "stdout",
     "output_type": "stream",
     "text": [
      "Epoch: 194 | disc_loss1: 0.07240882515907288 | gen_loss: 0.7959110140800476 \n"
     ]
    },
    {
     "name": "stderr",
     "output_type": "stream",
     "text": [
      "  0%|▍                                                                                                               | 1/234 [00:00<00:06, 33.80it/s]\n",
      "  3%|██▉                                                                                                              | 1/39 [00:00<00:00, 50.49it/s]\n"
     ]
    },
    {
     "name": "stdout",
     "output_type": "stream",
     "text": [
      "Epoch: 195 | disc_loss1: -0.4109777808189392 | gen_loss: 1.4848765134811401 \n"
     ]
    },
    {
     "name": "stderr",
     "output_type": "stream",
     "text": [
      "  0%|▍                                                                                                               | 1/234 [00:00<00:06, 34.64it/s]\n",
      "  3%|██▉                                                                                                              | 1/39 [00:00<00:00, 50.70it/s]\n"
     ]
    },
    {
     "name": "stdout",
     "output_type": "stream",
     "text": [
      "Epoch: 196 | disc_loss1: -0.45374271273612976 | gen_loss: 1.482204794883728 \n"
     ]
    },
    {
     "name": "stderr",
     "output_type": "stream",
     "text": [
      "  0%|▍                                                                                                               | 1/234 [00:00<00:06, 33.79it/s]\n",
      "  3%|██▉                                                                                                              | 1/39 [00:00<00:00, 49.95it/s]\n"
     ]
    },
    {
     "name": "stdout",
     "output_type": "stream",
     "text": [
      "Epoch: 197 | disc_loss1: -0.18472017347812653 | gen_loss: 1.630798578262329 \n"
     ]
    },
    {
     "name": "stderr",
     "output_type": "stream",
     "text": [
      "  0%|▍                                                                                                               | 1/234 [00:00<00:06, 33.82it/s]\n",
      "  3%|██▉                                                                                                              | 1/39 [00:00<00:00, 49.71it/s]\n"
     ]
    },
    {
     "name": "stdout",
     "output_type": "stream",
     "text": [
      "Epoch: 198 | disc_loss1: -0.007197588682174683 | gen_loss: 1.0515843629837036 \n"
     ]
    },
    {
     "name": "stderr",
     "output_type": "stream",
     "text": [
      "  0%|▍                                                                                                               | 1/234 [00:00<00:06, 34.90it/s]\n",
      "  3%|██▉                                                                                                              | 1/39 [00:00<00:00, 50.26it/s]\n"
     ]
    },
    {
     "name": "stdout",
     "output_type": "stream",
     "text": [
      "Epoch: 199 | disc_loss1: 0.19742700457572937 | gen_loss: 1.28193199634552 \n"
     ]
    },
    {
     "name": "stderr",
     "output_type": "stream",
     "text": [
      "  0%|▍                                                                                                               | 1/234 [00:00<00:06, 33.80it/s]\n",
      "  3%|██▉                                                                                                              | 1/39 [00:00<00:00, 50.38it/s]\n"
     ]
    },
    {
     "name": "stdout",
     "output_type": "stream",
     "text": [
      "Epoch: 200 | disc_loss1: 0.26802873611450195 | gen_loss: 0.7369120121002197 \n"
     ]
    },
    {
     "name": "stderr",
     "output_type": "stream",
     "text": [
      "  0%|▍                                                                                                               | 1/234 [00:00<00:06, 33.74it/s]\n",
      "  3%|██▉                                                                                                              | 1/39 [00:00<00:00, 51.24it/s]\n"
     ]
    },
    {
     "name": "stdout",
     "output_type": "stream",
     "text": [
      "Epoch: 201 | disc_loss1: 0.23690390586853027 | gen_loss: 0.8652665019035339 \n"
     ]
    },
    {
     "name": "stderr",
     "output_type": "stream",
     "text": [
      "  0%|▍                                                                                                               | 1/234 [00:00<00:06, 34.43it/s]\n",
      "  3%|██▉                                                                                                              | 1/39 [00:00<00:00, 50.05it/s]\n"
     ]
    },
    {
     "name": "stdout",
     "output_type": "stream",
     "text": [
      "Epoch: 202 | disc_loss1: 0.21164998412132263 | gen_loss: 0.6462108492851257 \n"
     ]
    },
    {
     "name": "stderr",
     "output_type": "stream",
     "text": [
      "  0%|▍                                                                                                               | 1/234 [00:00<00:06, 34.46it/s]\n",
      "  3%|██▉                                                                                                              | 1/39 [00:00<00:00, 49.94it/s]\n"
     ]
    },
    {
     "name": "stdout",
     "output_type": "stream",
     "text": [
      "Epoch: 203 | disc_loss1: 0.24504467844963074 | gen_loss: 0.6293945908546448 \n"
     ]
    },
    {
     "name": "stderr",
     "output_type": "stream",
     "text": [
      "  0%|▍                                                                                                               | 1/234 [00:00<00:06, 34.24it/s]\n",
      "  3%|██▉                                                                                                              | 1/39 [00:00<00:00, 49.97it/s]\n"
     ]
    },
    {
     "name": "stdout",
     "output_type": "stream",
     "text": [
      "Epoch: 204 | disc_loss1: 0.22956052422523499 | gen_loss: 0.4931721091270447 \n"
     ]
    },
    {
     "name": "stderr",
     "output_type": "stream",
     "text": [
      "  0%|▍                                                                                                               | 1/234 [00:00<00:06, 33.84it/s]\n",
      "  3%|██▉                                                                                                              | 1/39 [00:00<00:00, 50.48it/s]\n"
     ]
    },
    {
     "name": "stdout",
     "output_type": "stream",
     "text": [
      "Epoch: 205 | disc_loss1: 0.1768888384103775 | gen_loss: 0.46212610602378845 \n"
     ]
    },
    {
     "name": "stderr",
     "output_type": "stream",
     "text": [
      "  0%|▍                                                                                                               | 1/234 [00:00<00:06, 34.47it/s]\n",
      "  3%|██▉                                                                                                              | 1/39 [00:00<00:00, 48.37it/s]\n"
     ]
    },
    {
     "name": "stdout",
     "output_type": "stream",
     "text": [
      "Epoch: 206 | disc_loss1: 0.17510777711868286 | gen_loss: 0.36132094264030457 \n"
     ]
    },
    {
     "name": "stderr",
     "output_type": "stream",
     "text": [
      "  0%|▍                                                                                                               | 1/234 [00:00<00:06, 34.14it/s]\n",
      "  3%|██▉                                                                                                              | 1/39 [00:00<00:00, 50.27it/s]\n"
     ]
    },
    {
     "name": "stdout",
     "output_type": "stream",
     "text": [
      "Epoch: 207 | disc_loss1: 0.05936266481876373 | gen_loss: 0.32272768020629883 \n"
     ]
    },
    {
     "name": "stderr",
     "output_type": "stream",
     "text": [
      "  0%|▍                                                                                                               | 1/234 [00:00<00:06, 34.44it/s]\n",
      "  3%|██▉                                                                                                              | 1/39 [00:00<00:00, 50.45it/s]\n"
     ]
    },
    {
     "name": "stdout",
     "output_type": "stream",
     "text": [
      "Epoch: 208 | disc_loss1: -0.022403016686439514 | gen_loss: 0.24568518996238708 \n"
     ]
    },
    {
     "name": "stderr",
     "output_type": "stream",
     "text": [
      "  0%|▍                                                                                                               | 1/234 [00:00<00:06, 33.93it/s]\n",
      "  3%|██▉                                                                                                              | 1/39 [00:00<00:00, 49.59it/s]\n"
     ]
    },
    {
     "name": "stdout",
     "output_type": "stream",
     "text": [
      "Epoch: 209 | disc_loss1: -0.09786634147167206 | gen_loss: 0.15395301580429077 \n"
     ]
    },
    {
     "name": "stderr",
     "output_type": "stream",
     "text": [
      "  0%|▍                                                                                                               | 1/234 [00:00<00:06, 34.19it/s]\n",
      "  3%|██▉                                                                                                              | 1/39 [00:00<00:00, 50.88it/s]\n"
     ]
    },
    {
     "name": "stdout",
     "output_type": "stream",
     "text": [
      "Epoch: 210 | disc_loss1: -0.13783413171768188 | gen_loss: 0.05023210123181343 \n"
     ]
    },
    {
     "name": "stderr",
     "output_type": "stream",
     "text": [
      "  0%|▍                                                                                                               | 1/234 [00:00<00:06, 34.45it/s]\n",
      "  3%|██▉                                                                                                              | 1/39 [00:00<00:00, 49.78it/s]\n"
     ]
    },
    {
     "name": "stdout",
     "output_type": "stream",
     "text": [
      "Epoch: 211 | disc_loss1: -0.15261231362819672 | gen_loss: -0.06429576128721237 \n"
     ]
    },
    {
     "name": "stderr",
     "output_type": "stream",
     "text": [
      "  0%|▍                                                                                                               | 1/234 [00:00<00:06, 34.41it/s]\n",
      "  3%|██▉                                                                                                              | 1/39 [00:00<00:00, 49.60it/s]\n"
     ]
    },
    {
     "name": "stdout",
     "output_type": "stream",
     "text": [
      "Epoch: 212 | disc_loss1: -0.16193757951259613 | gen_loss: -0.173602893948555 \n"
     ]
    },
    {
     "name": "stderr",
     "output_type": "stream",
     "text": [
      "  0%|▍                                                                                                               | 1/234 [00:00<00:06, 34.78it/s]\n",
      "  3%|██▉                                                                                                              | 1/39 [00:00<00:00, 49.75it/s]\n"
     ]
    },
    {
     "name": "stdout",
     "output_type": "stream",
     "text": [
      "Epoch: 213 | disc_loss1: -0.09432591497898102 | gen_loss: -0.29828277230262756 \n"
     ]
    },
    {
     "name": "stderr",
     "output_type": "stream",
     "text": [
      "  0%|▍                                                                                                               | 1/234 [00:00<00:06, 33.90it/s]\n",
      "  3%|██▉                                                                                                              | 1/39 [00:00<00:00, 50.39it/s]\n"
     ]
    },
    {
     "name": "stdout",
     "output_type": "stream",
     "text": [
      "Epoch: 214 | disc_loss1: -0.025073744356632233 | gen_loss: -0.429735392332077 \n"
     ]
    },
    {
     "name": "stderr",
     "output_type": "stream",
     "text": [
      "  0%|▍                                                                                                               | 1/234 [00:00<00:06, 34.13it/s]\n",
      "  3%|██▉                                                                                                              | 1/39 [00:00<00:00, 50.30it/s]\n"
     ]
    },
    {
     "name": "stdout",
     "output_type": "stream",
     "text": [
      "Epoch: 215 | disc_loss1: 0.045047249644994736 | gen_loss: -0.440004825592041 \n"
     ]
    },
    {
     "name": "stderr",
     "output_type": "stream",
     "text": [
      "  0%|▍                                                                                                               | 1/234 [00:00<00:06, 34.52it/s]\n",
      "  3%|██▉                                                                                                              | 1/39 [00:00<00:00, 49.78it/s]\n"
     ]
    },
    {
     "name": "stdout",
     "output_type": "stream",
     "text": [
      "Epoch: 216 | disc_loss1: 0.1387096792459488 | gen_loss: -0.5982404947280884 \n"
     ]
    },
    {
     "name": "stderr",
     "output_type": "stream",
     "text": [
      "  0%|▍                                                                                                               | 1/234 [00:00<00:06, 33.65it/s]\n",
      "  3%|██▉                                                                                                              | 1/39 [00:00<00:00, 40.74it/s]\n"
     ]
    },
    {
     "name": "stdout",
     "output_type": "stream",
     "text": [
      "Epoch: 217 | disc_loss1: 0.29882383346557617 | gen_loss: -0.3655020296573639 \n"
     ]
    },
    {
     "name": "stderr",
     "output_type": "stream",
     "text": [
      "  0%|▍                                                                                                               | 1/234 [00:00<00:07, 32.45it/s]\n",
      "  3%|██▉                                                                                                              | 1/39 [00:00<00:00, 49.43it/s]\n"
     ]
    },
    {
     "name": "stdout",
     "output_type": "stream",
     "text": [
      "Epoch: 218 | disc_loss1: 0.3061455488204956 | gen_loss: -0.5865911245346069 \n"
     ]
    },
    {
     "name": "stderr",
     "output_type": "stream",
     "text": [
      "  0%|▍                                                                                                               | 1/234 [00:00<00:06, 33.98it/s]\n",
      "  3%|██▉                                                                                                              | 1/39 [00:00<00:00, 49.85it/s]\n"
     ]
    },
    {
     "name": "stdout",
     "output_type": "stream",
     "text": [
      "Epoch: 219 | disc_loss1: 0.33395177125930786 | gen_loss: -0.1951233297586441 \n"
     ]
    },
    {
     "name": "stderr",
     "output_type": "stream",
     "text": [
      "  0%|▍                                                                                                               | 1/234 [00:00<00:06, 34.42it/s]\n",
      "  3%|██▉                                                                                                              | 1/39 [00:00<00:00, 50.27it/s]\n"
     ]
    },
    {
     "name": "stdout",
     "output_type": "stream",
     "text": [
      "Epoch: 220 | disc_loss1: 0.20588134229183197 | gen_loss: -0.19953219592571259 \n"
     ]
    },
    {
     "name": "stderr",
     "output_type": "stream",
     "text": [
      "  0%|▍                                                                                                               | 1/234 [00:00<00:06, 34.18it/s]\n",
      "  3%|██▉                                                                                                              | 1/39 [00:00<00:00, 50.53it/s]\n"
     ]
    },
    {
     "name": "stdout",
     "output_type": "stream",
     "text": [
      "Epoch: 221 | disc_loss1: 0.14802704751491547 | gen_loss: 0.15044522285461426 \n"
     ]
    },
    {
     "name": "stderr",
     "output_type": "stream",
     "text": [
      "  0%|▍                                                                                                               | 1/234 [00:00<00:06, 34.35it/s]\n",
      "  3%|██▉                                                                                                              | 1/39 [00:00<00:00, 50.19it/s]\n"
     ]
    },
    {
     "name": "stdout",
     "output_type": "stream",
     "text": [
      "Epoch: 222 | disc_loss1: 0.05136554688215256 | gen_loss: 0.4071146249771118 \n"
     ]
    },
    {
     "name": "stderr",
     "output_type": "stream",
     "text": [
      "  0%|▍                                                                                                               | 1/234 [00:00<00:06, 34.09it/s]\n",
      "  3%|██▉                                                                                                              | 1/39 [00:00<00:00, 50.41it/s]\n"
     ]
    },
    {
     "name": "stdout",
     "output_type": "stream",
     "text": [
      "Epoch: 223 | disc_loss1: -0.0073070526123046875 | gen_loss: 0.6637873649597168 \n"
     ]
    },
    {
     "name": "stderr",
     "output_type": "stream",
     "text": [
      "  0%|▍                                                                                                               | 1/234 [00:00<00:06, 33.85it/s]\n",
      "  3%|██▉                                                                                                              | 1/39 [00:00<00:00, 50.11it/s]\n"
     ]
    },
    {
     "name": "stdout",
     "output_type": "stream",
     "text": [
      "Epoch: 224 | disc_loss1: -0.0662158727645874 | gen_loss: 1.0367947816848755 \n"
     ]
    },
    {
     "name": "stderr",
     "output_type": "stream",
     "text": [
      "  0%|▍                                                                                                               | 1/234 [00:00<00:06, 33.74it/s]\n",
      "  3%|██▉                                                                                                              | 1/39 [00:00<00:00, 50.14it/s]\n"
     ]
    },
    {
     "name": "stdout",
     "output_type": "stream",
     "text": [
      "Epoch: 225 | disc_loss1: -0.032715603709220886 | gen_loss: 0.9760159850120544 \n"
     ]
    },
    {
     "name": "stderr",
     "output_type": "stream",
     "text": [
      "  0%|▍                                                                                                               | 1/234 [00:00<00:06, 34.18it/s]\n",
      "  3%|██▉                                                                                                              | 1/39 [00:00<00:00, 49.55it/s]\n"
     ]
    },
    {
     "name": "stdout",
     "output_type": "stream",
     "text": [
      "Epoch: 226 | disc_loss1: 0.07742008566856384 | gen_loss: 1.264511227607727 \n"
     ]
    },
    {
     "name": "stderr",
     "output_type": "stream",
     "text": [
      "  0%|▍                                                                                                               | 1/234 [00:00<00:06, 34.20it/s]\n",
      "  3%|██▉                                                                                                              | 1/39 [00:00<00:00, 49.88it/s]\n"
     ]
    },
    {
     "name": "stdout",
     "output_type": "stream",
     "text": [
      "Epoch: 227 | disc_loss1: 0.16220974922180176 | gen_loss: 0.8883295059204102 \n"
     ]
    },
    {
     "name": "stderr",
     "output_type": "stream",
     "text": [
      "  0%|▍                                                                                                               | 1/234 [00:00<00:06, 34.39it/s]\n",
      "  3%|██▉                                                                                                              | 1/39 [00:00<00:00, 50.37it/s]\n"
     ]
    },
    {
     "name": "stdout",
     "output_type": "stream",
     "text": [
      "Epoch: 228 | disc_loss1: 0.22345863282680511 | gen_loss: 1.0515960454940796 \n"
     ]
    },
    {
     "name": "stderr",
     "output_type": "stream",
     "text": [
      "  0%|▍                                                                                                               | 1/234 [00:00<00:06, 34.55it/s]\n",
      "  3%|██▉                                                                                                              | 1/39 [00:00<00:00, 50.12it/s]\n"
     ]
    },
    {
     "name": "stdout",
     "output_type": "stream",
     "text": [
      "Epoch: 229 | disc_loss1: 0.29454779624938965 | gen_loss: 0.7315002083778381 \n"
     ]
    },
    {
     "name": "stderr",
     "output_type": "stream",
     "text": [
      "  0%|▍                                                                                                               | 1/234 [00:00<00:06, 33.77it/s]\n",
      "  3%|██▉                                                                                                              | 1/39 [00:00<00:00, 50.58it/s]\n"
     ]
    },
    {
     "name": "stdout",
     "output_type": "stream",
     "text": [
      "Epoch: 230 | disc_loss1: 0.30642715096473694 | gen_loss: 0.7815655469894409 \n"
     ]
    },
    {
     "name": "stderr",
     "output_type": "stream",
     "text": [
      "  0%|▍                                                                                                               | 1/234 [00:00<00:06, 34.00it/s]\n",
      "  3%|██▉                                                                                                              | 1/39 [00:00<00:00, 50.29it/s]\n"
     ]
    },
    {
     "name": "stdout",
     "output_type": "stream",
     "text": [
      "Epoch: 231 | disc_loss1: 0.31589120626449585 | gen_loss: 0.6003739833831787 \n"
     ]
    },
    {
     "name": "stderr",
     "output_type": "stream",
     "text": [
      "  0%|▍                                                                                                               | 1/234 [00:00<00:06, 34.09it/s]\n",
      "  3%|██▉                                                                                                              | 1/39 [00:00<00:00, 49.70it/s]\n"
     ]
    },
    {
     "name": "stdout",
     "output_type": "stream",
     "text": [
      "Epoch: 232 | disc_loss1: 0.28503620624542236 | gen_loss: 0.579988956451416 \n"
     ]
    },
    {
     "name": "stderr",
     "output_type": "stream",
     "text": [
      "  0%|▍                                                                                                               | 1/234 [00:00<00:06, 34.00it/s]\n",
      "  3%|██▉                                                                                                              | 1/39 [00:00<00:00, 50.26it/s]\n"
     ]
    },
    {
     "name": "stdout",
     "output_type": "stream",
     "text": [
      "Epoch: 233 | disc_loss1: 0.24868126213550568 | gen_loss: 0.44634249806404114 \n"
     ]
    },
    {
     "name": "stderr",
     "output_type": "stream",
     "text": [
      "  0%|▍                                                                                                               | 1/234 [00:00<00:06, 34.36it/s]\n",
      "  3%|██▉                                                                                                              | 1/39 [00:00<00:00, 49.83it/s]\n"
     ]
    },
    {
     "name": "stdout",
     "output_type": "stream",
     "text": [
      "Epoch: 234 | disc_loss1: 0.15634742379188538 | gen_loss: 0.41013914346694946 \n"
     ]
    },
    {
     "name": "stderr",
     "output_type": "stream",
     "text": [
      "  0%|▍                                                                                                               | 1/234 [00:00<00:06, 34.17it/s]\n",
      "  3%|██▉                                                                                                              | 1/39 [00:00<00:00, 49.90it/s]\n"
     ]
    },
    {
     "name": "stdout",
     "output_type": "stream",
     "text": [
      "Epoch: 235 | disc_loss1: 0.10695776343345642 | gen_loss: 0.3176310062408447 \n"
     ]
    },
    {
     "name": "stderr",
     "output_type": "stream",
     "text": [
      "  0%|▍                                                                                                               | 1/234 [00:00<00:06, 34.60it/s]\n",
      "  3%|██▉                                                                                                              | 1/39 [00:00<00:00, 49.89it/s]\n"
     ]
    },
    {
     "name": "stdout",
     "output_type": "stream",
     "text": [
      "Epoch: 236 | disc_loss1: -0.05664438009262085 | gen_loss: 0.22925271093845367 \n"
     ]
    },
    {
     "name": "stderr",
     "output_type": "stream",
     "text": [
      "  0%|▍                                                                                                               | 1/234 [00:00<00:06, 34.09it/s]\n",
      "  3%|██▉                                                                                                              | 1/39 [00:00<00:00, 50.68it/s]\n"
     ]
    },
    {
     "name": "stdout",
     "output_type": "stream",
     "text": [
      "Epoch: 237 | disc_loss1: -0.1359330713748932 | gen_loss: 0.18028932809829712 \n"
     ]
    },
    {
     "name": "stderr",
     "output_type": "stream",
     "text": [
      "  0%|▍                                                                                                               | 1/234 [00:00<00:06, 34.21it/s]\n",
      "  3%|██▉                                                                                                              | 1/39 [00:00<00:00, 51.20it/s]\n"
     ]
    },
    {
     "name": "stdout",
     "output_type": "stream",
     "text": [
      "Epoch: 238 | disc_loss1: -0.1455180048942566 | gen_loss: 0.057810958474874496 \n"
     ]
    },
    {
     "name": "stderr",
     "output_type": "stream",
     "text": [
      "  0%|▍                                                                                                               | 1/234 [00:00<00:06, 34.59it/s]\n",
      "  3%|██▉                                                                                                              | 1/39 [00:00<00:00, 50.49it/s]\n"
     ]
    },
    {
     "name": "stdout",
     "output_type": "stream",
     "text": [
      "Epoch: 239 | disc_loss1: -0.15751758217811584 | gen_loss: 0.05193648487329483 \n"
     ]
    },
    {
     "name": "stderr",
     "output_type": "stream",
     "text": [
      "  0%|▍                                                                                                               | 1/234 [00:00<00:06, 34.50it/s]\n",
      "  3%|██▉                                                                                                              | 1/39 [00:00<00:00, 49.17it/s]\n"
     ]
    },
    {
     "name": "stdout",
     "output_type": "stream",
     "text": [
      "Epoch: 240 | disc_loss1: -0.11080951988697052 | gen_loss: -0.1450829952955246 \n"
     ]
    },
    {
     "name": "stderr",
     "output_type": "stream",
     "text": [
      "  0%|▍                                                                                                               | 1/234 [00:00<00:06, 33.85it/s]\n",
      "  3%|██▉                                                                                                              | 1/39 [00:00<00:00, 49.75it/s]\n"
     ]
    },
    {
     "name": "stdout",
     "output_type": "stream",
     "text": [
      "Epoch: 241 | disc_loss1: -0.05268494039773941 | gen_loss: -0.1083156168460846 \n"
     ]
    },
    {
     "name": "stderr",
     "output_type": "stream",
     "text": [
      "  0%|▍                                                                                                               | 1/234 [00:00<00:06, 34.36it/s]\n",
      "  3%|██▉                                                                                                              | 1/39 [00:00<00:00, 49.88it/s]\n"
     ]
    },
    {
     "name": "stdout",
     "output_type": "stream",
     "text": [
      "Epoch: 242 | disc_loss1: -0.01365380734205246 | gen_loss: -0.3457247316837311 \n"
     ]
    },
    {
     "name": "stderr",
     "output_type": "stream",
     "text": [
      "  0%|▍                                                                                                               | 1/234 [00:00<00:06, 34.72it/s]\n",
      "  3%|██▉                                                                                                              | 1/39 [00:00<00:00, 50.69it/s]\n"
     ]
    },
    {
     "name": "stdout",
     "output_type": "stream",
     "text": [
      "Epoch: 243 | disc_loss1: 0.09567482769489288 | gen_loss: -0.31016555428504944 \n"
     ]
    },
    {
     "name": "stderr",
     "output_type": "stream",
     "text": [
      "  0%|▍                                                                                                               | 1/234 [00:00<00:06, 34.36it/s]\n",
      "  3%|██▉                                                                                                              | 1/39 [00:00<00:00, 50.38it/s]\n"
     ]
    },
    {
     "name": "stdout",
     "output_type": "stream",
     "text": [
      "Epoch: 244 | disc_loss1: 0.1909121870994568 | gen_loss: -0.5764681696891785 \n"
     ]
    },
    {
     "name": "stderr",
     "output_type": "stream",
     "text": [
      "  0%|▍                                                                                                               | 1/234 [00:00<00:06, 33.75it/s]\n",
      "  3%|██▉                                                                                                              | 1/39 [00:00<00:00, 50.18it/s]\n"
     ]
    },
    {
     "name": "stdout",
     "output_type": "stream",
     "text": [
      "Epoch: 245 | disc_loss1: 0.3750663697719574 | gen_loss: -0.4493485689163208 \n"
     ]
    },
    {
     "name": "stderr",
     "output_type": "stream",
     "text": [
      "  0%|▍                                                                                                               | 1/234 [00:00<00:06, 34.43it/s]\n",
      "  3%|██▉                                                                                                              | 1/39 [00:00<00:00, 51.04it/s]\n"
     ]
    },
    {
     "name": "stdout",
     "output_type": "stream",
     "text": [
      "Epoch: 246 | disc_loss1: 0.4334453046321869 | gen_loss: -0.7434750199317932 \n"
     ]
    },
    {
     "name": "stderr",
     "output_type": "stream",
     "text": [
      "  0%|▍                                                                                                               | 1/234 [00:00<00:06, 33.75it/s]\n",
      "  3%|██▉                                                                                                              | 1/39 [00:00<00:00, 49.98it/s]\n"
     ]
    },
    {
     "name": "stdout",
     "output_type": "stream",
     "text": [
      "Epoch: 247 | disc_loss1: 0.5236364603042603 | gen_loss: -0.41238129138946533 \n"
     ]
    },
    {
     "name": "stderr",
     "output_type": "stream",
     "text": [
      "  0%|▍                                                                                                               | 1/234 [00:00<00:06, 34.37it/s]\n",
      "  3%|██▉                                                                                                              | 1/39 [00:00<00:00, 50.24it/s]\n"
     ]
    },
    {
     "name": "stdout",
     "output_type": "stream",
     "text": [
      "Epoch: 248 | disc_loss1: 0.392631471157074 | gen_loss: -0.38653233647346497 \n"
     ]
    },
    {
     "name": "stderr",
     "output_type": "stream",
     "text": [
      "  0%|▍                                                                                                               | 1/234 [00:00<00:06, 34.19it/s]\n",
      "  3%|██▉                                                                                                              | 1/39 [00:00<00:00, 49.88it/s]\n"
     ]
    },
    {
     "name": "stdout",
     "output_type": "stream",
     "text": [
      "Epoch: 249 | disc_loss1: 0.2709975242614746 | gen_loss: 0.12695308029651642 \n"
     ]
    },
    {
     "name": "stderr",
     "output_type": "stream",
     "text": [
      "  0%|▍                                                                                                               | 1/234 [00:00<00:06, 34.07it/s]\n",
      "  3%|██▉                                                                                                              | 1/39 [00:00<00:00, 50.30it/s]\n"
     ]
    },
    {
     "name": "stdout",
     "output_type": "stream",
     "text": [
      "Epoch: 250 | disc_loss1: -0.0030058622360229492 | gen_loss: 0.6241885423660278 \n"
     ]
    },
    {
     "name": "stderr",
     "output_type": "stream",
     "text": [
      "  0%|▍                                                                                                               | 1/234 [00:00<00:06, 33.72it/s]\n",
      "  3%|██▉                                                                                                              | 1/39 [00:00<00:00, 52.26it/s]\n"
     ]
    },
    {
     "name": "stdout",
     "output_type": "stream",
     "text": [
      "Epoch: 251 | disc_loss1: -0.04078871011734009 | gen_loss: 1.005295753479004 \n"
     ]
    },
    {
     "name": "stderr",
     "output_type": "stream",
     "text": [
      "  0%|▍                                                                                                               | 1/234 [00:00<00:06, 33.98it/s]\n",
      "  3%|██▉                                                                                                              | 1/39 [00:00<00:00, 49.50it/s]\n"
     ]
    },
    {
     "name": "stdout",
     "output_type": "stream",
     "text": [
      "Epoch: 252 | disc_loss1: -0.3815165162086487 | gen_loss: 1.7452527284622192 \n"
     ]
    },
    {
     "name": "stderr",
     "output_type": "stream",
     "text": [
      "  0%|▍                                                                                                               | 1/234 [00:00<00:06, 34.68it/s]\n",
      "  3%|██▉                                                                                                              | 1/39 [00:00<00:00, 49.83it/s]\n"
     ]
    },
    {
     "name": "stdout",
     "output_type": "stream",
     "text": [
      "Epoch: 253 | disc_loss1: -0.34761691093444824 | gen_loss: 1.535275936126709 \n"
     ]
    },
    {
     "name": "stderr",
     "output_type": "stream",
     "text": [
      "  0%|▍                                                                                                               | 1/234 [00:00<00:06, 34.07it/s]\n",
      "  3%|██▉                                                                                                              | 1/39 [00:00<00:00, 51.06it/s]\n"
     ]
    },
    {
     "name": "stdout",
     "output_type": "stream",
     "text": [
      "Epoch: 254 | disc_loss1: -0.2935417890548706 | gen_loss: 1.9638872146606445 \n"
     ]
    },
    {
     "name": "stderr",
     "output_type": "stream",
     "text": [
      "  0%|▍                                                                                                               | 1/234 [00:00<00:06, 34.23it/s]\n",
      "  3%|██▉                                                                                                              | 1/39 [00:00<00:00, 51.29it/s]\n"
     ]
    },
    {
     "name": "stdout",
     "output_type": "stream",
     "text": [
      "Epoch: 255 | disc_loss1: -0.11962571740150452 | gen_loss: 1.3493317365646362 \n"
     ]
    },
    {
     "name": "stderr",
     "output_type": "stream",
     "text": [
      "  0%|▍                                                                                                               | 1/234 [00:00<00:06, 34.44it/s]\n",
      "  3%|██▉                                                                                                              | 1/39 [00:00<00:00, 50.80it/s]\n"
     ]
    },
    {
     "name": "stdout",
     "output_type": "stream",
     "text": [
      "Epoch: 256 | disc_loss1: 0.09351295232772827 | gen_loss: 1.4717015027999878 \n"
     ]
    },
    {
     "name": "stderr",
     "output_type": "stream",
     "text": [
      "  0%|▍                                                                                                               | 1/234 [00:00<00:06, 33.69it/s]\n",
      "  3%|██▉                                                                                                              | 1/39 [00:00<00:00, 49.87it/s]\n"
     ]
    },
    {
     "name": "stdout",
     "output_type": "stream",
     "text": [
      "Epoch: 257 | disc_loss1: 0.22667382657527924 | gen_loss: 1.0189725160598755 \n"
     ]
    },
    {
     "name": "stderr",
     "output_type": "stream",
     "text": [
      "  0%|▍                                                                                                               | 1/234 [00:00<00:06, 34.33it/s]\n",
      "  3%|██▉                                                                                                              | 1/39 [00:00<00:00, 50.46it/s]\n"
     ]
    },
    {
     "name": "stdout",
     "output_type": "stream",
     "text": [
      "Epoch: 258 | disc_loss1: 0.26946181058883667 | gen_loss: 1.13896644115448 \n"
     ]
    },
    {
     "name": "stderr",
     "output_type": "stream",
     "text": [
      "  0%|▍                                                                                                               | 1/234 [00:00<00:06, 34.40it/s]\n",
      "  3%|██▉                                                                                                              | 1/39 [00:00<00:00, 50.30it/s]\n"
     ]
    },
    {
     "name": "stdout",
     "output_type": "stream",
     "text": [
      "Epoch: 259 | disc_loss1: 0.3058997094631195 | gen_loss: 0.8304392099380493 \n"
     ]
    },
    {
     "name": "stderr",
     "output_type": "stream",
     "text": [
      "  0%|▍                                                                                                               | 1/234 [00:00<00:06, 34.50it/s]\n",
      "  3%|██▉                                                                                                              | 1/39 [00:00<00:00, 49.82it/s]\n"
     ]
    },
    {
     "name": "stdout",
     "output_type": "stream",
     "text": [
      "Epoch: 260 | disc_loss1: 0.3144829273223877 | gen_loss: 0.8496611714363098 \n"
     ]
    },
    {
     "name": "stderr",
     "output_type": "stream",
     "text": [
      "  0%|▍                                                                                                               | 1/234 [00:00<00:06, 34.19it/s]\n",
      "  3%|██▉                                                                                                              | 1/39 [00:00<00:00, 50.51it/s]\n"
     ]
    },
    {
     "name": "stdout",
     "output_type": "stream",
     "text": [
      "Epoch: 261 | disc_loss1: 0.29315078258514404 | gen_loss: 0.6745822429656982 \n"
     ]
    },
    {
     "name": "stderr",
     "output_type": "stream",
     "text": [
      "  0%|▍                                                                                                               | 1/234 [00:00<00:06, 34.24it/s]\n",
      "  3%|██▉                                                                                                              | 1/39 [00:00<00:00, 49.85it/s]\n"
     ]
    },
    {
     "name": "stdout",
     "output_type": "stream",
     "text": [
      "Epoch: 262 | disc_loss1: 0.2597591280937195 | gen_loss: 0.6569159030914307 \n"
     ]
    },
    {
     "name": "stderr",
     "output_type": "stream",
     "text": [
      "  0%|▍                                                                                                               | 1/234 [00:00<00:06, 33.96it/s]\n",
      "  3%|██▉                                                                                                              | 1/39 [00:00<00:00, 49.45it/s]\n"
     ]
    },
    {
     "name": "stdout",
     "output_type": "stream",
     "text": [
      "Epoch: 263 | disc_loss1: 0.2570565342903137 | gen_loss: 0.5358758568763733 \n"
     ]
    },
    {
     "name": "stderr",
     "output_type": "stream",
     "text": [
      "  0%|▍                                                                                                               | 1/234 [00:00<00:06, 34.32it/s]\n",
      "  3%|██▉                                                                                                              | 1/39 [00:00<00:00, 51.95it/s]\n"
     ]
    },
    {
     "name": "stdout",
     "output_type": "stream",
     "text": [
      "Epoch: 264 | disc_loss1: 0.16067053377628326 | gen_loss: 0.4791930019855499 \n"
     ]
    },
    {
     "name": "stderr",
     "output_type": "stream",
     "text": [
      "  0%|▍                                                                                                               | 1/234 [00:00<00:06, 33.92it/s]\n",
      "  3%|██▉                                                                                                              | 1/39 [00:00<00:00, 50.14it/s]\n"
     ]
    },
    {
     "name": "stdout",
     "output_type": "stream",
     "text": [
      "Epoch: 265 | disc_loss1: 0.12094487249851227 | gen_loss: 0.4073583781719208 \n"
     ]
    },
    {
     "name": "stderr",
     "output_type": "stream",
     "text": [
      "  0%|▍                                                                                                               | 1/234 [00:00<00:06, 34.04it/s]\n",
      "  3%|██▉                                                                                                              | 1/39 [00:00<00:00, 50.52it/s]\n"
     ]
    },
    {
     "name": "stdout",
     "output_type": "stream",
     "text": [
      "Epoch: 266 | disc_loss1: 0.007459752261638641 | gen_loss: 0.3011724650859833 \n"
     ]
    },
    {
     "name": "stderr",
     "output_type": "stream",
     "text": [
      "  0%|▍                                                                                                               | 1/234 [00:00<00:06, 34.09it/s]\n",
      "  3%|██▉                                                                                                              | 1/39 [00:00<00:00, 49.87it/s]\n"
     ]
    },
    {
     "name": "stdout",
     "output_type": "stream",
     "text": [
      "Epoch: 267 | disc_loss1: -0.05122377723455429 | gen_loss: 0.2165035605430603 \n"
     ]
    },
    {
     "name": "stderr",
     "output_type": "stream",
     "text": [
      "  0%|▍                                                                                                               | 1/234 [00:00<00:06, 34.32it/s]\n",
      "  3%|██▉                                                                                                              | 1/39 [00:00<00:00, 50.58it/s]\n"
     ]
    },
    {
     "name": "stdout",
     "output_type": "stream",
     "text": [
      "Epoch: 268 | disc_loss1: -0.1093176081776619 | gen_loss: 0.12382511049509048 \n"
     ]
    },
    {
     "name": "stderr",
     "output_type": "stream",
     "text": [
      "  0%|▍                                                                                                               | 1/234 [00:00<00:06, 33.94it/s]\n",
      "  3%|██▉                                                                                                              | 1/39 [00:00<00:00, 50.40it/s]\n"
     ]
    },
    {
     "name": "stdout",
     "output_type": "stream",
     "text": [
      "Epoch: 269 | disc_loss1: -0.12942448258399963 | gen_loss: 0.05257372930645943 \n"
     ]
    },
    {
     "name": "stderr",
     "output_type": "stream",
     "text": [
      "  0%|▍                                                                                                               | 1/234 [00:00<00:07, 33.28it/s]\n",
      "  3%|██▉                                                                                                              | 1/39 [00:00<00:00, 50.11it/s]\n"
     ]
    },
    {
     "name": "stdout",
     "output_type": "stream",
     "text": [
      "Epoch: 270 | disc_loss1: -0.13731195032596588 | gen_loss: -0.054046012461185455 \n"
     ]
    },
    {
     "name": "stderr",
     "output_type": "stream",
     "text": [
      "  0%|▍                                                                                                               | 1/234 [00:00<00:06, 33.82it/s]\n",
      "  3%|██▉                                                                                                              | 1/39 [00:00<00:00, 49.78it/s]\n"
     ]
    },
    {
     "name": "stdout",
     "output_type": "stream",
     "text": [
      "Epoch: 271 | disc_loss1: -0.1365196853876114 | gen_loss: -0.11757826060056686 \n"
     ]
    },
    {
     "name": "stderr",
     "output_type": "stream",
     "text": [
      "  0%|▍                                                                                                               | 1/234 [00:00<00:06, 34.26it/s]\n",
      "  3%|██▉                                                                                                              | 1/39 [00:00<00:00, 50.86it/s]\n"
     ]
    },
    {
     "name": "stdout",
     "output_type": "stream",
     "text": [
      "Epoch: 272 | disc_loss1: -0.13383761048316956 | gen_loss: -0.19913285970687866 \n"
     ]
    },
    {
     "name": "stderr",
     "output_type": "stream",
     "text": [
      "  0%|▍                                                                                                               | 1/234 [00:00<00:06, 34.22it/s]\n",
      "  3%|██▉                                                                                                              | 1/39 [00:00<00:00, 50.39it/s]\n"
     ]
    },
    {
     "name": "stdout",
     "output_type": "stream",
     "text": [
      "Epoch: 273 | disc_loss1: -0.08904191851615906 | gen_loss: -0.23623166978359222 \n"
     ]
    },
    {
     "name": "stderr",
     "output_type": "stream",
     "text": [
      "  0%|▍                                                                                                               | 1/234 [00:00<00:06, 34.21it/s]\n",
      "  3%|██▉                                                                                                              | 1/39 [00:00<00:00, 49.95it/s]\n"
     ]
    },
    {
     "name": "stdout",
     "output_type": "stream",
     "text": [
      "Epoch: 274 | disc_loss1: -0.06026820093393326 | gen_loss: -0.2812038064002991 \n"
     ]
    },
    {
     "name": "stderr",
     "output_type": "stream",
     "text": [
      "  0%|▍                                                                                                               | 1/234 [00:00<00:06, 33.86it/s]\n",
      "  3%|██▉                                                                                                              | 1/39 [00:00<00:00, 51.64it/s]\n"
     ]
    },
    {
     "name": "stdout",
     "output_type": "stream",
     "text": [
      "Epoch: 275 | disc_loss1: -0.022611413151025772 | gen_loss: -0.23924501240253448 \n"
     ]
    },
    {
     "name": "stderr",
     "output_type": "stream",
     "text": [
      "  0%|▍                                                                                                               | 1/234 [00:00<00:06, 34.00it/s]\n",
      "  3%|██▉                                                                                                              | 1/39 [00:00<00:00, 50.38it/s]\n"
     ]
    },
    {
     "name": "stdout",
     "output_type": "stream",
     "text": [
      "Epoch: 276 | disc_loss1: 0.04100377857685089 | gen_loss: -0.2635652422904968 \n"
     ]
    },
    {
     "name": "stderr",
     "output_type": "stream",
     "text": [
      "  0%|▍                                                                                                               | 1/234 [00:00<00:06, 33.80it/s]\n",
      "  3%|██▉                                                                                                              | 1/39 [00:00<00:00, 51.24it/s]\n"
     ]
    },
    {
     "name": "stdout",
     "output_type": "stream",
     "text": [
      "Epoch: 277 | disc_loss1: 0.1571318805217743 | gen_loss: -0.1001075878739357 \n"
     ]
    },
    {
     "name": "stderr",
     "output_type": "stream",
     "text": [
      "  0%|▍                                                                                                               | 1/234 [00:00<00:06, 34.86it/s]\n",
      "  3%|██▉                                                                                                              | 1/39 [00:00<00:00, 50.10it/s]\n"
     ]
    },
    {
     "name": "stdout",
     "output_type": "stream",
     "text": [
      "Epoch: 278 | disc_loss1: 0.45549145340919495 | gen_loss: -0.11490114778280258 \n"
     ]
    },
    {
     "name": "stderr",
     "output_type": "stream",
     "text": [
      "  0%|▍                                                                                                               | 1/234 [00:00<00:06, 33.86it/s]\n",
      "  3%|██▉                                                                                                              | 1/39 [00:00<00:00, 50.38it/s]\n"
     ]
    },
    {
     "name": "stdout",
     "output_type": "stream",
     "text": [
      "Epoch: 279 | disc_loss1: 0.549542248249054 | gen_loss: 0.0405387245118618 \n"
     ]
    },
    {
     "name": "stderr",
     "output_type": "stream",
     "text": [
      "  0%|▍                                                                                                               | 1/234 [00:00<00:06, 33.62it/s]\n",
      "  3%|██▉                                                                                                              | 1/39 [00:00<00:00, 50.27it/s]\n"
     ]
    },
    {
     "name": "stdout",
     "output_type": "stream",
     "text": [
      "Epoch: 280 | disc_loss1: 0.1504644751548767 | gen_loss: 0.10339546948671341 \n"
     ]
    },
    {
     "name": "stderr",
     "output_type": "stream",
     "text": [
      "  0%|▍                                                                                                               | 1/234 [00:00<00:06, 34.12it/s]\n",
      "  3%|██▉                                                                                                              | 1/39 [00:00<00:00, 50.52it/s]\n"
     ]
    },
    {
     "name": "stdout",
     "output_type": "stream",
     "text": [
      "Epoch: 281 | disc_loss1: 0.1257813572883606 | gen_loss: 0.2680721879005432 \n"
     ]
    },
    {
     "name": "stderr",
     "output_type": "stream",
     "text": [
      "  0%|▍                                                                                                               | 1/234 [00:00<00:06, 34.31it/s]\n",
      "  3%|██▉                                                                                                              | 1/39 [00:00<00:00, 51.03it/s]\n"
     ]
    },
    {
     "name": "stdout",
     "output_type": "stream",
     "text": [
      "Epoch: 282 | disc_loss1: 0.049404487013816833 | gen_loss: 0.5419496893882751 \n"
     ]
    },
    {
     "name": "stderr",
     "output_type": "stream",
     "text": [
      "  0%|▍                                                                                                               | 1/234 [00:00<00:06, 33.88it/s]\n",
      "  3%|██▉                                                                                                              | 1/39 [00:00<00:00, 49.75it/s]\n"
     ]
    },
    {
     "name": "stdout",
     "output_type": "stream",
     "text": [
      "Epoch: 283 | disc_loss1: 0.061309829354286194 | gen_loss: 0.6152900457382202 \n"
     ]
    },
    {
     "name": "stderr",
     "output_type": "stream",
     "text": [
      "  0%|▍                                                                                                               | 1/234 [00:00<00:06, 34.27it/s]\n",
      "  3%|██▉                                                                                                              | 1/39 [00:00<00:00, 50.26it/s]\n"
     ]
    },
    {
     "name": "stdout",
     "output_type": "stream",
     "text": [
      "Epoch: 284 | disc_loss1: 0.03806096315383911 | gen_loss: 0.9394627213478088 \n"
     ]
    },
    {
     "name": "stderr",
     "output_type": "stream",
     "text": [
      "  0%|▍                                                                                                               | 1/234 [00:00<00:06, 33.94it/s]\n",
      "  3%|██▉                                                                                                              | 1/39 [00:00<00:00, 49.93it/s]\n"
     ]
    },
    {
     "name": "stdout",
     "output_type": "stream",
     "text": [
      "Epoch: 285 | disc_loss1: 0.16401603817939758 | gen_loss: 0.7636118531227112 \n"
     ]
    },
    {
     "name": "stderr",
     "output_type": "stream",
     "text": [
      "  0%|▍                                                                                                               | 1/234 [00:00<00:06, 34.74it/s]\n",
      "  3%|██▉                                                                                                              | 1/39 [00:00<00:00, 50.24it/s]\n"
     ]
    },
    {
     "name": "stdout",
     "output_type": "stream",
     "text": [
      "Epoch: 286 | disc_loss1: 0.14672185480594635 | gen_loss: 1.047990083694458 \n"
     ]
    },
    {
     "name": "stderr",
     "output_type": "stream",
     "text": [
      "  0%|▍                                                                                                               | 1/234 [00:00<00:06, 34.85it/s]\n",
      "  3%|██▉                                                                                                              | 1/39 [00:00<00:00, 51.26it/s]\n"
     ]
    },
    {
     "name": "stdout",
     "output_type": "stream",
     "text": [
      "Epoch: 287 | disc_loss1: 0.21303987503051758 | gen_loss: 0.7517054080963135 \n"
     ]
    },
    {
     "name": "stderr",
     "output_type": "stream",
     "text": [
      "  0%|▍                                                                                                               | 1/234 [00:00<00:06, 34.27it/s]\n",
      "  3%|██▉                                                                                                              | 1/39 [00:00<00:00, 49.92it/s]\n"
     ]
    },
    {
     "name": "stdout",
     "output_type": "stream",
     "text": [
      "Epoch: 288 | disc_loss1: 0.18068596720695496 | gen_loss: 0.8969844579696655 \n"
     ]
    },
    {
     "name": "stderr",
     "output_type": "stream",
     "text": [
      "  0%|▍                                                                                                               | 1/234 [00:00<00:06, 34.30it/s]\n",
      "  3%|██▉                                                                                                              | 1/39 [00:00<00:00, 50.06it/s]\n"
     ]
    },
    {
     "name": "stdout",
     "output_type": "stream",
     "text": [
      "Epoch: 289 | disc_loss1: 0.27383914589881897 | gen_loss: 0.702080249786377 \n"
     ]
    },
    {
     "name": "stderr",
     "output_type": "stream",
     "text": [
      "  0%|▍                                                                                                               | 1/234 [00:00<00:06, 34.48it/s]\n",
      "  3%|██▉                                                                                                              | 1/39 [00:00<00:00, 50.28it/s]\n"
     ]
    },
    {
     "name": "stdout",
     "output_type": "stream",
     "text": [
      "Epoch: 290 | disc_loss1: 0.27518048882484436 | gen_loss: 0.7590805888175964 \n"
     ]
    },
    {
     "name": "stderr",
     "output_type": "stream",
     "text": [
      "  0%|▍                                                                                                               | 1/234 [00:00<00:06, 33.95it/s]\n",
      "  3%|██▉                                                                                                              | 1/39 [00:00<00:00, 50.00it/s]\n"
     ]
    },
    {
     "name": "stdout",
     "output_type": "stream",
     "text": [
      "Epoch: 291 | disc_loss1: 0.32841384410858154 | gen_loss: 0.6040360331535339 \n"
     ]
    },
    {
     "name": "stderr",
     "output_type": "stream",
     "text": [
      "  0%|▍                                                                                                               | 1/234 [00:00<00:06, 34.01it/s]\n",
      "  3%|██▉                                                                                                              | 1/39 [00:00<00:00, 49.92it/s]\n"
     ]
    },
    {
     "name": "stdout",
     "output_type": "stream",
     "text": [
      "Epoch: 292 | disc_loss1: 0.2630542516708374 | gen_loss: 0.5813040733337402 \n"
     ]
    },
    {
     "name": "stderr",
     "output_type": "stream",
     "text": [
      "  0%|▍                                                                                                               | 1/234 [00:00<00:06, 33.87it/s]\n",
      "  3%|██▉                                                                                                              | 1/39 [00:00<00:00, 52.17it/s]\n"
     ]
    },
    {
     "name": "stdout",
     "output_type": "stream",
     "text": [
      "Epoch: 293 | disc_loss1: 0.26511770486831665 | gen_loss: 0.46571531891822815 \n"
     ]
    },
    {
     "name": "stderr",
     "output_type": "stream",
     "text": [
      "  0%|▍                                                                                                               | 1/234 [00:00<00:06, 33.84it/s]\n",
      "  3%|██▉                                                                                                              | 1/39 [00:00<00:00, 49.53it/s]\n"
     ]
    },
    {
     "name": "stdout",
     "output_type": "stream",
     "text": [
      "Epoch: 294 | disc_loss1: 0.1540018618106842 | gen_loss: 0.3917345404624939 \n"
     ]
    },
    {
     "name": "stderr",
     "output_type": "stream",
     "text": [
      "  0%|▍                                                                                                               | 1/234 [00:00<00:06, 34.37it/s]\n",
      "  3%|██▉                                                                                                              | 1/39 [00:00<00:00, 50.21it/s]\n"
     ]
    },
    {
     "name": "stdout",
     "output_type": "stream",
     "text": [
      "Epoch: 295 | disc_loss1: 0.12586121261119843 | gen_loss: 0.3138343393802643 \n"
     ]
    },
    {
     "name": "stderr",
     "output_type": "stream",
     "text": [
      "  0%|▍                                                                                                               | 1/234 [00:00<00:06, 34.42it/s]\n",
      "  3%|██▉                                                                                                              | 1/39 [00:00<00:00, 50.21it/s]\n"
     ]
    },
    {
     "name": "stdout",
     "output_type": "stream",
     "text": [
      "Epoch: 296 | disc_loss1: 0.02309340238571167 | gen_loss: 0.18651625514030457 \n"
     ]
    },
    {
     "name": "stderr",
     "output_type": "stream",
     "text": [
      "  0%|▍                                                                                                               | 1/234 [00:00<00:06, 34.25it/s]\n",
      "  3%|██▉                                                                                                              | 1/39 [00:00<00:00, 51.02it/s]\n"
     ]
    },
    {
     "name": "stdout",
     "output_type": "stream",
     "text": [
      "Epoch: 297 | disc_loss1: 0.019912034273147583 | gen_loss: 0.17975552380084991 \n"
     ]
    },
    {
     "name": "stderr",
     "output_type": "stream",
     "text": [
      "  0%|▍                                                                                                               | 1/234 [00:00<00:06, 34.26it/s]\n",
      "  3%|██▉                                                                                                              | 1/39 [00:00<00:00, 50.40it/s]\n"
     ]
    },
    {
     "name": "stdout",
     "output_type": "stream",
     "text": [
      "Epoch: 298 | disc_loss1: -0.06478272378444672 | gen_loss: -0.0035748188383877277 \n"
     ]
    },
    {
     "name": "stderr",
     "output_type": "stream",
     "text": [
      "  0%|▍                                                                                                               | 1/234 [00:00<00:06, 34.10it/s]\n",
      "  3%|██▉                                                                                                              | 1/39 [00:00<00:00, 51.26it/s]\n"
     ]
    },
    {
     "name": "stdout",
     "output_type": "stream",
     "text": [
      "Epoch: 299 | disc_loss1: -0.022329464554786682 | gen_loss: -0.019166359677910805 \n",
      "2\n"
     ]
    },
    {
     "name": "stderr",
     "output_type": "stream",
     "text": [
      "/Users/giansanti.valentina/Documents/MOWGAN/MOWGAN/train.py:354: ImplicitModificationWarning: Trying to modify attribute `.obs` of view, initializing view as actual.\n",
      "  data_batch['data{0}_{1}'.format(i,j)].obs['spectral_emb'] = SpectralEmbedding(n_components=1,\n",
      "/Users/giansanti.valentina/Documents/MOWGAN/MOWGAN/train.py:354: ImplicitModificationWarning: Trying to modify attribute `.obs` of view, initializing view as actual.\n",
      "  data_batch['data{0}_{1}'.format(i,j)].obs['spectral_emb'] = SpectralEmbedding(n_components=1,\n",
      "  0%|                                                                                                                        | 0/234 [00:00<?, ?it/s]2024-01-09 18:35:25.002549: I tensorflow/core/grappler/optimizers/custom_graph_optimizer_registry.cc:112] Plugin optimizer for device_type GPU is enabled.\n",
      "  0%|▍                                                                                                               | 1/234 [00:00<01:53,  2.06it/s]\n",
      "  3%|██▉                                                                                                              | 1/39 [00:00<00:01, 26.87it/s]\n"
     ]
    },
    {
     "name": "stdout",
     "output_type": "stream",
     "text": [
      "Epoch: 0 | disc_loss1: 3.1796884536743164 | gen_loss: -0.23158028721809387 \n"
     ]
    },
    {
     "name": "stderr",
     "output_type": "stream",
     "text": [
      "  0%|▍                                                                                                               | 1/234 [00:00<00:08, 26.37it/s]\n",
      "  3%|██▉                                                                                                              | 1/39 [00:00<00:00, 51.05it/s]\n"
     ]
    },
    {
     "name": "stdout",
     "output_type": "stream",
     "text": [
      "Epoch: 1 | disc_loss1: 1.2354060411453247 | gen_loss: -0.6813927292823792 \n"
     ]
    },
    {
     "name": "stderr",
     "output_type": "stream",
     "text": [
      "  0%|▍                                                                                                               | 1/234 [00:00<00:06, 33.74it/s]\n",
      "  3%|██▉                                                                                                              | 1/39 [00:00<00:00, 51.88it/s]\n"
     ]
    },
    {
     "name": "stdout",
     "output_type": "stream",
     "text": [
      "Epoch: 2 | disc_loss1: 1.0710610151290894 | gen_loss: -1.403881311416626 \n"
     ]
    },
    {
     "name": "stderr",
     "output_type": "stream",
     "text": [
      "  0%|▍                                                                                                               | 1/234 [00:00<00:06, 34.51it/s]\n",
      "  3%|██▉                                                                                                              | 1/39 [00:00<00:00, 51.44it/s]\n"
     ]
    },
    {
     "name": "stdout",
     "output_type": "stream",
     "text": [
      "Epoch: 3 | disc_loss1: 1.6112970113754272 | gen_loss: -2.057002067565918 \n"
     ]
    },
    {
     "name": "stderr",
     "output_type": "stream",
     "text": [
      "  0%|▍                                                                                                               | 1/234 [00:00<00:06, 34.61it/s]\n",
      "  3%|██▉                                                                                                              | 1/39 [00:00<00:00, 49.26it/s]\n"
     ]
    },
    {
     "name": "stdout",
     "output_type": "stream",
     "text": [
      "Epoch: 4 | disc_loss1: 2.0867223739624023 | gen_loss: -2.471107006072998 \n"
     ]
    },
    {
     "name": "stderr",
     "output_type": "stream",
     "text": [
      "  0%|▍                                                                                                               | 1/234 [00:00<00:07, 31.64it/s]\n",
      "  3%|██▉                                                                                                              | 1/39 [00:00<00:00, 49.91it/s]\n"
     ]
    },
    {
     "name": "stdout",
     "output_type": "stream",
     "text": [
      "Epoch: 5 | disc_loss1: 2.3322577476501465 | gen_loss: -2.65940523147583 \n"
     ]
    },
    {
     "name": "stderr",
     "output_type": "stream",
     "text": [
      "  0%|▍                                                                                                               | 1/234 [00:00<00:06, 33.61it/s]\n",
      "  3%|██▉                                                                                                              | 1/39 [00:00<00:00, 48.59it/s]\n"
     ]
    },
    {
     "name": "stdout",
     "output_type": "stream",
     "text": [
      "Epoch: 6 | disc_loss1: 2.3106069564819336 | gen_loss: -2.6148533821105957 \n"
     ]
    },
    {
     "name": "stderr",
     "output_type": "stream",
     "text": [
      "  0%|▍                                                                                                               | 1/234 [00:00<00:07, 32.38it/s]\n",
      "  3%|██▉                                                                                                              | 1/39 [00:00<00:00, 49.90it/s]\n"
     ]
    },
    {
     "name": "stdout",
     "output_type": "stream",
     "text": [
      "Epoch: 7 | disc_loss1: 1.8059654235839844 | gen_loss: -1.98696768283844 \n"
     ]
    },
    {
     "name": "stderr",
     "output_type": "stream",
     "text": [
      "  0%|▍                                                                                                               | 1/234 [00:00<00:07, 30.39it/s]\n",
      "  3%|██▉                                                                                                              | 1/39 [00:00<00:00, 50.66it/s]\n"
     ]
    },
    {
     "name": "stdout",
     "output_type": "stream",
     "text": [
      "Epoch: 8 | disc_loss1: 1.0300724506378174 | gen_loss: -1.0853618383407593 \n"
     ]
    },
    {
     "name": "stderr",
     "output_type": "stream",
     "text": [
      "  0%|▍                                                                                                               | 1/234 [00:00<00:06, 33.91it/s]\n",
      "  3%|██▉                                                                                                              | 1/39 [00:00<00:00, 49.83it/s]\n"
     ]
    },
    {
     "name": "stdout",
     "output_type": "stream",
     "text": [
      "Epoch: 9 | disc_loss1: 0.037451714277267456 | gen_loss: 0.08151530474424362 \n"
     ]
    },
    {
     "name": "stderr",
     "output_type": "stream",
     "text": [
      "  0%|▍                                                                                                               | 1/234 [00:00<00:06, 34.01it/s]\n",
      "  3%|██▉                                                                                                              | 1/39 [00:00<00:00, 49.39it/s]\n"
     ]
    },
    {
     "name": "stdout",
     "output_type": "stream",
     "text": [
      "Epoch: 10 | disc_loss1: -1.187200665473938 | gen_loss: 1.3130759000778198 \n"
     ]
    },
    {
     "name": "stderr",
     "output_type": "stream",
     "text": [
      "  0%|▍                                                                                                               | 1/234 [00:00<00:07, 33.23it/s]\n",
      "  3%|██▉                                                                                                              | 1/39 [00:00<00:00, 50.22it/s]\n"
     ]
    },
    {
     "name": "stdout",
     "output_type": "stream",
     "text": [
      "Epoch: 11 | disc_loss1: -2.4015660285949707 | gen_loss: 2.5769765377044678 \n"
     ]
    },
    {
     "name": "stderr",
     "output_type": "stream",
     "text": [
      "  0%|▍                                                                                                               | 1/234 [00:00<00:06, 33.39it/s]\n",
      "  3%|██▉                                                                                                              | 1/39 [00:00<00:00, 50.06it/s]\n"
     ]
    },
    {
     "name": "stdout",
     "output_type": "stream",
     "text": [
      "Epoch: 12 | disc_loss1: -3.3340682983398438 | gen_loss: 3.520866870880127 \n"
     ]
    },
    {
     "name": "stderr",
     "output_type": "stream",
     "text": [
      "  0%|▍                                                                                                               | 1/234 [00:00<00:06, 33.90it/s]\n",
      "  3%|██▉                                                                                                              | 1/39 [00:00<00:00, 50.36it/s]\n"
     ]
    },
    {
     "name": "stdout",
     "output_type": "stream",
     "text": [
      "Epoch: 13 | disc_loss1: -3.902764320373535 | gen_loss: 4.151670455932617 \n"
     ]
    },
    {
     "name": "stderr",
     "output_type": "stream",
     "text": [
      "  0%|▍                                                                                                               | 1/234 [00:00<00:07, 33.17it/s]\n",
      "  3%|██▉                                                                                                              | 1/39 [00:00<00:00, 50.98it/s]\n"
     ]
    },
    {
     "name": "stdout",
     "output_type": "stream",
     "text": [
      "Epoch: 14 | disc_loss1: -4.075644016265869 | gen_loss: 4.404815196990967 \n"
     ]
    },
    {
     "name": "stderr",
     "output_type": "stream",
     "text": [
      "  0%|▍                                                                                                               | 1/234 [00:00<00:06, 34.08it/s]\n",
      "  3%|██▉                                                                                                              | 1/39 [00:00<00:00, 51.73it/s]\n"
     ]
    },
    {
     "name": "stdout",
     "output_type": "stream",
     "text": [
      "Epoch: 15 | disc_loss1: -3.965984582901001 | gen_loss: 4.3657355308532715 \n"
     ]
    },
    {
     "name": "stderr",
     "output_type": "stream",
     "text": [
      "  0%|▍                                                                                                               | 1/234 [00:00<00:07, 31.56it/s]\n",
      "  3%|██▉                                                                                                              | 1/39 [00:00<00:00, 51.48it/s]\n"
     ]
    },
    {
     "name": "stdout",
     "output_type": "stream",
     "text": [
      "Epoch: 16 | disc_loss1: -3.8503823280334473 | gen_loss: 4.320535182952881 \n"
     ]
    },
    {
     "name": "stderr",
     "output_type": "stream",
     "text": [
      "  0%|▍                                                                                                               | 1/234 [00:00<00:06, 34.17it/s]\n",
      "  3%|██▉                                                                                                              | 1/39 [00:00<00:00, 52.03it/s]\n"
     ]
    },
    {
     "name": "stdout",
     "output_type": "stream",
     "text": [
      "Epoch: 17 | disc_loss1: -3.5561459064483643 | gen_loss: 4.083240509033203 \n"
     ]
    },
    {
     "name": "stderr",
     "output_type": "stream",
     "text": [
      "  0%|▍                                                                                                               | 1/234 [00:00<00:11, 20.08it/s]\n",
      "  3%|██▉                                                                                                              | 1/39 [00:00<00:00, 50.61it/s]\n"
     ]
    },
    {
     "name": "stdout",
     "output_type": "stream",
     "text": [
      "Epoch: 18 | disc_loss1: -3.1367998123168945 | gen_loss: 3.7184154987335205 \n"
     ]
    },
    {
     "name": "stderr",
     "output_type": "stream",
     "text": [
      "  0%|▍                                                                                                               | 1/234 [00:00<00:06, 33.40it/s]\n",
      "  3%|██▉                                                                                                              | 1/39 [00:00<00:00, 50.75it/s]\n"
     ]
    },
    {
     "name": "stdout",
     "output_type": "stream",
     "text": [
      "Epoch: 19 | disc_loss1: -2.5191190242767334 | gen_loss: 3.1353724002838135 \n"
     ]
    },
    {
     "name": "stderr",
     "output_type": "stream",
     "text": [
      "  0%|▍                                                                                                               | 1/234 [00:00<00:06, 33.74it/s]\n",
      "  3%|██▉                                                                                                              | 1/39 [00:00<00:00, 51.79it/s]\n"
     ]
    },
    {
     "name": "stdout",
     "output_type": "stream",
     "text": [
      "Epoch: 20 | disc_loss1: -1.947738766670227 | gen_loss: 2.5698704719543457 \n"
     ]
    },
    {
     "name": "stderr",
     "output_type": "stream",
     "text": [
      "  0%|▍                                                                                                               | 1/234 [00:00<00:06, 34.41it/s]\n",
      "  3%|██▉                                                                                                              | 1/39 [00:00<00:00, 52.44it/s]\n"
     ]
    },
    {
     "name": "stdout",
     "output_type": "stream",
     "text": [
      "Epoch: 21 | disc_loss1: -1.3597464561462402 | gen_loss: 1.9746191501617432 \n"
     ]
    },
    {
     "name": "stderr",
     "output_type": "stream",
     "text": [
      "  0%|▍                                                                                                               | 1/234 [00:00<00:06, 33.94it/s]\n",
      "  3%|██▉                                                                                                              | 1/39 [00:00<00:00, 51.42it/s]\n"
     ]
    },
    {
     "name": "stdout",
     "output_type": "stream",
     "text": [
      "Epoch: 22 | disc_loss1: -0.8430563807487488 | gen_loss: 1.456347942352295 \n"
     ]
    },
    {
     "name": "stderr",
     "output_type": "stream",
     "text": [
      "  0%|▍                                                                                                               | 1/234 [00:00<00:06, 33.85it/s]\n",
      "  3%|██▉                                                                                                              | 1/39 [00:00<00:00, 49.64it/s]\n"
     ]
    },
    {
     "name": "stdout",
     "output_type": "stream",
     "text": [
      "Epoch: 23 | disc_loss1: -0.4458937346935272 | gen_loss: 1.0329830646514893 \n"
     ]
    },
    {
     "name": "stderr",
     "output_type": "stream",
     "text": [
      "  0%|▍                                                                                                               | 1/234 [00:00<00:06, 34.03it/s]\n",
      "  3%|██▉                                                                                                              | 1/39 [00:00<00:00, 51.14it/s]\n"
     ]
    },
    {
     "name": "stdout",
     "output_type": "stream",
     "text": [
      "Epoch: 24 | disc_loss1: -0.18818463385105133 | gen_loss: 0.7242522835731506 \n"
     ]
    },
    {
     "name": "stderr",
     "output_type": "stream",
     "text": [
      "  0%|▍                                                                                                               | 1/234 [00:00<00:06, 34.04it/s]\n",
      "  3%|██▉                                                                                                              | 1/39 [00:00<00:00, 51.85it/s]\n"
     ]
    },
    {
     "name": "stdout",
     "output_type": "stream",
     "text": [
      "Epoch: 25 | disc_loss1: -0.08171513676643372 | gen_loss: 0.5721007585525513 \n"
     ]
    },
    {
     "name": "stderr",
     "output_type": "stream",
     "text": [
      "  0%|▍                                                                                                               | 1/234 [00:00<00:06, 33.65it/s]\n",
      "  3%|██▉                                                                                                              | 1/39 [00:00<00:00, 52.36it/s]\n"
     ]
    },
    {
     "name": "stdout",
     "output_type": "stream",
     "text": [
      "Epoch: 26 | disc_loss1: -0.006094597280025482 | gen_loss: 0.42031329870224 \n"
     ]
    },
    {
     "name": "stderr",
     "output_type": "stream",
     "text": [
      "  0%|▍                                                                                                               | 1/234 [00:00<00:06, 34.20it/s]\n",
      "  3%|██▉                                                                                                              | 1/39 [00:00<00:00, 50.36it/s]\n"
     ]
    },
    {
     "name": "stdout",
     "output_type": "stream",
     "text": [
      "Epoch: 27 | disc_loss1: 0.031068507581949234 | gen_loss: 0.30283915996551514 \n"
     ]
    },
    {
     "name": "stderr",
     "output_type": "stream",
     "text": [
      "  0%|▍                                                                                                               | 1/234 [00:00<00:06, 34.17it/s]\n",
      "  3%|██▉                                                                                                              | 1/39 [00:00<00:00, 50.54it/s]\n"
     ]
    },
    {
     "name": "stdout",
     "output_type": "stream",
     "text": [
      "Epoch: 28 | disc_loss1: 0.06417836248874664 | gen_loss: 0.19020608067512512 \n"
     ]
    },
    {
     "name": "stderr",
     "output_type": "stream",
     "text": [
      "  0%|▍                                                                                                               | 1/234 [00:00<00:06, 34.02it/s]\n",
      "  3%|██▉                                                                                                              | 1/39 [00:00<00:00, 51.38it/s]\n"
     ]
    },
    {
     "name": "stdout",
     "output_type": "stream",
     "text": [
      "Epoch: 29 | disc_loss1: 0.09832341223955154 | gen_loss: 0.11125233769416809 \n"
     ]
    },
    {
     "name": "stderr",
     "output_type": "stream",
     "text": [
      "  0%|▍                                                                                                               | 1/234 [00:00<00:06, 34.28it/s]\n",
      "  3%|██▉                                                                                                              | 1/39 [00:00<00:00, 51.91it/s]\n"
     ]
    },
    {
     "name": "stdout",
     "output_type": "stream",
     "text": [
      "Epoch: 30 | disc_loss1: -0.013788238167762756 | gen_loss: 0.06807103753089905 \n"
     ]
    },
    {
     "name": "stderr",
     "output_type": "stream",
     "text": [
      "  0%|▍                                                                                                               | 1/234 [00:00<00:06, 34.23it/s]\n",
      "  3%|██▉                                                                                                              | 1/39 [00:00<00:00, 51.89it/s]\n"
     ]
    },
    {
     "name": "stdout",
     "output_type": "stream",
     "text": [
      "Epoch: 31 | disc_loss1: -0.13184474408626556 | gen_loss: 0.05081366375088692 \n"
     ]
    },
    {
     "name": "stderr",
     "output_type": "stream",
     "text": [
      "  0%|▍                                                                                                               | 1/234 [00:00<00:06, 34.48it/s]\n",
      "  3%|██▉                                                                                                              | 1/39 [00:00<00:00, 51.70it/s]\n"
     ]
    },
    {
     "name": "stdout",
     "output_type": "stream",
     "text": [
      "Epoch: 32 | disc_loss1: -0.22386759519577026 | gen_loss: 0.043118346482515335 \n"
     ]
    },
    {
     "name": "stderr",
     "output_type": "stream",
     "text": [
      "  0%|▍                                                                                                               | 1/234 [00:00<00:06, 34.08it/s]\n",
      "  3%|██▉                                                                                                              | 1/39 [00:00<00:00, 52.20it/s]\n"
     ]
    },
    {
     "name": "stdout",
     "output_type": "stream",
     "text": [
      "Epoch: 33 | disc_loss1: -0.2708145081996918 | gen_loss: 0.033758632838726044 \n"
     ]
    },
    {
     "name": "stderr",
     "output_type": "stream",
     "text": [
      "  0%|▍                                                                                                               | 1/234 [00:00<00:06, 34.77it/s]\n",
      "  3%|██▉                                                                                                              | 1/39 [00:00<00:00, 52.04it/s]\n"
     ]
    },
    {
     "name": "stdout",
     "output_type": "stream",
     "text": [
      "Epoch: 34 | disc_loss1: -0.3117563724517822 | gen_loss: -0.02982763946056366 \n"
     ]
    },
    {
     "name": "stderr",
     "output_type": "stream",
     "text": [
      "  0%|▍                                                                                                               | 1/234 [00:00<00:06, 34.12it/s]\n",
      "  3%|██▉                                                                                                              | 1/39 [00:00<00:00, 50.94it/s]\n"
     ]
    },
    {
     "name": "stdout",
     "output_type": "stream",
     "text": [
      "Epoch: 35 | disc_loss1: -0.3432328701019287 | gen_loss: -0.050471436232328415 \n"
     ]
    },
    {
     "name": "stderr",
     "output_type": "stream",
     "text": [
      "  0%|▍                                                                                                               | 1/234 [00:00<00:07, 32.53it/s]\n",
      "  3%|██▉                                                                                                              | 1/39 [00:00<00:00, 51.14it/s]\n"
     ]
    },
    {
     "name": "stdout",
     "output_type": "stream",
     "text": [
      "Epoch: 36 | disc_loss1: -0.35457301139831543 | gen_loss: -0.11745970696210861 \n"
     ]
    },
    {
     "name": "stderr",
     "output_type": "stream",
     "text": [
      "  0%|▍                                                                                                               | 1/234 [00:00<00:06, 33.94it/s]\n",
      "  3%|██▉                                                                                                              | 1/39 [00:00<00:00, 52.48it/s]\n"
     ]
    },
    {
     "name": "stdout",
     "output_type": "stream",
     "text": [
      "Epoch: 37 | disc_loss1: -0.40184473991394043 | gen_loss: -0.05526535212993622 \n"
     ]
    },
    {
     "name": "stderr",
     "output_type": "stream",
     "text": [
      "  0%|▍                                                                                                               | 1/234 [00:00<00:06, 34.15it/s]\n",
      "  3%|██▉                                                                                                              | 1/39 [00:00<00:00, 51.68it/s]\n"
     ]
    },
    {
     "name": "stdout",
     "output_type": "stream",
     "text": [
      "Epoch: 38 | disc_loss1: -0.3784569799900055 | gen_loss: -0.06279165297746658 \n"
     ]
    },
    {
     "name": "stderr",
     "output_type": "stream",
     "text": [
      "  0%|▍                                                                                                               | 1/234 [00:00<00:07, 32.47it/s]\n",
      "  3%|██▉                                                                                                              | 1/39 [00:00<00:00, 51.13it/s]\n"
     ]
    },
    {
     "name": "stdout",
     "output_type": "stream",
     "text": [
      "Epoch: 39 | disc_loss1: -0.4002663791179657 | gen_loss: -0.011953790672123432 \n"
     ]
    },
    {
     "name": "stderr",
     "output_type": "stream",
     "text": [
      "  0%|▍                                                                                                               | 1/234 [00:00<00:06, 34.21it/s]\n",
      "  3%|██▉                                                                                                              | 1/39 [00:00<00:00, 50.78it/s]\n"
     ]
    },
    {
     "name": "stdout",
     "output_type": "stream",
     "text": [
      "Epoch: 40 | disc_loss1: -0.3629283308982849 | gen_loss: -0.025885021314024925 \n"
     ]
    },
    {
     "name": "stderr",
     "output_type": "stream",
     "text": [
      "  0%|▍                                                                                                               | 1/234 [00:00<00:07, 32.94it/s]\n",
      "  3%|██▉                                                                                                              | 1/39 [00:00<00:00, 50.04it/s]\n"
     ]
    },
    {
     "name": "stdout",
     "output_type": "stream",
     "text": [
      "Epoch: 41 | disc_loss1: -0.28027263283729553 | gen_loss: -0.052242130041122437 \n"
     ]
    },
    {
     "name": "stderr",
     "output_type": "stream",
     "text": [
      "  0%|▍                                                                                                               | 1/234 [00:00<00:06, 33.60it/s]\n",
      "  3%|██▉                                                                                                              | 1/39 [00:00<00:00, 51.16it/s]\n"
     ]
    },
    {
     "name": "stdout",
     "output_type": "stream",
     "text": [
      "Epoch: 42 | disc_loss1: -0.300326406955719 | gen_loss: -0.08416370302438736 \n"
     ]
    },
    {
     "name": "stderr",
     "output_type": "stream",
     "text": [
      "  0%|▍                                                                                                               | 1/234 [00:00<00:06, 34.24it/s]\n",
      "  3%|██▉                                                                                                              | 1/39 [00:00<00:00, 52.11it/s]\n"
     ]
    },
    {
     "name": "stdout",
     "output_type": "stream",
     "text": [
      "Epoch: 43 | disc_loss1: -0.3025239408016205 | gen_loss: -0.02527264505624771 \n"
     ]
    },
    {
     "name": "stderr",
     "output_type": "stream",
     "text": [
      "  0%|▍                                                                                                               | 1/234 [00:00<00:06, 33.99it/s]\n",
      "  3%|██▉                                                                                                              | 1/39 [00:00<00:00, 51.97it/s]\n"
     ]
    },
    {
     "name": "stdout",
     "output_type": "stream",
     "text": [
      "Epoch: 44 | disc_loss1: -0.3742907643318176 | gen_loss: 0.04005255177617073 \n"
     ]
    },
    {
     "name": "stderr",
     "output_type": "stream",
     "text": [
      "  0%|▍                                                                                                               | 1/234 [00:00<00:06, 34.35it/s]\n",
      "  3%|██▉                                                                                                              | 1/39 [00:00<00:00, 47.18it/s]\n"
     ]
    },
    {
     "name": "stdout",
     "output_type": "stream",
     "text": [
      "Epoch: 45 | disc_loss1: -0.46734729409217834 | gen_loss: 0.1952970176935196 \n"
     ]
    },
    {
     "name": "stderr",
     "output_type": "stream",
     "text": [
      "  0%|▍                                                                                                               | 1/234 [00:00<00:06, 33.41it/s]\n",
      "  3%|██▉                                                                                                              | 1/39 [00:00<00:00, 50.73it/s]\n"
     ]
    },
    {
     "name": "stdout",
     "output_type": "stream",
     "text": [
      "Epoch: 46 | disc_loss1: -0.5949637293815613 | gen_loss: 0.3608451187610626 \n"
     ]
    },
    {
     "name": "stderr",
     "output_type": "stream",
     "text": [
      "  0%|▍                                                                                                               | 1/234 [00:00<00:07, 33.23it/s]\n",
      "  3%|██▉                                                                                                              | 1/39 [00:00<00:00, 51.15it/s]\n"
     ]
    },
    {
     "name": "stdout",
     "output_type": "stream",
     "text": [
      "Epoch: 47 | disc_loss1: -0.6857000589370728 | gen_loss: 0.5200004577636719 \n"
     ]
    },
    {
     "name": "stderr",
     "output_type": "stream",
     "text": [
      "  0%|▍                                                                                                               | 1/234 [00:00<00:06, 34.52it/s]\n",
      "  3%|██▉                                                                                                              | 1/39 [00:00<00:00, 52.14it/s]\n"
     ]
    },
    {
     "name": "stdout",
     "output_type": "stream",
     "text": [
      "Epoch: 48 | disc_loss1: -0.6409827470779419 | gen_loss: 0.6071763634681702 \n"
     ]
    },
    {
     "name": "stderr",
     "output_type": "stream",
     "text": [
      "  0%|▍                                                                                                               | 1/234 [00:00<00:06, 34.13it/s]\n",
      "  3%|██▉                                                                                                              | 1/39 [00:00<00:00, 51.56it/s]\n"
     ]
    },
    {
     "name": "stdout",
     "output_type": "stream",
     "text": [
      "Epoch: 49 | disc_loss1: -0.6285579204559326 | gen_loss: 0.5827518105506897 \n"
     ]
    },
    {
     "name": "stderr",
     "output_type": "stream",
     "text": [
      "  0%|▍                                                                                                               | 1/234 [00:00<00:07, 31.34it/s]\n",
      "  3%|██▉                                                                                                              | 1/39 [00:00<00:00, 49.98it/s]\n"
     ]
    },
    {
     "name": "stdout",
     "output_type": "stream",
     "text": [
      "Epoch: 50 | disc_loss1: -0.5482006669044495 | gen_loss: 0.6287455558776855 \n"
     ]
    },
    {
     "name": "stderr",
     "output_type": "stream",
     "text": [
      "  0%|▍                                                                                                               | 1/234 [00:00<00:06, 34.06it/s]\n",
      "  3%|██▉                                                                                                              | 1/39 [00:00<00:00, 51.91it/s]\n"
     ]
    },
    {
     "name": "stdout",
     "output_type": "stream",
     "text": [
      "Epoch: 51 | disc_loss1: -0.48940712213516235 | gen_loss: 0.477632611989975 \n"
     ]
    },
    {
     "name": "stderr",
     "output_type": "stream",
     "text": [
      "  0%|▍                                                                                                               | 1/234 [00:00<00:07, 32.56it/s]\n",
      "  3%|██▉                                                                                                              | 1/39 [00:00<00:00, 51.75it/s]\n"
     ]
    },
    {
     "name": "stdout",
     "output_type": "stream",
     "text": [
      "Epoch: 52 | disc_loss1: -0.44251349568367004 | gen_loss: 0.4562593102455139 \n"
     ]
    },
    {
     "name": "stderr",
     "output_type": "stream",
     "text": [
      "  0%|▍                                                                                                               | 1/234 [00:00<00:06, 34.37it/s]\n",
      "  3%|██▉                                                                                                              | 1/39 [00:00<00:00, 49.56it/s]\n"
     ]
    },
    {
     "name": "stdout",
     "output_type": "stream",
     "text": [
      "Epoch: 53 | disc_loss1: -0.45551759004592896 | gen_loss: 0.3460487127304077 \n"
     ]
    },
    {
     "name": "stderr",
     "output_type": "stream",
     "text": [
      "  0%|▍                                                                                                               | 1/234 [00:00<00:06, 33.45it/s]\n",
      "  3%|██▉                                                                                                              | 1/39 [00:00<00:00, 51.20it/s]\n"
     ]
    },
    {
     "name": "stdout",
     "output_type": "stream",
     "text": [
      "Epoch: 54 | disc_loss1: -0.466517835855484 | gen_loss: 0.29089662432670593 \n"
     ]
    },
    {
     "name": "stderr",
     "output_type": "stream",
     "text": [
      "  0%|▍                                                                                                               | 1/234 [00:00<00:07, 33.19it/s]\n",
      "  3%|██▉                                                                                                              | 1/39 [00:00<00:00, 51.55it/s]\n"
     ]
    },
    {
     "name": "stdout",
     "output_type": "stream",
     "text": [
      "Epoch: 55 | disc_loss1: -0.48414814472198486 | gen_loss: 0.20200927555561066 \n"
     ]
    },
    {
     "name": "stderr",
     "output_type": "stream",
     "text": [
      "  0%|▍                                                                                                               | 1/234 [00:00<00:06, 33.95it/s]\n",
      "  3%|██▉                                                                                                              | 1/39 [00:00<00:00, 51.61it/s]\n"
     ]
    },
    {
     "name": "stdout",
     "output_type": "stream",
     "text": [
      "Epoch: 56 | disc_loss1: -0.5158251523971558 | gen_loss: 0.14784002304077148 \n"
     ]
    },
    {
     "name": "stderr",
     "output_type": "stream",
     "text": [
      "  0%|▍                                                                                                               | 1/234 [00:00<00:06, 34.05it/s]\n",
      "  3%|██▉                                                                                                              | 1/39 [00:00<00:00, 51.58it/s]\n"
     ]
    },
    {
     "name": "stdout",
     "output_type": "stream",
     "text": [
      "Epoch: 57 | disc_loss1: -0.5516563057899475 | gen_loss: 0.09022356569766998 \n"
     ]
    },
    {
     "name": "stderr",
     "output_type": "stream",
     "text": [
      "  0%|▍                                                                                                               | 1/234 [00:00<00:06, 34.11it/s]\n",
      "  3%|██▉                                                                                                              | 1/39 [00:00<00:00, 51.57it/s]\n"
     ]
    },
    {
     "name": "stdout",
     "output_type": "stream",
     "text": [
      "Epoch: 58 | disc_loss1: -0.5835185050964355 | gen_loss: 0.041242871433496475 \n"
     ]
    },
    {
     "name": "stderr",
     "output_type": "stream",
     "text": [
      "  0%|▍                                                                                                               | 1/234 [00:00<00:06, 33.99it/s]\n",
      "  3%|██▉                                                                                                              | 1/39 [00:00<00:00, 50.78it/s]\n"
     ]
    },
    {
     "name": "stdout",
     "output_type": "stream",
     "text": [
      "Epoch: 59 | disc_loss1: -0.6066092252731323 | gen_loss: 0.00994932185858488 \n"
     ]
    },
    {
     "name": "stderr",
     "output_type": "stream",
     "text": [
      "  0%|▍                                                                                                               | 1/234 [00:00<00:06, 34.04it/s]\n",
      "  3%|██▉                                                                                                              | 1/39 [00:00<00:00, 51.83it/s]\n"
     ]
    },
    {
     "name": "stdout",
     "output_type": "stream",
     "text": [
      "Epoch: 60 | disc_loss1: -0.6188697218894958 | gen_loss: -0.039871033281087875 \n"
     ]
    },
    {
     "name": "stderr",
     "output_type": "stream",
     "text": [
      "  0%|▍                                                                                                               | 1/234 [00:00<00:06, 34.06it/s]\n",
      "  3%|██▉                                                                                                              | 1/39 [00:00<00:00, 51.81it/s]\n"
     ]
    },
    {
     "name": "stdout",
     "output_type": "stream",
     "text": [
      "Epoch: 61 | disc_loss1: -0.6064716577529907 | gen_loss: -0.03344707936048508 \n"
     ]
    },
    {
     "name": "stderr",
     "output_type": "stream",
     "text": [
      "  0%|▍                                                                                                               | 1/234 [00:00<00:06, 34.06it/s]\n",
      "  3%|██▉                                                                                                              | 1/39 [00:00<00:00, 52.33it/s]\n"
     ]
    },
    {
     "name": "stdout",
     "output_type": "stream",
     "text": [
      "Epoch: 62 | disc_loss1: -0.5379909873008728 | gen_loss: -0.08632395416498184 \n"
     ]
    },
    {
     "name": "stderr",
     "output_type": "stream",
     "text": [
      "  0%|▍                                                                                                               | 1/234 [00:00<00:06, 34.90it/s]\n",
      "  3%|██▉                                                                                                              | 1/39 [00:00<00:00, 51.12it/s]\n"
     ]
    },
    {
     "name": "stdout",
     "output_type": "stream",
     "text": [
      "Epoch: 63 | disc_loss1: -0.4534383714199066 | gen_loss: -0.028642846271395683 \n"
     ]
    },
    {
     "name": "stderr",
     "output_type": "stream",
     "text": [
      "  0%|▍                                                                                                               | 1/234 [00:00<00:06, 34.34it/s]\n",
      "  3%|██▉                                                                                                              | 1/39 [00:00<00:00, 52.25it/s]\n"
     ]
    },
    {
     "name": "stdout",
     "output_type": "stream",
     "text": [
      "Epoch: 64 | disc_loss1: -0.3534427285194397 | gen_loss: -0.08991556614637375 \n"
     ]
    },
    {
     "name": "stderr",
     "output_type": "stream",
     "text": [
      "  0%|▍                                                                                                               | 1/234 [00:00<00:06, 34.54it/s]\n",
      "  3%|██▉                                                                                                              | 1/39 [00:00<00:00, 51.55it/s]\n"
     ]
    },
    {
     "name": "stdout",
     "output_type": "stream",
     "text": [
      "Epoch: 65 | disc_loss1: -0.3824528455734253 | gen_loss: 0.06779859960079193 \n"
     ]
    },
    {
     "name": "stderr",
     "output_type": "stream",
     "text": [
      "  0%|▍                                                                                                               | 1/234 [00:00<00:06, 34.61it/s]\n",
      "  3%|██▉                                                                                                              | 1/39 [00:00<00:00, 52.11it/s]\n"
     ]
    },
    {
     "name": "stdout",
     "output_type": "stream",
     "text": [
      "Epoch: 66 | disc_loss1: -0.41276779770851135 | gen_loss: 0.16212309896945953 \n"
     ]
    },
    {
     "name": "stderr",
     "output_type": "stream",
     "text": [
      "  0%|▍                                                                                                               | 1/234 [00:00<00:06, 34.03it/s]\n",
      "  3%|██▉                                                                                                              | 1/39 [00:00<00:00, 51.14it/s]\n"
     ]
    },
    {
     "name": "stdout",
     "output_type": "stream",
     "text": [
      "Epoch: 67 | disc_loss1: -0.39672547578811646 | gen_loss: 0.2107412964105606 \n"
     ]
    },
    {
     "name": "stderr",
     "output_type": "stream",
     "text": [
      "  0%|▍                                                                                                               | 1/234 [00:00<00:06, 33.84it/s]\n",
      "  3%|██▉                                                                                                              | 1/39 [00:00<00:00, 51.00it/s]\n"
     ]
    },
    {
     "name": "stdout",
     "output_type": "stream",
     "text": [
      "Epoch: 68 | disc_loss1: -0.39926037192344666 | gen_loss: 0.4351104497909546 \n"
     ]
    },
    {
     "name": "stderr",
     "output_type": "stream",
     "text": [
      "  0%|▍                                                                                                               | 1/234 [00:00<00:06, 34.73it/s]\n",
      "  3%|██▉                                                                                                              | 1/39 [00:00<00:00, 51.76it/s]\n"
     ]
    },
    {
     "name": "stdout",
     "output_type": "stream",
     "text": [
      "Epoch: 69 | disc_loss1: -0.3921460211277008 | gen_loss: 0.4514574706554413 \n"
     ]
    },
    {
     "name": "stderr",
     "output_type": "stream",
     "text": [
      "  0%|▍                                                                                                               | 1/234 [00:00<00:06, 34.53it/s]\n",
      "  3%|██▉                                                                                                              | 1/39 [00:00<00:00, 51.86it/s]\n"
     ]
    },
    {
     "name": "stdout",
     "output_type": "stream",
     "text": [
      "Epoch: 70 | disc_loss1: -0.352647602558136 | gen_loss: 0.6799419522285461 \n"
     ]
    },
    {
     "name": "stderr",
     "output_type": "stream",
     "text": [
      "  0%|▍                                                                                                               | 1/234 [00:00<00:06, 34.11it/s]\n",
      "  3%|██▉                                                                                                              | 1/39 [00:00<00:00, 51.27it/s]\n"
     ]
    },
    {
     "name": "stdout",
     "output_type": "stream",
     "text": [
      "Epoch: 71 | disc_loss1: -0.31022873520851135 | gen_loss: 0.5961538553237915 \n"
     ]
    },
    {
     "name": "stderr",
     "output_type": "stream",
     "text": [
      "  0%|▍                                                                                                               | 1/234 [00:00<00:06, 34.35it/s]\n",
      "  3%|██▉                                                                                                              | 1/39 [00:00<00:00, 50.62it/s]\n"
     ]
    },
    {
     "name": "stdout",
     "output_type": "stream",
     "text": [
      "Epoch: 72 | disc_loss1: -0.2558780610561371 | gen_loss: 0.7852721810340881 \n"
     ]
    },
    {
     "name": "stderr",
     "output_type": "stream",
     "text": [
      "  0%|▍                                                                                                               | 1/234 [00:00<00:06, 34.74it/s]\n",
      "  3%|██▉                                                                                                              | 1/39 [00:00<00:00, 51.96it/s]\n"
     ]
    },
    {
     "name": "stdout",
     "output_type": "stream",
     "text": [
      "Epoch: 73 | disc_loss1: -0.08760493993759155 | gen_loss: 0.5483892560005188 \n"
     ]
    },
    {
     "name": "stderr",
     "output_type": "stream",
     "text": [
      "  0%|▍                                                                                                               | 1/234 [00:00<00:06, 33.78it/s]\n",
      "  3%|██▉                                                                                                              | 1/39 [00:00<00:00, 51.94it/s]\n"
     ]
    },
    {
     "name": "stdout",
     "output_type": "stream",
     "text": [
      "Epoch: 74 | disc_loss1: -0.15280602872371674 | gen_loss: 0.6366551518440247 \n"
     ]
    },
    {
     "name": "stderr",
     "output_type": "stream",
     "text": [
      "  0%|▍                                                                                                               | 1/234 [00:00<00:06, 33.86it/s]\n",
      "  3%|██▉                                                                                                              | 1/39 [00:00<00:00, 51.49it/s]\n"
     ]
    },
    {
     "name": "stdout",
     "output_type": "stream",
     "text": [
      "Epoch: 75 | disc_loss1: -0.08062145859003067 | gen_loss: 0.5015755891799927 \n"
     ]
    },
    {
     "name": "stderr",
     "output_type": "stream",
     "text": [
      "  0%|▍                                                                                                               | 1/234 [00:00<00:06, 34.23it/s]\n",
      "  3%|██▉                                                                                                              | 1/39 [00:00<00:00, 50.70it/s]\n"
     ]
    },
    {
     "name": "stdout",
     "output_type": "stream",
     "text": [
      "Epoch: 76 | disc_loss1: -0.060505375266075134 | gen_loss: 0.4927878975868225 \n"
     ]
    },
    {
     "name": "stderr",
     "output_type": "stream",
     "text": [
      "  0%|▍                                                                                                               | 1/234 [00:00<00:06, 33.71it/s]\n",
      "  3%|██▉                                                                                                              | 1/39 [00:00<00:00, 51.16it/s]\n"
     ]
    },
    {
     "name": "stdout",
     "output_type": "stream",
     "text": [
      "Epoch: 77 | disc_loss1: -0.009481146931648254 | gen_loss: 0.33937257528305054 \n"
     ]
    },
    {
     "name": "stderr",
     "output_type": "stream",
     "text": [
      "  0%|▍                                                                                                               | 1/234 [00:00<00:06, 33.45it/s]\n",
      "  3%|██▉                                                                                                              | 1/39 [00:00<00:00, 51.59it/s]\n"
     ]
    },
    {
     "name": "stdout",
     "output_type": "stream",
     "text": [
      "Epoch: 78 | disc_loss1: -0.07811693847179413 | gen_loss: 0.3187243938446045 \n"
     ]
    },
    {
     "name": "stderr",
     "output_type": "stream",
     "text": [
      "  0%|▍                                                                                                               | 1/234 [00:00<00:07, 33.27it/s]\n",
      "  3%|██▉                                                                                                              | 1/39 [00:00<00:00, 51.73it/s]\n"
     ]
    },
    {
     "name": "stdout",
     "output_type": "stream",
     "text": [
      "Epoch: 79 | disc_loss1: -0.10096170008182526 | gen_loss: 0.21957004070281982 \n"
     ]
    },
    {
     "name": "stderr",
     "output_type": "stream",
     "text": [
      "  0%|▍                                                                                                               | 1/234 [00:00<00:06, 33.93it/s]\n",
      "  3%|██▉                                                                                                              | 1/39 [00:00<00:00, 50.77it/s]\n"
     ]
    },
    {
     "name": "stdout",
     "output_type": "stream",
     "text": [
      "Epoch: 80 | disc_loss1: -0.14635682106018066 | gen_loss: 0.1436268836259842 \n"
     ]
    },
    {
     "name": "stderr",
     "output_type": "stream",
     "text": [
      "  0%|▍                                                                                                               | 1/234 [00:00<00:06, 34.42it/s]\n",
      "  3%|██▉                                                                                                              | 1/39 [00:00<00:00, 51.66it/s]\n"
     ]
    },
    {
     "name": "stdout",
     "output_type": "stream",
     "text": [
      "Epoch: 81 | disc_loss1: -0.18434791266918182 | gen_loss: 0.06914450973272324 \n"
     ]
    },
    {
     "name": "stderr",
     "output_type": "stream",
     "text": [
      "  0%|▍                                                                                                               | 1/234 [00:00<00:06, 33.65it/s]\n",
      "  3%|██▉                                                                                                              | 1/39 [00:00<00:00, 46.27it/s]\n"
     ]
    },
    {
     "name": "stdout",
     "output_type": "stream",
     "text": [
      "Epoch: 82 | disc_loss1: -0.16898857057094574 | gen_loss: -0.033204156905412674 \n"
     ]
    },
    {
     "name": "stderr",
     "output_type": "stream",
     "text": [
      "  0%|▍                                                                                                               | 1/234 [00:00<00:07, 30.29it/s]\n",
      "  3%|██▉                                                                                                              | 1/39 [00:00<00:00, 50.20it/s]\n"
     ]
    },
    {
     "name": "stdout",
     "output_type": "stream",
     "text": [
      "Epoch: 83 | disc_loss1: -0.15910392999649048 | gen_loss: -0.0948585793375969 \n"
     ]
    },
    {
     "name": "stderr",
     "output_type": "stream",
     "text": [
      "  0%|▍                                                                                                               | 1/234 [00:00<00:06, 33.70it/s]\n",
      "  3%|██▉                                                                                                              | 1/39 [00:00<00:00, 50.54it/s]\n"
     ]
    },
    {
     "name": "stdout",
     "output_type": "stream",
     "text": [
      "Epoch: 84 | disc_loss1: -0.12687493860721588 | gen_loss: -0.16080312430858612 \n"
     ]
    },
    {
     "name": "stderr",
     "output_type": "stream",
     "text": [
      "  0%|▍                                                                                                               | 1/234 [00:00<00:06, 34.10it/s]\n",
      "  3%|██▉                                                                                                              | 1/39 [00:00<00:00, 51.15it/s]\n"
     ]
    },
    {
     "name": "stdout",
     "output_type": "stream",
     "text": [
      "Epoch: 85 | disc_loss1: -0.03347042575478554 | gen_loss: -0.1935890018939972 \n"
     ]
    },
    {
     "name": "stderr",
     "output_type": "stream",
     "text": [
      "  0%|▍                                                                                                               | 1/234 [00:00<00:06, 34.64it/s]\n",
      "  3%|██▉                                                                                                              | 1/39 [00:00<00:00, 50.67it/s]\n"
     ]
    },
    {
     "name": "stdout",
     "output_type": "stream",
     "text": [
      "Epoch: 86 | disc_loss1: 0.05642704665660858 | gen_loss: -0.24100911617279053 \n"
     ]
    },
    {
     "name": "stderr",
     "output_type": "stream",
     "text": [
      "  0%|▍                                                                                                               | 1/234 [00:00<00:07, 33.19it/s]\n",
      "  3%|██▉                                                                                                              | 1/39 [00:00<00:00, 51.24it/s]\n"
     ]
    },
    {
     "name": "stdout",
     "output_type": "stream",
     "text": [
      "Epoch: 87 | disc_loss1: 0.10573357343673706 | gen_loss: -0.1495198905467987 \n"
     ]
    },
    {
     "name": "stderr",
     "output_type": "stream",
     "text": [
      "  0%|▍                                                                                                               | 1/234 [00:00<00:06, 33.93it/s]\n",
      "  3%|██▉                                                                                                              | 1/39 [00:00<00:00, 50.75it/s]\n"
     ]
    },
    {
     "name": "stdout",
     "output_type": "stream",
     "text": [
      "Epoch: 88 | disc_loss1: 0.06526380777359009 | gen_loss: 0.04506261274218559 \n"
     ]
    },
    {
     "name": "stderr",
     "output_type": "stream",
     "text": [
      "  0%|▍                                                                                                               | 1/234 [00:00<00:06, 34.75it/s]\n",
      "  3%|██▉                                                                                                              | 1/39 [00:00<00:00, 51.27it/s]\n"
     ]
    },
    {
     "name": "stdout",
     "output_type": "stream",
     "text": [
      "Epoch: 89 | disc_loss1: -0.07236970961093903 | gen_loss: 0.4619196355342865 \n"
     ]
    },
    {
     "name": "stderr",
     "output_type": "stream",
     "text": [
      "  0%|▍                                                                                                               | 1/234 [00:00<00:06, 33.81it/s]\n",
      "  3%|██▉                                                                                                              | 1/39 [00:00<00:00, 50.19it/s]\n"
     ]
    },
    {
     "name": "stdout",
     "output_type": "stream",
     "text": [
      "Epoch: 90 | disc_loss1: -0.22794514894485474 | gen_loss: 0.9830479621887207 \n"
     ]
    },
    {
     "name": "stderr",
     "output_type": "stream",
     "text": [
      "  0%|▍                                                                                                               | 1/234 [00:00<00:06, 33.95it/s]\n",
      "  3%|██▉                                                                                                              | 1/39 [00:00<00:00, 50.11it/s]\n"
     ]
    },
    {
     "name": "stdout",
     "output_type": "stream",
     "text": [
      "Epoch: 91 | disc_loss1: -0.2072952687740326 | gen_loss: 1.196894884109497 \n"
     ]
    },
    {
     "name": "stderr",
     "output_type": "stream",
     "text": [
      "  0%|▍                                                                                                               | 1/234 [00:00<00:08, 28.81it/s]\n",
      "  3%|██▉                                                                                                              | 1/39 [00:00<00:00, 44.81it/s]\n"
     ]
    },
    {
     "name": "stdout",
     "output_type": "stream",
     "text": [
      "Epoch: 92 | disc_loss1: -0.0755804181098938 | gen_loss: 1.7126381397247314 \n"
     ]
    },
    {
     "name": "stderr",
     "output_type": "stream",
     "text": [
      "  0%|▍                                                                                                               | 1/234 [00:00<00:07, 30.64it/s]\n",
      "  3%|██▉                                                                                                              | 1/39 [00:00<00:00, 47.03it/s]\n"
     ]
    },
    {
     "name": "stdout",
     "output_type": "stream",
     "text": [
      "Epoch: 93 | disc_loss1: 0.06515717506408691 | gen_loss: 0.9531992077827454 \n"
     ]
    },
    {
     "name": "stderr",
     "output_type": "stream",
     "text": [
      "  0%|▍                                                                                                               | 1/234 [00:00<00:07, 29.31it/s]\n",
      "  3%|██▉                                                                                                              | 1/39 [00:00<00:00, 46.28it/s]\n"
     ]
    },
    {
     "name": "stdout",
     "output_type": "stream",
     "text": [
      "Epoch: 94 | disc_loss1: 0.19081230461597443 | gen_loss: 1.0536401271820068 \n"
     ]
    },
    {
     "name": "stderr",
     "output_type": "stream",
     "text": [
      "  0%|▍                                                                                                               | 1/234 [00:00<00:07, 29.51it/s]\n",
      "  3%|██▉                                                                                                              | 1/39 [00:00<00:00, 45.03it/s]\n"
     ]
    },
    {
     "name": "stdout",
     "output_type": "stream",
     "text": [
      "Epoch: 95 | disc_loss1: 0.227640300989151 | gen_loss: 0.6517620086669922 \n"
     ]
    },
    {
     "name": "stderr",
     "output_type": "stream",
     "text": [
      "  0%|▍                                                                                                               | 1/234 [00:00<00:10, 22.14it/s]\n",
      "  3%|██▉                                                                                                              | 1/39 [00:00<00:00, 47.71it/s]\n"
     ]
    },
    {
     "name": "stdout",
     "output_type": "stream",
     "text": [
      "Epoch: 96 | disc_loss1: 0.3080892562866211 | gen_loss: 0.6142205595970154 \n"
     ]
    },
    {
     "name": "stderr",
     "output_type": "stream",
     "text": [
      "  0%|▍                                                                                                               | 1/234 [00:00<00:08, 27.55it/s]\n",
      "  3%|██▉                                                                                                              | 1/39 [00:00<00:00, 47.15it/s]\n"
     ]
    },
    {
     "name": "stdout",
     "output_type": "stream",
     "text": [
      "Epoch: 97 | disc_loss1: 0.2836693525314331 | gen_loss: 0.39931946992874146 \n"
     ]
    },
    {
     "name": "stderr",
     "output_type": "stream",
     "text": [
      "  0%|▍                                                                                                               | 1/234 [00:00<00:07, 31.93it/s]\n",
      "  3%|██▉                                                                                                              | 1/39 [00:00<00:00, 47.62it/s]\n"
     ]
    },
    {
     "name": "stdout",
     "output_type": "stream",
     "text": [
      "Epoch: 98 | disc_loss1: 0.20692113041877747 | gen_loss: 0.3242093324661255 \n"
     ]
    },
    {
     "name": "stderr",
     "output_type": "stream",
     "text": [
      "  0%|▍                                                                                                               | 1/234 [00:00<00:07, 32.50it/s]\n",
      "  3%|██▉                                                                                                              | 1/39 [00:00<00:00, 46.62it/s]\n"
     ]
    },
    {
     "name": "stdout",
     "output_type": "stream",
     "text": [
      "Epoch: 99 | disc_loss1: 0.06721393764019012 | gen_loss: 0.2462409883737564 \n"
     ]
    },
    {
     "name": "stderr",
     "output_type": "stream",
     "text": [
      "  0%|▍                                                                                                               | 1/234 [00:00<00:07, 31.69it/s]\n",
      "  3%|██▉                                                                                                              | 1/39 [00:00<00:00, 46.91it/s]\n"
     ]
    },
    {
     "name": "stdout",
     "output_type": "stream",
     "text": [
      "Epoch: 100 | disc_loss1: -0.052736490964889526 | gen_loss: 0.17492081224918365 \n"
     ]
    },
    {
     "name": "stderr",
     "output_type": "stream",
     "text": [
      "  0%|▍                                                                                                               | 1/234 [00:00<00:07, 32.36it/s]\n",
      "  3%|██▉                                                                                                              | 1/39 [00:00<00:00, 45.86it/s]\n"
     ]
    },
    {
     "name": "stdout",
     "output_type": "stream",
     "text": [
      "Epoch: 101 | disc_loss1: -0.19536812603473663 | gen_loss: 0.11313831061124802 \n"
     ]
    },
    {
     "name": "stderr",
     "output_type": "stream",
     "text": [
      "  0%|▍                                                                                                               | 1/234 [00:00<00:07, 32.15it/s]\n",
      "  3%|██▉                                                                                                              | 1/39 [00:00<00:00, 46.62it/s]\n"
     ]
    },
    {
     "name": "stdout",
     "output_type": "stream",
     "text": [
      "Epoch: 102 | disc_loss1: -0.32386377453804016 | gen_loss: 0.05673791840672493 \n"
     ]
    },
    {
     "name": "stderr",
     "output_type": "stream",
     "text": [
      "  0%|▍                                                                                                               | 1/234 [00:00<00:07, 32.75it/s]\n",
      "  3%|██▉                                                                                                              | 1/39 [00:00<00:00, 46.32it/s]\n"
     ]
    },
    {
     "name": "stdout",
     "output_type": "stream",
     "text": [
      "Epoch: 103 | disc_loss1: -0.4201652407646179 | gen_loss: -0.009045696817338467 \n"
     ]
    },
    {
     "name": "stderr",
     "output_type": "stream",
     "text": [
      "  0%|▍                                                                                                               | 1/234 [00:00<00:07, 32.33it/s]\n",
      "  3%|██▉                                                                                                              | 1/39 [00:00<00:00, 48.18it/s]\n"
     ]
    },
    {
     "name": "stdout",
     "output_type": "stream",
     "text": [
      "Epoch: 104 | disc_loss1: -0.43701407313346863 | gen_loss: -0.06755595654249191 \n"
     ]
    },
    {
     "name": "stderr",
     "output_type": "stream",
     "text": [
      "  0%|▍                                                                                                               | 1/234 [00:00<00:07, 32.63it/s]\n",
      "  3%|██▉                                                                                                              | 1/39 [00:00<00:00, 45.77it/s]\n"
     ]
    },
    {
     "name": "stdout",
     "output_type": "stream",
     "text": [
      "Epoch: 105 | disc_loss1: -0.4355783462524414 | gen_loss: -0.15414094924926758 \n"
     ]
    },
    {
     "name": "stderr",
     "output_type": "stream",
     "text": [
      "  0%|▍                                                                                                               | 1/234 [00:00<00:07, 32.47it/s]\n",
      "  3%|██▉                                                                                                              | 1/39 [00:00<00:00, 48.44it/s]\n"
     ]
    },
    {
     "name": "stdout",
     "output_type": "stream",
     "text": [
      "Epoch: 106 | disc_loss1: -0.4043595790863037 | gen_loss: -0.24589256942272186 \n"
     ]
    },
    {
     "name": "stderr",
     "output_type": "stream",
     "text": [
      "  0%|▍                                                                                                               | 1/234 [00:00<00:07, 29.19it/s]\n",
      "  3%|██▉                                                                                                              | 1/39 [00:00<00:00, 38.64it/s]\n"
     ]
    },
    {
     "name": "stdout",
     "output_type": "stream",
     "text": [
      "Epoch: 107 | disc_loss1: -0.33563554286956787 | gen_loss: -0.3464321494102478 \n"
     ]
    },
    {
     "name": "stderr",
     "output_type": "stream",
     "text": [
      "  0%|▍                                                                                                               | 1/234 [00:00<00:07, 30.28it/s]\n",
      "  3%|██▉                                                                                                              | 1/39 [00:00<00:00, 44.71it/s]\n"
     ]
    },
    {
     "name": "stdout",
     "output_type": "stream",
     "text": [
      "Epoch: 108 | disc_loss1: -0.20594826340675354 | gen_loss: -0.47008994221687317 \n"
     ]
    },
    {
     "name": "stderr",
     "output_type": "stream",
     "text": [
      "  0%|▍                                                                                                               | 1/234 [00:00<00:07, 31.19it/s]\n",
      "  3%|██▉                                                                                                              | 1/39 [00:00<00:00, 45.41it/s]\n"
     ]
    },
    {
     "name": "stdout",
     "output_type": "stream",
     "text": [
      "Epoch: 109 | disc_loss1: -0.036949578672647476 | gen_loss: -0.6195465922355652 \n"
     ]
    },
    {
     "name": "stderr",
     "output_type": "stream",
     "text": [
      "  0%|▍                                                                                                               | 1/234 [00:00<00:16, 14.23it/s]\n",
      "  3%|██▉                                                                                                              | 1/39 [00:00<00:01, 27.75it/s]\n"
     ]
    },
    {
     "name": "stdout",
     "output_type": "stream",
     "text": [
      "Epoch: 110 | disc_loss1: 0.1358538269996643 | gen_loss: -0.570801854133606 \n"
     ]
    },
    {
     "name": "stderr",
     "output_type": "stream",
     "text": [
      "  0%|▍                                                                                                               | 1/234 [00:00<00:08, 26.03it/s]\n",
      "  3%|██▉                                                                                                              | 1/39 [00:00<00:00, 44.32it/s]\n"
     ]
    },
    {
     "name": "stdout",
     "output_type": "stream",
     "text": [
      "Epoch: 111 | disc_loss1: 0.5076752305030823 | gen_loss: -0.7538793683052063 \n"
     ]
    },
    {
     "name": "stderr",
     "output_type": "stream",
     "text": [
      "  0%|▍                                                                                                               | 1/234 [00:00<00:07, 32.28it/s]\n",
      "  3%|██▉                                                                                                              | 1/39 [00:00<00:00, 45.71it/s]\n"
     ]
    },
    {
     "name": "stdout",
     "output_type": "stream",
     "text": [
      "Epoch: 112 | disc_loss1: 0.5192310810089111 | gen_loss: -0.4212965965270996 \n"
     ]
    },
    {
     "name": "stderr",
     "output_type": "stream",
     "text": [
      "  0%|▍                                                                                                               | 1/234 [00:00<00:07, 33.28it/s]\n",
      "  3%|██▉                                                                                                              | 1/39 [00:00<00:00, 48.76it/s]\n"
     ]
    },
    {
     "name": "stdout",
     "output_type": "stream",
     "text": [
      "Epoch: 113 | disc_loss1: 0.24865135550498962 | gen_loss: -0.2796179950237274 \n"
     ]
    },
    {
     "name": "stderr",
     "output_type": "stream",
     "text": [
      "  0%|▍                                                                                                               | 1/234 [00:00<00:07, 32.91it/s]\n",
      "  3%|██▉                                                                                                              | 1/39 [00:00<00:00, 48.00it/s]\n"
     ]
    },
    {
     "name": "stdout",
     "output_type": "stream",
     "text": [
      "Epoch: 114 | disc_loss1: 0.15250906348228455 | gen_loss: 0.09083292633295059 \n"
     ]
    },
    {
     "name": "stderr",
     "output_type": "stream",
     "text": [
      "  0%|▍                                                                                                               | 1/234 [00:00<00:07, 32.47it/s]\n",
      "  3%|██▉                                                                                                              | 1/39 [00:00<00:00, 50.46it/s]\n"
     ]
    },
    {
     "name": "stdout",
     "output_type": "stream",
     "text": [
      "Epoch: 115 | disc_loss1: -0.1508122682571411 | gen_loss: 0.641403317451477 \n"
     ]
    },
    {
     "name": "stderr",
     "output_type": "stream",
     "text": [
      "  0%|▍                                                                                                               | 1/234 [00:00<00:06, 33.29it/s]\n",
      "  3%|██▉                                                                                                              | 1/39 [00:00<00:00, 49.10it/s]\n"
     ]
    },
    {
     "name": "stdout",
     "output_type": "stream",
     "text": [
      "Epoch: 116 | disc_loss1: -0.3487764298915863 | gen_loss: 1.1052465438842773 \n"
     ]
    },
    {
     "name": "stderr",
     "output_type": "stream",
     "text": [
      "  0%|▍                                                                                                               | 1/234 [00:00<00:06, 33.47it/s]\n",
      "  3%|██▉                                                                                                              | 1/39 [00:00<00:00, 48.52it/s]\n"
     ]
    },
    {
     "name": "stdout",
     "output_type": "stream",
     "text": [
      "Epoch: 117 | disc_loss1: -0.4449015259742737 | gen_loss: 1.709337592124939 \n"
     ]
    },
    {
     "name": "stderr",
     "output_type": "stream",
     "text": [
      "  0%|▍                                                                                                               | 1/234 [00:00<00:07, 30.63it/s]\n",
      "  3%|██▉                                                                                                              | 1/39 [00:00<00:02, 17.17it/s]\n"
     ]
    },
    {
     "name": "stdout",
     "output_type": "stream",
     "text": [
      "Epoch: 118 | disc_loss1: -0.35807526111602783 | gen_loss: 1.5305988788604736 \n"
     ]
    },
    {
     "name": "stderr",
     "output_type": "stream",
     "text": [
      "  0%|▍                                                                                                               | 1/234 [00:00<00:10, 22.88it/s]\n",
      "  3%|██▉                                                                                                              | 1/39 [00:00<00:00, 49.98it/s]\n"
     ]
    },
    {
     "name": "stdout",
     "output_type": "stream",
     "text": [
      "Epoch: 119 | disc_loss1: -0.08272522687911987 | gen_loss: 2.006253242492676 \n"
     ]
    },
    {
     "name": "stderr",
     "output_type": "stream",
     "text": [
      "  0%|▍                                                                                                               | 1/234 [00:00<00:07, 32.71it/s]\n",
      "  3%|██▉                                                                                                              | 1/39 [00:00<00:00, 47.00it/s]\n"
     ]
    },
    {
     "name": "stdout",
     "output_type": "stream",
     "text": [
      "Epoch: 120 | disc_loss1: 0.04869525134563446 | gen_loss: 1.1578041315078735 \n"
     ]
    },
    {
     "name": "stderr",
     "output_type": "stream",
     "text": [
      "  0%|▍                                                                                                               | 1/234 [00:00<00:06, 33.38it/s]\n",
      "  3%|██▉                                                                                                              | 1/39 [00:00<00:00, 48.41it/s]\n"
     ]
    },
    {
     "name": "stdout",
     "output_type": "stream",
     "text": [
      "Epoch: 121 | disc_loss1: 0.015262991189956665 | gen_loss: 1.4040640592575073 \n"
     ]
    },
    {
     "name": "stderr",
     "output_type": "stream",
     "text": [
      "  0%|▍                                                                                                               | 1/234 [00:00<00:07, 33.07it/s]\n",
      "  3%|██▉                                                                                                              | 1/39 [00:00<00:00, 47.61it/s]\n"
     ]
    },
    {
     "name": "stdout",
     "output_type": "stream",
     "text": [
      "Epoch: 122 | disc_loss1: 0.1742987036705017 | gen_loss: 0.9508135914802551 \n"
     ]
    },
    {
     "name": "stderr",
     "output_type": "stream",
     "text": [
      "  0%|▍                                                                                                               | 1/234 [00:00<00:06, 33.46it/s]\n",
      "  3%|██▉                                                                                                              | 1/39 [00:00<00:00, 49.72it/s]\n"
     ]
    },
    {
     "name": "stdout",
     "output_type": "stream",
     "text": [
      "Epoch: 123 | disc_loss1: 0.26952046155929565 | gen_loss: 0.8831983804702759 \n"
     ]
    },
    {
     "name": "stderr",
     "output_type": "stream",
     "text": [
      "  0%|▍                                                                                                               | 1/234 [00:00<00:07, 29.42it/s]\n",
      "  3%|██▉                                                                                                              | 1/39 [00:00<00:00, 48.70it/s]\n"
     ]
    },
    {
     "name": "stdout",
     "output_type": "stream",
     "text": [
      "Epoch: 124 | disc_loss1: 0.35096731781959534 | gen_loss: 0.6564149856567383 \n"
     ]
    },
    {
     "name": "stderr",
     "output_type": "stream",
     "text": [
      "  0%|▍                                                                                                               | 1/234 [00:00<00:07, 32.67it/s]\n",
      "  3%|██▉                                                                                                              | 1/39 [00:00<00:00, 48.83it/s]\n"
     ]
    },
    {
     "name": "stdout",
     "output_type": "stream",
     "text": [
      "Epoch: 125 | disc_loss1: 0.3947439193725586 | gen_loss: 0.5680352449417114 \n"
     ]
    },
    {
     "name": "stderr",
     "output_type": "stream",
     "text": [
      "  0%|▍                                                                                                               | 1/234 [00:00<00:06, 33.55it/s]\n",
      "  3%|██▉                                                                                                              | 1/39 [00:00<00:00, 48.36it/s]\n"
     ]
    },
    {
     "name": "stdout",
     "output_type": "stream",
     "text": [
      "Epoch: 126 | disc_loss1: 0.3578712046146393 | gen_loss: 0.4432511031627655 \n"
     ]
    },
    {
     "name": "stderr",
     "output_type": "stream",
     "text": [
      "  0%|▍                                                                                                               | 1/234 [00:00<00:07, 32.68it/s]\n",
      "  3%|██▉                                                                                                              | 1/39 [00:00<00:00, 48.56it/s]\n"
     ]
    },
    {
     "name": "stdout",
     "output_type": "stream",
     "text": [
      "Epoch: 127 | disc_loss1: 0.30359652638435364 | gen_loss: 0.37531718611717224 \n"
     ]
    },
    {
     "name": "stderr",
     "output_type": "stream",
     "text": [
      "  0%|▍                                                                                                               | 1/234 [00:00<00:07, 29.45it/s]\n",
      "  3%|██▉                                                                                                              | 1/39 [00:00<00:01, 35.87it/s]\n"
     ]
    },
    {
     "name": "stdout",
     "output_type": "stream",
     "text": [
      "Epoch: 128 | disc_loss1: 0.1808757483959198 | gen_loss: 0.2948722839355469 \n"
     ]
    },
    {
     "name": "stderr",
     "output_type": "stream",
     "text": [
      "  0%|▍                                                                                                               | 1/234 [00:00<00:07, 29.68it/s]\n",
      "  3%|██▉                                                                                                              | 1/39 [00:00<00:00, 47.53it/s]\n"
     ]
    },
    {
     "name": "stdout",
     "output_type": "stream",
     "text": [
      "Epoch: 129 | disc_loss1: 0.06100434809923172 | gen_loss: 0.2394055724143982 \n"
     ]
    },
    {
     "name": "stderr",
     "output_type": "stream",
     "text": [
      "  0%|▍                                                                                                               | 1/234 [00:00<00:06, 33.41it/s]\n",
      "  3%|██▉                                                                                                              | 1/39 [00:00<00:00, 46.82it/s]\n"
     ]
    },
    {
     "name": "stdout",
     "output_type": "stream",
     "text": [
      "Epoch: 130 | disc_loss1: -0.0834740623831749 | gen_loss: 0.1744973510503769 \n"
     ]
    },
    {
     "name": "stderr",
     "output_type": "stream",
     "text": [
      "  0%|▍                                                                                                               | 1/234 [00:00<00:06, 33.83it/s]\n",
      "  3%|██▉                                                                                                              | 1/39 [00:00<00:00, 47.34it/s]\n"
     ]
    },
    {
     "name": "stdout",
     "output_type": "stream",
     "text": [
      "Epoch: 131 | disc_loss1: -0.20499275624752045 | gen_loss: 0.10599236935377121 \n"
     ]
    },
    {
     "name": "stderr",
     "output_type": "stream",
     "text": [
      "  0%|▍                                                                                                               | 1/234 [00:00<00:08, 28.29it/s]\n",
      "  3%|██▉                                                                                                              | 1/39 [00:00<00:00, 48.77it/s]\n"
     ]
    },
    {
     "name": "stdout",
     "output_type": "stream",
     "text": [
      "Epoch: 132 | disc_loss1: -0.29109928011894226 | gen_loss: 0.048055630177259445 \n"
     ]
    },
    {
     "name": "stderr",
     "output_type": "stream",
     "text": [
      "  0%|▍                                                                                                               | 1/234 [00:00<00:06, 33.90it/s]\n",
      "  3%|██▉                                                                                                              | 1/39 [00:00<00:00, 47.22it/s]\n"
     ]
    },
    {
     "name": "stdout",
     "output_type": "stream",
     "text": [
      "Epoch: 133 | disc_loss1: -0.37835201621055603 | gen_loss: -0.01886618696153164 \n"
     ]
    },
    {
     "name": "stderr",
     "output_type": "stream",
     "text": [
      "  0%|▍                                                                                                               | 1/234 [00:00<00:06, 33.75it/s]\n",
      "  3%|██▉                                                                                                              | 1/39 [00:00<00:00, 48.59it/s]\n"
     ]
    },
    {
     "name": "stdout",
     "output_type": "stream",
     "text": [
      "Epoch: 134 | disc_loss1: -0.37805190682411194 | gen_loss: -0.08215943723917007 \n"
     ]
    },
    {
     "name": "stderr",
     "output_type": "stream",
     "text": [
      "  0%|▍                                                                                                               | 1/234 [00:00<00:07, 32.89it/s]\n",
      "  3%|██▉                                                                                                              | 1/39 [00:00<00:00, 48.23it/s]\n"
     ]
    },
    {
     "name": "stdout",
     "output_type": "stream",
     "text": [
      "Epoch: 135 | disc_loss1: -0.3480767011642456 | gen_loss: -0.2014019936323166 \n"
     ]
    },
    {
     "name": "stderr",
     "output_type": "stream",
     "text": [
      "  0%|▍                                                                                                               | 1/234 [00:00<00:06, 33.31it/s]\n",
      "  3%|██▉                                                                                                              | 1/39 [00:00<00:00, 48.50it/s]\n"
     ]
    },
    {
     "name": "stdout",
     "output_type": "stream",
     "text": [
      "Epoch: 136 | disc_loss1: -0.3186874985694885 | gen_loss: -0.2531515061855316 \n"
     ]
    },
    {
     "name": "stderr",
     "output_type": "stream",
     "text": [
      "  0%|▍                                                                                                               | 1/234 [00:00<00:06, 34.06it/s]\n",
      "  3%|██▉                                                                                                              | 1/39 [00:00<00:00, 48.07it/s]\n"
     ]
    },
    {
     "name": "stdout",
     "output_type": "stream",
     "text": [
      "Epoch: 137 | disc_loss1: -0.22481489181518555 | gen_loss: -0.4269315004348755 \n"
     ]
    },
    {
     "name": "stderr",
     "output_type": "stream",
     "text": [
      "  0%|▍                                                                                                               | 1/234 [00:00<00:08, 29.10it/s]\n",
      "  3%|██▉                                                                                                              | 1/39 [00:00<00:01, 33.32it/s]\n"
     ]
    },
    {
     "name": "stdout",
     "output_type": "stream",
     "text": [
      "Epoch: 138 | disc_loss1: -0.03673946112394333 | gen_loss: -0.4053259789943695 \n"
     ]
    },
    {
     "name": "stderr",
     "output_type": "stream",
     "text": [
      "  0%|▍                                                                                                               | 1/234 [00:00<00:08, 29.11it/s]\n",
      "  3%|██▉                                                                                                              | 1/39 [00:00<00:00, 48.48it/s]\n"
     ]
    },
    {
     "name": "stdout",
     "output_type": "stream",
     "text": [
      "Epoch: 139 | disc_loss1: 0.1018424779176712 | gen_loss: -0.6704114079475403 \n"
     ]
    },
    {
     "name": "stderr",
     "output_type": "stream",
     "text": [
      "  0%|▍                                                                                                               | 1/234 [00:00<00:06, 33.90it/s]\n",
      "  3%|██▉                                                                                                              | 1/39 [00:00<00:00, 48.98it/s]\n"
     ]
    },
    {
     "name": "stdout",
     "output_type": "stream",
     "text": [
      "Epoch: 140 | disc_loss1: 0.13932868838310242 | gen_loss: -0.48434320092201233 \n"
     ]
    },
    {
     "name": "stderr",
     "output_type": "stream",
     "text": [
      "  0%|▍                                                                                                               | 1/234 [00:00<00:06, 33.44it/s]\n",
      "  3%|██▉                                                                                                              | 1/39 [00:00<00:00, 47.43it/s]\n"
     ]
    },
    {
     "name": "stdout",
     "output_type": "stream",
     "text": [
      "Epoch: 141 | disc_loss1: 0.16038426756858826 | gen_loss: -0.5786288380622864 \n"
     ]
    },
    {
     "name": "stderr",
     "output_type": "stream",
     "text": [
      "  0%|▍                                                                                                               | 1/234 [00:00<00:06, 33.48it/s]\n",
      "  3%|██▉                                                                                                              | 1/39 [00:00<00:00, 48.89it/s]\n"
     ]
    },
    {
     "name": "stdout",
     "output_type": "stream",
     "text": [
      "Epoch: 142 | disc_loss1: 0.10442599654197693 | gen_loss: -0.31033191084861755 \n"
     ]
    },
    {
     "name": "stderr",
     "output_type": "stream",
     "text": [
      "  0%|▍                                                                                                               | 1/234 [00:00<00:07, 32.99it/s]\n",
      "  3%|██▉                                                                                                              | 1/39 [00:00<00:00, 47.94it/s]\n"
     ]
    },
    {
     "name": "stdout",
     "output_type": "stream",
     "text": [
      "Epoch: 143 | disc_loss1: 0.045351624488830566 | gen_loss: -0.0876355692744255 \n"
     ]
    },
    {
     "name": "stderr",
     "output_type": "stream",
     "text": [
      "  0%|▍                                                                                                               | 1/234 [00:00<00:07, 32.86it/s]\n",
      "  3%|██▉                                                                                                              | 1/39 [00:00<00:00, 48.54it/s]\n"
     ]
    },
    {
     "name": "stdout",
     "output_type": "stream",
     "text": [
      "Epoch: 144 | disc_loss1: -0.06708711385726929 | gen_loss: 0.2081814855337143 \n"
     ]
    },
    {
     "name": "stderr",
     "output_type": "stream",
     "text": [
      "  0%|▍                                                                                                               | 1/234 [00:00<00:06, 33.32it/s]\n",
      "  3%|██▉                                                                                                              | 1/39 [00:00<00:00, 48.01it/s]\n"
     ]
    },
    {
     "name": "stdout",
     "output_type": "stream",
     "text": [
      "Epoch: 145 | disc_loss1: -0.17255744338035583 | gen_loss: 0.5187801122665405 \n"
     ]
    },
    {
     "name": "stderr",
     "output_type": "stream",
     "text": [
      "  0%|▍                                                                                                               | 1/234 [00:00<00:06, 34.02it/s]\n",
      "  3%|██▉                                                                                                              | 1/39 [00:00<00:00, 48.09it/s]\n"
     ]
    },
    {
     "name": "stdout",
     "output_type": "stream",
     "text": [
      "Epoch: 146 | disc_loss1: -0.12045435607433319 | gen_loss: 0.7312099933624268 \n"
     ]
    },
    {
     "name": "stderr",
     "output_type": "stream",
     "text": [
      "  0%|▍                                                                                                               | 1/234 [00:00<00:06, 34.49it/s]\n",
      "  3%|██▉                                                                                                              | 1/39 [00:00<00:00, 50.05it/s]\n"
     ]
    },
    {
     "name": "stdout",
     "output_type": "stream",
     "text": [
      "Epoch: 147 | disc_loss1: -0.31000298261642456 | gen_loss: 1.0771684646606445 \n"
     ]
    },
    {
     "name": "stderr",
     "output_type": "stream",
     "text": [
      "  0%|▍                                                                                                               | 1/234 [00:00<00:06, 33.33it/s]\n",
      "  3%|██▉                                                                                                              | 1/39 [00:00<00:00, 46.44it/s]\n"
     ]
    },
    {
     "name": "stdout",
     "output_type": "stream",
     "text": [
      "Epoch: 148 | disc_loss1: -0.2898262143135071 | gen_loss: 1.1300593614578247 \n"
     ]
    },
    {
     "name": "stderr",
     "output_type": "stream",
     "text": [
      "  0%|▍                                                                                                               | 1/234 [00:00<00:06, 34.43it/s]\n",
      "  3%|██▉                                                                                                              | 1/39 [00:00<00:00, 46.87it/s]\n"
     ]
    },
    {
     "name": "stdout",
     "output_type": "stream",
     "text": [
      "Epoch: 149 | disc_loss1: -0.29984527826309204 | gen_loss: 1.3646507263183594 \n"
     ]
    },
    {
     "name": "stderr",
     "output_type": "stream",
     "text": [
      "  0%|▍                                                                                                               | 1/234 [00:00<00:06, 34.16it/s]\n",
      "  3%|██▉                                                                                                              | 1/39 [00:00<00:00, 46.98it/s]\n"
     ]
    },
    {
     "name": "stdout",
     "output_type": "stream",
     "text": [
      "Epoch: 150 | disc_loss1: -0.11815522611141205 | gen_loss: 1.1051546335220337 \n"
     ]
    },
    {
     "name": "stderr",
     "output_type": "stream",
     "text": [
      "  0%|▍                                                                                                               | 1/234 [00:00<00:07, 33.22it/s]\n",
      "  3%|██▉                                                                                                              | 1/39 [00:00<00:00, 49.98it/s]\n"
     ]
    },
    {
     "name": "stdout",
     "output_type": "stream",
     "text": [
      "Epoch: 151 | disc_loss1: 0.049783945083618164 | gen_loss: 1.1735308170318604 \n"
     ]
    },
    {
     "name": "stderr",
     "output_type": "stream",
     "text": [
      "  0%|▍                                                                                                               | 1/234 [00:00<00:07, 33.23it/s]\n",
      "  3%|██▉                                                                                                              | 1/39 [00:00<00:00, 47.85it/s]\n"
     ]
    },
    {
     "name": "stdout",
     "output_type": "stream",
     "text": [
      "Epoch: 152 | disc_loss1: 0.2337813675403595 | gen_loss: 0.7524765729904175 \n"
     ]
    },
    {
     "name": "stderr",
     "output_type": "stream",
     "text": [
      "  0%|▍                                                                                                               | 1/234 [00:00<00:07, 32.77it/s]\n",
      "  3%|██▉                                                                                                              | 1/39 [00:00<00:00, 48.53it/s]\n"
     ]
    },
    {
     "name": "stdout",
     "output_type": "stream",
     "text": [
      "Epoch: 153 | disc_loss1: 0.28182053565979004 | gen_loss: 0.7971814870834351 \n"
     ]
    },
    {
     "name": "stderr",
     "output_type": "stream",
     "text": [
      "  0%|▍                                                                                                               | 1/234 [00:00<00:07, 33.13it/s]\n",
      "  3%|██▉                                                                                                              | 1/39 [00:00<00:00, 47.73it/s]\n"
     ]
    },
    {
     "name": "stdout",
     "output_type": "stream",
     "text": [
      "Epoch: 154 | disc_loss1: 0.31070810556411743 | gen_loss: 0.5544188022613525 \n"
     ]
    },
    {
     "name": "stderr",
     "output_type": "stream",
     "text": [
      "  0%|▍                                                                                                               | 1/234 [00:00<00:07, 32.74it/s]\n",
      "  3%|██▉                                                                                                              | 1/39 [00:00<00:00, 47.74it/s]\n"
     ]
    },
    {
     "name": "stdout",
     "output_type": "stream",
     "text": [
      "Epoch: 155 | disc_loss1: 0.3133790194988251 | gen_loss: 0.504043459892273 \n"
     ]
    },
    {
     "name": "stderr",
     "output_type": "stream",
     "text": [
      "  0%|▍                                                                                                               | 1/234 [00:00<00:07, 33.18it/s]\n",
      "  3%|██▉                                                                                                              | 1/39 [00:00<00:00, 47.14it/s]\n"
     ]
    },
    {
     "name": "stdout",
     "output_type": "stream",
     "text": [
      "Epoch: 156 | disc_loss1: 0.31808072328567505 | gen_loss: 0.3578111231327057 \n"
     ]
    },
    {
     "name": "stderr",
     "output_type": "stream",
     "text": [
      "  0%|▍                                                                                                               | 1/234 [00:00<00:07, 33.23it/s]\n",
      "  3%|██▉                                                                                                              | 1/39 [00:00<00:00, 47.77it/s]\n"
     ]
    },
    {
     "name": "stdout",
     "output_type": "stream",
     "text": [
      "Epoch: 157 | disc_loss1: 0.21369633078575134 | gen_loss: 0.29644283652305603 \n"
     ]
    },
    {
     "name": "stderr",
     "output_type": "stream",
     "text": [
      "  0%|▍                                                                                                               | 1/234 [00:00<00:18, 12.29it/s]\n",
      "  3%|██▉                                                                                                              | 1/39 [00:00<00:05,  6.51it/s]\n"
     ]
    },
    {
     "name": "stdout",
     "output_type": "stream",
     "text": [
      "Epoch: 158 | disc_loss1: 0.13050851225852966 | gen_loss: 0.2179272621870041 \n"
     ]
    },
    {
     "name": "stderr",
     "output_type": "stream",
     "text": [
      "  0%|▍                                                                                                               | 1/234 [00:00<00:27,  8.61it/s]\n",
      "  3%|██▉                                                                                                              | 1/39 [00:00<00:04,  9.47it/s]\n"
     ]
    },
    {
     "name": "stdout",
     "output_type": "stream",
     "text": [
      "Epoch: 159 | disc_loss1: -0.012475147843360901 | gen_loss: 0.12626539170742035 \n"
     ]
    },
    {
     "name": "stderr",
     "output_type": "stream",
     "text": [
      "  0%|▍                                                                                                               | 1/234 [00:00<00:16, 13.91it/s]\n",
      "  3%|██▉                                                                                                              | 1/39 [00:00<00:02, 14.44it/s]\n"
     ]
    },
    {
     "name": "stdout",
     "output_type": "stream",
     "text": [
      "Epoch: 160 | disc_loss1: -0.11893525719642639 | gen_loss: 0.06759876012802124 \n"
     ]
    },
    {
     "name": "stderr",
     "output_type": "stream",
     "text": [
      "  0%|▍                                                                                                               | 1/234 [00:00<00:17, 13.18it/s]\n",
      "  3%|██▉                                                                                                              | 1/39 [00:00<00:02, 15.28it/s]\n"
     ]
    },
    {
     "name": "stdout",
     "output_type": "stream",
     "text": [
      "Epoch: 161 | disc_loss1: -0.19991233944892883 | gen_loss: -0.03871023654937744 \n"
     ]
    },
    {
     "name": "stderr",
     "output_type": "stream",
     "text": [
      "  0%|▍                                                                                                               | 1/234 [00:00<00:19, 11.85it/s]\n",
      "  3%|██▉                                                                                                              | 1/39 [00:00<00:01, 24.49it/s]\n"
     ]
    },
    {
     "name": "stdout",
     "output_type": "stream",
     "text": [
      "Epoch: 162 | disc_loss1: -0.20938560366630554 | gen_loss: -0.13667790591716766 \n"
     ]
    },
    {
     "name": "stderr",
     "output_type": "stream",
     "text": [
      "  0%|▍                                                                                                               | 1/234 [00:00<00:14, 15.90it/s]\n",
      "  3%|██▉                                                                                                              | 1/39 [00:00<00:01, 22.25it/s]\n"
     ]
    },
    {
     "name": "stdout",
     "output_type": "stream",
     "text": [
      "Epoch: 163 | disc_loss1: -0.22236573696136475 | gen_loss: -0.23894809186458588 \n"
     ]
    },
    {
     "name": "stderr",
     "output_type": "stream",
     "text": [
      "  0%|▍                                                                                                               | 1/234 [00:00<00:10, 22.09it/s]\n",
      "  3%|██▉                                                                                                              | 1/39 [00:00<00:00, 43.16it/s]\n"
     ]
    },
    {
     "name": "stdout",
     "output_type": "stream",
     "text": [
      "Epoch: 164 | disc_loss1: -0.16492348909378052 | gen_loss: -0.3608739376068115 \n"
     ]
    },
    {
     "name": "stderr",
     "output_type": "stream",
     "text": [
      "  0%|▍                                                                                                               | 1/234 [00:00<00:07, 32.10it/s]\n",
      "  3%|██▉                                                                                                              | 1/39 [00:00<00:00, 46.88it/s]\n"
     ]
    },
    {
     "name": "stdout",
     "output_type": "stream",
     "text": [
      "Epoch: 165 | disc_loss1: -0.05312391370534897 | gen_loss: -0.5023608803749084 \n"
     ]
    },
    {
     "name": "stderr",
     "output_type": "stream",
     "text": [
      "  0%|▍                                                                                                               | 1/234 [00:00<00:07, 33.14it/s]\n",
      "  3%|██▉                                                                                                              | 1/39 [00:00<00:00, 47.58it/s]\n"
     ]
    },
    {
     "name": "stdout",
     "output_type": "stream",
     "text": [
      "Epoch: 166 | disc_loss1: 0.0400126613676548 | gen_loss: -0.6034581661224365 \n"
     ]
    },
    {
     "name": "stderr",
     "output_type": "stream",
     "text": [
      "  0%|▍                                                                                                               | 1/234 [00:00<00:07, 33.13it/s]\n",
      "  3%|██▉                                                                                                              | 1/39 [00:00<00:00, 49.26it/s]\n"
     ]
    },
    {
     "name": "stdout",
     "output_type": "stream",
     "text": [
      "Epoch: 167 | disc_loss1: 0.19280260801315308 | gen_loss: -0.6066924929618835 \n"
     ]
    },
    {
     "name": "stderr",
     "output_type": "stream",
     "text": [
      "  0%|▍                                                                                                               | 1/234 [00:00<00:07, 32.39it/s]\n",
      "  3%|██▉                                                                                                              | 1/39 [00:00<00:00, 48.04it/s]\n"
     ]
    },
    {
     "name": "stdout",
     "output_type": "stream",
     "text": [
      "Epoch: 168 | disc_loss1: 0.2882465124130249 | gen_loss: -0.6903475522994995 \n"
     ]
    },
    {
     "name": "stderr",
     "output_type": "stream",
     "text": [
      "  0%|▍                                                                                                               | 1/234 [00:00<00:06, 33.66it/s]\n",
      "  3%|██▉                                                                                                              | 1/39 [00:00<00:00, 47.58it/s]\n"
     ]
    },
    {
     "name": "stdout",
     "output_type": "stream",
     "text": [
      "Epoch: 169 | disc_loss1: 0.4095187485218048 | gen_loss: -0.2586882412433624 \n"
     ]
    },
    {
     "name": "stderr",
     "output_type": "stream",
     "text": [
      "  0%|▍                                                                                                               | 1/234 [00:00<00:06, 33.43it/s]\n",
      "  3%|██▉                                                                                                              | 1/39 [00:00<00:00, 50.13it/s]\n"
     ]
    },
    {
     "name": "stdout",
     "output_type": "stream",
     "text": [
      "Epoch: 170 | disc_loss1: 0.0703299269080162 | gen_loss: -0.029884805902838707 \n"
     ]
    },
    {
     "name": "stderr",
     "output_type": "stream",
     "text": [
      "  0%|▍                                                                                                               | 1/234 [00:00<00:07, 32.99it/s]\n",
      "  3%|██▉                                                                                                              | 1/39 [00:00<00:00, 48.77it/s]\n"
     ]
    },
    {
     "name": "stdout",
     "output_type": "stream",
     "text": [
      "Epoch: 171 | disc_loss1: -0.16800272464752197 | gen_loss: 0.45943936705589294 \n"
     ]
    },
    {
     "name": "stderr",
     "output_type": "stream",
     "text": [
      "  0%|▍                                                                                                               | 1/234 [00:00<00:06, 33.66it/s]\n",
      "  3%|██▉                                                                                                              | 1/39 [00:00<00:00, 48.00it/s]\n"
     ]
    },
    {
     "name": "stdout",
     "output_type": "stream",
     "text": [
      "Epoch: 172 | disc_loss1: -0.3100748360157013 | gen_loss: 1.0599933862686157 \n"
     ]
    },
    {
     "name": "stderr",
     "output_type": "stream",
     "text": [
      "  0%|▍                                                                                                               | 1/234 [00:00<00:06, 33.98it/s]\n",
      "  3%|██▉                                                                                                              | 1/39 [00:00<00:00, 46.51it/s]\n"
     ]
    },
    {
     "name": "stdout",
     "output_type": "stream",
     "text": [
      "Epoch: 173 | disc_loss1: -0.2812410295009613 | gen_loss: 0.9419313073158264 \n"
     ]
    },
    {
     "name": "stderr",
     "output_type": "stream",
     "text": [
      "  0%|▍                                                                                                               | 1/234 [00:00<00:06, 33.69it/s]\n",
      "  3%|██▉                                                                                                              | 1/39 [00:00<00:00, 47.21it/s]\n"
     ]
    },
    {
     "name": "stdout",
     "output_type": "stream",
     "text": [
      "Epoch: 174 | disc_loss1: -0.2120591253042221 | gen_loss: 1.3506104946136475 \n"
     ]
    },
    {
     "name": "stderr",
     "output_type": "stream",
     "text": [
      "  0%|▍                                                                                                               | 1/234 [00:00<00:06, 34.09it/s]\n",
      "  3%|██▉                                                                                                              | 1/39 [00:00<00:00, 48.80it/s]\n"
     ]
    },
    {
     "name": "stdout",
     "output_type": "stream",
     "text": [
      "Epoch: 175 | disc_loss1: -0.0548698753118515 | gen_loss: 0.9266408085823059 \n"
     ]
    },
    {
     "name": "stderr",
     "output_type": "stream",
     "text": [
      "  0%|▍                                                                                                               | 1/234 [00:00<00:08, 27.57it/s]\n",
      "  3%|██▉                                                                                                              | 1/39 [00:00<00:00, 48.11it/s]\n"
     ]
    },
    {
     "name": "stdout",
     "output_type": "stream",
     "text": [
      "Epoch: 176 | disc_loss1: -0.0449543297290802 | gen_loss: 1.1845122575759888 \n"
     ]
    },
    {
     "name": "stderr",
     "output_type": "stream",
     "text": [
      "  0%|▍                                                                                                               | 1/234 [00:00<00:06, 33.51it/s]\n",
      "  3%|██▉                                                                                                              | 1/39 [00:00<00:00, 46.89it/s]\n"
     ]
    },
    {
     "name": "stdout",
     "output_type": "stream",
     "text": [
      "Epoch: 177 | disc_loss1: 0.06403736025094986 | gen_loss: 0.8619500398635864 \n"
     ]
    },
    {
     "name": "stderr",
     "output_type": "stream",
     "text": [
      "  0%|▍                                                                                                               | 1/234 [00:00<00:08, 27.62it/s]\n",
      "  3%|██▉                                                                                                              | 1/39 [00:00<00:00, 47.41it/s]\n"
     ]
    },
    {
     "name": "stdout",
     "output_type": "stream",
     "text": [
      "Epoch: 178 | disc_loss1: 0.1410222351551056 | gen_loss: 0.9043200612068176 \n"
     ]
    },
    {
     "name": "stderr",
     "output_type": "stream",
     "text": [
      "  0%|▍                                                                                                               | 1/234 [00:00<00:07, 32.20it/s]\n",
      "  3%|██▉                                                                                                              | 1/39 [00:00<00:00, 47.52it/s]\n"
     ]
    },
    {
     "name": "stdout",
     "output_type": "stream",
     "text": [
      "Epoch: 179 | disc_loss1: 0.24915096163749695 | gen_loss: 0.6303061842918396 \n"
     ]
    },
    {
     "name": "stderr",
     "output_type": "stream",
     "text": [
      "  0%|▍                                                                                                               | 1/234 [00:00<00:06, 33.47it/s]\n",
      "  3%|██▉                                                                                                              | 1/39 [00:00<00:00, 47.30it/s]\n"
     ]
    },
    {
     "name": "stdout",
     "output_type": "stream",
     "text": [
      "Epoch: 180 | disc_loss1: 0.2838045358657837 | gen_loss: 0.6432302594184875 \n"
     ]
    },
    {
     "name": "stderr",
     "output_type": "stream",
     "text": [
      "  0%|▍                                                                                                               | 1/234 [00:00<00:07, 32.24it/s]\n",
      "  3%|██▉                                                                                                              | 1/39 [00:00<00:00, 46.71it/s]\n"
     ]
    },
    {
     "name": "stdout",
     "output_type": "stream",
     "text": [
      "Epoch: 181 | disc_loss1: 0.31625819206237793 | gen_loss: 0.4469210207462311 \n"
     ]
    },
    {
     "name": "stderr",
     "output_type": "stream",
     "text": [
      "  0%|▍                                                                                                               | 1/234 [00:00<00:06, 33.43it/s]\n",
      "  3%|██▉                                                                                                              | 1/39 [00:00<00:00, 47.44it/s]\n"
     ]
    },
    {
     "name": "stdout",
     "output_type": "stream",
     "text": [
      "Epoch: 182 | disc_loss1: 0.22759130597114563 | gen_loss: 0.4076458811759949 \n"
     ]
    },
    {
     "name": "stderr",
     "output_type": "stream",
     "text": [
      "  0%|▍                                                                                                               | 1/234 [00:00<00:06, 33.36it/s]\n",
      "  3%|██▉                                                                                                              | 1/39 [00:00<00:02, 13.24it/s]\n"
     ]
    },
    {
     "name": "stdout",
     "output_type": "stream",
     "text": [
      "Epoch: 183 | disc_loss1: 0.15403521060943604 | gen_loss: 0.30875498056411743 \n"
     ]
    },
    {
     "name": "stderr",
     "output_type": "stream",
     "text": [
      "  0%|▍                                                                                                               | 1/234 [00:00<00:15, 15.24it/s]\n",
      "  3%|██▉                                                                                                              | 1/39 [00:00<00:03, 12.59it/s]\n"
     ]
    },
    {
     "name": "stdout",
     "output_type": "stream",
     "text": [
      "Epoch: 184 | disc_loss1: 0.037801485508680344 | gen_loss: 0.22991624474525452 \n"
     ]
    },
    {
     "name": "stderr",
     "output_type": "stream",
     "text": [
      "  0%|▍                                                                                                               | 1/234 [00:00<00:17, 13.41it/s]\n",
      "  3%|██▉                                                                                                              | 1/39 [00:00<00:02, 15.20it/s]\n"
     ]
    },
    {
     "name": "stdout",
     "output_type": "stream",
     "text": [
      "Epoch: 185 | disc_loss1: -0.031115878373384476 | gen_loss: 0.15663176774978638 \n"
     ]
    },
    {
     "name": "stderr",
     "output_type": "stream",
     "text": [
      "  0%|▍                                                                                                               | 1/234 [00:00<00:13, 17.61it/s]\n",
      "  3%|██▉                                                                                                              | 1/39 [00:00<00:02, 15.12it/s]\n"
     ]
    },
    {
     "name": "stdout",
     "output_type": "stream",
     "text": [
      "Epoch: 186 | disc_loss1: -0.11062990128993988 | gen_loss: 0.052217260003089905 \n"
     ]
    },
    {
     "name": "stderr",
     "output_type": "stream",
     "text": [
      "  0%|▍                                                                                                               | 1/234 [00:00<00:12, 19.39it/s]\n",
      "  3%|██▉                                                                                                              | 1/39 [00:00<00:03, 10.71it/s]\n"
     ]
    },
    {
     "name": "stdout",
     "output_type": "stream",
     "text": [
      "Epoch: 187 | disc_loss1: -0.1402454376220703 | gen_loss: 0.009612109512090683 \n"
     ]
    },
    {
     "name": "stderr",
     "output_type": "stream",
     "text": [
      "  0%|▍                                                                                                               | 1/234 [00:00<00:14, 16.56it/s]\n",
      "  3%|██▉                                                                                                              | 1/39 [00:00<00:05,  7.43it/s]\n"
     ]
    },
    {
     "name": "stdout",
     "output_type": "stream",
     "text": [
      "Epoch: 188 | disc_loss1: -0.16273608803749084 | gen_loss: -0.14504462480545044 \n"
     ]
    },
    {
     "name": "stderr",
     "output_type": "stream",
     "text": [
      "  0%|▍                                                                                                               | 1/234 [00:00<00:17, 13.01it/s]\n",
      "  3%|██▉                                                                                                              | 1/39 [00:00<00:02, 14.75it/s]\n"
     ]
    },
    {
     "name": "stdout",
     "output_type": "stream",
     "text": [
      "Epoch: 189 | disc_loss1: -0.10170425474643707 | gen_loss: -0.16654236614704132 \n"
     ]
    },
    {
     "name": "stderr",
     "output_type": "stream",
     "text": [
      "  0%|▍                                                                                                               | 1/234 [00:00<00:14, 16.13it/s]\n",
      "  3%|██▉                                                                                                              | 1/39 [00:00<00:02, 14.58it/s]\n"
     ]
    },
    {
     "name": "stdout",
     "output_type": "stream",
     "text": [
      "Epoch: 190 | disc_loss1: -0.03467438369989395 | gen_loss: -0.40834373235702515 \n"
     ]
    },
    {
     "name": "stderr",
     "output_type": "stream",
     "text": [
      "  0%|▍                                                                                                               | 1/234 [00:00<00:15, 14.90it/s]\n",
      "  3%|██▉                                                                                                              | 1/39 [00:00<00:02, 14.52it/s]\n"
     ]
    },
    {
     "name": "stdout",
     "output_type": "stream",
     "text": [
      "Epoch: 191 | disc_loss1: 0.06505347043275833 | gen_loss: -0.3139234185218811 \n"
     ]
    },
    {
     "name": "stderr",
     "output_type": "stream",
     "text": [
      "  0%|▍                                                                                                               | 1/234 [00:00<00:15, 15.30it/s]\n",
      "  3%|██▉                                                                                                              | 1/39 [00:00<00:03, 12.39it/s]\n"
     ]
    },
    {
     "name": "stdout",
     "output_type": "stream",
     "text": [
      "Epoch: 192 | disc_loss1: 0.12351511418819427 | gen_loss: -0.5869618654251099 \n"
     ]
    },
    {
     "name": "stderr",
     "output_type": "stream",
     "text": [
      "  0%|▍                                                                                                               | 1/234 [00:00<00:18, 12.27it/s]\n",
      "  3%|██▉                                                                                                              | 1/39 [00:00<00:03, 12.23it/s]\n"
     ]
    },
    {
     "name": "stdout",
     "output_type": "stream",
     "text": [
      "Epoch: 193 | disc_loss1: 0.21115028858184814 | gen_loss: -0.4757975935935974 \n"
     ]
    },
    {
     "name": "stderr",
     "output_type": "stream",
     "text": [
      "  0%|▍                                                                                                               | 1/234 [00:00<00:17, 13.52it/s]\n",
      "  3%|██▉                                                                                                              | 1/39 [00:00<00:03, 11.97it/s]\n"
     ]
    },
    {
     "name": "stdout",
     "output_type": "stream",
     "text": [
      "Epoch: 194 | disc_loss1: 0.30409449338912964 | gen_loss: -0.6423876881599426 \n"
     ]
    },
    {
     "name": "stderr",
     "output_type": "stream",
     "text": [
      "  0%|▍                                                                                                               | 1/234 [00:00<00:27,  8.46it/s]\n",
      "  3%|██▉                                                                                                              | 1/39 [00:00<00:03, 11.92it/s]\n"
     ]
    },
    {
     "name": "stdout",
     "output_type": "stream",
     "text": [
      "Epoch: 195 | disc_loss1: 0.3598366677761078 | gen_loss: -0.38658976554870605 \n"
     ]
    },
    {
     "name": "stderr",
     "output_type": "stream",
     "text": [
      "  0%|▍                                                                                                               | 1/234 [00:00<00:19, 12.08it/s]\n",
      "  3%|██▉                                                                                                              | 1/39 [00:00<00:03, 12.25it/s]\n"
     ]
    },
    {
     "name": "stdout",
     "output_type": "stream",
     "text": [
      "Epoch: 196 | disc_loss1: 0.3283299207687378 | gen_loss: -0.38162022829055786 \n"
     ]
    },
    {
     "name": "stderr",
     "output_type": "stream",
     "text": [
      "  0%|▍                                                                                                               | 1/234 [00:00<00:15, 15.21it/s]\n",
      "  3%|██▉                                                                                                              | 1/39 [00:00<00:03, 10.27it/s]\n"
     ]
    },
    {
     "name": "stdout",
     "output_type": "stream",
     "text": [
      "Epoch: 197 | disc_loss1: 0.3921501636505127 | gen_loss: 0.005023210309445858 \n"
     ]
    },
    {
     "name": "stderr",
     "output_type": "stream",
     "text": [
      "  0%|▍                                                                                                               | 1/234 [00:00<00:18, 12.46it/s]\n",
      "  3%|██▉                                                                                                              | 1/39 [00:00<00:02, 13.42it/s]\n"
     ]
    },
    {
     "name": "stdout",
     "output_type": "stream",
     "text": [
      "Epoch: 198 | disc_loss1: 0.13835066556930542 | gen_loss: 0.2915210425853729 \n"
     ]
    },
    {
     "name": "stderr",
     "output_type": "stream",
     "text": [
      "  0%|▍                                                                                                               | 1/234 [00:00<00:16, 13.93it/s]\n",
      "  3%|██▉                                                                                                              | 1/39 [00:00<00:03, 12.52it/s]\n"
     ]
    },
    {
     "name": "stdout",
     "output_type": "stream",
     "text": [
      "Epoch: 199 | disc_loss1: 0.10373973846435547 | gen_loss: 0.6714340448379517 \n"
     ]
    },
    {
     "name": "stderr",
     "output_type": "stream",
     "text": [
      "  0%|▍                                                                                                               | 1/234 [00:00<00:16, 13.85it/s]\n",
      "  3%|██▉                                                                                                              | 1/39 [00:00<00:00, 39.13it/s]\n"
     ]
    },
    {
     "name": "stdout",
     "output_type": "stream",
     "text": [
      "Epoch: 200 | disc_loss1: -0.15709634125232697 | gen_loss: 1.200804591178894 \n"
     ]
    },
    {
     "name": "stderr",
     "output_type": "stream",
     "text": [
      "  0%|▍                                                                                                               | 1/234 [00:00<00:07, 32.55it/s]\n",
      "  3%|██▉                                                                                                              | 1/39 [00:00<00:00, 46.35it/s]\n"
     ]
    },
    {
     "name": "stdout",
     "output_type": "stream",
     "text": [
      "Epoch: 201 | disc_loss1: -0.1879391074180603 | gen_loss: 1.1969263553619385 \n"
     ]
    },
    {
     "name": "stderr",
     "output_type": "stream",
     "text": [
      "  0%|▍                                                                                                               | 1/234 [00:00<00:06, 33.56it/s]\n",
      "  3%|██▉                                                                                                              | 1/39 [00:00<00:00, 46.31it/s]\n"
     ]
    },
    {
     "name": "stdout",
     "output_type": "stream",
     "text": [
      "Epoch: 202 | disc_loss1: -0.09298050403594971 | gen_loss: 1.5882645845413208 \n"
     ]
    },
    {
     "name": "stderr",
     "output_type": "stream",
     "text": [
      "  0%|▍                                                                                                               | 1/234 [00:00<00:07, 32.78it/s]\n",
      "  3%|██▉                                                                                                              | 1/39 [00:00<00:00, 47.91it/s]\n"
     ]
    },
    {
     "name": "stdout",
     "output_type": "stream",
     "text": [
      "Epoch: 203 | disc_loss1: 0.05643652379512787 | gen_loss: 1.0935673713684082 \n"
     ]
    },
    {
     "name": "stderr",
     "output_type": "stream",
     "text": [
      "  0%|▍                                                                                                               | 1/234 [00:00<00:06, 34.02it/s]\n",
      "  3%|██▉                                                                                                              | 1/39 [00:00<00:00, 47.61it/s]\n"
     ]
    },
    {
     "name": "stdout",
     "output_type": "stream",
     "text": [
      "Epoch: 204 | disc_loss1: 0.12545394897460938 | gen_loss: 1.3112238645553589 \n"
     ]
    },
    {
     "name": "stderr",
     "output_type": "stream",
     "text": [
      "  0%|▍                                                                                                               | 1/234 [00:00<00:06, 34.58it/s]\n",
      "  3%|██▉                                                                                                              | 1/39 [00:00<00:00, 50.61it/s]\n"
     ]
    },
    {
     "name": "stdout",
     "output_type": "stream",
     "text": [
      "Epoch: 205 | disc_loss1: 0.24758563935756683 | gen_loss: 0.8754041790962219 \n"
     ]
    },
    {
     "name": "stderr",
     "output_type": "stream",
     "text": [
      "  0%|▍                                                                                                               | 1/234 [00:00<00:08, 27.93it/s]\n",
      "  3%|██▉                                                                                                              | 1/39 [00:00<00:00, 48.92it/s]\n"
     ]
    },
    {
     "name": "stdout",
     "output_type": "stream",
     "text": [
      "Epoch: 206 | disc_loss1: 0.2735558748245239 | gen_loss: 0.9539381861686707 \n"
     ]
    },
    {
     "name": "stderr",
     "output_type": "stream",
     "text": [
      "  0%|▍                                                                                                               | 1/234 [00:00<00:07, 33.14it/s]\n",
      "  3%|██▉                                                                                                              | 1/39 [00:00<00:00, 46.86it/s]\n"
     ]
    },
    {
     "name": "stdout",
     "output_type": "stream",
     "text": [
      "Epoch: 207 | disc_loss1: 0.34411150217056274 | gen_loss: 0.6825220584869385 \n"
     ]
    },
    {
     "name": "stderr",
     "output_type": "stream",
     "text": [
      "  0%|▍                                                                                                               | 1/234 [00:00<00:06, 34.55it/s]\n",
      "  3%|██▉                                                                                                              | 1/39 [00:00<00:00, 46.75it/s]\n"
     ]
    },
    {
     "name": "stdout",
     "output_type": "stream",
     "text": [
      "Epoch: 208 | disc_loss1: 0.38148927688598633 | gen_loss: 0.6943405866622925 \n"
     ]
    },
    {
     "name": "stderr",
     "output_type": "stream",
     "text": [
      "  0%|▍                                                                                                               | 1/234 [00:00<00:06, 33.66it/s]\n",
      "  3%|██▉                                                                                                              | 1/39 [00:00<00:00, 48.32it/s]\n"
     ]
    },
    {
     "name": "stdout",
     "output_type": "stream",
     "text": [
      "Epoch: 209 | disc_loss1: 0.42087844014167786 | gen_loss: 0.5075712203979492 \n"
     ]
    },
    {
     "name": "stderr",
     "output_type": "stream",
     "text": [
      "  0%|▍                                                                                                               | 1/234 [00:00<00:06, 34.12it/s]\n",
      "  3%|██▉                                                                                                              | 1/39 [00:00<00:00, 46.35it/s]\n"
     ]
    },
    {
     "name": "stdout",
     "output_type": "stream",
     "text": [
      "Epoch: 210 | disc_loss1: 0.337425172328949 | gen_loss: 0.49491819739341736 \n"
     ]
    },
    {
     "name": "stderr",
     "output_type": "stream",
     "text": [
      "  0%|▍                                                                                                               | 1/234 [00:00<00:06, 34.18it/s]\n",
      "  3%|██▉                                                                                                              | 1/39 [00:00<00:00, 48.18it/s]\n"
     ]
    },
    {
     "name": "stdout",
     "output_type": "stream",
     "text": [
      "Epoch: 211 | disc_loss1: 0.3296423554420471 | gen_loss: 0.3911720812320709 \n"
     ]
    },
    {
     "name": "stderr",
     "output_type": "stream",
     "text": [
      "  0%|▍                                                                                                               | 1/234 [00:00<00:07, 33.24it/s]\n",
      "  3%|██▉                                                                                                              | 1/39 [00:00<00:00, 49.22it/s]\n"
     ]
    },
    {
     "name": "stdout",
     "output_type": "stream",
     "text": [
      "Epoch: 212 | disc_loss1: 0.19376617670059204 | gen_loss: 0.35270366072654724 \n"
     ]
    },
    {
     "name": "stderr",
     "output_type": "stream",
     "text": [
      "  0%|▍                                                                                                               | 1/234 [00:00<00:07, 33.01it/s]\n",
      "  3%|██▉                                                                                                              | 1/39 [00:00<00:00, 47.84it/s]\n"
     ]
    },
    {
     "name": "stdout",
     "output_type": "stream",
     "text": [
      "Epoch: 213 | disc_loss1: 0.12833398580551147 | gen_loss: 0.27915552258491516 \n"
     ]
    },
    {
     "name": "stderr",
     "output_type": "stream",
     "text": [
      "  0%|▍                                                                                                               | 1/234 [00:00<00:07, 33.08it/s]\n",
      "  3%|██▉                                                                                                              | 1/39 [00:00<00:00, 47.29it/s]\n"
     ]
    },
    {
     "name": "stdout",
     "output_type": "stream",
     "text": [
      "Epoch: 214 | disc_loss1: 0.020934097468852997 | gen_loss: 0.19638806581497192 \n"
     ]
    },
    {
     "name": "stderr",
     "output_type": "stream",
     "text": [
      "  0%|▍                                                                                                               | 1/234 [00:00<00:07, 33.14it/s]\n",
      "  3%|██▉                                                                                                              | 1/39 [00:00<00:00, 47.52it/s]\n"
     ]
    },
    {
     "name": "stdout",
     "output_type": "stream",
     "text": [
      "Epoch: 215 | disc_loss1: -0.05332896113395691 | gen_loss: 0.11133594065904617 \n"
     ]
    },
    {
     "name": "stderr",
     "output_type": "stream",
     "text": [
      "  0%|▍                                                                                                               | 1/234 [00:00<00:06, 33.34it/s]\n",
      "  3%|██▉                                                                                                              | 1/39 [00:00<00:00, 48.42it/s]\n"
     ]
    },
    {
     "name": "stdout",
     "output_type": "stream",
     "text": [
      "Epoch: 216 | disc_loss1: -0.13762834668159485 | gen_loss: 0.01388444285839796 \n"
     ]
    },
    {
     "name": "stderr",
     "output_type": "stream",
     "text": [
      "  0%|▍                                                                                                               | 1/234 [00:00<00:06, 34.04it/s]\n",
      "  3%|██▉                                                                                                              | 1/39 [00:00<00:00, 47.02it/s]\n"
     ]
    },
    {
     "name": "stdout",
     "output_type": "stream",
     "text": [
      "Epoch: 217 | disc_loss1: -0.19187518954277039 | gen_loss: -0.08263146877288818 \n"
     ]
    },
    {
     "name": "stderr",
     "output_type": "stream",
     "text": [
      "  0%|▍                                                                                                               | 1/234 [00:00<00:06, 34.21it/s]\n",
      "  3%|██▉                                                                                                              | 1/39 [00:00<00:00, 49.41it/s]\n"
     ]
    },
    {
     "name": "stdout",
     "output_type": "stream",
     "text": [
      "Epoch: 218 | disc_loss1: -0.180128812789917 | gen_loss: -0.19260363280773163 \n"
     ]
    },
    {
     "name": "stderr",
     "output_type": "stream",
     "text": [
      "  0%|▍                                                                                                               | 1/234 [00:00<00:06, 33.51it/s]\n",
      "  3%|██▉                                                                                                              | 1/39 [00:00<00:00, 48.93it/s]\n"
     ]
    },
    {
     "name": "stdout",
     "output_type": "stream",
     "text": [
      "Epoch: 219 | disc_loss1: -0.16862784326076508 | gen_loss: -0.29124999046325684 \n"
     ]
    },
    {
     "name": "stderr",
     "output_type": "stream",
     "text": [
      "  0%|▍                                                                                                               | 1/234 [00:00<00:06, 33.90it/s]\n",
      "  3%|██▉                                                                                                              | 1/39 [00:00<00:00, 47.25it/s]\n"
     ]
    },
    {
     "name": "stdout",
     "output_type": "stream",
     "text": [
      "Epoch: 220 | disc_loss1: -0.08741718530654907 | gen_loss: -0.3810604214668274 \n"
     ]
    },
    {
     "name": "stderr",
     "output_type": "stream",
     "text": [
      "  0%|▍                                                                                                               | 1/234 [00:00<00:06, 33.38it/s]\n",
      "  3%|██▉                                                                                                              | 1/39 [00:00<00:00, 47.55it/s]\n"
     ]
    },
    {
     "name": "stdout",
     "output_type": "stream",
     "text": [
      "Epoch: 221 | disc_loss1: -0.011543124914169312 | gen_loss: -0.49991175532341003 \n"
     ]
    },
    {
     "name": "stderr",
     "output_type": "stream",
     "text": [
      "  0%|▍                                                                                                               | 1/234 [00:00<00:06, 34.34it/s]\n",
      "  3%|██▉                                                                                                              | 1/39 [00:00<00:00, 46.35it/s]\n"
     ]
    },
    {
     "name": "stdout",
     "output_type": "stream",
     "text": [
      "Epoch: 222 | disc_loss1: 0.09467584639787674 | gen_loss: -0.42702946066856384 \n"
     ]
    },
    {
     "name": "stderr",
     "output_type": "stream",
     "text": [
      "  0%|▍                                                                                                               | 1/234 [00:00<00:06, 33.93it/s]\n",
      "  3%|██▉                                                                                                              | 1/39 [00:00<00:00, 48.70it/s]\n"
     ]
    },
    {
     "name": "stdout",
     "output_type": "stream",
     "text": [
      "Epoch: 223 | disc_loss1: 0.2739173471927643 | gen_loss: -0.6279325485229492 \n"
     ]
    },
    {
     "name": "stderr",
     "output_type": "stream",
     "text": [
      "  0%|▍                                                                                                               | 1/234 [00:00<00:07, 32.09it/s]\n",
      "  3%|██▉                                                                                                              | 1/39 [00:00<00:00, 48.26it/s]\n"
     ]
    },
    {
     "name": "stdout",
     "output_type": "stream",
     "text": [
      "Epoch: 224 | disc_loss1: 0.3717372417449951 | gen_loss: -0.3455430567264557 \n"
     ]
    },
    {
     "name": "stderr",
     "output_type": "stream",
     "text": [
      "  0%|▍                                                                                                               | 1/234 [00:00<00:06, 33.48it/s]\n",
      "  3%|██▉                                                                                                              | 1/39 [00:00<00:00, 46.37it/s]\n"
     ]
    },
    {
     "name": "stdout",
     "output_type": "stream",
     "text": [
      "Epoch: 225 | disc_loss1: 0.19645752012729645 | gen_loss: -0.4179089665412903 \n"
     ]
    },
    {
     "name": "stderr",
     "output_type": "stream",
     "text": [
      "  0%|▍                                                                                                               | 1/234 [00:00<00:06, 33.42it/s]\n",
      "  3%|██▉                                                                                                              | 1/39 [00:00<00:00, 48.13it/s]\n"
     ]
    },
    {
     "name": "stdout",
     "output_type": "stream",
     "text": [
      "Epoch: 226 | disc_loss1: 0.18790170550346375 | gen_loss: -0.1526259034872055 \n"
     ]
    },
    {
     "name": "stderr",
     "output_type": "stream",
     "text": [
      "  0%|▍                                                                                                               | 1/234 [00:00<00:07, 33.23it/s]\n",
      "  3%|██▉                                                                                                              | 1/39 [00:00<00:00, 47.63it/s]\n"
     ]
    },
    {
     "name": "stdout",
     "output_type": "stream",
     "text": [
      "Epoch: 227 | disc_loss1: 0.0702085942029953 | gen_loss: 0.06920146197080612 \n"
     ]
    },
    {
     "name": "stderr",
     "output_type": "stream",
     "text": [
      "  0%|▍                                                                                                               | 1/234 [00:00<00:07, 32.82it/s]\n",
      "  3%|██▉                                                                                                              | 1/39 [00:00<00:00, 48.65it/s]\n"
     ]
    },
    {
     "name": "stdout",
     "output_type": "stream",
     "text": [
      "Epoch: 228 | disc_loss1: 0.02538841962814331 | gen_loss: 0.34232214093208313 \n"
     ]
    },
    {
     "name": "stderr",
     "output_type": "stream",
     "text": [
      "  0%|▍                                                                                                               | 1/234 [00:00<00:06, 33.65it/s]\n",
      "  3%|██▉                                                                                                              | 1/39 [00:00<00:00, 47.84it/s]\n"
     ]
    },
    {
     "name": "stdout",
     "output_type": "stream",
     "text": [
      "Epoch: 229 | disc_loss1: -0.11377181857824326 | gen_loss: 0.721220850944519 \n"
     ]
    },
    {
     "name": "stderr",
     "output_type": "stream",
     "text": [
      "  0%|▍                                                                                                               | 1/234 [00:00<00:06, 33.42it/s]\n",
      "  3%|██▉                                                                                                              | 1/39 [00:00<00:00, 49.65it/s]\n"
     ]
    },
    {
     "name": "stdout",
     "output_type": "stream",
     "text": [
      "Epoch: 230 | disc_loss1: -0.09334102272987366 | gen_loss: 0.810256838798523 \n"
     ]
    },
    {
     "name": "stderr",
     "output_type": "stream",
     "text": [
      "  0%|▍                                                                                                               | 1/234 [00:00<00:06, 34.00it/s]\n",
      "  3%|██▉                                                                                                              | 1/39 [00:00<00:00, 48.22it/s]\n"
     ]
    },
    {
     "name": "stdout",
     "output_type": "stream",
     "text": [
      "Epoch: 231 | disc_loss1: -0.016915470361709595 | gen_loss: 1.1987532377243042 \n"
     ]
    },
    {
     "name": "stderr",
     "output_type": "stream",
     "text": [
      "  0%|▍                                                                                                               | 1/234 [00:00<00:06, 33.75it/s]\n",
      "  3%|██▉                                                                                                              | 1/39 [00:00<00:00, 48.45it/s]\n"
     ]
    },
    {
     "name": "stdout",
     "output_type": "stream",
     "text": [
      "Epoch: 232 | disc_loss1: 0.15427500009536743 | gen_loss: 0.8104119896888733 \n"
     ]
    },
    {
     "name": "stderr",
     "output_type": "stream",
     "text": [
      "  0%|▍                                                                                                               | 1/234 [00:00<00:06, 33.52it/s]\n",
      "  3%|██▉                                                                                                              | 1/39 [00:00<00:00, 48.39it/s]\n"
     ]
    },
    {
     "name": "stdout",
     "output_type": "stream",
     "text": [
      "Epoch: 233 | disc_loss1: 0.07286211848258972 | gen_loss: 1.1152721643447876 \n"
     ]
    },
    {
     "name": "stderr",
     "output_type": "stream",
     "text": [
      "  0%|▍                                                                                                               | 1/234 [00:00<00:06, 33.40it/s]\n",
      "  3%|██▉                                                                                                              | 1/39 [00:00<00:00, 46.95it/s]\n"
     ]
    },
    {
     "name": "stdout",
     "output_type": "stream",
     "text": [
      "Epoch: 234 | disc_loss1: 0.1753343641757965 | gen_loss: 0.806459367275238 \n"
     ]
    },
    {
     "name": "stderr",
     "output_type": "stream",
     "text": [
      "  0%|▍                                                                                                               | 1/234 [00:00<00:06, 33.63it/s]\n",
      "  3%|██▉                                                                                                              | 1/39 [00:00<00:00, 49.02it/s]\n"
     ]
    },
    {
     "name": "stdout",
     "output_type": "stream",
     "text": [
      "Epoch: 235 | disc_loss1: 0.253488153219223 | gen_loss: 0.952046275138855 \n"
     ]
    },
    {
     "name": "stderr",
     "output_type": "stream",
     "text": [
      "  0%|▍                                                                                                               | 1/234 [00:00<00:06, 34.02it/s]\n",
      "  3%|██▉                                                                                                              | 1/39 [00:00<00:00, 48.04it/s]\n"
     ]
    },
    {
     "name": "stdout",
     "output_type": "stream",
     "text": [
      "Epoch: 236 | disc_loss1: 0.30902600288391113 | gen_loss: 0.6436370015144348 \n"
     ]
    },
    {
     "name": "stderr",
     "output_type": "stream",
     "text": [
      "  0%|▍                                                                                                               | 1/234 [00:00<00:06, 33.71it/s]\n",
      "  3%|██▉                                                                                                              | 1/39 [00:00<00:00, 49.33it/s]\n"
     ]
    },
    {
     "name": "stdout",
     "output_type": "stream",
     "text": [
      "Epoch: 237 | disc_loss1: 0.30652672052383423 | gen_loss: 0.7213993668556213 \n"
     ]
    },
    {
     "name": "stderr",
     "output_type": "stream",
     "text": [
      "  0%|▍                                                                                                               | 1/234 [00:00<00:07, 32.41it/s]\n",
      "  3%|██▉                                                                                                              | 1/39 [00:00<00:00, 47.69it/s]\n"
     ]
    },
    {
     "name": "stdout",
     "output_type": "stream",
     "text": [
      "Epoch: 238 | disc_loss1: 0.34008944034576416 | gen_loss: 0.5249261856079102 \n"
     ]
    },
    {
     "name": "stderr",
     "output_type": "stream",
     "text": [
      "  0%|▍                                                                                                               | 1/234 [00:00<00:06, 34.26it/s]\n",
      "  3%|██▉                                                                                                              | 1/39 [00:00<00:00, 46.74it/s]\n"
     ]
    },
    {
     "name": "stdout",
     "output_type": "stream",
     "text": [
      "Epoch: 239 | disc_loss1: 0.3039238750934601 | gen_loss: 0.5472277998924255 \n"
     ]
    },
    {
     "name": "stderr",
     "output_type": "stream",
     "text": [
      "  0%|▍                                                                                                               | 1/234 [00:00<00:06, 34.10it/s]\n",
      "  3%|██▉                                                                                                              | 1/39 [00:00<00:00, 47.99it/s]\n"
     ]
    },
    {
     "name": "stdout",
     "output_type": "stream",
     "text": [
      "Epoch: 240 | disc_loss1: 0.32633620500564575 | gen_loss: 0.40994492173194885 \n"
     ]
    },
    {
     "name": "stderr",
     "output_type": "stream",
     "text": [
      "  0%|▍                                                                                                               | 1/234 [00:00<00:06, 34.70it/s]\n",
      "  3%|██▉                                                                                                              | 1/39 [00:00<00:00, 47.78it/s]\n"
     ]
    },
    {
     "name": "stdout",
     "output_type": "stream",
     "text": [
      "Epoch: 241 | disc_loss1: 0.20518803596496582 | gen_loss: 0.3968825042247772 \n"
     ]
    },
    {
     "name": "stderr",
     "output_type": "stream",
     "text": [
      "  0%|▍                                                                                                               | 1/234 [00:00<00:06, 34.06it/s]\n",
      "  3%|██▉                                                                                                              | 1/39 [00:00<00:00, 49.28it/s]\n"
     ]
    },
    {
     "name": "stdout",
     "output_type": "stream",
     "text": [
      "Epoch: 242 | disc_loss1: 0.18512314558029175 | gen_loss: 0.31053626537323 \n"
     ]
    },
    {
     "name": "stderr",
     "output_type": "stream",
     "text": [
      "  0%|▍                                                                                                               | 1/234 [00:00<00:07, 32.11it/s]\n",
      "  3%|██▉                                                                                                              | 1/39 [00:00<00:00, 46.71it/s]\n"
     ]
    },
    {
     "name": "stdout",
     "output_type": "stream",
     "text": [
      "Epoch: 243 | disc_loss1: 0.04874113202095032 | gen_loss: 0.23680424690246582 \n"
     ]
    },
    {
     "name": "stderr",
     "output_type": "stream",
     "text": [
      "  0%|▍                                                                                                               | 1/234 [00:00<00:06, 34.03it/s]\n",
      "  3%|██▉                                                                                                              | 1/39 [00:00<00:00, 48.13it/s]\n"
     ]
    },
    {
     "name": "stdout",
     "output_type": "stream",
     "text": [
      "Epoch: 244 | disc_loss1: -0.018092121928930283 | gen_loss: 0.17149093747138977 \n"
     ]
    },
    {
     "name": "stderr",
     "output_type": "stream",
     "text": [
      "  0%|▍                                                                                                               | 1/234 [00:00<00:07, 32.93it/s]\n",
      "  3%|██▉                                                                                                              | 1/39 [00:00<00:00, 48.28it/s]\n"
     ]
    },
    {
     "name": "stdout",
     "output_type": "stream",
     "text": [
      "Epoch: 245 | disc_loss1: -0.050670865923166275 | gen_loss: 0.06149907782673836 \n"
     ]
    },
    {
     "name": "stderr",
     "output_type": "stream",
     "text": [
      "  0%|▍                                                                                                               | 1/234 [00:00<00:07, 30.20it/s]\n",
      "  3%|██▉                                                                                                              | 1/39 [00:00<00:00, 48.50it/s]\n"
     ]
    },
    {
     "name": "stdout",
     "output_type": "stream",
     "text": [
      "Epoch: 246 | disc_loss1: -0.07928062975406647 | gen_loss: -0.025955498218536377 \n"
     ]
    },
    {
     "name": "stderr",
     "output_type": "stream",
     "text": [
      "  0%|▍                                                                                                               | 1/234 [00:00<00:07, 33.07it/s]\n",
      "  3%|██▉                                                                                                              | 1/39 [00:00<00:00, 48.44it/s]\n"
     ]
    },
    {
     "name": "stdout",
     "output_type": "stream",
     "text": [
      "Epoch: 247 | disc_loss1: -0.06204696744680405 | gen_loss: -0.1445259153842926 \n"
     ]
    },
    {
     "name": "stderr",
     "output_type": "stream",
     "text": [
      "  0%|▍                                                                                                               | 1/234 [00:00<00:06, 33.87it/s]\n",
      "  3%|██▉                                                                                                              | 1/39 [00:00<00:00, 47.66it/s]\n"
     ]
    },
    {
     "name": "stdout",
     "output_type": "stream",
     "text": [
      "Epoch: 248 | disc_loss1: 0.010638289153575897 | gen_loss: -0.23568236827850342 \n"
     ]
    },
    {
     "name": "stderr",
     "output_type": "stream",
     "text": [
      "  0%|▍                                                                                                               | 1/234 [00:00<00:06, 34.63it/s]\n",
      "  3%|██▉                                                                                                              | 1/39 [00:00<00:00, 49.27it/s]\n"
     ]
    },
    {
     "name": "stdout",
     "output_type": "stream",
     "text": [
      "Epoch: 249 | disc_loss1: 0.05510750412940979 | gen_loss: -0.3866453468799591 \n"
     ]
    },
    {
     "name": "stderr",
     "output_type": "stream",
     "text": [
      "  0%|▍                                                                                                               | 1/234 [00:00<00:06, 34.27it/s]\n",
      "  3%|██▉                                                                                                              | 1/39 [00:00<00:00, 47.26it/s]\n"
     ]
    },
    {
     "name": "stdout",
     "output_type": "stream",
     "text": [
      "Epoch: 250 | disc_loss1: 0.17212927341461182 | gen_loss: -0.38009488582611084 \n"
     ]
    },
    {
     "name": "stderr",
     "output_type": "stream",
     "text": [
      "  0%|▍                                                                                                               | 1/234 [00:00<00:07, 33.12it/s]\n",
      "  3%|██▉                                                                                                              | 1/39 [00:00<00:00, 48.70it/s]\n"
     ]
    },
    {
     "name": "stdout",
     "output_type": "stream",
     "text": [
      "Epoch: 251 | disc_loss1: 0.2549592852592468 | gen_loss: -0.567927360534668 \n"
     ]
    },
    {
     "name": "stderr",
     "output_type": "stream",
     "text": [
      "  0%|▍                                                                                                               | 1/234 [00:00<00:06, 33.30it/s]\n",
      "  3%|██▉                                                                                                              | 1/39 [00:00<00:00, 48.27it/s]\n"
     ]
    },
    {
     "name": "stdout",
     "output_type": "stream",
     "text": [
      "Epoch: 252 | disc_loss1: 0.45481282472610474 | gen_loss: -0.32081112265586853 \n"
     ]
    },
    {
     "name": "stderr",
     "output_type": "stream",
     "text": [
      "  0%|▍                                                                                                               | 1/234 [00:00<00:06, 33.57it/s]\n",
      "  3%|██▉                                                                                                              | 1/39 [00:00<00:00, 49.60it/s]\n"
     ]
    },
    {
     "name": "stdout",
     "output_type": "stream",
     "text": [
      "Epoch: 253 | disc_loss1: 0.3299534320831299 | gen_loss: -0.4741629660129547 \n"
     ]
    },
    {
     "name": "stderr",
     "output_type": "stream",
     "text": [
      "  0%|▍                                                                                                               | 1/234 [00:00<00:06, 34.42it/s]\n",
      "  3%|██▉                                                                                                              | 1/39 [00:00<00:00, 48.15it/s]\n"
     ]
    },
    {
     "name": "stdout",
     "output_type": "stream",
     "text": [
      "Epoch: 254 | disc_loss1: 0.4054989218711853 | gen_loss: -0.21669568121433258 \n"
     ]
    },
    {
     "name": "stderr",
     "output_type": "stream",
     "text": [
      "  0%|▍                                                                                                               | 1/234 [00:00<00:06, 34.20it/s]\n",
      "  3%|██▉                                                                                                              | 1/39 [00:00<00:00, 48.13it/s]\n"
     ]
    },
    {
     "name": "stdout",
     "output_type": "stream",
     "text": [
      "Epoch: 255 | disc_loss1: 0.2536117732524872 | gen_loss: -0.12340984493494034 \n"
     ]
    },
    {
     "name": "stderr",
     "output_type": "stream",
     "text": [
      "  0%|▍                                                                                                               | 1/234 [00:00<00:06, 33.38it/s]\n",
      "  3%|██▉                                                                                                              | 1/39 [00:00<00:00, 48.81it/s]\n"
     ]
    },
    {
     "name": "stdout",
     "output_type": "stream",
     "text": [
      "Epoch: 256 | disc_loss1: 0.27053773403167725 | gen_loss: 0.12704046070575714 \n"
     ]
    },
    {
     "name": "stderr",
     "output_type": "stream",
     "text": [
      "  0%|▍                                                                                                               | 1/234 [00:00<00:07, 32.93it/s]\n",
      "  3%|██▉                                                                                                              | 1/39 [00:00<00:00, 48.12it/s]\n"
     ]
    },
    {
     "name": "stdout",
     "output_type": "stream",
     "text": [
      "Epoch: 257 | disc_loss1: 0.05290724337100983 | gen_loss: 0.45604920387268066 \n"
     ]
    },
    {
     "name": "stderr",
     "output_type": "stream",
     "text": [
      "  0%|▍                                                                                                               | 1/234 [00:00<00:06, 33.55it/s]\n",
      "  3%|██▉                                                                                                              | 1/39 [00:00<00:00, 47.36it/s]\n"
     ]
    },
    {
     "name": "stdout",
     "output_type": "stream",
     "text": [
      "Epoch: 258 | disc_loss1: 0.02448229491710663 | gen_loss: 0.6168569326400757 \n"
     ]
    },
    {
     "name": "stderr",
     "output_type": "stream",
     "text": [
      "  0%|▍                                                                                                               | 1/234 [00:00<00:07, 32.71it/s]\n",
      "  3%|██▉                                                                                                              | 1/39 [00:00<00:00, 48.51it/s]\n"
     ]
    },
    {
     "name": "stdout",
     "output_type": "stream",
     "text": [
      "Epoch: 259 | disc_loss1: -0.014619410037994385 | gen_loss: 0.9925896525382996 \n"
     ]
    },
    {
     "name": "stderr",
     "output_type": "stream",
     "text": [
      "  0%|▍                                                                                                               | 1/234 [00:00<00:07, 32.79it/s]\n",
      "  3%|██▉                                                                                                              | 1/39 [00:00<00:00, 47.66it/s]\n"
     ]
    },
    {
     "name": "stdout",
     "output_type": "stream",
     "text": [
      "Epoch: 260 | disc_loss1: 0.13396568596363068 | gen_loss: 0.8364458680152893 \n"
     ]
    },
    {
     "name": "stderr",
     "output_type": "stream",
     "text": [
      "  0%|▍                                                                                                               | 1/234 [00:00<00:06, 33.63it/s]\n",
      "  3%|██▉                                                                                                              | 1/39 [00:00<00:00, 48.94it/s]\n"
     ]
    },
    {
     "name": "stdout",
     "output_type": "stream",
     "text": [
      "Epoch: 261 | disc_loss1: 0.07019197940826416 | gen_loss: 1.2232290506362915 \n"
     ]
    },
    {
     "name": "stderr",
     "output_type": "stream",
     "text": [
      "  0%|▍                                                                                                               | 1/234 [00:00<00:06, 33.92it/s]\n",
      "  3%|██▉                                                                                                              | 1/39 [00:00<00:00, 46.96it/s]\n"
     ]
    },
    {
     "name": "stdout",
     "output_type": "stream",
     "text": [
      "Epoch: 262 | disc_loss1: 0.19174204766750336 | gen_loss: 0.8692643642425537 \n"
     ]
    },
    {
     "name": "stderr",
     "output_type": "stream",
     "text": [
      "  0%|▍                                                                                                               | 1/234 [00:00<00:07, 33.03it/s]\n",
      "  3%|██▉                                                                                                              | 1/39 [00:00<00:00, 46.88it/s]\n"
     ]
    },
    {
     "name": "stdout",
     "output_type": "stream",
     "text": [
      "Epoch: 263 | disc_loss1: 0.14783865213394165 | gen_loss: 1.1466957330703735 \n"
     ]
    },
    {
     "name": "stderr",
     "output_type": "stream",
     "text": [
      "  0%|▍                                                                                                               | 1/234 [00:00<00:06, 33.82it/s]\n",
      "  3%|██▉                                                                                                              | 1/39 [00:00<00:00, 48.43it/s]\n"
     ]
    },
    {
     "name": "stdout",
     "output_type": "stream",
     "text": [
      "Epoch: 264 | disc_loss1: 0.27673953771591187 | gen_loss: 0.7738219499588013 \n"
     ]
    },
    {
     "name": "stderr",
     "output_type": "stream",
     "text": [
      "  0%|▍                                                                                                               | 1/234 [00:00<00:06, 34.32it/s]\n",
      "  3%|██▉                                                                                                              | 1/39 [00:00<00:00, 47.96it/s]\n"
     ]
    },
    {
     "name": "stdout",
     "output_type": "stream",
     "text": [
      "Epoch: 265 | disc_loss1: 0.3223910331726074 | gen_loss: 0.8637598752975464 \n"
     ]
    },
    {
     "name": "stderr",
     "output_type": "stream",
     "text": [
      "  0%|▍                                                                                                               | 1/234 [00:00<00:06, 33.95it/s]\n",
      "  3%|██▉                                                                                                              | 1/39 [00:00<00:00, 46.76it/s]\n"
     ]
    },
    {
     "name": "stdout",
     "output_type": "stream",
     "text": [
      "Epoch: 266 | disc_loss1: 0.3552095293998718 | gen_loss: 0.6477619409561157 \n"
     ]
    },
    {
     "name": "stderr",
     "output_type": "stream",
     "text": [
      "  0%|▍                                                                                                               | 1/234 [00:00<00:06, 34.20it/s]\n",
      "  3%|██▉                                                                                                              | 1/39 [00:00<00:00, 48.78it/s]\n"
     ]
    },
    {
     "name": "stdout",
     "output_type": "stream",
     "text": [
      "Epoch: 267 | disc_loss1: 0.3928569257259369 | gen_loss: 0.6941922307014465 \n"
     ]
    },
    {
     "name": "stderr",
     "output_type": "stream",
     "text": [
      "  0%|▍                                                                                                               | 1/234 [00:00<00:07, 32.92it/s]\n",
      "  3%|██▉                                                                                                              | 1/39 [00:00<00:00, 47.71it/s]\n"
     ]
    },
    {
     "name": "stdout",
     "output_type": "stream",
     "text": [
      "Epoch: 268 | disc_loss1: 0.4864480495452881 | gen_loss: 0.5277480483055115 \n"
     ]
    },
    {
     "name": "stderr",
     "output_type": "stream",
     "text": [
      "  0%|▍                                                                                                               | 1/234 [00:00<00:06, 33.29it/s]\n",
      "  3%|██▉                                                                                                              | 1/39 [00:00<00:00, 48.62it/s]\n"
     ]
    },
    {
     "name": "stdout",
     "output_type": "stream",
     "text": [
      "Epoch: 269 | disc_loss1: 0.3507332503795624 | gen_loss: 0.539592981338501 \n"
     ]
    },
    {
     "name": "stderr",
     "output_type": "stream",
     "text": [
      "  0%|▍                                                                                                               | 1/234 [00:00<00:06, 33.59it/s]\n",
      "  3%|██▉                                                                                                              | 1/39 [00:00<00:00, 46.96it/s]\n"
     ]
    },
    {
     "name": "stdout",
     "output_type": "stream",
     "text": [
      "Epoch: 270 | disc_loss1: 0.40707534551620483 | gen_loss: 0.4425089657306671 \n"
     ]
    },
    {
     "name": "stderr",
     "output_type": "stream",
     "text": [
      "  0%|▍                                                                                                               | 1/234 [00:00<00:07, 33.11it/s]\n",
      "  3%|██▉                                                                                                              | 1/39 [00:00<00:00, 47.23it/s]\n"
     ]
    },
    {
     "name": "stdout",
     "output_type": "stream",
     "text": [
      "Epoch: 271 | disc_loss1: 0.19829344749450684 | gen_loss: 0.39333346486091614 \n"
     ]
    },
    {
     "name": "stderr",
     "output_type": "stream",
     "text": [
      "  0%|▍                                                                                                               | 1/234 [00:00<00:06, 33.36it/s]\n",
      "  3%|██▉                                                                                                              | 1/39 [00:00<00:00, 48.43it/s]\n"
     ]
    },
    {
     "name": "stdout",
     "output_type": "stream",
     "text": [
      "Epoch: 272 | disc_loss1: 0.24771946668624878 | gen_loss: 0.34096139669418335 \n"
     ]
    },
    {
     "name": "stderr",
     "output_type": "stream",
     "text": [
      "  0%|▍                                                                                                               | 1/234 [00:00<00:06, 33.44it/s]\n",
      "  3%|██▉                                                                                                              | 1/39 [00:00<00:00, 46.80it/s]\n"
     ]
    },
    {
     "name": "stdout",
     "output_type": "stream",
     "text": [
      "Epoch: 273 | disc_loss1: 0.0825839638710022 | gen_loss: 0.24277403950691223 \n"
     ]
    },
    {
     "name": "stderr",
     "output_type": "stream",
     "text": [
      "  0%|▍                                                                                                               | 1/234 [00:00<00:06, 33.66it/s]\n",
      "  3%|██▉                                                                                                              | 1/39 [00:00<00:00, 46.55it/s]\n"
     ]
    },
    {
     "name": "stdout",
     "output_type": "stream",
     "text": [
      "Epoch: 274 | disc_loss1: 0.08785581588745117 | gen_loss: 0.18449734151363373 \n"
     ]
    },
    {
     "name": "stderr",
     "output_type": "stream",
     "text": [
      "  0%|▍                                                                                                               | 1/234 [00:00<00:06, 34.34it/s]\n",
      "  3%|██▉                                                                                                              | 1/39 [00:00<00:00, 47.20it/s]\n"
     ]
    },
    {
     "name": "stdout",
     "output_type": "stream",
     "text": [
      "Epoch: 275 | disc_loss1: 0.007535673677921295 | gen_loss: 0.04057282209396362 \n"
     ]
    },
    {
     "name": "stderr",
     "output_type": "stream",
     "text": [
      "  0%|▍                                                                                                               | 1/234 [00:00<00:06, 34.63it/s]\n",
      "  3%|██▉                                                                                                              | 1/39 [00:00<00:00, 47.90it/s]\n"
     ]
    },
    {
     "name": "stdout",
     "output_type": "stream",
     "text": [
      "Epoch: 276 | disc_loss1: 0.019185397773981094 | gen_loss: -0.04795641079545021 \n"
     ]
    },
    {
     "name": "stderr",
     "output_type": "stream",
     "text": [
      "  0%|▍                                                                                                               | 1/234 [00:00<00:06, 34.24it/s]\n",
      "  3%|██▉                                                                                                              | 1/39 [00:00<00:00, 47.42it/s]\n"
     ]
    },
    {
     "name": "stdout",
     "output_type": "stream",
     "text": [
      "Epoch: 277 | disc_loss1: 0.028985291719436646 | gen_loss: -0.2155492752790451 \n"
     ]
    },
    {
     "name": "stderr",
     "output_type": "stream",
     "text": [
      "  0%|▍                                                                                                               | 1/234 [00:00<00:07, 33.10it/s]\n",
      "  3%|██▉                                                                                                              | 1/39 [00:00<00:00, 46.64it/s]\n"
     ]
    },
    {
     "name": "stdout",
     "output_type": "stream",
     "text": [
      "Epoch: 278 | disc_loss1: 0.07462025433778763 | gen_loss: -0.3181437849998474 \n"
     ]
    },
    {
     "name": "stderr",
     "output_type": "stream",
     "text": [
      "  0%|▍                                                                                                               | 1/234 [00:00<00:06, 34.42it/s]\n",
      "  3%|██▉                                                                                                              | 1/39 [00:00<00:00, 47.13it/s]\n"
     ]
    },
    {
     "name": "stdout",
     "output_type": "stream",
     "text": [
      "Epoch: 279 | disc_loss1: 0.13692578673362732 | gen_loss: -0.5089375972747803 \n"
     ]
    },
    {
     "name": "stderr",
     "output_type": "stream",
     "text": [
      "  0%|▍                                                                                                               | 1/234 [00:00<00:06, 34.44it/s]\n",
      "  3%|██▉                                                                                                              | 1/39 [00:00<00:00, 48.07it/s]\n"
     ]
    },
    {
     "name": "stdout",
     "output_type": "stream",
     "text": [
      "Epoch: 280 | disc_loss1: 0.21838867664337158 | gen_loss: -0.518372654914856 \n"
     ]
    },
    {
     "name": "stderr",
     "output_type": "stream",
     "text": [
      "  0%|▍                                                                                                               | 1/234 [00:00<00:06, 33.55it/s]\n",
      "  3%|██▉                                                                                                              | 1/39 [00:00<00:00, 47.87it/s]\n"
     ]
    },
    {
     "name": "stdout",
     "output_type": "stream",
     "text": [
      "Epoch: 281 | disc_loss1: 0.2552509307861328 | gen_loss: -0.6513872742652893 \n"
     ]
    },
    {
     "name": "stderr",
     "output_type": "stream",
     "text": [
      "  0%|▍                                                                                                               | 1/234 [00:00<00:06, 33.46it/s]\n",
      "  3%|██▉                                                                                                              | 1/39 [00:00<00:00, 47.59it/s]\n"
     ]
    },
    {
     "name": "stdout",
     "output_type": "stream",
     "text": [
      "Epoch: 282 | disc_loss1: 0.34942740201950073 | gen_loss: -0.4939918518066406 \n"
     ]
    },
    {
     "name": "stderr",
     "output_type": "stream",
     "text": [
      "  0%|▍                                                                                                               | 1/234 [00:00<00:06, 33.50it/s]\n",
      "  3%|██▉                                                                                                              | 1/39 [00:00<00:00, 47.93it/s]\n"
     ]
    },
    {
     "name": "stdout",
     "output_type": "stream",
     "text": [
      "Epoch: 283 | disc_loss1: 0.41965189576148987 | gen_loss: -0.625552237033844 \n"
     ]
    },
    {
     "name": "stderr",
     "output_type": "stream",
     "text": [
      "  0%|▍                                                                                                               | 1/234 [00:00<00:07, 32.77it/s]\n",
      "  3%|██▉                                                                                                              | 1/39 [00:00<00:00, 49.05it/s]\n"
     ]
    },
    {
     "name": "stdout",
     "output_type": "stream",
     "text": [
      "Epoch: 284 | disc_loss1: 0.47263121604919434 | gen_loss: -0.33633357286453247 \n"
     ]
    },
    {
     "name": "stderr",
     "output_type": "stream",
     "text": [
      "  0%|▍                                                                                                               | 1/234 [00:00<00:06, 33.46it/s]\n",
      "  3%|██▉                                                                                                              | 1/39 [00:00<00:00, 47.75it/s]\n"
     ]
    },
    {
     "name": "stdout",
     "output_type": "stream",
     "text": [
      "Epoch: 285 | disc_loss1: 0.3033880293369293 | gen_loss: -0.22050322592258453 \n"
     ]
    },
    {
     "name": "stderr",
     "output_type": "stream",
     "text": [
      "  0%|▍                                                                                                               | 1/234 [00:00<00:06, 33.97it/s]\n",
      "  3%|██▉                                                                                                              | 1/39 [00:00<00:00, 48.15it/s]\n"
     ]
    },
    {
     "name": "stdout",
     "output_type": "stream",
     "text": [
      "Epoch: 286 | disc_loss1: 0.1765708476305008 | gen_loss: 0.10760711133480072 \n"
     ]
    },
    {
     "name": "stderr",
     "output_type": "stream",
     "text": [
      "  0%|▍                                                                                                               | 1/234 [00:00<00:06, 34.09it/s]\n",
      "  3%|██▉                                                                                                              | 1/39 [00:00<00:00, 47.76it/s]\n"
     ]
    },
    {
     "name": "stdout",
     "output_type": "stream",
     "text": [
      "Epoch: 287 | disc_loss1: -0.039825186133384705 | gen_loss: 0.5363339185714722 \n"
     ]
    },
    {
     "name": "stderr",
     "output_type": "stream",
     "text": [
      "  0%|▍                                                                                                               | 1/234 [00:00<00:06, 34.13it/s]\n",
      "  3%|██▉                                                                                                              | 1/39 [00:00<00:00, 46.68it/s]\n"
     ]
    },
    {
     "name": "stdout",
     "output_type": "stream",
     "text": [
      "Epoch: 288 | disc_loss1: -0.10854274034500122 | gen_loss: 0.7531182169914246 \n"
     ]
    },
    {
     "name": "stderr",
     "output_type": "stream",
     "text": [
      "  0%|▍                                                                                                               | 1/234 [00:00<00:07, 33.24it/s]\n",
      "  3%|██▉                                                                                                              | 1/39 [00:00<00:00, 47.09it/s]\n"
     ]
    },
    {
     "name": "stdout",
     "output_type": "stream",
     "text": [
      "Epoch: 289 | disc_loss1: -0.32439619302749634 | gen_loss: 1.2352714538574219 \n"
     ]
    },
    {
     "name": "stderr",
     "output_type": "stream",
     "text": [
      "  0%|▍                                                                                                               | 1/234 [00:00<00:06, 33.94it/s]\n",
      "  3%|██▉                                                                                                              | 1/39 [00:00<00:00, 47.27it/s]\n"
     ]
    },
    {
     "name": "stdout",
     "output_type": "stream",
     "text": [
      "Epoch: 290 | disc_loss1: -0.32908010482788086 | gen_loss: 1.2837094068527222 \n"
     ]
    },
    {
     "name": "stderr",
     "output_type": "stream",
     "text": [
      "  0%|▍                                                                                                               | 1/234 [00:00<00:06, 34.45it/s]\n",
      "  3%|██▉                                                                                                              | 1/39 [00:00<00:00, 48.86it/s]\n"
     ]
    },
    {
     "name": "stdout",
     "output_type": "stream",
     "text": [
      "Epoch: 291 | disc_loss1: -0.3188900351524353 | gen_loss: 1.6037867069244385 \n"
     ]
    },
    {
     "name": "stderr",
     "output_type": "stream",
     "text": [
      "  0%|▍                                                                                                               | 1/234 [00:00<00:07, 31.52it/s]\n",
      "  3%|██▉                                                                                                              | 1/39 [00:00<00:00, 48.00it/s]\n"
     ]
    },
    {
     "name": "stdout",
     "output_type": "stream",
     "text": [
      "Epoch: 292 | disc_loss1: -0.190818190574646 | gen_loss: 1.2922393083572388 \n"
     ]
    },
    {
     "name": "stderr",
     "output_type": "stream",
     "text": [
      "  0%|▍                                                                                                               | 1/234 [00:00<00:06, 33.79it/s]\n",
      "  3%|██▉                                                                                                              | 1/39 [00:00<00:00, 47.21it/s]\n"
     ]
    },
    {
     "name": "stdout",
     "output_type": "stream",
     "text": [
      "Epoch: 293 | disc_loss1: -0.03675297647714615 | gen_loss: 1.4206206798553467 \n"
     ]
    },
    {
     "name": "stderr",
     "output_type": "stream",
     "text": [
      "  0%|▍                                                                                                               | 1/234 [00:00<00:07, 33.26it/s]\n",
      "  3%|██▉                                                                                                              | 1/39 [00:00<00:00, 49.19it/s]\n"
     ]
    },
    {
     "name": "stdout",
     "output_type": "stream",
     "text": [
      "Epoch: 294 | disc_loss1: 0.16344952583312988 | gen_loss: 0.9983046054840088 \n"
     ]
    },
    {
     "name": "stderr",
     "output_type": "stream",
     "text": [
      "  0%|▍                                                                                                               | 1/234 [00:00<00:07, 33.05it/s]\n",
      "  3%|██▉                                                                                                              | 1/39 [00:00<00:00, 38.38it/s]\n"
     ]
    },
    {
     "name": "stdout",
     "output_type": "stream",
     "text": [
      "Epoch: 295 | disc_loss1: 0.17000150680541992 | gen_loss: 1.1500836610794067 \n"
     ]
    },
    {
     "name": "stderr",
     "output_type": "stream",
     "text": [
      "  0%|▍                                                                                                               | 1/234 [00:00<00:07, 32.54it/s]\n",
      "  3%|██▉                                                                                                              | 1/39 [00:00<00:00, 47.86it/s]\n"
     ]
    },
    {
     "name": "stdout",
     "output_type": "stream",
     "text": [
      "Epoch: 296 | disc_loss1: 0.22761914134025574 | gen_loss: 0.8745716214179993 \n"
     ]
    },
    {
     "name": "stderr",
     "output_type": "stream",
     "text": [
      "  0%|▍                                                                                                               | 1/234 [00:00<00:06, 33.97it/s]\n",
      "  3%|██▉                                                                                                              | 1/39 [00:00<00:00, 48.13it/s]\n"
     ]
    },
    {
     "name": "stdout",
     "output_type": "stream",
     "text": [
      "Epoch: 297 | disc_loss1: 0.2516556978225708 | gen_loss: 0.9155346751213074 \n"
     ]
    },
    {
     "name": "stderr",
     "output_type": "stream",
     "text": [
      "  0%|▍                                                                                                               | 1/234 [00:00<00:06, 33.57it/s]\n",
      "  3%|██▉                                                                                                              | 1/39 [00:00<00:00, 48.21it/s]\n"
     ]
    },
    {
     "name": "stdout",
     "output_type": "stream",
     "text": [
      "Epoch: 298 | disc_loss1: 0.27398422360420227 | gen_loss: 0.7185566425323486 \n"
     ]
    },
    {
     "name": "stderr",
     "output_type": "stream",
     "text": [
      "  0%|▍                                                                                                               | 1/234 [00:00<00:06, 33.36it/s]\n",
      "  3%|██▉                                                                                                              | 1/39 [00:00<00:00, 49.78it/s]\n"
     ]
    },
    {
     "name": "stdout",
     "output_type": "stream",
     "text": [
      "Epoch: 299 | disc_loss1: 0.2704712152481079 | gen_loss: 0.7211949825286865 \n"
     ]
    },
    {
     "name": "stderr",
     "output_type": "stream",
     "text": [
      "/Users/giansanti.valentina/miniforge3/envs/tensorflow_m1/lib/python3.9/site-packages/anndata/_core/anndata.py:1785: FutureWarning: X.dtype being converted to np.float32 from float64. In the next version of anndata (0.9) conversion will not be automatic. Pass dtype explicitly to avoid this warning. Pass `AnnData(X, dtype=X.dtype, ...)` to get the future behavour.\n",
      "  [AnnData(sparse.csr_matrix(a.shape), obs=a.obs) for a in all_adatas],\n",
      "/Users/giansanti.valentina/miniforge3/envs/tensorflow_m1/lib/python3.9/site-packages/anndata/_core/anndata.py:1785: FutureWarning: X.dtype being converted to np.float32 from float64. In the next version of anndata (0.9) conversion will not be automatic. Pass dtype explicitly to avoid this warning. Pass `AnnData(X, dtype=X.dtype, ...)` to get the future behavour.\n",
      "  [AnnData(sparse.csr_matrix(a.shape), obs=a.obs) for a in all_adatas],\n",
      "/Users/giansanti.valentina/miniforge3/envs/tensorflow_m1/lib/python3.9/site-packages/anndata/_core/anndata.py:1785: FutureWarning: X.dtype being converted to np.float32 from float64. In the next version of anndata (0.9) conversion will not be automatic. Pass dtype explicitly to avoid this warning. Pass `AnnData(X, dtype=X.dtype, ...)` to get the future behavour.\n",
      "  [AnnData(sparse.csr_matrix(a.shape), obs=a.obs) for a in all_adatas],\n",
      "/Users/giansanti.valentina/miniforge3/envs/tensorflow_m1/lib/python3.9/site-packages/anndata/_core/anndata.py:1785: FutureWarning: X.dtype being converted to np.float32 from float64. In the next version of anndata (0.9) conversion will not be automatic. Pass dtype explicitly to avoid this warning. Pass `AnnData(X, dtype=X.dtype, ...)` to get the future behavour.\n",
      "  [AnnData(sparse.csr_matrix(a.shape), obs=a.obs) for a in all_adatas],\n",
      "/Users/giansanti.valentina/miniforge3/envs/tensorflow_m1/lib/python3.9/site-packages/anndata/_core/anndata.py:1785: FutureWarning: X.dtype being converted to np.float32 from float64. In the next version of anndata (0.9) conversion will not be automatic. Pass dtype explicitly to avoid this warning. Pass `AnnData(X, dtype=X.dtype, ...)` to get the future behavour.\n",
      "  [AnnData(sparse.csr_matrix(a.shape), obs=a.obs) for a in all_adatas],\n",
      "/Users/giansanti.valentina/miniforge3/envs/tensorflow_m1/lib/python3.9/site-packages/anndata/_core/anndata.py:1785: FutureWarning: X.dtype being converted to np.float32 from float64. In the next version of anndata (0.9) conversion will not be automatic. Pass dtype explicitly to avoid this warning. Pass `AnnData(X, dtype=X.dtype, ...)` to get the future behavour.\n",
      "  [AnnData(sparse.csr_matrix(a.shape), obs=a.obs) for a in all_adatas],\n"
     ]
    }
   ],
   "source": [
    "train_batch.train(data=[rna,get], query=['X_pca','X_ttd'],batch=['sample','batch'], n_dim=20,\n",
    "            fill=[128,128], n_epochs=300, save_name=['rna','get'], path='my_directory/')"
   ]
  },
  {
   "cell_type": "markdown",
   "id": "0b690bee",
   "metadata": {},
   "source": [
    "### Import results"
   ]
  },
  {
   "cell_type": "raw",
   "id": "1f61f5b9",
   "metadata": {},
   "source": [
    "Three batches were present in our data, therefore three models were generated.\n",
    "Each model has its own:\n",
    "    * model weights ('MOWGAN_model_batch_0', 'MOWGAN_model_batch_1', 'MOWGAN_model_batch_2')\n",
    "    * critic and generator losses (e.g., 'critic_loss_batch_0.csv' and 'gen_loss_batch_0.csv')\n",
    "    * anndata gnerated objects (e.g., 'anndata0_0.h5ad', 'anndata0_1.h5ad', 'anndata0_2.h5ad', where the first index is for the modality and the second for the batch/cluster)\n",
    "\n",
    "Three final objects were built:\n",
    "    * rna_MOWGAN.h5ad --> MOWGAN reconstruction of the rna modality\n",
    "    * get_MOWGAN.h5ad --> MOWGAN reconstruction of the get modality"
   ]
  },
  {
   "cell_type": "raw",
   "id": "46bc6be5",
   "metadata": {},
   "source": [
    "We can take a look at the results from the first model (bacth CRC_6):"
   ]
  },
  {
   "cell_type": "code",
   "execution_count": 11,
   "id": "25b24bfe",
   "metadata": {},
   "outputs": [],
   "source": [
    "path='my_directory/'"
   ]
  },
  {
   "cell_type": "code",
   "execution_count": 12,
   "id": "6006e87c",
   "metadata": {},
   "outputs": [
    {
     "data": {
      "text/plain": [
       "<AxesSubplot:title={'center':'Generator loss'}>"
      ]
     },
     "execution_count": 12,
     "metadata": {},
     "output_type": "execute_result"
    },
    {
     "data": {
      "image/png": "[encoded data removed]",
      "text/plain": [
       "<Figure size 640x480 with 1 Axes>"
      ]
     },
     "metadata": {},
     "output_type": "display_data"
    }
   ],
   "source": [
    "pd.read_csv(path+'gen_loss_batch_0.csv', header=None).plot(title='Generator loss')"
   ]
  },
  {
   "cell_type": "code",
   "execution_count": 13,
   "id": "7fb368b9",
   "metadata": {},
   "outputs": [
    {
     "data": {
      "text/plain": [
       "<AxesSubplot:title={'center':'Critic loss'}>"
      ]
     },
     "execution_count": 13,
     "metadata": {},
     "output_type": "execute_result"
    },
    {
     "data": {
      "image/png": "[encoded data removed]",
      "text/plain": [
       "<Figure size 640x480 with 1 Axes>"
      ]
     },
     "metadata": {},
     "output_type": "display_data"
    }
   ],
   "source": [
    "pd.read_csv(path+'critic_loss_batch_0.csv', header=None).plot(title='Critic loss')"
   ]
  },
  {
   "cell_type": "code",
   "execution_count": 14,
   "id": "53d06fb8",
   "metadata": {},
   "outputs": [],
   "source": [
    "rna_batch_CRC6 = sc.read(path+'anndata0_0.h5ad')\n",
    "get_batch_CRC6 = sc.read(path+'anndata1_0.h5ad')"
   ]
  },
  {
   "cell_type": "code",
   "execution_count": 15,
   "id": "d0067d22",
   "metadata": {},
   "outputs": [
    {
     "data": {
      "text/plain": [
       "AnnData object with n_obs × n_vars = 5000 × 772\n",
       "    obsm: 'X_pca'"
      ]
     },
     "execution_count": 15,
     "metadata": {},
     "output_type": "execute_result"
    }
   ],
   "source": [
    "rna_batch_CRC6"
   ]
  },
  {
   "cell_type": "code",
   "execution_count": 16,
   "id": "a42971c4",
   "metadata": {},
   "outputs": [
    {
     "data": {
      "text/plain": [
       "AnnData object with n_obs × n_vars = 5000 × 57094\n",
       "    obsm: 'X_ttd'"
      ]
     },
     "execution_count": 16,
     "metadata": {},
     "output_type": "execute_result"
    }
   ],
   "source": [
    "get_batch_CRC6"
   ]
  },
  {
   "cell_type": "raw",
   "id": "ea8cd5c6",
   "metadata": {},
   "source": [
    "We can also load MOWGAN's final outputs:"
   ]
  },
  {
   "cell_type": "code",
   "execution_count": 17,
   "id": "49b89ae8",
   "metadata": {},
   "outputs": [],
   "source": [
    "rna_MOWGAN = sc.read(path+'rna_MOWGAN.h5ad')\n",
    "get_MOWGAN = sc.read(path+'get_MOWGAN.h5ad')"
   ]
  },
  {
   "cell_type": "code",
   "execution_count": 18,
   "id": "4a4e7e53",
   "metadata": {},
   "outputs": [
    {
     "data": {
      "text/plain": [
       "AnnData object with n_obs × n_vars = 15000 × 772\n",
       "    obs: 'batch'\n",
       "    obsm: 'X_pca'"
      ]
     },
     "execution_count": 18,
     "metadata": {},
     "output_type": "execute_result"
    }
   ],
   "source": [
    "rna_MOWGAN"
   ]
  },
  {
   "cell_type": "code",
   "execution_count": 19,
   "id": "69b05cb6",
   "metadata": {},
   "outputs": [
    {
     "data": {
      "text/plain": [
       "AnnData object with n_obs × n_vars = 15000 × 57094\n",
       "    obs: 'batch'\n",
       "    obsm: 'X_ttd'"
      ]
     },
     "execution_count": 19,
     "metadata": {},
     "output_type": "execute_result"
    }
   ],
   "source": [
    "get_MOWGAN"
   ]
  },
  {
   "cell_type": "code",
   "execution_count": 20,
   "id": "5173591e",
   "metadata": {},
   "outputs": [
    {
     "data": {
      "image/png": "[encoded data removed]",
      "text/plain": [
       "<Figure size 640x480 with 1 Axes>"
      ]
     },
     "metadata": {},
     "output_type": "display_data"
    }
   ],
   "source": [
    "sc.pl.pca(rna_MOWGAN, color='batch')"
   ]
  },
  {
   "cell_type": "code",
   "execution_count": 21,
   "id": "da460f3a",
   "metadata": {},
   "outputs": [
    {
     "data": {
      "image/png": "[encoded data removed]",
      "text/plain": [
       "<Figure size 640x480 with 1 Axes>"
      ]
     },
     "metadata": {},
     "output_type": "display_data"
    }
   ],
   "source": [
    "sc.pl.embedding(get_MOWGAN, basis='X_ttd', color='batch')"
   ]
  },
  {
   "cell_type": "raw",
   "id": "a99b5df8",
   "metadata": {},
   "source": [
    "This was just an example on real data and, of course, the iteration (n_epochs=300) were not sufficient for the model to properly learn the structure of the data."
   ]
  }
 ],
 "metadata": {
  "kernelspec": {
   "display_name": "Python 3 (ipykernel)",
   "language": "python",
   "name": "python3"
  },
  "language_info": {
   "codemirror_mode": {
    "name": "ipython",
    "version": 3
   },
   "file_extension": ".py",
   "mimetype": "text/x-python",
   "name": "python",
   "nbconvert_exporter": "python",
   "pygments_lexer": "ipython3",
   "version": "3.9.0"
  }
 },
 "nbformat": 4,
 "nbformat_minor": 5
}
