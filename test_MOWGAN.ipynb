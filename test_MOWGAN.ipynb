{
 "cells": [
  {
   "cell_type": "code",
   "execution_count": 1,
   "id": "89ded1e7",
   "metadata": {},
   "outputs": [],
   "source": [
    "import numpy as np\n",
    "import matplotlib.pyplot as plt\n",
    "from IPython import display\n",
    "import pandas as pd\n",
    "import scanpy as sc\n",
    "import anndata\n",
    "\n",
    "#import ot\n",
    "%matplotlib inline"
   ]
  },
  {
   "cell_type": "markdown",
   "id": "1cf1bcd7",
   "metadata": {},
   "source": [
    "Import MOWGAN"
   ]
  },
  {
   "cell_type": "code",
   "execution_count": 2,
   "id": "42df11f0",
   "metadata": {},
   "outputs": [
    {
     "name": "stderr",
     "output_type": "stream",
     "text": [
      "/Users/giansanti.valentina/miniforge3/envs/tensorflow_m1/lib/python3.9/site-packages/numba/cpython/hashing.py:484: UserWarning: FNV hashing is not implemented in Numba. See PEP 456 https://www.python.org/dev/peps/pep-0456/ for rationale over not using FNV. Numba will continue to work, but hashes for built in types will be computed using siphash24. This will permit e.g. dictionaries to continue to behave as expected, however anything relying on the value of the hash opposed to hash as a derived property is likely to not work as expected.\n",
      "  warnings.warn(msg)\n"
     ]
    }
   ],
   "source": [
    "from MOWGAN.preprocessing import preprocessing\n",
    "from MOWGAN.train import train\n",
    "import MOWGAN.restart"
   ]
  },
  {
   "cell_type": "markdown",
   "id": "3d832a69",
   "metadata": {},
   "source": [
    " ## Load your data"
   ]
  },
  {
   "cell_type": "code",
   "execution_count": 3,
   "id": "d31bc18f",
   "metadata": {},
   "outputs": [],
   "source": [
    "path1 = '/Volumes/GoogleDrive/My Drive/PBMC/'\n",
    "\n",
    "atac = sc.read(path1+'atac_test_MOWGAN.h5ad')\n",
    "rna = sc.read(path1+'rna_test_MOWGAN.h5ad')"
   ]
  },
  {
   "cell_type": "markdown",
   "id": "328294d0",
   "metadata": {},
   "source": [
    "Data must be preprocessed. There should be the slot *.obsm['X_**'] with the embedding we wish to use in the analysis. The embedding could be different for each modality.\n",
    "\n",
    "In this tutorial, we will use the pca embedding --> anndata.obsm['X_pca']"
   ]
  },
  {
   "cell_type": "raw",
   "id": "f3f1428f",
   "metadata": {},
   "source": [
    "Look at the embedding"
   ]
  },
  {
   "cell_type": "code",
   "execution_count": 4,
   "id": "e19dd461",
   "metadata": {},
   "outputs": [
    {
     "data": {
      "image/png": "[encoded data removed]",
      "text/plain": [
       "<Figure size 432x288 with 1 Axes>"
      ]
     },
     "metadata": {},
     "output_type": "display_data"
    },
    {
     "data": {
      "image/png": "[encoded data removed]",
      "text/plain": [
       "<Figure size 432x288 with 1 Axes>"
      ]
     },
     "metadata": {},
     "output_type": "display_data"
    }
   ],
   "source": [
    "sc.pl.embedding(rna, basis='X_pca')\n",
    "\n",
    "sc.pl.embedding(atac, basis='X_pca')"
   ]
  },
  {
   "cell_type": "code",
   "execution_count": 5,
   "id": "3d01458e",
   "metadata": {},
   "outputs": [
    {
     "data": {
      "text/plain": [
       "((10, 50), (10, 50))"
      ]
     },
     "execution_count": 5,
     "metadata": {},
     "output_type": "execute_result"
    }
   ],
   "source": [
    "rna.obsm['X_pca'].shape, atac.obsm['X_pca'].shape"
   ]
  },
  {
   "cell_type": "raw",
   "id": "444f205b",
   "metadata": {},
   "source": [
    "Now we can train the MOWGAN model.\n",
    "We use the function MOWGAN.train.train\n",
    "\n",
    "The parameters are:\n",
    "    * adata1, adata2\n",
    "    * adata1_embedding_name, adata2_embedding_name\n",
    "    * number of embedding feature we want to use\n",
    "    * number of training epochs      "
   ]
  },
  {
   "cell_type": "code",
   "execution_count": null,
   "id": "2f789965",
   "metadata": {},
   "outputs": [],
   "source": []
  },
  {
   "cell_type": "code",
   "execution_count": 6,
   "id": "c8942564",
   "metadata": {
    "scrolled": false
   },
   "outputs": [
    {
     "name": "stderr",
     "output_type": "stream",
     "text": [
      "/Users/giansanti.valentina/miniforge3/envs/tensorflow_m1/lib/python3.9/site-packages/sklearn/manifold/_spectral_embedding.py:260: UserWarning: Graph is not fully connected, spectral embedding may not work as expected.\n",
      "  warnings.warn(\n",
      "2022-10-31 12:46:40.724609: I tensorflow/core/common_runtime/pluggable_device/pluggable_device_factory.cc:305] Could not identify NUMA node of platform GPU ID 0, defaulting to 0. Your kernel may not have been built with NUMA support.\n",
      "2022-10-31 12:46:40.724703: I tensorflow/core/common_runtime/pluggable_device/pluggable_device_factory.cc:271] Created TensorFlow device (/job:localhost/replica:0/task:0/device:GPU:0 with 0 MB memory) -> physical PluggableDevice (device: 0, name: METAL, pci bus id: <undefined>)\n"
     ]
    },
    {
     "name": "stdout",
     "output_type": "stream",
     "text": [
      "Metal device set to: Apple M1\n"
     ]
    },
    {
     "name": "stderr",
     "output_type": "stream",
     "text": [
      "  0%|                                                                                                                                       | 0/468 [00:00<?, ?it/s]2022-10-31 12:46:41.313489: I tensorflow/compiler/mlir/mlir_graph_optimization_pass.cc:185] None of the MLIR Optimization Passes are enabled (registered 2)\n",
      "2022-10-31 12:46:41.315541: W tensorflow/core/platform/profile_utils/cpu_utils.cc:128] Failed to get CPU frequency: 0 Hz\n",
      "2022-10-31 12:46:41.315650: I tensorflow/core/grappler/optimizers/custom_graph_optimizer_registry.cc:112] Plugin optimizer for device_type GPU is enabled.\n",
      "  0%|▎                                                                                                                              | 1/468 [00:00<06:07,  1.27it/s]\n",
      "  1%|█▋                                                                                                                              | 1/78 [00:00<00:05, 14.64it/s]\n"
     ]
    },
    {
     "name": "stdout",
     "output_type": "stream",
     "text": [
      "Epoch: 0 | disc_loss1: 3.8474788665771484 | gen_loss: -0.02100241929292679 \n"
     ]
    },
    {
     "name": "stderr",
     "output_type": "stream",
     "text": [
      "  0%|▎                                                                                                                              | 1/468 [00:00<00:13, 33.45it/s]\n",
      "  1%|█▋                                                                                                                              | 1/78 [00:00<00:01, 64.28it/s]\n"
     ]
    },
    {
     "name": "stdout",
     "output_type": "stream",
     "text": [
      "Epoch: 1 | disc_loss1: 1.6976338624954224 | gen_loss: -0.13216173648834229 \n"
     ]
    },
    {
     "name": "stderr",
     "output_type": "stream",
     "text": [
      "  0%|▎                                                                                                                              | 1/468 [00:00<00:08, 53.09it/s]\n",
      "  1%|█▋                                                                                                                              | 1/78 [00:00<00:01, 66.99it/s]\n"
     ]
    },
    {
     "name": "stdout",
     "output_type": "stream",
     "text": [
      "Epoch: 2 | disc_loss1: 1.1608434915542603 | gen_loss: -0.3643304109573364 \n"
     ]
    },
    {
     "name": "stderr",
     "output_type": "stream",
     "text": [
      "/Users/giansanti.valentina/miniforge3/envs/tensorflow_m1/lib/python3.9/site-packages/sklearn/utils/validation.py:585: FutureWarning: np.matrix usage is deprecated in 1.0 and will raise a TypeError in 1.2. Please convert to a numpy array with np.asarray. For more information see: https://numpy.org/doc/stable/reference/generated/numpy.matrix.html\n",
      "  warnings.warn(\n",
      "/Users/giansanti.valentina/miniforge3/envs/tensorflow_m1/lib/python3.9/site-packages/sklearn/utils/validation.py:585: FutureWarning: np.matrix usage is deprecated in 1.0 and will raise a TypeError in 1.2. Please convert to a numpy array with np.asarray. For more information see: https://numpy.org/doc/stable/reference/generated/numpy.matrix.html\n",
      "  warnings.warn(\n"
     ]
    }
   ],
   "source": [
    "train.train(adata1=rna, adata2=rna, adata1_query='X_pca', adata2_query='X_pca', n_dim=5, n_epochs=3)  "
   ]
  },
  {
   "cell_type": "raw",
   "id": "b216bb4a",
   "metadata": {},
   "source": [
    "The function save:\n",
    "    *  model weights ('MOWGAN_model')\n",
    "    *  the discriminator loss function ('disc_loss.csv')\n",
    "    *  the generator loss function ('gen_loss.csv')\n",
    "    *  two new adata objects ('adata1_MOWGAN.h5ad', 'adata2_MOWGAN.h5ad') that are the synthetic coupled datasets"
   ]
  },
  {
   "cell_type": "raw",
   "id": "5146dde9",
   "metadata": {},
   "source": [
    "Synthetic data can be loaded.\n",
    "By default, the number of generated cells is equal to the smallest number of cells in the real datasets."
   ]
  },
  {
   "cell_type": "code",
   "execution_count": 7,
   "id": "630fddbb",
   "metadata": {},
   "outputs": [],
   "source": [
    "p_1 = sc.read('adata1_MOWGAN.h5ad')\n",
    "p_2 = sc.read('adata2_MOWGAN.h5ad')"
   ]
  },
  {
   "cell_type": "code",
   "execution_count": 8,
   "id": "63978409",
   "metadata": {},
   "outputs": [
    {
     "data": {
      "text/plain": [
       "AnnData object with n_obs × n_vars = 10 × 4696\n",
       "    obsm: 'X_pca'"
      ]
     },
     "execution_count": 8,
     "metadata": {},
     "output_type": "execute_result"
    }
   ],
   "source": [
    "p_1"
   ]
  },
  {
   "cell_type": "code",
   "execution_count": 9,
   "id": "403e7f3d",
   "metadata": {},
   "outputs": [
    {
     "data": {
      "text/plain": [
       "AnnData object with n_obs × n_vars = 10 × 4696\n",
       "    obsm: 'X_pca'"
      ]
     },
     "execution_count": 9,
     "metadata": {},
     "output_type": "execute_result"
    }
   ],
   "source": [
    "p_2"
   ]
  }
 ],
 "metadata": {
  "kernelspec": {
   "display_name": "Python 3 (ipykernel)",
   "language": "python",
   "name": "python3"
  },
  "language_info": {
   "codemirror_mode": {
    "name": "ipython",
    "version": 3
   },
   "file_extension": ".py",
   "mimetype": "text/x-python",
   "name": "python",
   "nbconvert_exporter": "python",
   "pygments_lexer": "ipython3",
   "version": "3.9.0"
  }
 },
 "nbformat": 4,
 "nbformat_minor": 5
}
